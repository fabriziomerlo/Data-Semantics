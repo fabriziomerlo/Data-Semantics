{
  "nbformat": 4,
  "nbformat_minor": 0,
  "metadata": {
    "colab": {
      "name": "Information_extraction_pipeline.ipynb",
      "provenance": [],
      "collapsed_sections": [],
      "toc_visible": true
    },
    "kernelspec": {
      "name": "python3",
      "display_name": "Python 3"
    },
    "language_info": {
      "name": "python"
    }
  },
  "cells": [
    {
      "cell_type": "markdown",
      "source": [
        "### Installazione e Import Librerie"
      ],
      "metadata": {
        "id": "hLkVi0f1fDJA"
      }
    },
    {
      "cell_type": "code",
      "source": [
        "!pip install spacy-dbpedia-spotlight\n",
        "!python -m spacy download en_core_web_lg\n",
        "!python -m spacy download en_core_web_trf\n",
        "!pip install spacy[transformers]\n",
        "!pip install nervaluate\n",
        "!pip install SPARQLWrapper"
      ],
      "metadata": {
        "id": "gCedHTvr3s7-"
      },
      "execution_count": null,
      "outputs": []
    },
    {
      "cell_type": "code",
      "execution_count": 2,
      "metadata": {
        "id": "MfFTR5K6s9iR"
      },
      "outputs": [],
      "source": [
        "import pandas as pd\n",
        "import re\n",
        "import itertools\n",
        "import spacy\n",
        "import spacy_dbpedia_spotlight\n",
        "import spacy\n",
        "import pandas as pd\n",
        "from spacy import displacy\n",
        "import ast\n",
        "import numpy as np\n",
        "import urllib\n",
        "import traceback\n",
        "import sys"
      ]
    },
    {
      "cell_type": "markdown",
      "source": [
        "### Preprocessing"
      ],
      "metadata": {
        "id": "3S-ogQq4fPRg"
      }
    },
    {
      "cell_type": "code",
      "source": [
        "entity_list = list(pd.read_csv('characters_list.csv', sep=\";\")['Entity'])\n",
        "# entity_list = ['Dumbledore', 'Hermione', 'Harry', 'McGonagall', 'Ron', 'Voldemort']"
      ],
      "metadata": {
        "id": "mk99FwNarkCz"
      },
      "execution_count": 3,
      "outputs": []
    },
    {
      "cell_type": "code",
      "source": [
        "books = [\"Book1\", \"Book2\", \"Book3\", \"Book4\", \"Book5\", \"Book6\", \"Book7\"]\n",
        "titles = [\"Philosophers Stone\", \"Chamber of Secrets\", \"Prisoner of Azkaban\", \"Goblet of Fire\",\n",
        "          \"Order of the Phoenix\", \"Half Blood Prince\", \"Deathly Hallows\"]"
      ],
      "metadata": {
        "id": "qdJTzgTXS1JJ"
      },
      "execution_count": 4,
      "outputs": []
    },
    {
      "cell_type": "code",
      "source": [
        "all_lines = \"\"\n",
        "for book, title in zip(books, titles):\n",
        "  print(f\"processing {book}\")\n",
        "  with open(f'{book}.txt') as f:\n",
        "      lines = f.read().strip('\\n').replace('\\n', ' ')\n",
        "\n",
        "  # miglioramenti\n",
        "  lines = lines.replace(\"Mr.\", \"Mr\")\n",
        "  lines = lines.replace(\"Mrs.\", \"Mrs\")\n",
        "  lines = lines.replace(\"...\", \"\")\n",
        "\n",
        "  # rimuovere l'indice del capitolo \n",
        "  lines = re.sub(f'Page | \\d+ Harry Potter and the {title} - J.K. Rowling', '', lines)\n",
        "  lines = lines.replace(\"|\", \"\")\n",
        "  all_lines = all_lines + lines"
      ],
      "metadata": {
        "colab": {
          "base_uri": "https://localhost:8080/"
        },
        "id": "fHSUk1aEKUJN",
        "outputId": "aff26032-4f2f-4b3b-b30f-d866fa99a61e"
      },
      "execution_count": 5,
      "outputs": [
        {
          "output_type": "stream",
          "name": "stdout",
          "text": [
            "processing Book1\n",
            "processing Book2\n",
            "processing Book3\n",
            "processing Book4\n",
            "processing Book5\n",
            "processing Book6\n",
            "processing Book7\n"
          ]
        }
      ]
    },
    {
      "cell_type": "code",
      "source": [
        "# creazione della lista delle frasi\n",
        "phrases_list = all_lines.split(\".\")"
      ],
      "metadata": {
        "id": "A5gMSlg0Yc56"
      },
      "execution_count": 6,
      "outputs": []
    },
    {
      "cell_type": "code",
      "source": [
        "results = []\n",
        "\n",
        "for entity in entity_list:\n",
        "  cont = 2\n",
        "  entity_phrases = []\n",
        "  for i in phrases_list:\n",
        "    if cont == 0:\n",
        "      break\n",
        "    if entity in i and 200 < len(i) < 1000:\n",
        "      entity_phrases.append([entity, i])\n",
        "      cont -= 1\n",
        "\n",
        "  results.append(entity_phrases)"
      ],
      "metadata": {
        "id": "EDYC8mqyOUOE"
      },
      "execution_count": 7,
      "outputs": []
    },
    {
      "cell_type": "code",
      "source": [
        "data = list(itertools.chain(*results))"
      ],
      "metadata": {
        "id": "XbskscypWBaA"
      },
      "execution_count": 8,
      "outputs": []
    },
    {
      "cell_type": "code",
      "source": [
        "len(data)"
      ],
      "metadata": {
        "colab": {
          "base_uri": "https://localhost:8080/"
        },
        "id": "XvJMijruZ69v",
        "outputId": "0f343063-c5d3-46c7-be13-f91ecdd34e70"
      },
      "execution_count": 9,
      "outputs": [
        {
          "output_type": "execute_result",
          "data": {
            "text/plain": [
              "111"
            ]
          },
          "metadata": {},
          "execution_count": 9
        }
      ]
    },
    {
      "cell_type": "code",
      "source": [
        "df = pd.DataFrame(data, columns=['entity', 'phrase'])"
      ],
      "metadata": {
        "id": "2LDtZqJyUkI_"
      },
      "execution_count": 10,
      "outputs": []
    },
    {
      "cell_type": "code",
      "source": [
        "df.head(10)"
      ],
      "metadata": {
        "colab": {
          "base_uri": "https://localhost:8080/",
          "height": 363
        },
        "id": "fEs2TOLfUMyt",
        "outputId": "5ce54afc-0710-458d-ddc9-ad36065883cc"
      },
      "execution_count": 11,
      "outputs": [
        {
          "output_type": "execute_result",
          "data": {
            "text/plain": [
              "      entity                                             phrase\n",
              "0    Regulus   The Dark Mark  had been set over it — well, f...\n",
              "1    Regulus   It  was a pompous little sign, neatly lettere...\n",
              "2     Sirius  ”   Harry held the paper up to the candlelight...\n",
              "3     Sirius          Harry spent the long sunny days explor...\n",
              "4        Cho   What she did have were Bertie Bott’s  Every F...\n",
              "5        Cho     Choose, unless you wish to stay here foreve...\n",
              "6     Crabbe     Scabbers the rat was hanging off his finger...\n",
              "7     Crabbe  ”   Malfoy swaggered forward when his name was...\n",
              "8  Mr Crouch  ”   “Oh Bagman’s likable enough, of course,” s...\n",
              "9  Mr Crouch    Mr Crouch has been taking a personal interes..."
            ],
            "text/html": [
              "\n",
              "  <div id=\"df-21327072-8fe8-4146-b99d-e94c143fde11\">\n",
              "    <div class=\"colab-df-container\">\n",
              "      <div>\n",
              "<style scoped>\n",
              "    .dataframe tbody tr th:only-of-type {\n",
              "        vertical-align: middle;\n",
              "    }\n",
              "\n",
              "    .dataframe tbody tr th {\n",
              "        vertical-align: top;\n",
              "    }\n",
              "\n",
              "    .dataframe thead th {\n",
              "        text-align: right;\n",
              "    }\n",
              "</style>\n",
              "<table border=\"1\" class=\"dataframe\">\n",
              "  <thead>\n",
              "    <tr style=\"text-align: right;\">\n",
              "      <th></th>\n",
              "      <th>entity</th>\n",
              "      <th>phrase</th>\n",
              "    </tr>\n",
              "  </thead>\n",
              "  <tbody>\n",
              "    <tr>\n",
              "      <th>0</th>\n",
              "      <td>Regulus</td>\n",
              "      <td>The Dark Mark  had been set over it — well, f...</td>\n",
              "    </tr>\n",
              "    <tr>\n",
              "      <th>1</th>\n",
              "      <td>Regulus</td>\n",
              "      <td>It  was a pompous little sign, neatly lettere...</td>\n",
              "    </tr>\n",
              "    <tr>\n",
              "      <th>2</th>\n",
              "      <td>Sirius</td>\n",
              "      <td>”   Harry held the paper up to the candlelight...</td>\n",
              "    </tr>\n",
              "    <tr>\n",
              "      <th>3</th>\n",
              "      <td>Sirius</td>\n",
              "      <td>Harry spent the long sunny days explor...</td>\n",
              "    </tr>\n",
              "    <tr>\n",
              "      <th>4</th>\n",
              "      <td>Cho</td>\n",
              "      <td>What she did have were Bertie Bott’s  Every F...</td>\n",
              "    </tr>\n",
              "    <tr>\n",
              "      <th>5</th>\n",
              "      <td>Cho</td>\n",
              "      <td>Choose, unless you wish to stay here foreve...</td>\n",
              "    </tr>\n",
              "    <tr>\n",
              "      <th>6</th>\n",
              "      <td>Crabbe</td>\n",
              "      <td>Scabbers the rat was hanging off his finger...</td>\n",
              "    </tr>\n",
              "    <tr>\n",
              "      <th>7</th>\n",
              "      <td>Crabbe</td>\n",
              "      <td>”   Malfoy swaggered forward when his name was...</td>\n",
              "    </tr>\n",
              "    <tr>\n",
              "      <th>8</th>\n",
              "      <td>Mr Crouch</td>\n",
              "      <td>”   “Oh Bagman’s likable enough, of course,” s...</td>\n",
              "    </tr>\n",
              "    <tr>\n",
              "      <th>9</th>\n",
              "      <td>Mr Crouch</td>\n",
              "      <td>Mr Crouch has been taking a personal interes...</td>\n",
              "    </tr>\n",
              "  </tbody>\n",
              "</table>\n",
              "</div>\n",
              "      <button class=\"colab-df-convert\" onclick=\"convertToInteractive('df-21327072-8fe8-4146-b99d-e94c143fde11')\"\n",
              "              title=\"Convert this dataframe to an interactive table.\"\n",
              "              style=\"display:none;\">\n",
              "        \n",
              "  <svg xmlns=\"http://www.w3.org/2000/svg\" height=\"24px\"viewBox=\"0 0 24 24\"\n",
              "       width=\"24px\">\n",
              "    <path d=\"M0 0h24v24H0V0z\" fill=\"none\"/>\n",
              "    <path d=\"M18.56 5.44l.94 2.06.94-2.06 2.06-.94-2.06-.94-.94-2.06-.94 2.06-2.06.94zm-11 1L8.5 8.5l.94-2.06 2.06-.94-2.06-.94L8.5 2.5l-.94 2.06-2.06.94zm10 10l.94 2.06.94-2.06 2.06-.94-2.06-.94-.94-2.06-.94 2.06-2.06.94z\"/><path d=\"M17.41 7.96l-1.37-1.37c-.4-.4-.92-.59-1.43-.59-.52 0-1.04.2-1.43.59L10.3 9.45l-7.72 7.72c-.78.78-.78 2.05 0 2.83L4 21.41c.39.39.9.59 1.41.59.51 0 1.02-.2 1.41-.59l7.78-7.78 2.81-2.81c.8-.78.8-2.07 0-2.86zM5.41 20L4 18.59l7.72-7.72 1.47 1.35L5.41 20z\"/>\n",
              "  </svg>\n",
              "      </button>\n",
              "      \n",
              "  <style>\n",
              "    .colab-df-container {\n",
              "      display:flex;\n",
              "      flex-wrap:wrap;\n",
              "      gap: 12px;\n",
              "    }\n",
              "\n",
              "    .colab-df-convert {\n",
              "      background-color: #E8F0FE;\n",
              "      border: none;\n",
              "      border-radius: 50%;\n",
              "      cursor: pointer;\n",
              "      display: none;\n",
              "      fill: #1967D2;\n",
              "      height: 32px;\n",
              "      padding: 0 0 0 0;\n",
              "      width: 32px;\n",
              "    }\n",
              "\n",
              "    .colab-df-convert:hover {\n",
              "      background-color: #E2EBFA;\n",
              "      box-shadow: 0px 1px 2px rgba(60, 64, 67, 0.3), 0px 1px 3px 1px rgba(60, 64, 67, 0.15);\n",
              "      fill: #174EA6;\n",
              "    }\n",
              "\n",
              "    [theme=dark] .colab-df-convert {\n",
              "      background-color: #3B4455;\n",
              "      fill: #D2E3FC;\n",
              "    }\n",
              "\n",
              "    [theme=dark] .colab-df-convert:hover {\n",
              "      background-color: #434B5C;\n",
              "      box-shadow: 0px 1px 3px 1px rgba(0, 0, 0, 0.15);\n",
              "      filter: drop-shadow(0px 1px 2px rgba(0, 0, 0, 0.3));\n",
              "      fill: #FFFFFF;\n",
              "    }\n",
              "  </style>\n",
              "\n",
              "      <script>\n",
              "        const buttonEl =\n",
              "          document.querySelector('#df-21327072-8fe8-4146-b99d-e94c143fde11 button.colab-df-convert');\n",
              "        buttonEl.style.display =\n",
              "          google.colab.kernel.accessAllowed ? 'block' : 'none';\n",
              "\n",
              "        async function convertToInteractive(key) {\n",
              "          const element = document.querySelector('#df-21327072-8fe8-4146-b99d-e94c143fde11');\n",
              "          const dataTable =\n",
              "            await google.colab.kernel.invokeFunction('convertToInteractive',\n",
              "                                                     [key], {});\n",
              "          if (!dataTable) return;\n",
              "\n",
              "          const docLinkHtml = 'Like what you see? Visit the ' +\n",
              "            '<a target=\"_blank\" href=https://colab.research.google.com/notebooks/data_table.ipynb>data table notebook</a>'\n",
              "            + ' to learn more about interactive tables.';\n",
              "          element.innerHTML = '';\n",
              "          dataTable['output_type'] = 'display_data';\n",
              "          await google.colab.output.renderOutput(dataTable, element);\n",
              "          const docLink = document.createElement('div');\n",
              "          docLink.innerHTML = docLinkHtml;\n",
              "          element.appendChild(docLink);\n",
              "        }\n",
              "      </script>\n",
              "    </div>\n",
              "  </div>\n",
              "  "
            ]
          },
          "metadata": {},
          "execution_count": 11
        }
      ]
    },
    {
      "cell_type": "code",
      "source": [
        "df.to_csv('5_phrases_for_entity_hp.csv')"
      ],
      "metadata": {
        "id": "-4dl4DnmsgIR"
      },
      "execution_count": 12,
      "outputs": []
    },
    {
      "cell_type": "code",
      "source": [
        "df = pd.read_csv(\"5_phrases_for_entity_hp.csv\", sep=\",\", header=None)\n",
        "df.columns = [\"index\", \"entity\", \"phrase\"]\n",
        "df = df.iloc[1:]\n",
        "df = df.drop(columns=[\"index\"])"
      ],
      "metadata": {
        "id": "9SWh4Vf7taf6"
      },
      "execution_count": 13,
      "outputs": []
    },
    {
      "cell_type": "code",
      "source": [
        "df"
      ],
      "metadata": {
        "colab": {
          "base_uri": "https://localhost:8080/",
          "height": 424
        },
        "id": "gea8kspo296k",
        "outputId": "8a02299d-473e-4d29-cb13-cfb30af8bd7a"
      },
      "execution_count": 14,
      "outputs": [
        {
          "output_type": "execute_result",
          "data": {
            "text/plain": [
              "      entity                                             phrase\n",
              "1    Regulus   The Dark Mark  had been set over it — well, f...\n",
              "2    Regulus   It  was a pompous little sign, neatly lettere...\n",
              "3     Sirius  ”   Harry held the paper up to the candlelight...\n",
              "4     Sirius          Harry spent the long sunny days explor...\n",
              "5        Cho   What she did have were Bertie Bott’s  Every F...\n",
              "..       ...                                                ...\n",
              "107   Myrtle   “Come to  throw something else at me?”   Harr...\n",
              "108   Aragog  ”   Aragog clicked his pincers furiously, and ...\n",
              "109   Aragog   For nearly a  quarter of an hour he spoke int...\n",
              "110    Grawp   The back, under what  looked like a dirty bro...\n",
              "111    Grawp   “An’ I don’ wan’ yeh ter  put yerself out too...\n",
              "\n",
              "[111 rows x 2 columns]"
            ],
            "text/html": [
              "\n",
              "  <div id=\"df-14f5c36b-ca46-455d-9dc8-c48cb18bf005\">\n",
              "    <div class=\"colab-df-container\">\n",
              "      <div>\n",
              "<style scoped>\n",
              "    .dataframe tbody tr th:only-of-type {\n",
              "        vertical-align: middle;\n",
              "    }\n",
              "\n",
              "    .dataframe tbody tr th {\n",
              "        vertical-align: top;\n",
              "    }\n",
              "\n",
              "    .dataframe thead th {\n",
              "        text-align: right;\n",
              "    }\n",
              "</style>\n",
              "<table border=\"1\" class=\"dataframe\">\n",
              "  <thead>\n",
              "    <tr style=\"text-align: right;\">\n",
              "      <th></th>\n",
              "      <th>entity</th>\n",
              "      <th>phrase</th>\n",
              "    </tr>\n",
              "  </thead>\n",
              "  <tbody>\n",
              "    <tr>\n",
              "      <th>1</th>\n",
              "      <td>Regulus</td>\n",
              "      <td>The Dark Mark  had been set over it — well, f...</td>\n",
              "    </tr>\n",
              "    <tr>\n",
              "      <th>2</th>\n",
              "      <td>Regulus</td>\n",
              "      <td>It  was a pompous little sign, neatly lettere...</td>\n",
              "    </tr>\n",
              "    <tr>\n",
              "      <th>3</th>\n",
              "      <td>Sirius</td>\n",
              "      <td>”   Harry held the paper up to the candlelight...</td>\n",
              "    </tr>\n",
              "    <tr>\n",
              "      <th>4</th>\n",
              "      <td>Sirius</td>\n",
              "      <td>Harry spent the long sunny days explor...</td>\n",
              "    </tr>\n",
              "    <tr>\n",
              "      <th>5</th>\n",
              "      <td>Cho</td>\n",
              "      <td>What she did have were Bertie Bott’s  Every F...</td>\n",
              "    </tr>\n",
              "    <tr>\n",
              "      <th>...</th>\n",
              "      <td>...</td>\n",
              "      <td>...</td>\n",
              "    </tr>\n",
              "    <tr>\n",
              "      <th>107</th>\n",
              "      <td>Myrtle</td>\n",
              "      <td>“Come to  throw something else at me?”   Harr...</td>\n",
              "    </tr>\n",
              "    <tr>\n",
              "      <th>108</th>\n",
              "      <td>Aragog</td>\n",
              "      <td>”   Aragog clicked his pincers furiously, and ...</td>\n",
              "    </tr>\n",
              "    <tr>\n",
              "      <th>109</th>\n",
              "      <td>Aragog</td>\n",
              "      <td>For nearly a  quarter of an hour he spoke int...</td>\n",
              "    </tr>\n",
              "    <tr>\n",
              "      <th>110</th>\n",
              "      <td>Grawp</td>\n",
              "      <td>The back, under what  looked like a dirty bro...</td>\n",
              "    </tr>\n",
              "    <tr>\n",
              "      <th>111</th>\n",
              "      <td>Grawp</td>\n",
              "      <td>“An’ I don’ wan’ yeh ter  put yerself out too...</td>\n",
              "    </tr>\n",
              "  </tbody>\n",
              "</table>\n",
              "<p>111 rows × 2 columns</p>\n",
              "</div>\n",
              "      <button class=\"colab-df-convert\" onclick=\"convertToInteractive('df-14f5c36b-ca46-455d-9dc8-c48cb18bf005')\"\n",
              "              title=\"Convert this dataframe to an interactive table.\"\n",
              "              style=\"display:none;\">\n",
              "        \n",
              "  <svg xmlns=\"http://www.w3.org/2000/svg\" height=\"24px\"viewBox=\"0 0 24 24\"\n",
              "       width=\"24px\">\n",
              "    <path d=\"M0 0h24v24H0V0z\" fill=\"none\"/>\n",
              "    <path d=\"M18.56 5.44l.94 2.06.94-2.06 2.06-.94-2.06-.94-.94-2.06-.94 2.06-2.06.94zm-11 1L8.5 8.5l.94-2.06 2.06-.94-2.06-.94L8.5 2.5l-.94 2.06-2.06.94zm10 10l.94 2.06.94-2.06 2.06-.94-2.06-.94-.94-2.06-.94 2.06-2.06.94z\"/><path d=\"M17.41 7.96l-1.37-1.37c-.4-.4-.92-.59-1.43-.59-.52 0-1.04.2-1.43.59L10.3 9.45l-7.72 7.72c-.78.78-.78 2.05 0 2.83L4 21.41c.39.39.9.59 1.41.59.51 0 1.02-.2 1.41-.59l7.78-7.78 2.81-2.81c.8-.78.8-2.07 0-2.86zM5.41 20L4 18.59l7.72-7.72 1.47 1.35L5.41 20z\"/>\n",
              "  </svg>\n",
              "      </button>\n",
              "      \n",
              "  <style>\n",
              "    .colab-df-container {\n",
              "      display:flex;\n",
              "      flex-wrap:wrap;\n",
              "      gap: 12px;\n",
              "    }\n",
              "\n",
              "    .colab-df-convert {\n",
              "      background-color: #E8F0FE;\n",
              "      border: none;\n",
              "      border-radius: 50%;\n",
              "      cursor: pointer;\n",
              "      display: none;\n",
              "      fill: #1967D2;\n",
              "      height: 32px;\n",
              "      padding: 0 0 0 0;\n",
              "      width: 32px;\n",
              "    }\n",
              "\n",
              "    .colab-df-convert:hover {\n",
              "      background-color: #E2EBFA;\n",
              "      box-shadow: 0px 1px 2px rgba(60, 64, 67, 0.3), 0px 1px 3px 1px rgba(60, 64, 67, 0.15);\n",
              "      fill: #174EA6;\n",
              "    }\n",
              "\n",
              "    [theme=dark] .colab-df-convert {\n",
              "      background-color: #3B4455;\n",
              "      fill: #D2E3FC;\n",
              "    }\n",
              "\n",
              "    [theme=dark] .colab-df-convert:hover {\n",
              "      background-color: #434B5C;\n",
              "      box-shadow: 0px 1px 3px 1px rgba(0, 0, 0, 0.15);\n",
              "      filter: drop-shadow(0px 1px 2px rgba(0, 0, 0, 0.3));\n",
              "      fill: #FFFFFF;\n",
              "    }\n",
              "  </style>\n",
              "\n",
              "      <script>\n",
              "        const buttonEl =\n",
              "          document.querySelector('#df-14f5c36b-ca46-455d-9dc8-c48cb18bf005 button.colab-df-convert');\n",
              "        buttonEl.style.display =\n",
              "          google.colab.kernel.accessAllowed ? 'block' : 'none';\n",
              "\n",
              "        async function convertToInteractive(key) {\n",
              "          const element = document.querySelector('#df-14f5c36b-ca46-455d-9dc8-c48cb18bf005');\n",
              "          const dataTable =\n",
              "            await google.colab.kernel.invokeFunction('convertToInteractive',\n",
              "                                                     [key], {});\n",
              "          if (!dataTable) return;\n",
              "\n",
              "          const docLinkHtml = 'Like what you see? Visit the ' +\n",
              "            '<a target=\"_blank\" href=https://colab.research.google.com/notebooks/data_table.ipynb>data table notebook</a>'\n",
              "            + ' to learn more about interactive tables.';\n",
              "          element.innerHTML = '';\n",
              "          dataTable['output_type'] = 'display_data';\n",
              "          await google.colab.output.renderOutput(dataTable, element);\n",
              "          const docLink = document.createElement('div');\n",
              "          docLink.innerHTML = docLinkHtml;\n",
              "          element.appendChild(docLink);\n",
              "        }\n",
              "      </script>\n",
              "    </div>\n",
              "  </div>\n",
              "  "
            ]
          },
          "metadata": {},
          "execution_count": 14
        }
      ]
    },
    {
      "cell_type": "markdown",
      "source": [
        "## Named Entity Recognition per le frasi selezionate"
      ],
      "metadata": {
        "id": "XZiveqMHfY-5"
      }
    },
    {
      "cell_type": "code",
      "source": [
        "nlp = spacy.load('en_core_web_lg')\n",
        "# stampà le entità\n",
        "for x in range(df.shape[0]):\n",
        "    doc = nlp(df[\"phrase\"].values[x])\n",
        "    print(doc)\n",
        "    displacy.render(doc, style=\"ent\", jupyter=True)"
      ],
      "metadata": {
        "colab": {
          "base_uri": "https://localhost:8080/",
          "height": 1000
        },
        "id": "Hj0BkUIT0FXr",
        "outputId": "db03fa97-0291-464e-862f-9d5ff4f1eb7e"
      },
      "execution_count": 15,
      "outputs": [
        {
          "output_type": "stream",
          "name": "stdout",
          "text": [
            " The Dark Mark  had been set over it — well, frankly, I’m surprised he  stayed alive for even a year after deserting the Death  Eaters; Sirius’s brother, Regulus, only managed a few  days as far as I can remember\n"
          ]
        },
        {
          "output_type": "display_data",
          "data": {
            "text/plain": [
              "<IPython.core.display.HTML object>"
            ],
            "text/html": [
              "<span class=\"tex2jax_ignore\"><div class=\"entities\" style=\"line-height: 2.5; direction: ltr\"> \n",
              "<mark class=\"entity\" style=\"background: #bfeeb7; padding: 0.45em 0.6em; margin: 0 0.25em; line-height: 1; border-radius: 0.35em;\">\n",
              "    The Dark Mark\n",
              "    <span style=\"font-size: 0.8em; font-weight: bold; line-height: 1; border-radius: 0.35em; vertical-align: middle; margin-left: 0.5rem\">PRODUCT</span>\n",
              "</mark>\n",
              "  had been set over it — well, frankly, I’m surprised he  stayed alive for even a year after deserting the Death  Eaters; \n",
              "<mark class=\"entity\" style=\"background: #7aecec; padding: 0.45em 0.6em; margin: 0 0.25em; line-height: 1; border-radius: 0.35em;\">\n",
              "    Sirius\n",
              "    <span style=\"font-size: 0.8em; font-weight: bold; line-height: 1; border-radius: 0.35em; vertical-align: middle; margin-left: 0.5rem\">ORG</span>\n",
              "</mark>\n",
              "’s brother, Regulus, only managed \n",
              "<mark class=\"entity\" style=\"background: #bfe1d9; padding: 0.45em 0.6em; margin: 0 0.25em; line-height: 1; border-radius: 0.35em;\">\n",
              "    a few  days\n",
              "    <span style=\"font-size: 0.8em; font-weight: bold; line-height: 1; border-radius: 0.35em; vertical-align: middle; margin-left: 0.5rem\">DATE</span>\n",
              "</mark>\n",
              " as far as I can remember</div></span>"
            ]
          },
          "metadata": {}
        },
        {
          "output_type": "stream",
          "name": "stdout",
          "text": [
            " It  was a pompous little sign, neatly lettered by hand,  the sort of thing that Percy Weasley might have stuck  on his bedroom door:   Do Not Enter   Without the Express Permission of  Regulus Arcturus Black   Excitement trickled through Harry, but he was not  immediately sure why\n"
          ]
        },
        {
          "output_type": "display_data",
          "data": {
            "text/plain": [
              "<IPython.core.display.HTML object>"
            ],
            "text/html": [
              "<span class=\"tex2jax_ignore\"><div class=\"entities\" style=\"line-height: 2.5; direction: ltr\"> It  was a pompous little sign, neatly lettered by hand,  the sort of thing that \n",
              "<mark class=\"entity\" style=\"background: #aa9cfc; padding: 0.45em 0.6em; margin: 0 0.25em; line-height: 1; border-radius: 0.35em;\">\n",
              "    Percy Weasley\n",
              "    <span style=\"font-size: 0.8em; font-weight: bold; line-height: 1; border-radius: 0.35em; vertical-align: middle; margin-left: 0.5rem\">PERSON</span>\n",
              "</mark>\n",
              " might have stuck  on his bedroom door:   Do Not Enter   Without \n",
              "<mark class=\"entity\" style=\"background: #7aecec; padding: 0.45em 0.6em; margin: 0 0.25em; line-height: 1; border-radius: 0.35em;\">\n",
              "    the Express Permission\n",
              "    <span style=\"font-size: 0.8em; font-weight: bold; line-height: 1; border-radius: 0.35em; vertical-align: middle; margin-left: 0.5rem\">ORG</span>\n",
              "</mark>\n",
              " of  Regulus Arcturus Black   Excitement trickled through Harry, but he was not  immediately sure why</div></span>"
            ]
          },
          "metadata": {}
        },
        {
          "output_type": "stream",
          "name": "stdout",
          "text": [
            "”   Harry held the paper up to the candlelight and read:  BLACK STILL AT LARGE   Sirius Black, possibly the most infamous prisoner  ever to be held in Azkaban fortress, is still eluding  capture, the Ministry of Magic confirmed today\n"
          ]
        },
        {
          "output_type": "display_data",
          "data": {
            "text/plain": [
              "<IPython.core.display.HTML object>"
            ],
            "text/html": [
              "<span class=\"tex2jax_ignore\"><div class=\"entities\" style=\"line-height: 2.5; direction: ltr\">”   Harry held the paper up to the candlelight and read:  BLACK STILL AT LARGE   \n",
              "<mark class=\"entity\" style=\"background: #7aecec; padding: 0.45em 0.6em; margin: 0 0.25em; line-height: 1; border-radius: 0.35em;\">\n",
              "    Sirius Black\n",
              "    <span style=\"font-size: 0.8em; font-weight: bold; line-height: 1; border-radius: 0.35em; vertical-align: middle; margin-left: 0.5rem\">ORG</span>\n",
              "</mark>\n",
              ", possibly the most infamous prisoner  ever to be held in \n",
              "<mark class=\"entity\" style=\"background: #bfeeb7; padding: 0.45em 0.6em; margin: 0 0.25em; line-height: 1; border-radius: 0.35em;\">\n",
              "    Azkaban\n",
              "    <span style=\"font-size: 0.8em; font-weight: bold; line-height: 1; border-radius: 0.35em; vertical-align: middle; margin-left: 0.5rem\">PRODUCT</span>\n",
              "</mark>\n",
              " fortress, is still eluding  capture, \n",
              "<mark class=\"entity\" style=\"background: #7aecec; padding: 0.45em 0.6em; margin: 0 0.25em; line-height: 1; border-radius: 0.35em;\">\n",
              "    the Ministry of Magic\n",
              "    <span style=\"font-size: 0.8em; font-weight: bold; line-height: 1; border-radius: 0.35em; vertical-align: middle; margin-left: 0.5rem\">ORG</span>\n",
              "</mark>\n",
              " confirmed \n",
              "<mark class=\"entity\" style=\"background: #bfe1d9; padding: 0.45em 0.6em; margin: 0 0.25em; line-height: 1; border-radius: 0.35em;\">\n",
              "    today\n",
              "    <span style=\"font-size: 0.8em; font-weight: bold; line-height: 1; border-radius: 0.35em; vertical-align: middle; margin-left: 0.5rem\">DATE</span>\n",
              "</mark>\n",
              "</div></span>"
            ]
          },
          "metadata": {}
        },
        {
          "output_type": "stream",
          "name": "stdout",
          "text": [
            "        Harry spent the long sunny days exploring the shops  and eating under the brightly colored umbrellas  outside cafes, where his fellow diners were showing  one another their purchases (“it’s a lunascope, old  boy — no more messing around with moon charts,  see?”) or else discussing the case of Sirius Black  (“personally, I won’t let any of the children out alone  until he’s back in Azkaban”)\n"
          ]
        },
        {
          "output_type": "display_data",
          "data": {
            "text/plain": [
              "<IPython.core.display.HTML object>"
            ],
            "text/html": [
              "<span class=\"tex2jax_ignore\"><div class=\"entities\" style=\"line-height: 2.5; direction: ltr\">        Harry spent \n",
              "<mark class=\"entity\" style=\"background: #bfe1d9; padding: 0.45em 0.6em; margin: 0 0.25em; line-height: 1; border-radius: 0.35em;\">\n",
              "    the long sunny days\n",
              "    <span style=\"font-size: 0.8em; font-weight: bold; line-height: 1; border-radius: 0.35em; vertical-align: middle; margin-left: 0.5rem\">DATE</span>\n",
              "</mark>\n",
              " exploring the shops  and eating under the brightly colored umbrellas  outside cafes, where his fellow diners were showing  one another their purchases (“it’s a lunascope, old  boy — no more messing around with moon charts,  see?”) or else discussing the case of \n",
              "<mark class=\"entity\" style=\"background: #7aecec; padding: 0.45em 0.6em; margin: 0 0.25em; line-height: 1; border-radius: 0.35em;\">\n",
              "    Sirius Black\n",
              "    <span style=\"font-size: 0.8em; font-weight: bold; line-height: 1; border-radius: 0.35em; vertical-align: middle; margin-left: 0.5rem\">ORG</span>\n",
              "</mark>\n",
              "  (“personally, I won’t let any of the children out alone  until he’s back in Azkaban”)</div></span>"
            ]
          },
          "metadata": {}
        },
        {
          "output_type": "stream",
          "name": "stdout",
          "text": [
            " What she did have were Bertie Bott’s  Every Flavor Beans, Drooble’s Best Blowing Gum,  Chocolate Frogs, Pumpkin Pasties, Cauldron Cakes,  Licorice Wands, and a number of other strange things  Harry had never seen in his life\n"
          ]
        },
        {
          "output_type": "display_data",
          "data": {
            "text/plain": [
              "<IPython.core.display.HTML object>"
            ],
            "text/html": [
              "<span class=\"tex2jax_ignore\"><div class=\"entities\" style=\"line-height: 2.5; direction: ltr\"> What she did have were \n",
              "<mark class=\"entity\" style=\"background: #aa9cfc; padding: 0.45em 0.6em; margin: 0 0.25em; line-height: 1; border-radius: 0.35em;\">\n",
              "    Bertie Bott\n",
              "    <span style=\"font-size: 0.8em; font-weight: bold; line-height: 1; border-radius: 0.35em; vertical-align: middle; margin-left: 0.5rem\">PERSON</span>\n",
              "</mark>\n",
              "’s  \n",
              "<mark class=\"entity\" style=\"background: #bfeeb7; padding: 0.45em 0.6em; margin: 0 0.25em; line-height: 1; border-radius: 0.35em;\">\n",
              "    Every Flavor Beans\n",
              "    <span style=\"font-size: 0.8em; font-weight: bold; line-height: 1; border-radius: 0.35em; vertical-align: middle; margin-left: 0.5rem\">PRODUCT</span>\n",
              "</mark>\n",
              ", Drooble’s Best Blowing Gum,  \n",
              "<mark class=\"entity\" style=\"background: #bfeeb7; padding: 0.45em 0.6em; margin: 0 0.25em; line-height: 1; border-radius: 0.35em;\">\n",
              "    Chocolate Frogs, Pumpkin Pasties\n",
              "    <span style=\"font-size: 0.8em; font-weight: bold; line-height: 1; border-radius: 0.35em; vertical-align: middle; margin-left: 0.5rem\">PRODUCT</span>\n",
              "</mark>\n",
              ", Cauldron Cakes,  \n",
              "<mark class=\"entity\" style=\"background: #bfeeb7; padding: 0.45em 0.6em; margin: 0 0.25em; line-height: 1; border-radius: 0.35em;\">\n",
              "    Licorice Wands\n",
              "    <span style=\"font-size: 0.8em; font-weight: bold; line-height: 1; border-radius: 0.35em; vertical-align: middle; margin-left: 0.5rem\">PRODUCT</span>\n",
              "</mark>\n",
              ", and a number of other strange things  Harry had never seen in his life</div></span>"
            ]
          },
          "metadata": {}
        },
        {
          "output_type": "stream",
          "name": "stdout",
          "text": [
            "   Choose, unless you wish to stay here forevermore,   To help you in your choice, we give you these clues  four:   First, however slyly the poison tries to hide   You will always find some on nettle wine’s left side;   Second, different are those who stand at either end,   But if you would move onward, neither is your friend;   Third, as you see clearly, all are different size,   Neither dwarf nor giant holds death in their insides;   Fourth, the second left and the second on the right   Are twins once you taste them, though different at first  sight         Hermione let out a great sigh and Harry, amazed, saw  that she was smiling, the very last thing he felt like  doing\n"
          ]
        },
        {
          "output_type": "display_data",
          "data": {
            "text/plain": [
              "<IPython.core.display.HTML object>"
            ],
            "text/html": [
              "<span class=\"tex2jax_ignore\"><div class=\"entities\" style=\"line-height: 2.5; direction: ltr\">   Choose, unless you wish to stay here forevermore,   To help you in your choice, we give you these clues  \n",
              "<mark class=\"entity\" style=\"background: #e4e7d2; padding: 0.45em 0.6em; margin: 0 0.25em; line-height: 1; border-radius: 0.35em;\">\n",
              "    four\n",
              "    <span style=\"font-size: 0.8em; font-weight: bold; line-height: 1; border-radius: 0.35em; vertical-align: middle; margin-left: 0.5rem\">CARDINAL</span>\n",
              "</mark>\n",
              ":   \n",
              "<mark class=\"entity\" style=\"background: #e4e7d2; padding: 0.45em 0.6em; margin: 0 0.25em; line-height: 1; border-radius: 0.35em;\">\n",
              "    First\n",
              "    <span style=\"font-size: 0.8em; font-weight: bold; line-height: 1; border-radius: 0.35em; vertical-align: middle; margin-left: 0.5rem\">ORDINAL</span>\n",
              "</mark>\n",
              ", however slyly the poison tries to hide   You will always find some on nettle wine’s left side;   \n",
              "<mark class=\"entity\" style=\"background: #e4e7d2; padding: 0.45em 0.6em; margin: 0 0.25em; line-height: 1; border-radius: 0.35em;\">\n",
              "    Second\n",
              "    <span style=\"font-size: 0.8em; font-weight: bold; line-height: 1; border-radius: 0.35em; vertical-align: middle; margin-left: 0.5rem\">ORDINAL</span>\n",
              "</mark>\n",
              ", different are those who stand at either end,   But if you would move onward, neither is your friend;   \n",
              "<mark class=\"entity\" style=\"background: #e4e7d2; padding: 0.45em 0.6em; margin: 0 0.25em; line-height: 1; border-radius: 0.35em;\">\n",
              "    Third\n",
              "    <span style=\"font-size: 0.8em; font-weight: bold; line-height: 1; border-radius: 0.35em; vertical-align: middle; margin-left: 0.5rem\">ORDINAL</span>\n",
              "</mark>\n",
              ", as you see clearly, all are different size,   Neither dwarf nor giant holds death in their insides;   \n",
              "<mark class=\"entity\" style=\"background: #e4e7d2; padding: 0.45em 0.6em; margin: 0 0.25em; line-height: 1; border-radius: 0.35em;\">\n",
              "    Fourth\n",
              "    <span style=\"font-size: 0.8em; font-weight: bold; line-height: 1; border-radius: 0.35em; vertical-align: middle; margin-left: 0.5rem\">ORDINAL</span>\n",
              "</mark>\n",
              ", the \n",
              "<mark class=\"entity\" style=\"background: #e4e7d2; padding: 0.45em 0.6em; margin: 0 0.25em; line-height: 1; border-radius: 0.35em;\">\n",
              "    second\n",
              "    <span style=\"font-size: 0.8em; font-weight: bold; line-height: 1; border-radius: 0.35em; vertical-align: middle; margin-left: 0.5rem\">ORDINAL</span>\n",
              "</mark>\n",
              " left and the \n",
              "<mark class=\"entity\" style=\"background: #e4e7d2; padding: 0.45em 0.6em; margin: 0 0.25em; line-height: 1; border-radius: 0.35em;\">\n",
              "    second\n",
              "    <span style=\"font-size: 0.8em; font-weight: bold; line-height: 1; border-radius: 0.35em; vertical-align: middle; margin-left: 0.5rem\">ORDINAL</span>\n",
              "</mark>\n",
              " on the right   Are twins once you taste them, though different at \n",
              "<mark class=\"entity\" style=\"background: #e4e7d2; padding: 0.45em 0.6em; margin: 0 0.25em; line-height: 1; border-radius: 0.35em;\">\n",
              "    first\n",
              "    <span style=\"font-size: 0.8em; font-weight: bold; line-height: 1; border-radius: 0.35em; vertical-align: middle; margin-left: 0.5rem\">ORDINAL</span>\n",
              "</mark>\n",
              "  \n",
              "<mark class=\"entity\" style=\"background: #bfeeb7; padding: 0.45em 0.6em; margin: 0 0.25em; line-height: 1; border-radius: 0.35em;\">\n",
              "    sight         \n",
              "    <span style=\"font-size: 0.8em; font-weight: bold; line-height: 1; border-radius: 0.35em; vertical-align: middle; margin-left: 0.5rem\">PRODUCT</span>\n",
              "</mark>\n",
              "Hermione let out a great sigh and \n",
              "<mark class=\"entity\" style=\"background: #aa9cfc; padding: 0.45em 0.6em; margin: 0 0.25em; line-height: 1; border-radius: 0.35em;\">\n",
              "    Harry\n",
              "    <span style=\"font-size: 0.8em; font-weight: bold; line-height: 1; border-radius: 0.35em; vertical-align: middle; margin-left: 0.5rem\">PERSON</span>\n",
              "</mark>\n",
              ", amazed, saw  that she was smiling, the very last thing he felt like  doing</div></span>"
            ]
          },
          "metadata": {}
        },
        {
          "output_type": "stream",
          "name": "stdout",
          "text": [
            "   Scabbers the rat was hanging off his finger, sharp  little teeth sunk deep into Goyle ’s knuckle — Crabbe  and Malfoy backed away as Goyle swung Scabbers  round and round, howling, and when Scabbers finally  flew off and hit the window, all three of them  disappeared at once\n"
          ]
        },
        {
          "output_type": "display_data",
          "data": {
            "text/plain": [
              "<IPython.core.display.HTML object>"
            ],
            "text/html": [
              "<span class=\"tex2jax_ignore\"><div class=\"entities\" style=\"line-height: 2.5; direction: ltr\">   Scabbers the rat was hanging off his finger, sharp  little teeth sunk deep into \n",
              "<mark class=\"entity\" style=\"background: #aa9cfc; padding: 0.45em 0.6em; margin: 0 0.25em; line-height: 1; border-radius: 0.35em;\">\n",
              "    Goyle\n",
              "    <span style=\"font-size: 0.8em; font-weight: bold; line-height: 1; border-radius: 0.35em; vertical-align: middle; margin-left: 0.5rem\">PERSON</span>\n",
              "</mark>\n",
              " ’s knuckle — Crabbe  and \n",
              "<mark class=\"entity\" style=\"background: #aa9cfc; padding: 0.45em 0.6em; margin: 0 0.25em; line-height: 1; border-radius: 0.35em;\">\n",
              "    Malfoy\n",
              "    <span style=\"font-size: 0.8em; font-weight: bold; line-height: 1; border-radius: 0.35em; vertical-align: middle; margin-left: 0.5rem\">PERSON</span>\n",
              "</mark>\n",
              " backed away as \n",
              "<mark class=\"entity\" style=\"background: #aa9cfc; padding: 0.45em 0.6em; margin: 0 0.25em; line-height: 1; border-radius: 0.35em;\">\n",
              "    Goyle\n",
              "    <span style=\"font-size: 0.8em; font-weight: bold; line-height: 1; border-radius: 0.35em; vertical-align: middle; margin-left: 0.5rem\">PERSON</span>\n",
              "</mark>\n",
              " swung Scabbers  round and round, howling, and when Scabbers finally  flew off and hit the window, all \n",
              "<mark class=\"entity\" style=\"background: #e4e7d2; padding: 0.45em 0.6em; margin: 0 0.25em; line-height: 1; border-radius: 0.35em;\">\n",
              "    three\n",
              "    <span style=\"font-size: 0.8em; font-weight: bold; line-height: 1; border-radius: 0.35em; vertical-align: middle; margin-left: 0.5rem\">CARDINAL</span>\n",
              "</mark>\n",
              " of them  disappeared at once</div></span>"
            ]
          },
          "metadata": {}
        },
        {
          "output_type": "stream",
          "name": "stdout",
          "text": [
            "”   Malfoy swaggered forward when his name was called  and got his wish at once: the hat had barely touched  his head when it screamed, “SLYTHERIN!”   Malfoy went to join his friends Crabbe and Goyle,  looking pleased with himself\n"
          ]
        },
        {
          "output_type": "display_data",
          "data": {
            "text/plain": [
              "<IPython.core.display.HTML object>"
            ],
            "text/html": [
              "<span class=\"tex2jax_ignore\"><div class=\"entities\" style=\"line-height: 2.5; direction: ltr\">”   Malfoy swaggered forward when his name was called  and got his wish at once: the hat had barely touched  his head when it screamed, “SLYTHERIN!”   Malfoy went to join his friends \n",
              "<mark class=\"entity\" style=\"background: #aa9cfc; padding: 0.45em 0.6em; margin: 0 0.25em; line-height: 1; border-radius: 0.35em;\">\n",
              "    Crabbe\n",
              "    <span style=\"font-size: 0.8em; font-weight: bold; line-height: 1; border-radius: 0.35em; vertical-align: middle; margin-left: 0.5rem\">PERSON</span>\n",
              "</mark>\n",
              " and \n",
              "<mark class=\"entity\" style=\"background: #aa9cfc; padding: 0.45em 0.6em; margin: 0 0.25em; line-height: 1; border-radius: 0.35em;\">\n",
              "    Goyle\n",
              "    <span style=\"font-size: 0.8em; font-weight: bold; line-height: 1; border-radius: 0.35em; vertical-align: middle; margin-left: 0.5rem\">PERSON</span>\n",
              "</mark>\n",
              ",  looking pleased with himself</div></span>"
            ]
          },
          "metadata": {}
        },
        {
          "output_type": "stream",
          "name": "stdout",
          "text": [
            "”   “Oh Bagman’s likable enough, of course,” said Percy  dismissively, “but how he ever got to be Head of  Department  when I compare him to Mr Crouch! I  can’t see Mr Crouch losing a member of our  department and not trying to find out what’s  happened to them\n"
          ]
        },
        {
          "output_type": "display_data",
          "data": {
            "text/plain": [
              "<IPython.core.display.HTML object>"
            ],
            "text/html": [
              "<span class=\"tex2jax_ignore\"><div class=\"entities\" style=\"line-height: 2.5; direction: ltr\">”   “\n",
              "<mark class=\"entity\" style=\"background: #f0d0ff; padding: 0.45em 0.6em; margin: 0 0.25em; line-height: 1; border-radius: 0.35em;\">\n",
              "    Oh Bagman’s\n",
              "    <span style=\"font-size: 0.8em; font-weight: bold; line-height: 1; border-radius: 0.35em; vertical-align: middle; margin-left: 0.5rem\">WORK_OF_ART</span>\n",
              "</mark>\n",
              " likable enough, of course,” said \n",
              "<mark class=\"entity\" style=\"background: #aa9cfc; padding: 0.45em 0.6em; margin: 0 0.25em; line-height: 1; border-radius: 0.35em;\">\n",
              "    Percy  \n",
              "    <span style=\"font-size: 0.8em; font-weight: bold; line-height: 1; border-radius: 0.35em; vertical-align: middle; margin-left: 0.5rem\">PERSON</span>\n",
              "</mark>\n",
              "dismissively, “but how he ever got to be Head of  Department  when I compare him to Mr \n",
              "<mark class=\"entity\" style=\"background: #aa9cfc; padding: 0.45em 0.6em; margin: 0 0.25em; line-height: 1; border-radius: 0.35em;\">\n",
              "    Crouch\n",
              "    <span style=\"font-size: 0.8em; font-weight: bold; line-height: 1; border-radius: 0.35em; vertical-align: middle; margin-left: 0.5rem\">PERSON</span>\n",
              "</mark>\n",
              "! I  can’t see Mr \n",
              "<mark class=\"entity\" style=\"background: #aa9cfc; padding: 0.45em 0.6em; margin: 0 0.25em; line-height: 1; border-radius: 0.35em;\">\n",
              "    Crouch\n",
              "    <span style=\"font-size: 0.8em; font-weight: bold; line-height: 1; border-radius: 0.35em; vertical-align: middle; margin-left: 0.5rem\">PERSON</span>\n",
              "</mark>\n",
              " losing a member of our  department and not trying to find out what’s  happened to them</div></span>"
            ]
          },
          "metadata": {}
        },
        {
          "output_type": "stream",
          "name": "stdout",
          "text": [
            "  Mr Crouch has been taking a personal interest, she  worked in our department at one time, you know, and  I think Mr Crouch was quite fond of her — but  Bagman just keeps laughing and saying she probably  misread the map and ended up in Australia instead of  Albania\n"
          ]
        },
        {
          "output_type": "display_data",
          "data": {
            "text/plain": [
              "<IPython.core.display.HTML object>"
            ],
            "text/html": [
              "<span class=\"tex2jax_ignore\"><div class=\"entities\" style=\"line-height: 2.5; direction: ltr\">  Mr \n",
              "<mark class=\"entity\" style=\"background: #aa9cfc; padding: 0.45em 0.6em; margin: 0 0.25em; line-height: 1; border-radius: 0.35em;\">\n",
              "    Crouch\n",
              "    <span style=\"font-size: 0.8em; font-weight: bold; line-height: 1; border-radius: 0.35em; vertical-align: middle; margin-left: 0.5rem\">PERSON</span>\n",
              "</mark>\n",
              " has been taking a personal interest, she  worked in our department at \n",
              "<mark class=\"entity\" style=\"background: #e4e7d2; padding: 0.45em 0.6em; margin: 0 0.25em; line-height: 1; border-radius: 0.35em;\">\n",
              "    one\n",
              "    <span style=\"font-size: 0.8em; font-weight: bold; line-height: 1; border-radius: 0.35em; vertical-align: middle; margin-left: 0.5rem\">CARDINAL</span>\n",
              "</mark>\n",
              " time, you know, and  I think Mr \n",
              "<mark class=\"entity\" style=\"background: #aa9cfc; padding: 0.45em 0.6em; margin: 0 0.25em; line-height: 1; border-radius: 0.35em;\">\n",
              "    Crouch\n",
              "    <span style=\"font-size: 0.8em; font-weight: bold; line-height: 1; border-radius: 0.35em; vertical-align: middle; margin-left: 0.5rem\">PERSON</span>\n",
              "</mark>\n",
              " was quite fond of her — but  Bagman just keeps laughing and saying she probably  misread the map and ended up in \n",
              "<mark class=\"entity\" style=\"background: #feca74; padding: 0.45em 0.6em; margin: 0 0.25em; line-height: 1; border-radius: 0.35em;\">\n",
              "    Australia\n",
              "    <span style=\"font-size: 0.8em; font-weight: bold; line-height: 1; border-radius: 0.35em; vertical-align: middle; margin-left: 0.5rem\">GPE</span>\n",
              "</mark>\n",
              " instead of  \n",
              "<mark class=\"entity\" style=\"background: #feca74; padding: 0.45em 0.6em; margin: 0 0.25em; line-height: 1; border-radius: 0.35em;\">\n",
              "    Albania\n",
              "    <span style=\"font-size: 0.8em; font-weight: bold; line-height: 1; border-radius: 0.35em; vertical-align: middle; margin-left: 0.5rem\">GPE</span>\n",
              "</mark>\n",
              "</div></span>"
            ]
          },
          "metadata": {}
        },
        {
          "output_type": "stream",
          "name": "stdout",
          "text": [
            " “Why  are you disturbing these people? Minerva, I’m  surprised at you — I asked you to stand guard over  Barty Crouch — ”   “There is no need to stand guard over him anymore,  Dumbledore!” she shrieked\n"
          ]
        },
        {
          "output_type": "display_data",
          "data": {
            "text/plain": [
              "<IPython.core.display.HTML object>"
            ],
            "text/html": [
              "<span class=\"tex2jax_ignore\"><div class=\"entities\" style=\"line-height: 2.5; direction: ltr\"> “Why  are you disturbing these people? \n",
              "<mark class=\"entity\" style=\"background: #aa9cfc; padding: 0.45em 0.6em; margin: 0 0.25em; line-height: 1; border-radius: 0.35em;\">\n",
              "    Minerva\n",
              "    <span style=\"font-size: 0.8em; font-weight: bold; line-height: 1; border-radius: 0.35em; vertical-align: middle; margin-left: 0.5rem\">PERSON</span>\n",
              "</mark>\n",
              ", I’m  surprised at you — I asked you to stand guard over  \n",
              "<mark class=\"entity\" style=\"background: #aa9cfc; padding: 0.45em 0.6em; margin: 0 0.25em; line-height: 1; border-radius: 0.35em;\">\n",
              "    Barty Crouch\n",
              "    <span style=\"font-size: 0.8em; font-weight: bold; line-height: 1; border-radius: 0.35em; vertical-align: middle; margin-left: 0.5rem\">PERSON</span>\n",
              "</mark>\n",
              " — ”   “There is no need to stand guard over him anymore,  Dumbledore!” she shrieked</div></span>"
            ]
          },
          "metadata": {}
        },
        {
          "output_type": "stream",
          "name": "stdout",
          "text": [
            "   “The champion for Beauxbatons,” said Dumbledore,   “is Fleur Delacour!”   “It’s her, Ron!” Harry shouted as the girl who so  resembled a veela got gracefully to her feet, shook  back her sheet of silvery blonde hair, and swept up  between the Ravenclaw and Hufflepuff tables\n"
          ]
        },
        {
          "output_type": "display_data",
          "data": {
            "text/plain": [
              "<IPython.core.display.HTML object>"
            ],
            "text/html": [
              "<span class=\"tex2jax_ignore\"><div class=\"entities\" style=\"line-height: 2.5; direction: ltr\">   “The champion for \n",
              "<mark class=\"entity\" style=\"background: #7aecec; padding: 0.45em 0.6em; margin: 0 0.25em; line-height: 1; border-radius: 0.35em;\">\n",
              "    Beauxbatons\n",
              "    <span style=\"font-size: 0.8em; font-weight: bold; line-height: 1; border-radius: 0.35em; vertical-align: middle; margin-left: 0.5rem\">ORG</span>\n",
              "</mark>\n",
              ",” said \n",
              "<mark class=\"entity\" style=\"background: #aa9cfc; padding: 0.45em 0.6em; margin: 0 0.25em; line-height: 1; border-radius: 0.35em;\">\n",
              "    Dumbledore\n",
              "    <span style=\"font-size: 0.8em; font-weight: bold; line-height: 1; border-radius: 0.35em; vertical-align: middle; margin-left: 0.5rem\">PERSON</span>\n",
              "</mark>\n",
              ",   “is \n",
              "<mark class=\"entity\" style=\"background: #7aecec; padding: 0.45em 0.6em; margin: 0 0.25em; line-height: 1; border-radius: 0.35em;\">\n",
              "    Fleur Delacour\n",
              "    <span style=\"font-size: 0.8em; font-weight: bold; line-height: 1; border-radius: 0.35em; vertical-align: middle; margin-left: 0.5rem\">ORG</span>\n",
              "</mark>\n",
              "!”   “It’s her, \n",
              "<mark class=\"entity\" style=\"background: #aa9cfc; padding: 0.45em 0.6em; margin: 0 0.25em; line-height: 1; border-radius: 0.35em;\">\n",
              "    Ron\n",
              "    <span style=\"font-size: 0.8em; font-weight: bold; line-height: 1; border-radius: 0.35em; vertical-align: middle; margin-left: 0.5rem\">PERSON</span>\n",
              "</mark>\n",
              "!” \n",
              "<mark class=\"entity\" style=\"background: #aa9cfc; padding: 0.45em 0.6em; margin: 0 0.25em; line-height: 1; border-radius: 0.35em;\">\n",
              "    Harry\n",
              "    <span style=\"font-size: 0.8em; font-weight: bold; line-height: 1; border-radius: 0.35em; vertical-align: middle; margin-left: 0.5rem\">PERSON</span>\n",
              "</mark>\n",
              " shouted as the girl who so  resembled a veela got gracefully to her feet, shook  back her sheet of silvery blonde hair, and swept up  between the \n",
              "<mark class=\"entity\" style=\"background: #7aecec; padding: 0.45em 0.6em; margin: 0 0.25em; line-height: 1; border-radius: 0.35em;\">\n",
              "    Ravenclaw\n",
              "    <span style=\"font-size: 0.8em; font-weight: bold; line-height: 1; border-radius: 0.35em; vertical-align: middle; margin-left: 0.5rem\">ORG</span>\n",
              "</mark>\n",
              " and \n",
              "<mark class=\"entity\" style=\"background: #aa9cfc; padding: 0.45em 0.6em; margin: 0 0.25em; line-height: 1; border-radius: 0.35em;\">\n",
              "    Hufflepuff\n",
              "    <span style=\"font-size: 0.8em; font-weight: bold; line-height: 1; border-radius: 0.35em; vertical-align: middle; margin-left: 0.5rem\">PERSON</span>\n",
              "</mark>\n",
              " tables</div></span>"
            ]
          },
          "metadata": {}
        },
        {
          "output_type": "stream",
          "name": "stdout",
          "text": [
            " “Miss Delacour, if you please!”     Fleur was trembling from head to foot; Harry felt more  warmly toward her than he had done so far as she left  the tent with her head held high and her hand  clutching her wand\n"
          ]
        },
        {
          "output_type": "display_data",
          "data": {
            "text/plain": [
              "<IPython.core.display.HTML object>"
            ],
            "text/html": [
              "<span class=\"tex2jax_ignore\"><div class=\"entities\" style=\"line-height: 2.5; direction: ltr\"> “Miss \n",
              "<mark class=\"entity\" style=\"background: #aa9cfc; padding: 0.45em 0.6em; margin: 0 0.25em; line-height: 1; border-radius: 0.35em;\">\n",
              "    Delacour\n",
              "    <span style=\"font-size: 0.8em; font-weight: bold; line-height: 1; border-radius: 0.35em; vertical-align: middle; margin-left: 0.5rem\">PERSON</span>\n",
              "</mark>\n",
              ", if you please!”     Fleur was trembling from head to foot; Harry felt more  warmly toward her than he had done so far as she left  the tent with her head held high and her hand  clutching her wand</div></span>"
            ]
          },
          "metadata": {}
        },
        {
          "output_type": "stream",
          "name": "stdout",
          "text": [
            " Cedric Diggory was  pelting up the field, and a tiny speck of gold was  shimmering in the rain-filled air between them —   With a jolt of panic, Harry threw himself flat to the  broom-handle and zoomed toward the Snitch\n"
          ]
        },
        {
          "output_type": "display_data",
          "data": {
            "text/plain": [
              "<IPython.core.display.HTML object>"
            ],
            "text/html": [
              "<span class=\"tex2jax_ignore\"><div class=\"entities\" style=\"line-height: 2.5; direction: ltr\"> \n",
              "<mark class=\"entity\" style=\"background: #aa9cfc; padding: 0.45em 0.6em; margin: 0 0.25em; line-height: 1; border-radius: 0.35em;\">\n",
              "    Cedric Diggory\n",
              "    <span style=\"font-size: 0.8em; font-weight: bold; line-height: 1; border-radius: 0.35em; vertical-align: middle; margin-left: 0.5rem\">PERSON</span>\n",
              "</mark>\n",
              " was  pelting up the field, and a tiny speck of gold was  shimmering in the rain-filled air between them —   With a jolt of panic, \n",
              "<mark class=\"entity\" style=\"background: #aa9cfc; padding: 0.45em 0.6em; margin: 0 0.25em; line-height: 1; border-radius: 0.35em;\">\n",
              "    Harry\n",
              "    <span style=\"font-size: 0.8em; font-weight: bold; line-height: 1; border-radius: 0.35em; vertical-align: middle; margin-left: 0.5rem\">PERSON</span>\n",
              "</mark>\n",
              " threw himself flat to the  broom-handle and zoomed toward the Snitch</div></span>"
            ]
          },
          "metadata": {}
        },
        {
          "output_type": "stream",
          "name": "stdout",
          "text": [
            "  Cedric Diggory came over to congratulate Harry on  having acquired such a superb replacement for his  Nimbus, and Percy’s Ravenclaw girlfriend, Penelope  Clearwater, asked if she could actually hold the  Firebolt\n"
          ]
        },
        {
          "output_type": "display_data",
          "data": {
            "text/plain": [
              "<IPython.core.display.HTML object>"
            ],
            "text/html": [
              "<span class=\"tex2jax_ignore\"><div class=\"entities\" style=\"line-height: 2.5; direction: ltr\">  \n",
              "<mark class=\"entity\" style=\"background: #aa9cfc; padding: 0.45em 0.6em; margin: 0 0.25em; line-height: 1; border-radius: 0.35em;\">\n",
              "    Cedric Diggory\n",
              "    <span style=\"font-size: 0.8em; font-weight: bold; line-height: 1; border-radius: 0.35em; vertical-align: middle; margin-left: 0.5rem\">PERSON</span>\n",
              "</mark>\n",
              " came over to congratulate \n",
              "<mark class=\"entity\" style=\"background: #aa9cfc; padding: 0.45em 0.6em; margin: 0 0.25em; line-height: 1; border-radius: 0.35em;\">\n",
              "    Harry\n",
              "    <span style=\"font-size: 0.8em; font-weight: bold; line-height: 1; border-radius: 0.35em; vertical-align: middle; margin-left: 0.5rem\">PERSON</span>\n",
              "</mark>\n",
              " on  having acquired such a superb replacement for his  \n",
              "<mark class=\"entity\" style=\"background: #7aecec; padding: 0.45em 0.6em; margin: 0 0.25em; line-height: 1; border-radius: 0.35em;\">\n",
              "    Nimbus\n",
              "    <span style=\"font-size: 0.8em; font-weight: bold; line-height: 1; border-radius: 0.35em; vertical-align: middle; margin-left: 0.5rem\">ORG</span>\n",
              "</mark>\n",
              ", and \n",
              "<mark class=\"entity\" style=\"background: #aa9cfc; padding: 0.45em 0.6em; margin: 0 0.25em; line-height: 1; border-radius: 0.35em;\">\n",
              "    Percy\n",
              "    <span style=\"font-size: 0.8em; font-weight: bold; line-height: 1; border-radius: 0.35em; vertical-align: middle; margin-left: 0.5rem\">PERSON</span>\n",
              "</mark>\n",
              "’s Ravenclaw girlfriend, \n",
              "<mark class=\"entity\" style=\"background: #aa9cfc; padding: 0.45em 0.6em; margin: 0 0.25em; line-height: 1; border-radius: 0.35em;\">\n",
              "    Penelope\n",
              "    <span style=\"font-size: 0.8em; font-weight: bold; line-height: 1; border-radius: 0.35em; vertical-align: middle; margin-left: 0.5rem\">PERSON</span>\n",
              "</mark>\n",
              "  Clearwater, asked if she could actually hold the  Firebolt</div></span>"
            ]
          },
          "metadata": {}
        },
        {
          "output_type": "stream",
          "name": "stdout",
          "text": [
            " It was all over the  papers, but did Aberforth hide? No, he did not! He  held his head high and went about his business as  usual! Of course, I’m not entirely sure he can read, so  that may not have been bravery\n"
          ]
        },
        {
          "output_type": "display_data",
          "data": {
            "text/plain": [
              "<IPython.core.display.HTML object>"
            ],
            "text/html": [
              "<span class=\"tex2jax_ignore\"><div class=\"entities\" style=\"line-height: 2.5; direction: ltr\"> It was all over the  papers, but did \n",
              "<mark class=\"entity\" style=\"background: #aa9cfc; padding: 0.45em 0.6em; margin: 0 0.25em; line-height: 1; border-radius: 0.35em;\">\n",
              "    Aberforth\n",
              "    <span style=\"font-size: 0.8em; font-weight: bold; line-height: 1; border-radius: 0.35em; vertical-align: middle; margin-left: 0.5rem\">PERSON</span>\n",
              "</mark>\n",
              " hide? No, he did not! He  held his head high and went about his business as  usual! Of course, I’m not entirely sure he can read, so  that may not have been bravery</div></span>"
            ]
          },
          "metadata": {}
        },
        {
          "output_type": "stream",
          "name": "stdout",
          "text": [
            "   “That’s Dumbledore’s brother, Aberforth, only time I  ever met him, strange bloke  That’s Dorcas  Meadowes, Voldemort killed her personally  Sirius,  when he still had short hair  and  there you go,  thought that would interest you!”   Harry’s heart turned over\n"
          ]
        },
        {
          "output_type": "display_data",
          "data": {
            "text/plain": [
              "<IPython.core.display.HTML object>"
            ],
            "text/html": [
              "<span class=\"tex2jax_ignore\"><div class=\"entities\" style=\"line-height: 2.5; direction: ltr\">   “That’s Dumbledore’s brother, \n",
              "<mark class=\"entity\" style=\"background: #aa9cfc; padding: 0.45em 0.6em; margin: 0 0.25em; line-height: 1; border-radius: 0.35em;\">\n",
              "    Aberforth\n",
              "    <span style=\"font-size: 0.8em; font-weight: bold; line-height: 1; border-radius: 0.35em; vertical-align: middle; margin-left: 0.5rem\">PERSON</span>\n",
              "</mark>\n",
              ", only time I  ever met him, strange bloke  That’s \n",
              "<mark class=\"entity\" style=\"background: #7aecec; padding: 0.45em 0.6em; margin: 0 0.25em; line-height: 1; border-radius: 0.35em;\">\n",
              "    Dorcas\n",
              "    <span style=\"font-size: 0.8em; font-weight: bold; line-height: 1; border-radius: 0.35em; vertical-align: middle; margin-left: 0.5rem\">ORG</span>\n",
              "</mark>\n",
              "  Meadowes, Voldemort killed her personally  \n",
              "<mark class=\"entity\" style=\"background: #7aecec; padding: 0.45em 0.6em; margin: 0 0.25em; line-height: 1; border-radius: 0.35em;\">\n",
              "    Sirius\n",
              "    <span style=\"font-size: 0.8em; font-weight: bold; line-height: 1; border-radius: 0.35em; vertical-align: middle; margin-left: 0.5rem\">ORG</span>\n",
              "</mark>\n",
              ",  when he still had short hair  and  there you go,  thought that would interest you!”   Harry’s heart turned over</div></span>"
            ]
          },
          "metadata": {}
        },
        {
          "output_type": "stream",
          "name": "stdout",
          "text": [
            " You know what  everyone’s saying? About why he’s disappeared?   About what finally stopped him?”   It seemed that Professor McGonagall had reached the  point she was most anxious to discuss, the real  reason she had been waiting on a cold, hard wall all  day, for neither as a cat nor as a woman had she  fixed Dumbledore with such a piercing stare as she  did now\n"
          ]
        },
        {
          "output_type": "display_data",
          "data": {
            "text/plain": [
              "<IPython.core.display.HTML object>"
            ],
            "text/html": [
              "<span class=\"tex2jax_ignore\"><div class=\"entities\" style=\"line-height: 2.5; direction: ltr\"> You know what  everyone’s saying? About why he’s disappeared?   About what finally stopped him?”   It seemed that Professor \n",
              "<mark class=\"entity\" style=\"background: #aa9cfc; padding: 0.45em 0.6em; margin: 0 0.25em; line-height: 1; border-radius: 0.35em;\">\n",
              "    McGonagall\n",
              "    <span style=\"font-size: 0.8em; font-weight: bold; line-height: 1; border-radius: 0.35em; vertical-align: middle; margin-left: 0.5rem\">PERSON</span>\n",
              "</mark>\n",
              " had reached the  point she was most anxious to discuss, the real  reason she had been waiting on a cold, hard wall all  day, for neither as a cat nor as a woman had she  fixed Dumbledore with such a piercing stare as she  did now</div></span>"
            ]
          },
          "metadata": {}
        },
        {
          "output_type": "stream",
          "name": "stdout",
          "text": [
            " “Really, Dumbledore,  you think you can explain all this in a letter? These  people will never understand him! He’ll be famous —  a legend — I wouldn’t be surprised if today was  known as Harry Potter Day in the future — there will  be books written about Harry — every child in our  world will know his name!”   “Exactly,” said Dumbledore, looking very seriously  over the top of his half-moon glasses\n"
          ]
        },
        {
          "output_type": "display_data",
          "data": {
            "text/plain": [
              "<IPython.core.display.HTML object>"
            ],
            "text/html": [
              "<span class=\"tex2jax_ignore\"><div class=\"entities\" style=\"line-height: 2.5; direction: ltr\"> “Really, Dumbledore,  you think you can explain all this in a letter? These  people will never understand him! He’ll be famous —  a legend — I wouldn’t be surprised if \n",
              "<mark class=\"entity\" style=\"background: #bfe1d9; padding: 0.45em 0.6em; margin: 0 0.25em; line-height: 1; border-radius: 0.35em;\">\n",
              "    today\n",
              "    <span style=\"font-size: 0.8em; font-weight: bold; line-height: 1; border-radius: 0.35em; vertical-align: middle; margin-left: 0.5rem\">DATE</span>\n",
              "</mark>\n",
              " was  known as \n",
              "<mark class=\"entity\" style=\"background: #aa9cfc; padding: 0.45em 0.6em; margin: 0 0.25em; line-height: 1; border-radius: 0.35em;\">\n",
              "    Harry Potter Day\n",
              "    <span style=\"font-size: 0.8em; font-weight: bold; line-height: 1; border-radius: 0.35em; vertical-align: middle; margin-left: 0.5rem\">PERSON</span>\n",
              "</mark>\n",
              " in the future — there will  be books written about \n",
              "<mark class=\"entity\" style=\"background: #aa9cfc; padding: 0.45em 0.6em; margin: 0 0.25em; line-height: 1; border-radius: 0.35em;\">\n",
              "    Harry\n",
              "    <span style=\"font-size: 0.8em; font-weight: bold; line-height: 1; border-radius: 0.35em; vertical-align: middle; margin-left: 0.5rem\">PERSON</span>\n",
              "</mark>\n",
              " — every child in our  world will know his name!”   “Exactly,” said \n",
              "<mark class=\"entity\" style=\"background: #aa9cfc; padding: 0.45em 0.6em; margin: 0 0.25em; line-height: 1; border-radius: 0.35em;\">\n",
              "    Dumbledore\n",
              "    <span style=\"font-size: 0.8em; font-weight: bold; line-height: 1; border-radius: 0.35em; vertical-align: middle; margin-left: 0.5rem\">PERSON</span>\n",
              "</mark>\n",
              ", looking very seriously  over the top of his half-moon glasses</div></span>"
            ]
          },
          "metadata": {}
        },
        {
          "output_type": "stream",
          "name": "stdout",
          "text": [
            "   At that moment the telephone rang and Aunt Petunia  went to answer it while Harry and Uncle Vernon  watched Dudley unwrap the racing bike, a video  camera, a remote control airplane, sixteen new  computer games, and a VCR\n"
          ]
        },
        {
          "output_type": "display_data",
          "data": {
            "text/plain": [
              "<IPython.core.display.HTML object>"
            ],
            "text/html": [
              "<span class=\"tex2jax_ignore\"><div class=\"entities\" style=\"line-height: 2.5; direction: ltr\">   At that moment the telephone rang and \n",
              "<mark class=\"entity\" style=\"background: #aa9cfc; padding: 0.45em 0.6em; margin: 0 0.25em; line-height: 1; border-radius: 0.35em;\">\n",
              "    Aunt Petunia\n",
              "    <span style=\"font-size: 0.8em; font-weight: bold; line-height: 1; border-radius: 0.35em; vertical-align: middle; margin-left: 0.5rem\">PERSON</span>\n",
              "</mark>\n",
              "  went to answer it while \n",
              "<mark class=\"entity\" style=\"background: #aa9cfc; padding: 0.45em 0.6em; margin: 0 0.25em; line-height: 1; border-radius: 0.35em;\">\n",
              "    Harry\n",
              "    <span style=\"font-size: 0.8em; font-weight: bold; line-height: 1; border-radius: 0.35em; vertical-align: middle; margin-left: 0.5rem\">PERSON</span>\n",
              "</mark>\n",
              " and Uncle Vernon  watched \n",
              "<mark class=\"entity\" style=\"background: #aa9cfc; padding: 0.45em 0.6em; margin: 0 0.25em; line-height: 1; border-radius: 0.35em;\">\n",
              "    Dudley\n",
              "    <span style=\"font-size: 0.8em; font-weight: bold; line-height: 1; border-radius: 0.35em; vertical-align: middle; margin-left: 0.5rem\">PERSON</span>\n",
              "</mark>\n",
              " unwrap the racing bike, a video  camera, a remote control airplane, \n",
              "<mark class=\"entity\" style=\"background: #e4e7d2; padding: 0.45em 0.6em; margin: 0 0.25em; line-height: 1; border-radius: 0.35em;\">\n",
              "    sixteen\n",
              "    <span style=\"font-size: 0.8em; font-weight: bold; line-height: 1; border-radius: 0.35em; vertical-align: middle; margin-left: 0.5rem\">CARDINAL</span>\n",
              "</mark>\n",
              " new  computer games, and a VCR</div></span>"
            ]
          },
          "metadata": {}
        },
        {
          "output_type": "stream",
          "name": "stdout",
          "text": [
            "   Once, Aunt Petunia, tired of Harry coming back from  the barbers looking as though he hadn’t been at all,  had taken a pair of kitchen scissors and cut his hair  so short he was almost bald except for his bangs,  which she left “to hide that horrible scar\n"
          ]
        },
        {
          "output_type": "display_data",
          "data": {
            "text/plain": [
              "<IPython.core.display.HTML object>"
            ],
            "text/html": [
              "<span class=\"tex2jax_ignore\"><div class=\"entities\" style=\"line-height: 2.5; direction: ltr\">   Once, \n",
              "<mark class=\"entity\" style=\"background: #aa9cfc; padding: 0.45em 0.6em; margin: 0 0.25em; line-height: 1; border-radius: 0.35em;\">\n",
              "    Aunt Petunia\n",
              "    <span style=\"font-size: 0.8em; font-weight: bold; line-height: 1; border-radius: 0.35em; vertical-align: middle; margin-left: 0.5rem\">PERSON</span>\n",
              "</mark>\n",
              ", tired of Harry coming back from  the barbers looking as though he hadn’t been at all,  had taken a pair of kitchen scissors and cut his hair  so short he was almost bald except for his bangs,  which she left “to hide that horrible scar</div></span>"
            ]
          },
          "metadata": {}
        },
        {
          "output_type": "stream",
          "name": "stdout",
          "text": [
            "   At that moment the telephone rang and Aunt Petunia  went to answer it while Harry and Uncle Vernon  watched Dudley unwrap the racing bike, a video  camera, a remote control airplane, sixteen new  computer games, and a VCR\n"
          ]
        },
        {
          "output_type": "display_data",
          "data": {
            "text/plain": [
              "<IPython.core.display.HTML object>"
            ],
            "text/html": [
              "<span class=\"tex2jax_ignore\"><div class=\"entities\" style=\"line-height: 2.5; direction: ltr\">   At that moment the telephone rang and \n",
              "<mark class=\"entity\" style=\"background: #aa9cfc; padding: 0.45em 0.6em; margin: 0 0.25em; line-height: 1; border-radius: 0.35em;\">\n",
              "    Aunt Petunia\n",
              "    <span style=\"font-size: 0.8em; font-weight: bold; line-height: 1; border-radius: 0.35em; vertical-align: middle; margin-left: 0.5rem\">PERSON</span>\n",
              "</mark>\n",
              "  went to answer it while \n",
              "<mark class=\"entity\" style=\"background: #aa9cfc; padding: 0.45em 0.6em; margin: 0 0.25em; line-height: 1; border-radius: 0.35em;\">\n",
              "    Harry\n",
              "    <span style=\"font-size: 0.8em; font-weight: bold; line-height: 1; border-radius: 0.35em; vertical-align: middle; margin-left: 0.5rem\">PERSON</span>\n",
              "</mark>\n",
              " and Uncle Vernon  watched \n",
              "<mark class=\"entity\" style=\"background: #aa9cfc; padding: 0.45em 0.6em; margin: 0 0.25em; line-height: 1; border-radius: 0.35em;\">\n",
              "    Dudley\n",
              "    <span style=\"font-size: 0.8em; font-weight: bold; line-height: 1; border-radius: 0.35em; vertical-align: middle; margin-left: 0.5rem\">PERSON</span>\n",
              "</mark>\n",
              " unwrap the racing bike, a video  camera, a remote control airplane, \n",
              "<mark class=\"entity\" style=\"background: #e4e7d2; padding: 0.45em 0.6em; margin: 0 0.25em; line-height: 1; border-radius: 0.35em;\">\n",
              "    sixteen\n",
              "    <span style=\"font-size: 0.8em; font-weight: bold; line-height: 1; border-radius: 0.35em; vertical-align: middle; margin-left: 0.5rem\">CARDINAL</span>\n",
              "</mark>\n",
              " new  computer games, and a VCR</div></span>"
            ]
          },
          "metadata": {}
        },
        {
          "output_type": "stream",
          "name": "stdout",
          "text": [
            " They  ate in the zoo restaurant, and when Dudley had a  tantrum because his knickerbocker glory didn’t have  enough ice cream on top, Uncle Vernon bought him  another one and Harry was allowed to finish the first\n"
          ]
        },
        {
          "output_type": "display_data",
          "data": {
            "text/plain": [
              "<IPython.core.display.HTML object>"
            ],
            "text/html": [
              "<span class=\"tex2jax_ignore\"><div class=\"entities\" style=\"line-height: 2.5; direction: ltr\"> They  ate in the zoo restaurant, and when \n",
              "<mark class=\"entity\" style=\"background: #aa9cfc; padding: 0.45em 0.6em; margin: 0 0.25em; line-height: 1; border-radius: 0.35em;\">\n",
              "    Dudley\n",
              "    <span style=\"font-size: 0.8em; font-weight: bold; line-height: 1; border-radius: 0.35em; vertical-align: middle; margin-left: 0.5rem\">PERSON</span>\n",
              "</mark>\n",
              " had a  tantrum because his knickerbocker glory didn’t have  enough ice cream on top, \n",
              "<mark class=\"entity\" style=\"background: #aa9cfc; padding: 0.45em 0.6em; margin: 0 0.25em; line-height: 1; border-radius: 0.35em;\">\n",
              "    Uncle Vernon\n",
              "    <span style=\"font-size: 0.8em; font-weight: bold; line-height: 1; border-radius: 0.35em; vertical-align: middle; margin-left: 0.5rem\">PERSON</span>\n",
              "</mark>\n",
              " bought him  another one and \n",
              "<mark class=\"entity\" style=\"background: #aa9cfc; padding: 0.45em 0.6em; margin: 0 0.25em; line-height: 1; border-radius: 0.35em;\">\n",
              "    Harry\n",
              "    <span style=\"font-size: 0.8em; font-weight: bold; line-height: 1; border-radius: 0.35em; vertical-align: middle; margin-left: 0.5rem\">PERSON</span>\n",
              "</mark>\n",
              " was allowed to finish the \n",
              "<mark class=\"entity\" style=\"background: #e4e7d2; padding: 0.45em 0.6em; margin: 0 0.25em; line-height: 1; border-radius: 0.35em;\">\n",
              "    first\n",
              "    <span style=\"font-size: 0.8em; font-weight: bold; line-height: 1; border-radius: 0.35em; vertical-align: middle; margin-left: 0.5rem\">ORDINAL</span>\n",
              "</mark>\n",
              "</div></span>"
            ]
          },
          "metadata": {}
        },
        {
          "output_type": "stream",
          "name": "stdout",
          "text": [
            " He would drop  wastepaper baskets on your head, pull rugs from  under your feet, pelt you with bits of chalk, or sneak  up behind you, invisible, grab your nose, and screech,  “GOT YOUR CONK!”   Even worse than Peeves, if that was possible, was the  caretaker, Argus Filch\n"
          ]
        },
        {
          "output_type": "display_data",
          "data": {
            "text/plain": [
              "<IPython.core.display.HTML object>"
            ],
            "text/html": [
              "<span class=\"tex2jax_ignore\"><div class=\"entities\" style=\"line-height: 2.5; direction: ltr\"> He would drop  wastepaper baskets on your head, pull rugs from  under your feet, pelt you with bits of chalk, or sneak  up behind you, invisible, grab your nose, and screech,  “GOT YOUR CONK!”   Even worse than \n",
              "<mark class=\"entity\" style=\"background: #aa9cfc; padding: 0.45em 0.6em; margin: 0 0.25em; line-height: 1; border-radius: 0.35em;\">\n",
              "    Peeves\n",
              "    <span style=\"font-size: 0.8em; font-weight: bold; line-height: 1; border-radius: 0.35em; vertical-align: middle; margin-left: 0.5rem\">PERSON</span>\n",
              "</mark>\n",
              ", if that was possible, was the  caretaker, \n",
              "<mark class=\"entity\" style=\"background: #7aecec; padding: 0.45em 0.6em; margin: 0 0.25em; line-height: 1; border-radius: 0.35em;\">\n",
              "    Argus Filch\n",
              "    <span style=\"font-size: 0.8em; font-weight: bold; line-height: 1; border-radius: 0.35em; vertical-align: middle; margin-left: 0.5rem\">ORG</span>\n",
              "</mark>\n",
              "</div></span>"
            ]
          },
          "metadata": {}
        },
        {
          "output_type": "stream",
          "name": "stdout",
          "text": [
            "   “RUN!” Harry yelled, and the four of them sprinted  down the gallery, not looking back to see whether  Filch was following — they swung around the  doorpost and galloped down one corridor then  another, Harry in the lead, without any idea where  they were or where they were going — they ripped  through a tapestry and found themselves in a hidden  passageway, hurtled along it and came out near their  Charms classroom, which they knew was miles from  the trophy room\n"
          ]
        },
        {
          "output_type": "display_data",
          "data": {
            "text/plain": [
              "<IPython.core.display.HTML object>"
            ],
            "text/html": [
              "<span class=\"tex2jax_ignore\"><div class=\"entities\" style=\"line-height: 2.5; direction: ltr\">   “RUN!” \n",
              "<mark class=\"entity\" style=\"background: #aa9cfc; padding: 0.45em 0.6em; margin: 0 0.25em; line-height: 1; border-radius: 0.35em;\">\n",
              "    Harry\n",
              "    <span style=\"font-size: 0.8em; font-weight: bold; line-height: 1; border-radius: 0.35em; vertical-align: middle; margin-left: 0.5rem\">PERSON</span>\n",
              "</mark>\n",
              " yelled, and the \n",
              "<mark class=\"entity\" style=\"background: #e4e7d2; padding: 0.45em 0.6em; margin: 0 0.25em; line-height: 1; border-radius: 0.35em;\">\n",
              "    four\n",
              "    <span style=\"font-size: 0.8em; font-weight: bold; line-height: 1; border-radius: 0.35em; vertical-align: middle; margin-left: 0.5rem\">CARDINAL</span>\n",
              "</mark>\n",
              " of them sprinted  down the gallery, not looking back to see whether  Filch was following — they swung around the  doorpost and galloped down \n",
              "<mark class=\"entity\" style=\"background: #e4e7d2; padding: 0.45em 0.6em; margin: 0 0.25em; line-height: 1; border-radius: 0.35em;\">\n",
              "    one\n",
              "    <span style=\"font-size: 0.8em; font-weight: bold; line-height: 1; border-radius: 0.35em; vertical-align: middle; margin-left: 0.5rem\">CARDINAL</span>\n",
              "</mark>\n",
              " corridor then  another, \n",
              "<mark class=\"entity\" style=\"background: #aa9cfc; padding: 0.45em 0.6em; margin: 0 0.25em; line-height: 1; border-radius: 0.35em;\">\n",
              "    Harry\n",
              "    <span style=\"font-size: 0.8em; font-weight: bold; line-height: 1; border-radius: 0.35em; vertical-align: middle; margin-left: 0.5rem\">PERSON</span>\n",
              "</mark>\n",
              " in the lead, without any idea where  they were or where they were going — they ripped  through a tapestry and found themselves in a hidden  passageway, hurtled along it and came out near their  Charms classroom, which they knew was miles from  the trophy room</div></span>"
            ]
          },
          "metadata": {}
        },
        {
          "output_type": "stream",
          "name": "stdout",
          "text": [
            " For one thing, when Seamus  Finnigan asked eagerly to hear how Quirrell had  fought off the zombie, Quirrell went pink and started  talking about the weather; for another, they had  noticed that a funny smell hung around the turban,  and the Weasley twins insisted that it was stuffed full  of garlic as well, so that Quirrell was protected  wherever he went\n"
          ]
        },
        {
          "output_type": "display_data",
          "data": {
            "text/plain": [
              "<IPython.core.display.HTML object>"
            ],
            "text/html": [
              "<span class=\"tex2jax_ignore\"><div class=\"entities\" style=\"line-height: 2.5; direction: ltr\"> For \n",
              "<mark class=\"entity\" style=\"background: #e4e7d2; padding: 0.45em 0.6em; margin: 0 0.25em; line-height: 1; border-radius: 0.35em;\">\n",
              "    one\n",
              "    <span style=\"font-size: 0.8em; font-weight: bold; line-height: 1; border-radius: 0.35em; vertical-align: middle; margin-left: 0.5rem\">CARDINAL</span>\n",
              "</mark>\n",
              " thing, when \n",
              "<mark class=\"entity\" style=\"background: #aa9cfc; padding: 0.45em 0.6em; margin: 0 0.25em; line-height: 1; border-radius: 0.35em;\">\n",
              "    Seamus  Finnigan\n",
              "    <span style=\"font-size: 0.8em; font-weight: bold; line-height: 1; border-radius: 0.35em; vertical-align: middle; margin-left: 0.5rem\">PERSON</span>\n",
              "</mark>\n",
              " asked eagerly to hear how \n",
              "<mark class=\"entity\" style=\"background: #aa9cfc; padding: 0.45em 0.6em; margin: 0 0.25em; line-height: 1; border-radius: 0.35em;\">\n",
              "    Quirrell\n",
              "    <span style=\"font-size: 0.8em; font-weight: bold; line-height: 1; border-radius: 0.35em; vertical-align: middle; margin-left: 0.5rem\">PERSON</span>\n",
              "</mark>\n",
              " had  fought off the zombie, \n",
              "<mark class=\"entity\" style=\"background: #aa9cfc; padding: 0.45em 0.6em; margin: 0 0.25em; line-height: 1; border-radius: 0.35em;\">\n",
              "    Quirrell\n",
              "    <span style=\"font-size: 0.8em; font-weight: bold; line-height: 1; border-radius: 0.35em; vertical-align: middle; margin-left: 0.5rem\">PERSON</span>\n",
              "</mark>\n",
              " went pink and started  talking about the weather; for another, they had  noticed that a funny smell hung around the turban,  and the \n",
              "<mark class=\"entity\" style=\"background: #aa9cfc; padding: 0.45em 0.6em; margin: 0 0.25em; line-height: 1; border-radius: 0.35em;\">\n",
              "    Weasley\n",
              "    <span style=\"font-size: 0.8em; font-weight: bold; line-height: 1; border-radius: 0.35em; vertical-align: middle; margin-left: 0.5rem\">PERSON</span>\n",
              "</mark>\n",
              " twins insisted that it was stuffed full  of garlic as well, so that \n",
              "<mark class=\"entity\" style=\"background: #aa9cfc; padding: 0.45em 0.6em; margin: 0 0.25em; line-height: 1; border-radius: 0.35em;\">\n",
              "    Quirrell\n",
              "    <span style=\"font-size: 0.8em; font-weight: bold; line-height: 1; border-radius: 0.35em; vertical-align: middle; margin-left: 0.5rem\">PERSON</span>\n",
              "</mark>\n",
              " was protected  wherever he went</div></span>"
            ]
          },
          "metadata": {}
        },
        {
          "output_type": "stream",
          "name": "stdout",
          "text": [
            "   All the same, it wasn’t what you’d call the perfect end  to the day, Harry thought, as he lay awake much later  listening to Dean and Seamus falling asleep (Neville  wasn’t back from the hospital wing)\n"
          ]
        },
        {
          "output_type": "display_data",
          "data": {
            "text/plain": [
              "<IPython.core.display.HTML object>"
            ],
            "text/html": [
              "<span class=\"tex2jax_ignore\"><div class=\"entities\" style=\"line-height: 2.5; direction: ltr\">   All the same, it wasn’t what you’d call the perfect end  to \n",
              "<mark class=\"entity\" style=\"background: #bfe1d9; padding: 0.45em 0.6em; margin: 0 0.25em; line-height: 1; border-radius: 0.35em;\">\n",
              "    the day\n",
              "    <span style=\"font-size: 0.8em; font-weight: bold; line-height: 1; border-radius: 0.35em; vertical-align: middle; margin-left: 0.5rem\">DATE</span>\n",
              "</mark>\n",
              ", \n",
              "<mark class=\"entity\" style=\"background: #aa9cfc; padding: 0.45em 0.6em; margin: 0 0.25em; line-height: 1; border-radius: 0.35em;\">\n",
              "    Harry\n",
              "    <span style=\"font-size: 0.8em; font-weight: bold; line-height: 1; border-radius: 0.35em; vertical-align: middle; margin-left: 0.5rem\">PERSON</span>\n",
              "</mark>\n",
              " thought, as he lay awake much later  listening to \n",
              "<mark class=\"entity\" style=\"background: #aa9cfc; padding: 0.45em 0.6em; margin: 0 0.25em; line-height: 1; border-radius: 0.35em;\">\n",
              "    Dean\n",
              "    <span style=\"font-size: 0.8em; font-weight: bold; line-height: 1; border-radius: 0.35em; vertical-align: middle; margin-left: 0.5rem\">PERSON</span>\n",
              "</mark>\n",
              " and \n",
              "<mark class=\"entity\" style=\"background: #aa9cfc; padding: 0.45em 0.6em; margin: 0 0.25em; line-height: 1; border-radius: 0.35em;\">\n",
              "    Seamus\n",
              "    <span style=\"font-size: 0.8em; font-weight: bold; line-height: 1; border-radius: 0.35em; vertical-align: middle; margin-left: 0.5rem\">PERSON</span>\n",
              "</mark>\n",
              " falling asleep (\n",
              "<mark class=\"entity\" style=\"background: #aa9cfc; padding: 0.45em 0.6em; margin: 0 0.25em; line-height: 1; border-radius: 0.35em;\">\n",
              "    Neville\n",
              "    <span style=\"font-size: 0.8em; font-weight: bold; line-height: 1; border-radius: 0.35em; vertical-align: middle; margin-left: 0.5rem\">PERSON</span>\n",
              "</mark>\n",
              "  wasn’t back from the hospital wing)</div></span>"
            ]
          },
          "metadata": {}
        },
        {
          "output_type": "stream",
          "name": "stdout",
          "text": [
            " “Can I have a frog? I might get Agrippa — thanks     Harry turned over his card and read:   ALBUS DUMBLEDORE   CURRENTLY HEADMASTER OF HOGWARTS   Considered by many the greatest wizard of modern  times, Dumbledore is particularly famous for his  defeat of the Dark wizard Grindelwald in 1945, for the  discovery of the twelve uses of dragon’s blood, and his  work on alchemy with his partner, Nicolas Flamel\n"
          ]
        },
        {
          "output_type": "display_data",
          "data": {
            "text/plain": [
              "<IPython.core.display.HTML object>"
            ],
            "text/html": [
              "<span class=\"tex2jax_ignore\"><div class=\"entities\" style=\"line-height: 2.5; direction: ltr\"> “Can I have a frog? I might get Agrippa — thanks     Harry turned over his card and read:   ALBUS DUMBLEDORE   CURRENTLY HEADMASTER OF \n",
              "<mark class=\"entity\" style=\"background: #7aecec; padding: 0.45em 0.6em; margin: 0 0.25em; line-height: 1; border-radius: 0.35em;\">\n",
              "    HOGWARTS\n",
              "    <span style=\"font-size: 0.8em; font-weight: bold; line-height: 1; border-radius: 0.35em; vertical-align: middle; margin-left: 0.5rem\">ORG</span>\n",
              "</mark>\n",
              "   Considered by many the greatest wizard of modern  times, Dumbledore is particularly famous for his  defeat of the Dark wizard \n",
              "<mark class=\"entity\" style=\"background: #aa9cfc; padding: 0.45em 0.6em; margin: 0 0.25em; line-height: 1; border-radius: 0.35em;\">\n",
              "    Grindelwald\n",
              "    <span style=\"font-size: 0.8em; font-weight: bold; line-height: 1; border-radius: 0.35em; vertical-align: middle; margin-left: 0.5rem\">PERSON</span>\n",
              "</mark>\n",
              " in \n",
              "<mark class=\"entity\" style=\"background: #bfe1d9; padding: 0.45em 0.6em; margin: 0 0.25em; line-height: 1; border-radius: 0.35em;\">\n",
              "    1945\n",
              "    <span style=\"font-size: 0.8em; font-weight: bold; line-height: 1; border-radius: 0.35em; vertical-align: middle; margin-left: 0.5rem\">DATE</span>\n",
              "</mark>\n",
              ", for the  discovery of the \n",
              "<mark class=\"entity\" style=\"background: #e4e7d2; padding: 0.45em 0.6em; margin: 0 0.25em; line-height: 1; border-radius: 0.35em;\">\n",
              "    twelve\n",
              "    <span style=\"font-size: 0.8em; font-weight: bold; line-height: 1; border-radius: 0.35em; vertical-align: middle; margin-left: 0.5rem\">CARDINAL</span>\n",
              "</mark>\n",
              " uses of dragon’s blood, and his  work on alchemy with his partner, \n",
              "<mark class=\"entity\" style=\"background: #aa9cfc; padding: 0.45em 0.6em; margin: 0 0.25em; line-height: 1; border-radius: 0.35em;\">\n",
              "    Nicolas Flamel\n",
              "    <span style=\"font-size: 0.8em; font-weight: bold; line-height: 1; border-radius: 0.35em; vertical-align: middle; margin-left: 0.5rem\">PERSON</span>\n",
              "</mark>\n",
              "</div></span>"
            ]
          },
          "metadata": {}
        },
        {
          "output_type": "stream",
          "name": "stdout",
          "text": [
            " You forget that dog, an’  you forget what it’s guardin’, that’s between Professor  Dumbledore an’ Nicolas Flamel — ■”   “Aha!” said Harry, “so there’s someone called Nicolas  Flamel involved, is there?”   Hagrid looked furious with himself\n"
          ]
        },
        {
          "output_type": "display_data",
          "data": {
            "text/plain": [
              "<IPython.core.display.HTML object>"
            ],
            "text/html": [
              "<span class=\"tex2jax_ignore\"><div class=\"entities\" style=\"line-height: 2.5; direction: ltr\"> You forget that dog, an’  you forget what it’s guardin’, that’s between Professor  Dumbledore an’ \n",
              "<mark class=\"entity\" style=\"background: #aa9cfc; padding: 0.45em 0.6em; margin: 0 0.25em; line-height: 1; border-radius: 0.35em;\">\n",
              "    Nicolas Flamel\n",
              "    <span style=\"font-size: 0.8em; font-weight: bold; line-height: 1; border-radius: 0.35em; vertical-align: middle; margin-left: 0.5rem\">PERSON</span>\n",
              "</mark>\n",
              " — ■”   “Aha!” said \n",
              "<mark class=\"entity\" style=\"background: #aa9cfc; padding: 0.45em 0.6em; margin: 0 0.25em; line-height: 1; border-radius: 0.35em;\">\n",
              "    Harry\n",
              "    <span style=\"font-size: 0.8em; font-weight: bold; line-height: 1; border-radius: 0.35em; vertical-align: middle; margin-left: 0.5rem\">PERSON</span>\n",
              "</mark>\n",
              ", “so there’s someone called \n",
              "<mark class=\"entity\" style=\"background: #aa9cfc; padding: 0.45em 0.6em; margin: 0 0.25em; line-height: 1; border-radius: 0.35em;\">\n",
              "    Nicolas  Flamel\n",
              "    <span style=\"font-size: 0.8em; font-weight: bold; line-height: 1; border-radius: 0.35em; vertical-align: middle; margin-left: 0.5rem\">PERSON</span>\n",
              "</mark>\n",
              " involved, is there?”   Hagrid looked furious with himself</div></span>"
            ]
          },
          "metadata": {}
        },
        {
          "output_type": "stream",
          "name": "stdout",
          "text": [
            " At the same time, Stan shouted, “Blimey!  Ern, come ’ere! Come ’ere!”   Harry looked up at the owner of the hand on his  shoulder and felt a bucketful of ice cascade into his  stomach — he had walked right into Cornelius Fudge,  the Minister of Magic himself\n"
          ]
        },
        {
          "output_type": "display_data",
          "data": {
            "text/plain": [
              "<IPython.core.display.HTML object>"
            ],
            "text/html": [
              "<span class=\"tex2jax_ignore\"><div class=\"entities\" style=\"line-height: 2.5; direction: ltr\"> At the same time, \n",
              "<mark class=\"entity\" style=\"background: #aa9cfc; padding: 0.45em 0.6em; margin: 0 0.25em; line-height: 1; border-radius: 0.35em;\">\n",
              "    Stan\n",
              "    <span style=\"font-size: 0.8em; font-weight: bold; line-height: 1; border-radius: 0.35em; vertical-align: middle; margin-left: 0.5rem\">PERSON</span>\n",
              "</mark>\n",
              " shouted, “Blimey!  Ern, come ’ere! Come ’ere!”   Harry looked up at the owner of the hand on his  shoulder and felt a bucketful of ice cascade into his  stomach — he had walked right into \n",
              "<mark class=\"entity\" style=\"background: #aa9cfc; padding: 0.45em 0.6em; margin: 0 0.25em; line-height: 1; border-radius: 0.35em;\">\n",
              "    Cornelius Fudge\n",
              "    <span style=\"font-size: 0.8em; font-weight: bold; line-height: 1; border-radius: 0.35em; vertical-align: middle; margin-left: 0.5rem\">PERSON</span>\n",
              "</mark>\n",
              ",  the Minister of Magic himself</div></span>"
            ]
          },
          "metadata": {}
        },
        {
          "output_type": "stream",
          "name": "stdout",
          "text": [
            "   Professors McGonagall and Flitwick had just entered  the pub with a flurry of snowflakes, shortly followed  by Hagrid, who was deep in conversation with a portly  man in a lime-green bowler hat and a pinstriped  cloak — Cornelius Fudge, Minister of Magic\n"
          ]
        },
        {
          "output_type": "display_data",
          "data": {
            "text/plain": [
              "<IPython.core.display.HTML object>"
            ],
            "text/html": [
              "<span class=\"tex2jax_ignore\"><div class=\"entities\" style=\"line-height: 2.5; direction: ltr\">   Professors McGonagall and \n",
              "<mark class=\"entity\" style=\"background: #aa9cfc; padding: 0.45em 0.6em; margin: 0 0.25em; line-height: 1; border-radius: 0.35em;\">\n",
              "    Flitwick\n",
              "    <span style=\"font-size: 0.8em; font-weight: bold; line-height: 1; border-radius: 0.35em; vertical-align: middle; margin-left: 0.5rem\">PERSON</span>\n",
              "</mark>\n",
              " had just entered  the pub with a flurry of snowflakes, shortly followed  by Hagrid, who was deep in conversation with a portly  man in a lime-green bowler hat and a pinstriped  cloak — \n",
              "<mark class=\"entity\" style=\"background: #aa9cfc; padding: 0.45em 0.6em; margin: 0 0.25em; line-height: 1; border-radius: 0.35em;\">\n",
              "    Cornelius Fudge\n",
              "    <span style=\"font-size: 0.8em; font-weight: bold; line-height: 1; border-radius: 0.35em; vertical-align: middle; margin-left: 0.5rem\">PERSON</span>\n",
              "</mark>\n",
              ", Minister of \n",
              "<mark class=\"entity\" style=\"background: #7aecec; padding: 0.45em 0.6em; margin: 0 0.25em; line-height: 1; border-radius: 0.35em;\">\n",
              "    Magic\n",
              "    <span style=\"font-size: 0.8em; font-weight: bold; line-height: 1; border-radius: 0.35em; vertical-align: middle; margin-left: 0.5rem\">ORG</span>\n",
              "</mark>\n",
              "</div></span>"
            ]
          },
          "metadata": {}
        },
        {
          "output_type": "stream",
          "name": "stdout",
          "text": [
            "   Scabbers the rat was hanging off his finger, sharp  little teeth sunk deep into Goyle ’s knuckle — Crabbe  and Malfoy backed away as Goyle swung Scabbers  round and round, howling, and when Scabbers finally  flew off and hit the window, all three of them  disappeared at once\n"
          ]
        },
        {
          "output_type": "display_data",
          "data": {
            "text/plain": [
              "<IPython.core.display.HTML object>"
            ],
            "text/html": [
              "<span class=\"tex2jax_ignore\"><div class=\"entities\" style=\"line-height: 2.5; direction: ltr\">   Scabbers the rat was hanging off his finger, sharp  little teeth sunk deep into \n",
              "<mark class=\"entity\" style=\"background: #aa9cfc; padding: 0.45em 0.6em; margin: 0 0.25em; line-height: 1; border-radius: 0.35em;\">\n",
              "    Goyle\n",
              "    <span style=\"font-size: 0.8em; font-weight: bold; line-height: 1; border-radius: 0.35em; vertical-align: middle; margin-left: 0.5rem\">PERSON</span>\n",
              "</mark>\n",
              " ’s knuckle — Crabbe  and \n",
              "<mark class=\"entity\" style=\"background: #aa9cfc; padding: 0.45em 0.6em; margin: 0 0.25em; line-height: 1; border-radius: 0.35em;\">\n",
              "    Malfoy\n",
              "    <span style=\"font-size: 0.8em; font-weight: bold; line-height: 1; border-radius: 0.35em; vertical-align: middle; margin-left: 0.5rem\">PERSON</span>\n",
              "</mark>\n",
              " backed away as \n",
              "<mark class=\"entity\" style=\"background: #aa9cfc; padding: 0.45em 0.6em; margin: 0 0.25em; line-height: 1; border-radius: 0.35em;\">\n",
              "    Goyle\n",
              "    <span style=\"font-size: 0.8em; font-weight: bold; line-height: 1; border-radius: 0.35em; vertical-align: middle; margin-left: 0.5rem\">PERSON</span>\n",
              "</mark>\n",
              " swung Scabbers  round and round, howling, and when Scabbers finally  flew off and hit the window, all \n",
              "<mark class=\"entity\" style=\"background: #e4e7d2; padding: 0.45em 0.6em; margin: 0 0.25em; line-height: 1; border-radius: 0.35em;\">\n",
              "    three\n",
              "    <span style=\"font-size: 0.8em; font-weight: bold; line-height: 1; border-radius: 0.35em; vertical-align: middle; margin-left: 0.5rem\">CARDINAL</span>\n",
              "</mark>\n",
              " of them  disappeared at once</div></span>"
            ]
          },
          "metadata": {}
        },
        {
          "output_type": "stream",
          "name": "stdout",
          "text": [
            "”   Malfoy swaggered forward when his name was called  and got his wish at once: the hat had barely touched  his head when it screamed, “SLYTHERIN!”   Malfoy went to join his friends Crabbe and Goyle,  looking pleased with himself\n"
          ]
        },
        {
          "output_type": "display_data",
          "data": {
            "text/plain": [
              "<IPython.core.display.HTML object>"
            ],
            "text/html": [
              "<span class=\"tex2jax_ignore\"><div class=\"entities\" style=\"line-height: 2.5; direction: ltr\">”   Malfoy swaggered forward when his name was called  and got his wish at once: the hat had barely touched  his head when it screamed, “SLYTHERIN!”   Malfoy went to join his friends \n",
              "<mark class=\"entity\" style=\"background: #aa9cfc; padding: 0.45em 0.6em; margin: 0 0.25em; line-height: 1; border-radius: 0.35em;\">\n",
              "    Crabbe\n",
              "    <span style=\"font-size: 0.8em; font-weight: bold; line-height: 1; border-radius: 0.35em; vertical-align: middle; margin-left: 0.5rem\">PERSON</span>\n",
              "</mark>\n",
              " and \n",
              "<mark class=\"entity\" style=\"background: #aa9cfc; padding: 0.45em 0.6em; margin: 0 0.25em; line-height: 1; border-radius: 0.35em;\">\n",
              "    Goyle\n",
              "    <span style=\"font-size: 0.8em; font-weight: bold; line-height: 1; border-radius: 0.35em; vertical-align: middle; margin-left: 0.5rem\">PERSON</span>\n",
              "</mark>\n",
              ",  looking pleased with himself</div></span>"
            ]
          },
          "metadata": {}
        },
        {
          "output_type": "stream",
          "name": "stdout",
          "text": [
            " Nobody in  my family’s magic at all, it was ever such a surprise  when I got my letter, but I was ever so pleased, of  course, I mean, it’s the very best school of witchcraft  there is, I’ve heard — I’ve learned all our course books  by heart, of course, I just hope it will be enough — I’m  Hermione Granger, by the way, who are you?”   She said all this very fast\n"
          ]
        },
        {
          "output_type": "display_data",
          "data": {
            "text/plain": [
              "<IPython.core.display.HTML object>"
            ],
            "text/html": [
              "<span class=\"tex2jax_ignore\"><div class=\"entities\" style=\"line-height: 2.5; direction: ltr\"> Nobody in  my family’s magic at all, it was ever such a surprise  when I got my letter, but I was ever so pleased, of  course, I mean, it’s the very best school of witchcraft  there is, I’ve heard — I’ve learned all our course books  by heart, of course, I just hope it will be enough — I’m  \n",
              "<mark class=\"entity\" style=\"background: #aa9cfc; padding: 0.45em 0.6em; margin: 0 0.25em; line-height: 1; border-radius: 0.35em;\">\n",
              "    Hermione Granger\n",
              "    <span style=\"font-size: 0.8em; font-weight: bold; line-height: 1; border-radius: 0.35em; vertical-align: middle; margin-left: 0.5rem\">PERSON</span>\n",
              "</mark>\n",
              ", by the way, who are you?”   She said all this very fast</div></span>"
            ]
          },
          "metadata": {}
        },
        {
          "output_type": "stream",
          "name": "stdout",
          "text": [
            "”   On Harry’s other side, Percy Weasley and Hermione  were talking about lessons (“I do hope they start right  away, there’s so much to learn, I’m particularly  interested in Transfiguration, you know, turning  something into something else, of course, it’s  supposed to be very difficult — “You’ll be starting  small, just matches into needles and that sort of  thing — ”)\n"
          ]
        },
        {
          "output_type": "display_data",
          "data": {
            "text/plain": [
              "<IPython.core.display.HTML object>"
            ],
            "text/html": [
              "<span class=\"tex2jax_ignore\"><div class=\"entities\" style=\"line-height: 2.5; direction: ltr\">”   On Harry’s other side, \n",
              "<mark class=\"entity\" style=\"background: #aa9cfc; padding: 0.45em 0.6em; margin: 0 0.25em; line-height: 1; border-radius: 0.35em;\">\n",
              "    Percy Weasley\n",
              "    <span style=\"font-size: 0.8em; font-weight: bold; line-height: 1; border-radius: 0.35em; vertical-align: middle; margin-left: 0.5rem\">PERSON</span>\n",
              "</mark>\n",
              " and \n",
              "<mark class=\"entity\" style=\"background: #aa9cfc; padding: 0.45em 0.6em; margin: 0 0.25em; line-height: 1; border-radius: 0.35em;\">\n",
              "    Hermione\n",
              "    <span style=\"font-size: 0.8em; font-weight: bold; line-height: 1; border-radius: 0.35em; vertical-align: middle; margin-left: 0.5rem\">PERSON</span>\n",
              "</mark>\n",
              "  were talking about lessons (“I do hope they start right  away, there’s so much to learn, I’m particularly  interested in Transfiguration, you know, turning  something into something else, of course, it’s  supposed to be very difficult — “You’ll be starting  small, just matches into needles and that sort of  thing — ”)</div></span>"
            ]
          },
          "metadata": {}
        },
        {
          "output_type": "stream",
          "name": "stdout",
          "text": [
            " “But I c-c-  can’t stand it — Lily an’ James dead — an’ poor little  Harry off ter live with Muggles — ”   “Yes, yes, it’s all very sad, but get a grip on yourself,  Hagrid, or we’ll be found,” Professor McGonagall  whispered, patting Hagrid gingerly on the arm as  Dumbledore stepped over the low garden wall and  walked to the front door\n"
          ]
        },
        {
          "output_type": "display_data",
          "data": {
            "text/plain": [
              "<IPython.core.display.HTML object>"
            ],
            "text/html": [
              "<span class=\"tex2jax_ignore\"><div class=\"entities\" style=\"line-height: 2.5; direction: ltr\"> “But I c-c-  can’t stand it — Lily an’ James dead — an’ poor little  Harry off ter live with Muggles — ”   “Yes, yes, it’s all very sad, but get a grip on yourself,  Hagrid, or we’ll be found,” Professor \n",
              "<mark class=\"entity\" style=\"background: #aa9cfc; padding: 0.45em 0.6em; margin: 0 0.25em; line-height: 1; border-radius: 0.35em;\">\n",
              "    McGonagall\n",
              "    <span style=\"font-size: 0.8em; font-weight: bold; line-height: 1; border-radius: 0.35em; vertical-align: middle; margin-left: 0.5rem\">PERSON</span>\n",
              "</mark>\n",
              "  whispered, patting Hagrid gingerly on the arm as  Dumbledore stepped over the low garden wall and  walked to the front door</div></span>"
            ]
          },
          "metadata": {}
        },
        {
          "output_type": "stream",
          "name": "stdout",
          "text": [
            " For a full minute the three of them stood  and looked at the little bundle; Hagrid’s shoulders  shook, Professor McGonagall blinked furiously, and  the twinkling light that usually shone from  Dumbledore’s eyes seemed to have gone out\n"
          ]
        },
        {
          "output_type": "display_data",
          "data": {
            "text/plain": [
              "<IPython.core.display.HTML object>"
            ],
            "text/html": [
              "<span class=\"tex2jax_ignore\"><div class=\"entities\" style=\"line-height: 2.5; direction: ltr\"> For \n",
              "<mark class=\"entity\" style=\"background: #bfe1d9; padding: 0.45em 0.6em; margin: 0 0.25em; line-height: 1; border-radius: 0.35em;\">\n",
              "    a full minute\n",
              "    <span style=\"font-size: 0.8em; font-weight: bold; line-height: 1; border-radius: 0.35em; vertical-align: middle; margin-left: 0.5rem\">TIME</span>\n",
              "</mark>\n",
              " the \n",
              "<mark class=\"entity\" style=\"background: #e4e7d2; padding: 0.45em 0.6em; margin: 0 0.25em; line-height: 1; border-radius: 0.35em;\">\n",
              "    three\n",
              "    <span style=\"font-size: 0.8em; font-weight: bold; line-height: 1; border-radius: 0.35em; vertical-align: middle; margin-left: 0.5rem\">CARDINAL</span>\n",
              "</mark>\n",
              " of them stood  and looked at the little bundle; Hagrid’s shoulders  shook, Professor \n",
              "<mark class=\"entity\" style=\"background: #aa9cfc; padding: 0.45em 0.6em; margin: 0 0.25em; line-height: 1; border-radius: 0.35em;\">\n",
              "    McGonagall\n",
              "    <span style=\"font-size: 0.8em; font-weight: bold; line-height: 1; border-radius: 0.35em; vertical-align: middle; margin-left: 0.5rem\">PERSON</span>\n",
              "</mark>\n",
              " blinked furiously, and  the twinkling light that usually shone from  Dumbledore’s eyes seemed to have gone out</div></span>"
            ]
          },
          "metadata": {}
        },
        {
          "output_type": "stream",
          "name": "stdout",
          "text": [
            " Rowling      Karkaroff had a fruity, unctuous voice; when he  stepped into the light pouring from the front doors of  the castle they saw that he was tall and thin like  Dumbledore, but his white hair was short, and his  goatee (finishing in a small curl) did not entirely hide  his rather weak chin\n"
          ]
        },
        {
          "output_type": "display_data",
          "data": {
            "text/plain": [
              "<IPython.core.display.HTML object>"
            ],
            "text/html": [
              "<span class=\"tex2jax_ignore\"><div class=\"entities\" style=\"line-height: 2.5; direction: ltr\"> \n",
              "<mark class=\"entity\" style=\"background: #aa9cfc; padding: 0.45em 0.6em; margin: 0 0.25em; line-height: 1; border-radius: 0.35em;\">\n",
              "    Rowling      \n",
              "    <span style=\"font-size: 0.8em; font-weight: bold; line-height: 1; border-radius: 0.35em; vertical-align: middle; margin-left: 0.5rem\">PERSON</span>\n",
              "</mark>\n",
              "\n",
              "<mark class=\"entity\" style=\"background: #7aecec; padding: 0.45em 0.6em; margin: 0 0.25em; line-height: 1; border-radius: 0.35em;\">\n",
              "    Karkaroff\n",
              "    <span style=\"font-size: 0.8em; font-weight: bold; line-height: 1; border-radius: 0.35em; vertical-align: middle; margin-left: 0.5rem\">ORG</span>\n",
              "</mark>\n",
              " had a fruity, unctuous voice; when he  stepped into the light pouring from the front doors of  the castle they saw that he was tall and thin like  Dumbledore, but his white hair was short, and his  goatee (finishing in a small curl) did not entirely hide  his rather weak chin</div></span>"
            ]
          },
          "metadata": {}
        },
        {
          "output_type": "stream",
          "name": "stdout",
          "text": [
            "   “Mr Bagman and Mr Crouch have worked tirelessly  over the last few months on the arrangements for the  Triwizard Tournament,” Dumbledore continued, “and  they will be joining myself, Professor Karkaroff, and  Madame Maxime on the panel that will judge the  champions’ efforts\n"
          ]
        },
        {
          "output_type": "display_data",
          "data": {
            "text/plain": [
              "<IPython.core.display.HTML object>"
            ],
            "text/html": [
              "<span class=\"tex2jax_ignore\"><div class=\"entities\" style=\"line-height: 2.5; direction: ltr\">   “Mr Bagman and Mr \n",
              "<mark class=\"entity\" style=\"background: #aa9cfc; padding: 0.45em 0.6em; margin: 0 0.25em; line-height: 1; border-radius: 0.35em;\">\n",
              "    Crouch\n",
              "    <span style=\"font-size: 0.8em; font-weight: bold; line-height: 1; border-radius: 0.35em; vertical-align: middle; margin-left: 0.5rem\">PERSON</span>\n",
              "</mark>\n",
              " have worked tirelessly  over \n",
              "<mark class=\"entity\" style=\"background: #bfe1d9; padding: 0.45em 0.6em; margin: 0 0.25em; line-height: 1; border-radius: 0.35em;\">\n",
              "    the last few months\n",
              "    <span style=\"font-size: 0.8em; font-weight: bold; line-height: 1; border-radius: 0.35em; vertical-align: middle; margin-left: 0.5rem\">DATE</span>\n",
              "</mark>\n",
              " on the arrangements for the  \n",
              "<mark class=\"entity\" style=\"background: #bfeeb7; padding: 0.45em 0.6em; margin: 0 0.25em; line-height: 1; border-radius: 0.35em;\">\n",
              "    Triwizard Tournament\n",
              "    <span style=\"font-size: 0.8em; font-weight: bold; line-height: 1; border-radius: 0.35em; vertical-align: middle; margin-left: 0.5rem\">PRODUCT</span>\n",
              "</mark>\n",
              ",” Dumbledore continued, “and  they will be joining myself, Professor \n",
              "<mark class=\"entity\" style=\"background: #aa9cfc; padding: 0.45em 0.6em; margin: 0 0.25em; line-height: 1; border-radius: 0.35em;\">\n",
              "    Karkaroff\n",
              "    <span style=\"font-size: 0.8em; font-weight: bold; line-height: 1; border-radius: 0.35em; vertical-align: middle; margin-left: 0.5rem\">PERSON</span>\n",
              "</mark>\n",
              ", and  Madame \n",
              "<mark class=\"entity\" style=\"background: #aa9cfc; padding: 0.45em 0.6em; margin: 0 0.25em; line-height: 1; border-radius: 0.35em;\">\n",
              "    Maxime\n",
              "    <span style=\"font-size: 0.8em; font-weight: bold; line-height: 1; border-radius: 0.35em; vertical-align: middle; margin-left: 0.5rem\">PERSON</span>\n",
              "</mark>\n",
              " on the panel that will judge the  champions’ efforts</div></span>"
            ]
          },
          "metadata": {}
        },
        {
          "output_type": "stream",
          "name": "stdout",
          "text": [
            "   One hundred thousand wizards gasped as the two  Seekers, Krum and Lynch, plummeted through the  center of the Chasers, so fast that it looked as though  they had just jumped from airplanes without  parachutes\n"
          ]
        },
        {
          "output_type": "display_data",
          "data": {
            "text/plain": [
              "<IPython.core.display.HTML object>"
            ],
            "text/html": [
              "<span class=\"tex2jax_ignore\"><div class=\"entities\" style=\"line-height: 2.5; direction: ltr\">   \n",
              "<mark class=\"entity\" style=\"background: #e4e7d2; padding: 0.45em 0.6em; margin: 0 0.25em; line-height: 1; border-radius: 0.35em;\">\n",
              "    One hundred thousand\n",
              "    <span style=\"font-size: 0.8em; font-weight: bold; line-height: 1; border-radius: 0.35em; vertical-align: middle; margin-left: 0.5rem\">CARDINAL</span>\n",
              "</mark>\n",
              " wizards gasped as the \n",
              "<mark class=\"entity\" style=\"background: #e4e7d2; padding: 0.45em 0.6em; margin: 0 0.25em; line-height: 1; border-radius: 0.35em;\">\n",
              "    two\n",
              "    <span style=\"font-size: 0.8em; font-weight: bold; line-height: 1; border-radius: 0.35em; vertical-align: middle; margin-left: 0.5rem\">CARDINAL</span>\n",
              "</mark>\n",
              "  Seekers, \n",
              "<mark class=\"entity\" style=\"background: #7aecec; padding: 0.45em 0.6em; margin: 0 0.25em; line-height: 1; border-radius: 0.35em;\">\n",
              "    Krum\n",
              "    <span style=\"font-size: 0.8em; font-weight: bold; line-height: 1; border-radius: 0.35em; vertical-align: middle; margin-left: 0.5rem\">ORG</span>\n",
              "</mark>\n",
              " and \n",
              "<mark class=\"entity\" style=\"background: #feca74; padding: 0.45em 0.6em; margin: 0 0.25em; line-height: 1; border-radius: 0.35em;\">\n",
              "    Lynch\n",
              "    <span style=\"font-size: 0.8em; font-weight: bold; line-height: 1; border-radius: 0.35em; vertical-align: middle; margin-left: 0.5rem\">GPE</span>\n",
              "</mark>\n",
              ", plummeted through the  center of the \n",
              "<mark class=\"entity\" style=\"background: #bfeeb7; padding: 0.45em 0.6em; margin: 0 0.25em; line-height: 1; border-radius: 0.35em;\">\n",
              "    Chasers\n",
              "    <span style=\"font-size: 0.8em; font-weight: bold; line-height: 1; border-radius: 0.35em; vertical-align: middle; margin-left: 0.5rem\">PRODUCT</span>\n",
              "</mark>\n",
              ", so fast that it looked as though  they had just jumped from airplanes without  parachutes</div></span>"
            ]
          },
          "metadata": {}
        },
        {
          "output_type": "stream",
          "name": "stdout",
          "text": [
            " “Krum was feinting!”   “It’s time-out!” yelled Bagman’s voice, “as trained  mediwizards hurry onto the field to examine Aidan  Lynch!”         “He’ll be okay, he only got ploughed!” Charlie said  reassuringly to Ginny, who was hanging over the side  of the box, looking horror-struck\n"
          ]
        },
        {
          "output_type": "display_data",
          "data": {
            "text/plain": [
              "<IPython.core.display.HTML object>"
            ],
            "text/html": [
              "<span class=\"tex2jax_ignore\"><div class=\"entities\" style=\"line-height: 2.5; direction: ltr\"> “Krum was feinting!”   “It’s time-out!” yelled \n",
              "<mark class=\"entity\" style=\"background: #aa9cfc; padding: 0.45em 0.6em; margin: 0 0.25em; line-height: 1; border-radius: 0.35em;\">\n",
              "    Bagman\n",
              "    <span style=\"font-size: 0.8em; font-weight: bold; line-height: 1; border-radius: 0.35em; vertical-align: middle; margin-left: 0.5rem\">PERSON</span>\n",
              "</mark>\n",
              "’s voice, “as trained  mediwizards hurry onto the field to examine \n",
              "<mark class=\"entity\" style=\"background: #aa9cfc; padding: 0.45em 0.6em; margin: 0 0.25em; line-height: 1; border-radius: 0.35em;\">\n",
              "    Aidan\n",
              "    <span style=\"font-size: 0.8em; font-weight: bold; line-height: 1; border-radius: 0.35em; vertical-align: middle; margin-left: 0.5rem\">PERSON</span>\n",
              "</mark>\n",
              "  Lynch!”         “He’ll be okay, he only got ploughed!” \n",
              "<mark class=\"entity\" style=\"background: #aa9cfc; padding: 0.45em 0.6em; margin: 0 0.25em; line-height: 1; border-radius: 0.35em;\">\n",
              "    Charlie\n",
              "    <span style=\"font-size: 0.8em; font-weight: bold; line-height: 1; border-radius: 0.35em; vertical-align: middle; margin-left: 0.5rem\">PERSON</span>\n",
              "</mark>\n",
              " said  reassuringly to \n",
              "<mark class=\"entity\" style=\"background: #aa9cfc; padding: 0.45em 0.6em; margin: 0 0.25em; line-height: 1; border-radius: 0.35em;\">\n",
              "    Ginny\n",
              "    <span style=\"font-size: 0.8em; font-weight: bold; line-height: 1; border-radius: 0.35em; vertical-align: middle; margin-left: 0.5rem\">PERSON</span>\n",
              "</mark>\n",
              ", who was hanging over the side  of the box, looking horror-struck</div></span>"
            ]
          },
          "metadata": {}
        },
        {
          "output_type": "stream",
          "name": "stdout",
          "text": [
            " Rowling      And Harry remembered: He had seen Bellatrix  Lestrange inside Dumbledore’s Pensieve, the strange  device in which thoughts and memories could be  stored: a tall dark woman with heavy-lidded eyes,  who had stood at her trial and proclaimed her  continuing allegiance to Lord Voldemort, her pride  that she had tried to find him after his downfall and  her conviction that she would one day be rewarded  for her loyalty\n"
          ]
        },
        {
          "output_type": "display_data",
          "data": {
            "text/plain": [
              "<IPython.core.display.HTML object>"
            ],
            "text/html": [
              "<span class=\"tex2jax_ignore\"><div class=\"entities\" style=\"line-height: 2.5; direction: ltr\"> \n",
              "<mark class=\"entity\" style=\"background: #aa9cfc; padding: 0.45em 0.6em; margin: 0 0.25em; line-height: 1; border-radius: 0.35em;\">\n",
              "    Rowling      \n",
              "    <span style=\"font-size: 0.8em; font-weight: bold; line-height: 1; border-radius: 0.35em; vertical-align: middle; margin-left: 0.5rem\">PERSON</span>\n",
              "</mark>\n",
              "And \n",
              "<mark class=\"entity\" style=\"background: #aa9cfc; padding: 0.45em 0.6em; margin: 0 0.25em; line-height: 1; border-radius: 0.35em;\">\n",
              "    Harry\n",
              "    <span style=\"font-size: 0.8em; font-weight: bold; line-height: 1; border-radius: 0.35em; vertical-align: middle; margin-left: 0.5rem\">PERSON</span>\n",
              "</mark>\n",
              " remembered: He had seen \n",
              "<mark class=\"entity\" style=\"background: #aa9cfc; padding: 0.45em 0.6em; margin: 0 0.25em; line-height: 1; border-radius: 0.35em;\">\n",
              "    Bellatrix\n",
              "    <span style=\"font-size: 0.8em; font-weight: bold; line-height: 1; border-radius: 0.35em; vertical-align: middle; margin-left: 0.5rem\">PERSON</span>\n",
              "</mark>\n",
              "  \n",
              "<mark class=\"entity\" style=\"background: #bfeeb7; padding: 0.45em 0.6em; margin: 0 0.25em; line-height: 1; border-radius: 0.35em;\">\n",
              "    Lestrange\n",
              "    <span style=\"font-size: 0.8em; font-weight: bold; line-height: 1; border-radius: 0.35em; vertical-align: middle; margin-left: 0.5rem\">PRODUCT</span>\n",
              "</mark>\n",
              " inside \n",
              "<mark class=\"entity\" style=\"background: #f0d0ff; padding: 0.45em 0.6em; margin: 0 0.25em; line-height: 1; border-radius: 0.35em;\">\n",
              "    Dumbledore’s Pensieve\n",
              "    <span style=\"font-size: 0.8em; font-weight: bold; line-height: 1; border-radius: 0.35em; vertical-align: middle; margin-left: 0.5rem\">WORK_OF_ART</span>\n",
              "</mark>\n",
              ", the strange  device in which thoughts and memories could be  stored: a tall dark woman with heavy-lidded eyes,  who had stood at her trial and proclaimed her  continuing allegiance to Lord \n",
              "<mark class=\"entity\" style=\"background: #aa9cfc; padding: 0.45em 0.6em; margin: 0 0.25em; line-height: 1; border-radius: 0.35em;\">\n",
              "    Voldemort\n",
              "    <span style=\"font-size: 0.8em; font-weight: bold; line-height: 1; border-radius: 0.35em; vertical-align: middle; margin-left: 0.5rem\">PERSON</span>\n",
              "</mark>\n",
              ", her pride  that she had tried to find him after his downfall and  her conviction that she would one day be rewarded  for her loyalty</div></span>"
            ]
          },
          "metadata": {}
        },
        {
          "output_type": "stream",
          "name": "stdout",
          "text": [
            " Their glass  might be shattered, but still the little black-and-white  people inside them peered haughtily up at him,  including — he felt a little jolt in his stomach — the  dark, heavy-lidded woman whose trial he had  witnessed in Dumbledore’s Pensieve: Bellatrix  Lestrange\n"
          ]
        },
        {
          "output_type": "display_data",
          "data": {
            "text/plain": [
              "<IPython.core.display.HTML object>"
            ],
            "text/html": [
              "<span class=\"tex2jax_ignore\"><div class=\"entities\" style=\"line-height: 2.5; direction: ltr\"> Their glass  might be shattered, but still the little black-and-white  people inside them peered haughtily up at him,  including — he felt a little jolt in his stomach — the  dark, heavy-lidded woman whose trial he had  witnessed in \n",
              "<mark class=\"entity\" style=\"background: #f0d0ff; padding: 0.45em 0.6em; margin: 0 0.25em; line-height: 1; border-radius: 0.35em;\">\n",
              "    Dumbledore’s Pensieve:\n",
              "    <span style=\"font-size: 0.8em; font-weight: bold; line-height: 1; border-radius: 0.35em; vertical-align: middle; margin-left: 0.5rem\">WORK_OF_ART</span>\n",
              "</mark>\n",
              " \n",
              "<mark class=\"entity\" style=\"background: #aa9cfc; padding: 0.45em 0.6em; margin: 0 0.25em; line-height: 1; border-radius: 0.35em;\">\n",
              "    Bellatrix\n",
              "    <span style=\"font-size: 0.8em; font-weight: bold; line-height: 1; border-radius: 0.35em; vertical-align: middle; margin-left: 0.5rem\">PERSON</span>\n",
              "</mark>\n",
              "  \n",
              "<mark class=\"entity\" style=\"background: #7aecec; padding: 0.45em 0.6em; margin: 0 0.25em; line-height: 1; border-radius: 0.35em;\">\n",
              "    Lestrange\n",
              "    <span style=\"font-size: 0.8em; font-weight: bold; line-height: 1; border-radius: 0.35em; vertical-align: middle; margin-left: 0.5rem\">ORG</span>\n",
              "</mark>\n",
              "</div></span>"
            ]
          },
          "metadata": {}
        },
        {
          "output_type": "stream",
          "name": "stdout",
          "text": [
            " That’s Frank and  Alice Longbottom — ”   Harry’s stomach, already uncomfortable, clenched as  he looked at Alice Longbottom; he knew her round,  friendly face very well, even though he had never met  her, because she was the image of her son, Neville\n"
          ]
        },
        {
          "output_type": "display_data",
          "data": {
            "text/plain": [
              "<IPython.core.display.HTML object>"
            ],
            "text/html": [
              "<span class=\"tex2jax_ignore\"><div class=\"entities\" style=\"line-height: 2.5; direction: ltr\"> That’s \n",
              "<mark class=\"entity\" style=\"background: #aa9cfc; padding: 0.45em 0.6em; margin: 0 0.25em; line-height: 1; border-radius: 0.35em;\">\n",
              "    Frank\n",
              "    <span style=\"font-size: 0.8em; font-weight: bold; line-height: 1; border-radius: 0.35em; vertical-align: middle; margin-left: 0.5rem\">PERSON</span>\n",
              "</mark>\n",
              " and  \n",
              "<mark class=\"entity\" style=\"background: #aa9cfc; padding: 0.45em 0.6em; margin: 0 0.25em; line-height: 1; border-radius: 0.35em;\">\n",
              "    Alice Longbottom\n",
              "    <span style=\"font-size: 0.8em; font-weight: bold; line-height: 1; border-radius: 0.35em; vertical-align: middle; margin-left: 0.5rem\">PERSON</span>\n",
              "</mark>\n",
              " — ”   Harry’s stomach, already uncomfortable, clenched as  he looked at \n",
              "<mark class=\"entity\" style=\"background: #aa9cfc; padding: 0.45em 0.6em; margin: 0 0.25em; line-height: 1; border-radius: 0.35em;\">\n",
              "    Alice Longbottom\n",
              "    <span style=\"font-size: 0.8em; font-weight: bold; line-height: 1; border-radius: 0.35em; vertical-align: middle; margin-left: 0.5rem\">PERSON</span>\n",
              "</mark>\n",
              "; he knew her round,  friendly face very well, even though he had never met  her, because she was the image of her son, \n",
              "<mark class=\"entity\" style=\"background: #aa9cfc; padding: 0.45em 0.6em; margin: 0 0.25em; line-height: 1; border-radius: 0.35em;\">\n",
              "    Neville\n",
              "    <span style=\"font-size: 0.8em; font-weight: bold; line-height: 1; border-radius: 0.35em; vertical-align: middle; margin-left: 0.5rem\">PERSON</span>\n",
              "</mark>\n",
              "</div></span>"
            ]
          },
          "metadata": {}
        },
        {
          "output_type": "stream",
          "name": "stdout",
          "text": [
            " The four of you stand accused of  capturing an Auror — Frank Longbottom — and  subjecting him to the Cruciatus Curse, believing him  to have knowledge of the present whereabouts of your  exiled master, He-Who-Must-Not-Be-Named — ”   “Father, I didn’t!” shrieked the boy in chains below\n"
          ]
        },
        {
          "output_type": "display_data",
          "data": {
            "text/plain": [
              "<IPython.core.display.HTML object>"
            ],
            "text/html": [
              "<span class=\"tex2jax_ignore\"><div class=\"entities\" style=\"line-height: 2.5; direction: ltr\"> The \n",
              "<mark class=\"entity\" style=\"background: #e4e7d2; padding: 0.45em 0.6em; margin: 0 0.25em; line-height: 1; border-radius: 0.35em;\">\n",
              "    four\n",
              "    <span style=\"font-size: 0.8em; font-weight: bold; line-height: 1; border-radius: 0.35em; vertical-align: middle; margin-left: 0.5rem\">CARDINAL</span>\n",
              "</mark>\n",
              " of you stand accused of  capturing an Auror — \n",
              "<mark class=\"entity\" style=\"background: #aa9cfc; padding: 0.45em 0.6em; margin: 0 0.25em; line-height: 1; border-radius: 0.35em;\">\n",
              "    Frank Longbottom\n",
              "    <span style=\"font-size: 0.8em; font-weight: bold; line-height: 1; border-radius: 0.35em; vertical-align: middle; margin-left: 0.5rem\">PERSON</span>\n",
              "</mark>\n",
              " — and  subjecting him to the Cruciatus Curse, believing him  to have knowledge of the present whereabouts of your  exiled master, He-Who-Must-Not-Be-Named — ”   “Father, I didn’t!” shrieked the boy in chains below</div></span>"
            ]
          },
          "metadata": {}
        },
        {
          "output_type": "stream",
          "name": "stdout",
          "text": [
            " “I  didn’t, I swear it, Father, don’t send me back to the  dementors — ”   “You are further accused,” bellowed Mr Crouch, “of  using the Cruciatus Curse on Frank Longbottom’s  wife, when he would not give you information\n"
          ]
        },
        {
          "output_type": "display_data",
          "data": {
            "text/plain": [
              "<IPython.core.display.HTML object>"
            ],
            "text/html": [
              "<span class=\"tex2jax_ignore\"><div class=\"entities\" style=\"line-height: 2.5; direction: ltr\"> “I  didn’t, I swear it, Father, don’t send me back to the  dementors — ”   “You are further accused,” bellowed \n",
              "<mark class=\"entity\" style=\"background: #aa9cfc; padding: 0.45em 0.6em; margin: 0 0.25em; line-height: 1; border-radius: 0.35em;\">\n",
              "    Mr Crouch\n",
              "    <span style=\"font-size: 0.8em; font-weight: bold; line-height: 1; border-radius: 0.35em; vertical-align: middle; margin-left: 0.5rem\">PERSON</span>\n",
              "</mark>\n",
              ", “of  using the Cruciatus Curse on \n",
              "<mark class=\"entity\" style=\"background: #aa9cfc; padding: 0.45em 0.6em; margin: 0 0.25em; line-height: 1; border-radius: 0.35em;\">\n",
              "    Frank Longbottom\n",
              "    <span style=\"font-size: 0.8em; font-weight: bold; line-height: 1; border-radius: 0.35em; vertical-align: middle; margin-left: 0.5rem\">PERSON</span>\n",
              "</mark>\n",
              "’s  wife, when he would not give you information</div></span>"
            ]
          },
          "metadata": {}
        },
        {
          "output_type": "stream",
          "name": "stdout",
          "text": [
            " What if he  wasn’t chosen at all? What if he just sat there with  the hat over his eyes for ages, until Professor  McGonagall jerked it off his head and said there had  obviously been a mistake and he’d better get back on  the train?   When Neville Longbottom, the boy who kept losing his  toad, was called, he fell over on his way to the stool\n"
          ]
        },
        {
          "output_type": "display_data",
          "data": {
            "text/plain": [
              "<IPython.core.display.HTML object>"
            ],
            "text/html": [
              "<span class=\"tex2jax_ignore\"><div class=\"entities\" style=\"line-height: 2.5; direction: ltr\"> What if he  wasn’t chosen at all? What if he just sat there with  the hat over his eyes for ages, until Professor  McGonagall jerked it off his head and said there had  obviously been a mistake and he’d better get back on  the train?   When \n",
              "<mark class=\"entity\" style=\"background: #aa9cfc; padding: 0.45em 0.6em; margin: 0 0.25em; line-height: 1; border-radius: 0.35em;\">\n",
              "    Neville Longbottom\n",
              "    <span style=\"font-size: 0.8em; font-weight: bold; line-height: 1; border-radius: 0.35em; vertical-align: middle; margin-left: 0.5rem\">PERSON</span>\n",
              "</mark>\n",
              ", the boy who kept losing his  toad, was called, he fell over on his way to the stool</div></span>"
            ]
          },
          "metadata": {}
        },
        {
          "output_type": "stream",
          "name": "stdout",
          "text": [
            " Within  seconds, the whole class was standing on their stools  while Neville, who had been drenched in the potion  when the cauldron collapsed, moaned in pain as  angry red boils sprang up all over his arms and legs\n"
          ]
        },
        {
          "output_type": "display_data",
          "data": {
            "text/plain": [
              "<IPython.core.display.HTML object>"
            ],
            "text/html": [
              "<span class=\"tex2jax_ignore\"><div class=\"entities\" style=\"line-height: 2.5; direction: ltr\"> Within  seconds, the whole class was standing on their stools  while \n",
              "<mark class=\"entity\" style=\"background: #aa9cfc; padding: 0.45em 0.6em; margin: 0 0.25em; line-height: 1; border-radius: 0.35em;\">\n",
              "    Neville\n",
              "    <span style=\"font-size: 0.8em; font-weight: bold; line-height: 1; border-radius: 0.35em; vertical-align: middle; margin-left: 0.5rem\">PERSON</span>\n",
              "</mark>\n",
              ", who had been drenched in the potion  when the cauldron collapsed, moaned in pain as  angry red boils sprang up all over his arms and legs</div></span>"
            ]
          },
          "metadata": {}
        },
        {
          "output_type": "stream",
          "name": "stdout",
          "text": [
            " “You didn’t tell us where that maniac’s  escaped from! What use is that? Lunatic could be  coming up the street right now!”   Aunt Petunia, who was bony and horse-faced,  whipped around and peered intently out of the  kitchen window\n"
          ]
        },
        {
          "output_type": "display_data",
          "data": {
            "text/plain": [
              "<IPython.core.display.HTML object>"
            ],
            "text/html": [
              "<span class=\"tex2jax_ignore\"><div class=\"entities\" style=\"line-height: 2.5; direction: ltr\"> “You didn’t tell us where that maniac’s  escaped from! What use is that? Lunatic could be  coming up the street right now!”   \n",
              "<mark class=\"entity\" style=\"background: #aa9cfc; padding: 0.45em 0.6em; margin: 0 0.25em; line-height: 1; border-radius: 0.35em;\">\n",
              "    Aunt Petunia\n",
              "    <span style=\"font-size: 0.8em; font-weight: bold; line-height: 1; border-radius: 0.35em; vertical-align: middle; margin-left: 0.5rem\">PERSON</span>\n",
              "</mark>\n",
              ", who was bony and horse-faced,  whipped around and peered intently out of the  kitchen window</div></span>"
            ]
          },
          "metadata": {}
        },
        {
          "output_type": "stream",
          "name": "stdout",
          "text": [
            " Utterly nonplussed, he  looked around at the others, who were now laughing  at the expression on Ron’s face and at the ludicrously  prolonged laughter of Luna Lovegood, who was  rocking backward and forward, clutching her sides\n"
          ]
        },
        {
          "output_type": "display_data",
          "data": {
            "text/plain": [
              "<IPython.core.display.HTML object>"
            ],
            "text/html": [
              "<span class=\"tex2jax_ignore\"><div class=\"entities\" style=\"line-height: 2.5; direction: ltr\"> Utterly nonplussed, he  looked around at the others, who were now laughing  at the expression on \n",
              "<mark class=\"entity\" style=\"background: #aa9cfc; padding: 0.45em 0.6em; margin: 0 0.25em; line-height: 1; border-radius: 0.35em;\">\n",
              "    Ron\n",
              "    <span style=\"font-size: 0.8em; font-weight: bold; line-height: 1; border-radius: 0.35em; vertical-align: middle; margin-left: 0.5rem\">PERSON</span>\n",
              "</mark>\n",
              "’s face and at the ludicrously  prolonged laughter of \n",
              "<mark class=\"entity\" style=\"background: #aa9cfc; padding: 0.45em 0.6em; margin: 0 0.25em; line-height: 1; border-radius: 0.35em;\">\n",
              "    Luna Lovegood\n",
              "    <span style=\"font-size: 0.8em; font-weight: bold; line-height: 1; border-radius: 0.35em; vertical-align: middle; margin-left: 0.5rem\">PERSON</span>\n",
              "</mark>\n",
              ", who was  rocking backward and forward, clutching her sides</div></span>"
            ]
          },
          "metadata": {}
        },
        {
          "output_type": "stream",
          "name": "stdout",
          "text": [
            "   Barely ten seconds passed, then the door was flung  open and there stood Xenophilius Lovegood, barefoot  and wearing what appeared to be a stained nightshirt  His long white candyfloss hair was dirty and  unkempt\n"
          ]
        },
        {
          "output_type": "display_data",
          "data": {
            "text/plain": [
              "<IPython.core.display.HTML object>"
            ],
            "text/html": [
              "<span class=\"tex2jax_ignore\"><div class=\"entities\" style=\"line-height: 2.5; direction: ltr\">   \n",
              "<mark class=\"entity\" style=\"background: #bfe1d9; padding: 0.45em 0.6em; margin: 0 0.25em; line-height: 1; border-radius: 0.35em;\">\n",
              "    Barely ten seconds\n",
              "    <span style=\"font-size: 0.8em; font-weight: bold; line-height: 1; border-radius: 0.35em; vertical-align: middle; margin-left: 0.5rem\">TIME</span>\n",
              "</mark>\n",
              " passed, then the door was flung  open and there stood \n",
              "<mark class=\"entity\" style=\"background: #aa9cfc; padding: 0.45em 0.6em; margin: 0 0.25em; line-height: 1; border-radius: 0.35em;\">\n",
              "    Xenophilius Lovegood\n",
              "    <span style=\"font-size: 0.8em; font-weight: bold; line-height: 1; border-radius: 0.35em; vertical-align: middle; margin-left: 0.5rem\">PERSON</span>\n",
              "</mark>\n",
              ", barefoot  and wearing what appeared to be a stained nightshirt  His long white candyfloss hair was dirty and  unkempt</div></span>"
            ]
          },
          "metadata": {}
        },
        {
          "output_type": "stream",
          "name": "stdout",
          "text": [
            "   “Excuse me,” said Xenophilius, and he strode over to  the machine, seized a grubby tablecloth from beneath  an immense number of books and papers, which all  tumbled onto the floor, and threw it over the press,  somewhat muffling the loud bangs and clatters\n"
          ]
        },
        {
          "output_type": "display_data",
          "data": {
            "text/plain": [
              "<IPython.core.display.HTML object>"
            ],
            "text/html": [
              "<span class=\"tex2jax_ignore\"><div class=\"entities\" style=\"line-height: 2.5; direction: ltr\">   “Excuse me,” said \n",
              "<mark class=\"entity\" style=\"background: #7aecec; padding: 0.45em 0.6em; margin: 0 0.25em; line-height: 1; border-radius: 0.35em;\">\n",
              "    Xenophilius\n",
              "    <span style=\"font-size: 0.8em; font-weight: bold; line-height: 1; border-radius: 0.35em; vertical-align: middle; margin-left: 0.5rem\">ORG</span>\n",
              "</mark>\n",
              ", and he strode over to  the machine, seized a grubby tablecloth from beneath  an immense number of books and papers, which all  tumbled onto the floor, and threw it over the press,  somewhat muffling the loud bangs and clatters</div></span>"
            ]
          },
          "metadata": {}
        },
        {
          "output_type": "stream",
          "name": "stdout",
          "text": [
            " “You went sort of rigid  and fell out of your seat and started twitching — ”   “And Professor Lupin stepped over you, and walked  toward the dementor, and pulled out his wand,” said  Hermione, “and he said, ‘None of us is hiding Sirius  Black under our cloaks\n"
          ]
        },
        {
          "output_type": "display_data",
          "data": {
            "text/plain": [
              "<IPython.core.display.HTML object>"
            ],
            "text/html": [
              "<span class=\"tex2jax_ignore\"><div class=\"entities\" style=\"line-height: 2.5; direction: ltr\"> “You went sort of rigid  and fell out of your seat and started twitching — ”   “And Professor \n",
              "<mark class=\"entity\" style=\"background: #aa9cfc; padding: 0.45em 0.6em; margin: 0 0.25em; line-height: 1; border-radius: 0.35em;\">\n",
              "    Lupin\n",
              "    <span style=\"font-size: 0.8em; font-weight: bold; line-height: 1; border-radius: 0.35em; vertical-align: middle; margin-left: 0.5rem\">PERSON</span>\n",
              "</mark>\n",
              " stepped over you, and walked  toward the dementor, and pulled out his wand,” said  Hermione, “and he said, ‘None of us is hiding \n",
              "<mark class=\"entity\" style=\"background: #7aecec; padding: 0.45em 0.6em; margin: 0 0.25em; line-height: 1; border-radius: 0.35em;\">\n",
              "    Sirius  Black\n",
              "    <span style=\"font-size: 0.8em; font-weight: bold; line-height: 1; border-radius: 0.35em; vertical-align: middle; margin-left: 0.5rem\">ORG</span>\n",
              "</mark>\n",
              " under our cloaks</div></span>"
            ]
          },
          "metadata": {}
        },
        {
          "output_type": "stream",
          "name": "stdout",
          "text": [
            "   But Harry didn’t go back to the common room; he  climbed a staircase, thinking vaguely of visiting the  Owlery to see Hedwig, and was walking along another  corridor when a voice from inside one of the rooms  said, “Harry?”   Harry doubled back to see who had spoken and met  Professor Lupin, looking around his office door\n"
          ]
        },
        {
          "output_type": "display_data",
          "data": {
            "text/plain": [
              "<IPython.core.display.HTML object>"
            ],
            "text/html": [
              "<span class=\"tex2jax_ignore\"><div class=\"entities\" style=\"line-height: 2.5; direction: ltr\">   But Harry didn’t go back to the common room; he  climbed a staircase, thinking vaguely of visiting the  Owlery to see \n",
              "<mark class=\"entity\" style=\"background: #aa9cfc; padding: 0.45em 0.6em; margin: 0 0.25em; line-height: 1; border-radius: 0.35em;\">\n",
              "    Hedwig\n",
              "    <span style=\"font-size: 0.8em; font-weight: bold; line-height: 1; border-radius: 0.35em; vertical-align: middle; margin-left: 0.5rem\">PERSON</span>\n",
              "</mark>\n",
              ", and was walking along another  corridor when a voice from inside one of the rooms  said, “Harry?”   Harry doubled back to see who had spoken and met  Professor \n",
              "<mark class=\"entity\" style=\"background: #aa9cfc; padding: 0.45em 0.6em; margin: 0 0.25em; line-height: 1; border-radius: 0.35em;\">\n",
              "    Lupin\n",
              "    <span style=\"font-size: 0.8em; font-weight: bold; line-height: 1; border-radius: 0.35em; vertical-align: middle; margin-left: 0.5rem\">PERSON</span>\n",
              "</mark>\n",
              ", looking around his office door</div></span>"
            ]
          },
          "metadata": {}
        },
        {
          "output_type": "stream",
          "name": "stdout",
          "text": [
            " Had Hagrid  collected that package just in time? Where was it  now? And did Hagrid know something about Snape  that he didn’t want to tell Harry?           9      THE MIDNIGHT DUEL   Harry had never believed he would meet a boy he  hated more than Dudley, but that was before he met  Draco Malfoy\n"
          ]
        },
        {
          "output_type": "display_data",
          "data": {
            "text/plain": [
              "<IPython.core.display.HTML object>"
            ],
            "text/html": [
              "<span class=\"tex2jax_ignore\"><div class=\"entities\" style=\"line-height: 2.5; direction: ltr\"> Had Hagrid  collected that package just in time? Where was it  now? And did Hagrid know something about \n",
              "<mark class=\"entity\" style=\"background: #aa9cfc; padding: 0.45em 0.6em; margin: 0 0.25em; line-height: 1; border-radius: 0.35em;\">\n",
              "    Snape\n",
              "    <span style=\"font-size: 0.8em; font-weight: bold; line-height: 1; border-radius: 0.35em; vertical-align: middle; margin-left: 0.5rem\">PERSON</span>\n",
              "</mark>\n",
              "  that he didn’t want to tell \n",
              "<mark class=\"entity\" style=\"background: #aa9cfc; padding: 0.45em 0.6em; margin: 0 0.25em; line-height: 1; border-radius: 0.35em;\">\n",
              "    Harry\n",
              "    <span style=\"font-size: 0.8em; font-weight: bold; line-height: 1; border-radius: 0.35em; vertical-align: middle; margin-left: 0.5rem\">PERSON</span>\n",
              "</mark>\n",
              "?           \n",
              "<mark class=\"entity\" style=\"background: #e4e7d2; padding: 0.45em 0.6em; margin: 0 0.25em; line-height: 1; border-radius: 0.35em;\">\n",
              "    9      \n",
              "    <span style=\"font-size: 0.8em; font-weight: bold; line-height: 1; border-radius: 0.35em; vertical-align: middle; margin-left: 0.5rem\">PERCENT</span>\n",
              "</mark>\n",
              "THE MIDNIGHT DUEL   Harry had never believed he would meet a boy he  hated more than \n",
              "<mark class=\"entity\" style=\"background: #aa9cfc; padding: 0.45em 0.6em; margin: 0 0.25em; line-height: 1; border-radius: 0.35em;\">\n",
              "    Dudley\n",
              "    <span style=\"font-size: 0.8em; font-weight: bold; line-height: 1; border-radius: 0.35em; vertical-align: middle; margin-left: 0.5rem\">PERSON</span>\n",
              "</mark>\n",
              ", but that was before he met  \n",
              "<mark class=\"entity\" style=\"background: #aa9cfc; padding: 0.45em 0.6em; margin: 0 0.25em; line-height: 1; border-radius: 0.35em;\">\n",
              "    Draco Malfoy\n",
              "    <span style=\"font-size: 0.8em; font-weight: bold; line-height: 1; border-radius: 0.35em; vertical-align: middle; margin-left: 0.5rem\">PERSON</span>\n",
              "</mark>\n",
              "</div></span>"
            ]
          },
          "metadata": {}
        },
        {
          "output_type": "stream",
          "name": "stdout",
          "text": [
            " Look, you hold it tight like this  and if it turns red — oh ” His face fell, because the  Remembrall had suddenly glowed scarlet, “ you’ve  forgotten something ”   Neville was trying to remember what he’d forgotten  when Draco Malfoy, who was passing the Gryffindor  table, snatched the Remembrall out of his hand\n"
          ]
        },
        {
          "output_type": "display_data",
          "data": {
            "text/plain": [
              "<IPython.core.display.HTML object>"
            ],
            "text/html": [
              "<span class=\"tex2jax_ignore\"><div class=\"entities\" style=\"line-height: 2.5; direction: ltr\"> Look, you hold it tight like this  and if it turns red — oh ” His face fell, because the  \n",
              "<mark class=\"entity\" style=\"background: #f0d0ff; padding: 0.45em 0.6em; margin: 0 0.25em; line-height: 1; border-radius: 0.35em;\">\n",
              "    Remembrall\n",
              "    <span style=\"font-size: 0.8em; font-weight: bold; line-height: 1; border-radius: 0.35em; vertical-align: middle; margin-left: 0.5rem\">WORK_OF_ART</span>\n",
              "</mark>\n",
              " had suddenly glowed scarlet, “ you’ve  forgotten something ”   \n",
              "<mark class=\"entity\" style=\"background: #aa9cfc; padding: 0.45em 0.6em; margin: 0 0.25em; line-height: 1; border-radius: 0.35em;\">\n",
              "    Neville\n",
              "    <span style=\"font-size: 0.8em; font-weight: bold; line-height: 1; border-radius: 0.35em; vertical-align: middle; margin-left: 0.5rem\">PERSON</span>\n",
              "</mark>\n",
              " was trying to remember what he’d forgotten  when \n",
              "<mark class=\"entity\" style=\"background: #aa9cfc; padding: 0.45em 0.6em; margin: 0 0.25em; line-height: 1; border-radius: 0.35em;\">\n",
              "    Draco Malfoy\n",
              "    <span style=\"font-size: 0.8em; font-weight: bold; line-height: 1; border-radius: 0.35em; vertical-align: middle; margin-left: 0.5rem\">PERSON</span>\n",
              "</mark>\n",
              ", who was passing the \n",
              "<mark class=\"entity\" style=\"background: #aa9cfc; padding: 0.45em 0.6em; margin: 0 0.25em; line-height: 1; border-radius: 0.35em;\">\n",
              "    Gryffindor\n",
              "    <span style=\"font-size: 0.8em; font-weight: bold; line-height: 1; border-radius: 0.35em; vertical-align: middle; margin-left: 0.5rem\">PERSON</span>\n",
              "</mark>\n",
              "  table, snatched the \n",
              "<mark class=\"entity\" style=\"background: #aa9cfc; padding: 0.45em 0.6em; margin: 0 0.25em; line-height: 1; border-radius: 0.35em;\">\n",
              "    Remembrall\n",
              "    <span style=\"font-size: 0.8em; font-weight: bold; line-height: 1; border-radius: 0.35em; vertical-align: middle; margin-left: 0.5rem\">PERSON</span>\n",
              "</mark>\n",
              " out of his hand</div></span>"
            ]
          },
          "metadata": {}
        },
        {
          "output_type": "stream",
          "name": "stdout",
          "text": [
            " Don’t go biting off more  than you can chew — ”   “So you don’t think I’m a match for Lucius Malfoy?”  said Mr Weasley indignantly, but he was distracted  almost at once by the sight of Hermione’s parents,  who were standing nervously at the counter that ran  all along the great marble hall, waiting for Hermione  to introduce them\n"
          ]
        },
        {
          "output_type": "display_data",
          "data": {
            "text/plain": [
              "<IPython.core.display.HTML object>"
            ],
            "text/html": [
              "<span class=\"tex2jax_ignore\"><div class=\"entities\" style=\"line-height: 2.5; direction: ltr\"> Don’t go biting off more  than you can chew — ”   “So you don’t think I’m a match for \n",
              "<mark class=\"entity\" style=\"background: #aa9cfc; padding: 0.45em 0.6em; margin: 0 0.25em; line-height: 1; border-radius: 0.35em;\">\n",
              "    Lucius Malfoy\n",
              "    <span style=\"font-size: 0.8em; font-weight: bold; line-height: 1; border-radius: 0.35em; vertical-align: middle; margin-left: 0.5rem\">PERSON</span>\n",
              "</mark>\n",
              "?”  said Mr \n",
              "<mark class=\"entity\" style=\"background: #aa9cfc; padding: 0.45em 0.6em; margin: 0 0.25em; line-height: 1; border-radius: 0.35em;\">\n",
              "    Weasley\n",
              "    <span style=\"font-size: 0.8em; font-weight: bold; line-height: 1; border-radius: 0.35em; vertical-align: middle; margin-left: 0.5rem\">PERSON</span>\n",
              "</mark>\n",
              " indignantly, but he was distracted  almost at once by the sight of \n",
              "<mark class=\"entity\" style=\"background: #aa9cfc; padding: 0.45em 0.6em; margin: 0 0.25em; line-height: 1; border-radius: 0.35em;\">\n",
              "    Hermione\n",
              "    <span style=\"font-size: 0.8em; font-weight: bold; line-height: 1; border-radius: 0.35em; vertical-align: middle; margin-left: 0.5rem\">PERSON</span>\n",
              "</mark>\n",
              "’s parents,  who were standing nervously at the counter that ran  all along the great marble hall, waiting for \n",
              "<mark class=\"entity\" style=\"background: #aa9cfc; padding: 0.45em 0.6em; margin: 0 0.25em; line-height: 1; border-radius: 0.35em;\">\n",
              "    Hermione\n",
              "    <span style=\"font-size: 0.8em; font-weight: bold; line-height: 1; border-radius: 0.35em; vertical-align: middle; margin-left: 0.5rem\">PERSON</span>\n",
              "</mark>\n",
              "  to introduce them</div></span>"
            ]
          },
          "metadata": {}
        },
        {
          "output_type": "stream",
          "name": "stdout",
          "text": [
            " “Get  outta my house!”   “My dear man, please believe me, I have no pleasure  at all in being inside your — er — d’you call this a  house?” said Lucius Malfoy, sneering as he looked  around the small cabin\n"
          ]
        },
        {
          "output_type": "display_data",
          "data": {
            "text/plain": [
              "<IPython.core.display.HTML object>"
            ],
            "text/html": [
              "<span class=\"tex2jax_ignore\"><div class=\"entities\" style=\"line-height: 2.5; direction: ltr\"> “Get  outta my house!”   “My dear man, please believe me, I have no pleasure  at all in being inside your — er — d’you call this a  house?” said \n",
              "<mark class=\"entity\" style=\"background: #aa9cfc; padding: 0.45em 0.6em; margin: 0 0.25em; line-height: 1; border-radius: 0.35em;\">\n",
              "    Lucius Malfoy\n",
              "    <span style=\"font-size: 0.8em; font-weight: bold; line-height: 1; border-radius: 0.35em; vertical-align: middle; margin-left: 0.5rem\">PERSON</span>\n",
              "</mark>\n",
              ", sneering as he looked  around the small cabin</div></span>"
            ]
          },
          "metadata": {}
        },
        {
          "output_type": "stream",
          "name": "stdout",
          "text": [
            "  “Here? In this Muggle dunghill? We must be the first  of our kind ever to set foot — ”           But Narcissa was not listening; she had slipped  through a gap in the rusty railings and was already  hurrying across the road\n"
          ]
        },
        {
          "output_type": "display_data",
          "data": {
            "text/plain": [
              "<IPython.core.display.HTML object>"
            ],
            "text/html": [
              "<span class=\"tex2jax_ignore\"><div class=\"entities\" style=\"line-height: 2.5; direction: ltr\">  “Here? In this Muggle dunghill? We must be the \n",
              "<mark class=\"entity\" style=\"background: #e4e7d2; padding: 0.45em 0.6em; margin: 0 0.25em; line-height: 1; border-radius: 0.35em;\">\n",
              "    first\n",
              "    <span style=\"font-size: 0.8em; font-weight: bold; line-height: 1; border-radius: 0.35em; vertical-align: middle; margin-left: 0.5rem\">ORDINAL</span>\n",
              "</mark>\n",
              "  of our kind ever to set foot — ”           But Narcissa was not listening; she had slipped  through a gap in the rusty railings and was already  hurrying across the road</div></span>"
            ]
          },
          "metadata": {}
        },
        {
          "output_type": "stream",
          "name": "stdout",
          "text": [
            "   “Cissy, your own sister? You wouldn’t — ”   “There is nothing I wouldn’t do anymore!” Narcissa  breathed, a note of hysteria in her voice, and as she  brought down the wand like a knife, there was  another flash of light\n"
          ]
        },
        {
          "output_type": "display_data",
          "data": {
            "text/plain": [
              "<IPython.core.display.HTML object>"
            ],
            "text/html": [
              "<span class=\"tex2jax_ignore\"><div class=\"entities\" style=\"line-height: 2.5; direction: ltr\">   “\n",
              "<mark class=\"entity\" style=\"background: #7aecec; padding: 0.45em 0.6em; margin: 0 0.25em; line-height: 1; border-radius: 0.35em;\">\n",
              "    Cissy\n",
              "    <span style=\"font-size: 0.8em; font-weight: bold; line-height: 1; border-radius: 0.35em; vertical-align: middle; margin-left: 0.5rem\">ORG</span>\n",
              "</mark>\n",
              ", your own sister? You wouldn’t — ”   “There is nothing I wouldn’t do anymore!” \n",
              "<mark class=\"entity\" style=\"background: #aa9cfc; padding: 0.45em 0.6em; margin: 0 0.25em; line-height: 1; border-radius: 0.35em;\">\n",
              "    Narcissa\n",
              "    <span style=\"font-size: 0.8em; font-weight: bold; line-height: 1; border-radius: 0.35em; vertical-align: middle; margin-left: 0.5rem\">PERSON</span>\n",
              "</mark>\n",
              "  breathed, a note of hysteria in her voice, and as she  brought down the wand like a knife, there was  another flash of light</div></span>"
            ]
          },
          "metadata": {}
        },
        {
          "output_type": "stream",
          "name": "stdout",
          "text": [
            " We was pretendin’ we  was goin’ on holiday together, so we got inter France  an’ we made like we was headin’ fer where Olympe’s  school is, ’cause we knew we was bein’ tailed by  someone from the Ministry\n"
          ]
        },
        {
          "output_type": "display_data",
          "data": {
            "text/plain": [
              "<IPython.core.display.HTML object>"
            ],
            "text/html": [
              "<span class=\"tex2jax_ignore\"><div class=\"entities\" style=\"line-height: 2.5; direction: ltr\"> We was pretendin’ we  was goin’ on holiday together, so we got inter \n",
              "<mark class=\"entity\" style=\"background: #feca74; padding: 0.45em 0.6em; margin: 0 0.25em; line-height: 1; border-radius: 0.35em;\">\n",
              "    France\n",
              "    <span style=\"font-size: 0.8em; font-weight: bold; line-height: 1; border-radius: 0.35em; vertical-align: middle; margin-left: 0.5rem\">GPE</span>\n",
              "</mark>\n",
              "  an’ we made like we was headin’ fer where \n",
              "<mark class=\"entity\" style=\"background: #7aecec; padding: 0.45em 0.6em; margin: 0 0.25em; line-height: 1; border-radius: 0.35em;\">\n",
              "    Olympe\n",
              "    <span style=\"font-size: 0.8em; font-weight: bold; line-height: 1; border-radius: 0.35em; vertical-align: middle; margin-left: 0.5rem\">ORG</span>\n",
              "</mark>\n",
              "’s  school is, ’cause we knew we was bein’ tailed by  someone from the Ministry</div></span>"
            ]
          },
          "metadata": {}
        },
        {
          "output_type": "stream",
          "name": "stdout",
          "text": [
            " You know what  everyone’s saying? About why he’s disappeared?   About what finally stopped him?”   It seemed that Professor McGonagall had reached the  point she was most anxious to discuss, the real  reason she had been waiting on a cold, hard wall all  day, for neither as a cat nor as a woman had she  fixed Dumbledore with such a piercing stare as she  did now\n"
          ]
        },
        {
          "output_type": "display_data",
          "data": {
            "text/plain": [
              "<IPython.core.display.HTML object>"
            ],
            "text/html": [
              "<span class=\"tex2jax_ignore\"><div class=\"entities\" style=\"line-height: 2.5; direction: ltr\"> You know what  everyone’s saying? About why he’s disappeared?   About what finally stopped him?”   It seemed that Professor \n",
              "<mark class=\"entity\" style=\"background: #aa9cfc; padding: 0.45em 0.6em; margin: 0 0.25em; line-height: 1; border-radius: 0.35em;\">\n",
              "    McGonagall\n",
              "    <span style=\"font-size: 0.8em; font-weight: bold; line-height: 1; border-radius: 0.35em; vertical-align: middle; margin-left: 0.5rem\">PERSON</span>\n",
              "</mark>\n",
              " had reached the  point she was most anxious to discuss, the real  reason she had been waiting on a cold, hard wall all  day, for neither as a cat nor as a woman had she  fixed Dumbledore with such a piercing stare as she  did now</div></span>"
            ]
          },
          "metadata": {}
        },
        {
          "output_type": "stream",
          "name": "stdout",
          "text": [
            " Famous before he can  walk and talk! Famous for something he won’t even  remember! Can’t you see how much better off he’ll be,  growing up away from all that until he’s ready to take  it?”     Professor McGonagall opened her mouth, changed her  mind, swallowed, and then said, “Yes — yes, you’re  right, of course\n"
          ]
        },
        {
          "output_type": "display_data",
          "data": {
            "text/plain": [
              "<IPython.core.display.HTML object>"
            ],
            "text/html": [
              "<span class=\"tex2jax_ignore\"><div class=\"entities\" style=\"line-height: 2.5; direction: ltr\"> Famous before he can  walk and talk! Famous for something he won’t even  remember! Can’t you see how much better off he’ll be,  growing up away from all that until he’s ready to take  it?”     Professor \n",
              "<mark class=\"entity\" style=\"background: #aa9cfc; padding: 0.45em 0.6em; margin: 0 0.25em; line-height: 1; border-radius: 0.35em;\">\n",
              "    McGonagall\n",
              "    <span style=\"font-size: 0.8em; font-weight: bold; line-height: 1; border-radius: 0.35em; vertical-align: middle; margin-left: 0.5rem\">PERSON</span>\n",
              "</mark>\n",
              " opened her mouth, changed her  mind, swallowed, and then said, “Yes — yes, you’re  right, of course</div></span>"
            ]
          },
          "metadata": {}
        },
        {
          "output_type": "stream",
          "name": "stdout",
          "text": [
            "   “As I was saying,” he said, smiling at the sea of  students before him, all of whom were still gazing  transfixed at Mad-Eye Moody, “we are to have the  honor of hosting a very exciting event over the coming  months, an event that has not been held for over a  century\n"
          ]
        },
        {
          "output_type": "display_data",
          "data": {
            "text/plain": [
              "<IPython.core.display.HTML object>"
            ],
            "text/html": [
              "<span class=\"tex2jax_ignore\"><div class=\"entities\" style=\"line-height: 2.5; direction: ltr\">   “As I was saying,” he said, smiling at the sea of  students before him, all of whom were still gazing  transfixed at \n",
              "<mark class=\"entity\" style=\"background: #7aecec; padding: 0.45em 0.6em; margin: 0 0.25em; line-height: 1; border-radius: 0.35em;\">\n",
              "    Mad-Eye Moody\n",
              "    <span style=\"font-size: 0.8em; font-weight: bold; line-height: 1; border-radius: 0.35em; vertical-align: middle; margin-left: 0.5rem\">ORG</span>\n",
              "</mark>\n",
              ", “we are to have the  honor of hosting a very exciting event over \n",
              "<mark class=\"entity\" style=\"background: #bfe1d9; padding: 0.45em 0.6em; margin: 0 0.25em; line-height: 1; border-radius: 0.35em;\">\n",
              "    the coming  months\n",
              "    <span style=\"font-size: 0.8em; font-weight: bold; line-height: 1; border-radius: 0.35em; vertical-align: middle; margin-left: 0.5rem\">DATE</span>\n",
              "</mark>\n",
              ", an event that has not been held for \n",
              "<mark class=\"entity\" style=\"background: #bfe1d9; padding: 0.45em 0.6em; margin: 0 0.25em; line-height: 1; border-radius: 0.35em;\">\n",
              "    over a  century\n",
              "    <span style=\"font-size: 0.8em; font-weight: bold; line-height: 1; border-radius: 0.35em; vertical-align: middle; margin-left: 0.5rem\">DATE</span>\n",
              "</mark>\n",
              "</div></span>"
            ]
          },
          "metadata": {}
        },
        {
          "output_type": "stream",
          "name": "stdout",
          "text": [
            " Mr  Weasley appears to have rushed to the aid of “Mad-  Eye” Moody, the aged ex-Auror who retired from the  Ministry when no longer able to tell the difference  between a handshake and attempted murder\n"
          ]
        },
        {
          "output_type": "display_data",
          "data": {
            "text/plain": [
              "<IPython.core.display.HTML object>"
            ],
            "text/html": [
              "<span class=\"tex2jax_ignore\"><div class=\"entities\" style=\"line-height: 2.5; direction: ltr\"> Mr  \n",
              "<mark class=\"entity\" style=\"background: #aa9cfc; padding: 0.45em 0.6em; margin: 0 0.25em; line-height: 1; border-radius: 0.35em;\">\n",
              "    Weasley\n",
              "    <span style=\"font-size: 0.8em; font-weight: bold; line-height: 1; border-radius: 0.35em; vertical-align: middle; margin-left: 0.5rem\">PERSON</span>\n",
              "</mark>\n",
              " appears to have rushed to the aid of “Mad-  Eye” Moody, the aged ex-Auror who retired from \n",
              "<mark class=\"entity\" style=\"background: #7aecec; padding: 0.45em 0.6em; margin: 0 0.25em; line-height: 1; border-radius: 0.35em;\">\n",
              "    the  Ministry\n",
              "    <span style=\"font-size: 0.8em; font-weight: bold; line-height: 1; border-radius: 0.35em; vertical-align: middle; margin-left: 0.5rem\">ORG</span>\n",
              "</mark>\n",
              " when no longer able to tell the difference  between a handshake and attempted murder</div></span>"
            ]
          },
          "metadata": {}
        },
        {
          "output_type": "stream",
          "name": "stdout",
          "text": [
            " Moony, Wormtail, Padfoot, and Prongs   Purveyors of Aids to Magical Mischief-Makers   are proud to present   THE MARAUDER’S MAP           It was a map showing every detail of the Hogwarts  castle and grounds\n"
          ]
        },
        {
          "output_type": "display_data",
          "data": {
            "text/plain": [
              "<IPython.core.display.HTML object>"
            ],
            "text/html": [
              "<span class=\"tex2jax_ignore\"><div class=\"entities\" style=\"line-height: 2.5; direction: ltr\"> Moony, \n",
              "<mark class=\"entity\" style=\"background: #aa9cfc; padding: 0.45em 0.6em; margin: 0 0.25em; line-height: 1; border-radius: 0.35em;\">\n",
              "    Wormtail\n",
              "    <span style=\"font-size: 0.8em; font-weight: bold; line-height: 1; border-radius: 0.35em; vertical-align: middle; margin-left: 0.5rem\">PERSON</span>\n",
              "</mark>\n",
              ", \n",
              "<mark class=\"entity\" style=\"background: #7aecec; padding: 0.45em 0.6em; margin: 0 0.25em; line-height: 1; border-radius: 0.35em;\">\n",
              "    Padfoot\n",
              "    <span style=\"font-size: 0.8em; font-weight: bold; line-height: 1; border-radius: 0.35em; vertical-align: middle; margin-left: 0.5rem\">ORG</span>\n",
              "</mark>\n",
              ", and Prongs   Purveyors of Aids to Magical Mischief-Makers   are proud to present   THE MARAUDER’S MAP           It was a map showing every detail of the \n",
              "<mark class=\"entity\" style=\"background: #7aecec; padding: 0.45em 0.6em; margin: 0 0.25em; line-height: 1; border-radius: 0.35em;\">\n",
              "    Hogwarts\n",
              "    <span style=\"font-size: 0.8em; font-weight: bold; line-height: 1; border-radius: 0.35em; vertical-align: middle; margin-left: 0.5rem\">ORG</span>\n",
              "</mark>\n",
              "  castle and grounds</div></span>"
            ]
          },
          "metadata": {}
        },
        {
          "output_type": "stream",
          "name": "stdout",
          "text": [
            " perhaps the task of nursing  me has become wearisome for you, “Wormtail? Could  this suggestion of abandoning the plan be nothing  more than an attempt to desert me?”   “My Lord! I — I have no wish to leave you, none at all     “Do not lie to me!” hissed the second voice\n"
          ]
        },
        {
          "output_type": "display_data",
          "data": {
            "text/plain": [
              "<IPython.core.display.HTML object>"
            ],
            "text/html": [
              "<span class=\"tex2jax_ignore\"><div class=\"entities\" style=\"line-height: 2.5; direction: ltr\"> perhaps the task of nursing  me has become wearisome for you, “Wormtail? Could  this suggestion of abandoning the plan be nothing  more than an attempt to desert me?”   “My Lord! I — I have no wish to leave you, none at all     “Do not lie to me!” hissed the \n",
              "<mark class=\"entity\" style=\"background: #e4e7d2; padding: 0.45em 0.6em; margin: 0 0.25em; line-height: 1; border-radius: 0.35em;\">\n",
              "    second\n",
              "    <span style=\"font-size: 0.8em; font-weight: bold; line-height: 1; border-radius: 0.35em; vertical-align: middle; margin-left: 0.5rem\">ORDINAL</span>\n",
              "</mark>\n",
              " voice</div></span>"
            ]
          },
          "metadata": {}
        },
        {
          "output_type": "stream",
          "name": "stdout",
          "text": [
            " “Really, Dumbledore,  you think you can explain all this in a letter? These  people will never understand him! He’ll be famous —  a legend — I wouldn’t be surprised if today was  known as Harry Potter Day in the future — there will  be books written about Harry — every child in our  world will know his name!”   “Exactly,” said Dumbledore, looking very seriously  over the top of his half-moon glasses\n"
          ]
        },
        {
          "output_type": "display_data",
          "data": {
            "text/plain": [
              "<IPython.core.display.HTML object>"
            ],
            "text/html": [
              "<span class=\"tex2jax_ignore\"><div class=\"entities\" style=\"line-height: 2.5; direction: ltr\"> “Really, Dumbledore,  you think you can explain all this in a letter? These  people will never understand him! He’ll be famous —  a legend — I wouldn’t be surprised if \n",
              "<mark class=\"entity\" style=\"background: #bfe1d9; padding: 0.45em 0.6em; margin: 0 0.25em; line-height: 1; border-radius: 0.35em;\">\n",
              "    today\n",
              "    <span style=\"font-size: 0.8em; font-weight: bold; line-height: 1; border-radius: 0.35em; vertical-align: middle; margin-left: 0.5rem\">DATE</span>\n",
              "</mark>\n",
              " was  known as \n",
              "<mark class=\"entity\" style=\"background: #aa9cfc; padding: 0.45em 0.6em; margin: 0 0.25em; line-height: 1; border-radius: 0.35em;\">\n",
              "    Harry Potter Day\n",
              "    <span style=\"font-size: 0.8em; font-weight: bold; line-height: 1; border-radius: 0.35em; vertical-align: middle; margin-left: 0.5rem\">PERSON</span>\n",
              "</mark>\n",
              " in the future — there will  be books written about \n",
              "<mark class=\"entity\" style=\"background: #aa9cfc; padding: 0.45em 0.6em; margin: 0 0.25em; line-height: 1; border-radius: 0.35em;\">\n",
              "    Harry\n",
              "    <span style=\"font-size: 0.8em; font-weight: bold; line-height: 1; border-radius: 0.35em; vertical-align: middle; margin-left: 0.5rem\">PERSON</span>\n",
              "</mark>\n",
              " — every child in our  world will know his name!”   “Exactly,” said \n",
              "<mark class=\"entity\" style=\"background: #aa9cfc; padding: 0.45em 0.6em; margin: 0 0.25em; line-height: 1; border-radius: 0.35em;\">\n",
              "    Dumbledore\n",
              "    <span style=\"font-size: 0.8em; font-weight: bold; line-height: 1; border-radius: 0.35em; vertical-align: middle; margin-left: 0.5rem\">PERSON</span>\n",
              "</mark>\n",
              ", looking very seriously  over the top of his half-moon glasses</div></span>"
            ]
          },
          "metadata": {}
        },
        {
          "output_type": "stream",
          "name": "stdout",
          "text": [
            " “But I c-c-  can’t stand it — Lily an’ James dead — an’ poor little  Harry off ter live with Muggles — ”   “Yes, yes, it’s all very sad, but get a grip on yourself,  Hagrid, or we’ll be found,” Professor McGonagall  whispered, patting Hagrid gingerly on the arm as  Dumbledore stepped over the low garden wall and  walked to the front door\n"
          ]
        },
        {
          "output_type": "display_data",
          "data": {
            "text/plain": [
              "<IPython.core.display.HTML object>"
            ],
            "text/html": [
              "<span class=\"tex2jax_ignore\"><div class=\"entities\" style=\"line-height: 2.5; direction: ltr\"> “But I c-c-  can’t stand it — Lily an’ James dead — an’ poor little  Harry off ter live with Muggles — ”   “Yes, yes, it’s all very sad, but get a grip on yourself,  Hagrid, or we’ll be found,” Professor \n",
              "<mark class=\"entity\" style=\"background: #aa9cfc; padding: 0.45em 0.6em; margin: 0 0.25em; line-height: 1; border-radius: 0.35em;\">\n",
              "    McGonagall\n",
              "    <span style=\"font-size: 0.8em; font-weight: bold; line-height: 1; border-radius: 0.35em; vertical-align: middle; margin-left: 0.5rem\">PERSON</span>\n",
              "</mark>\n",
              "  whispered, patting Hagrid gingerly on the arm as  Dumbledore stepped over the low garden wall and  walked to the front door</div></span>"
            ]
          },
          "metadata": {}
        },
        {
          "output_type": "stream",
          "name": "stdout",
          "text": [
            " “How  could a car crash kill Lily an’ James Potter? It’s an  outrage! A scandal! Harry Potter not knowin’ his own  story when every kid in our world knows his name!”   “But why? What happened?” Harry asked urgently\n"
          ]
        },
        {
          "output_type": "display_data",
          "data": {
            "text/plain": [
              "<IPython.core.display.HTML object>"
            ],
            "text/html": [
              "<span class=\"tex2jax_ignore\"><div class=\"entities\" style=\"line-height: 2.5; direction: ltr\"> “How  could a car crash kill \n",
              "<mark class=\"entity\" style=\"background: #aa9cfc; padding: 0.45em 0.6em; margin: 0 0.25em; line-height: 1; border-radius: 0.35em;\">\n",
              "    Lily\n",
              "    <span style=\"font-size: 0.8em; font-weight: bold; line-height: 1; border-radius: 0.35em; vertical-align: middle; margin-left: 0.5rem\">PERSON</span>\n",
              "</mark>\n",
              " an’ \n",
              "<mark class=\"entity\" style=\"background: #aa9cfc; padding: 0.45em 0.6em; margin: 0 0.25em; line-height: 1; border-radius: 0.35em;\">\n",
              "    James Potter\n",
              "    <span style=\"font-size: 0.8em; font-weight: bold; line-height: 1; border-radius: 0.35em; vertical-align: middle; margin-left: 0.5rem\">PERSON</span>\n",
              "</mark>\n",
              "? It’s an  outrage! A scandal! \n",
              "<mark class=\"entity\" style=\"background: #aa9cfc; padding: 0.45em 0.6em; margin: 0 0.25em; line-height: 1; border-radius: 0.35em;\">\n",
              "    Harry Potter\n",
              "    <span style=\"font-size: 0.8em; font-weight: bold; line-height: 1; border-radius: 0.35em; vertical-align: middle; margin-left: 0.5rem\">PERSON</span>\n",
              "</mark>\n",
              " not knowin’ his own  story when every kid in our world knows his name!”   “But why? What happened?” Harry asked urgently</div></span>"
            ]
          },
          "metadata": {}
        },
        {
          "output_type": "stream",
          "name": "stdout",
          "text": [
            "     “Disciplinary hearing of the twelfth of August,” said  Fudge in a ringing voice, and Percy began taking  notes at once, “into offenses committed under the  Decree for the Reasonable Restriction of Underage  Sorcery and the International Statute of Secrecy by  Harry James Potter, resident at number four, Privet  Drive, Little Whinging, Surrey\n"
          ]
        },
        {
          "output_type": "display_data",
          "data": {
            "text/plain": [
              "<IPython.core.display.HTML object>"
            ],
            "text/html": [
              "<span class=\"tex2jax_ignore\"><div class=\"entities\" style=\"line-height: 2.5; direction: ltr\">     “Disciplinary hearing of \n",
              "<mark class=\"entity\" style=\"background: #bfe1d9; padding: 0.45em 0.6em; margin: 0 0.25em; line-height: 1; border-radius: 0.35em;\">\n",
              "    the twelfth of August\n",
              "    <span style=\"font-size: 0.8em; font-weight: bold; line-height: 1; border-radius: 0.35em; vertical-align: middle; margin-left: 0.5rem\">DATE</span>\n",
              "</mark>\n",
              ",” said  \n",
              "<mark class=\"entity\" style=\"background: #f0d0ff; padding: 0.45em 0.6em; margin: 0 0.25em; line-height: 1; border-radius: 0.35em;\">\n",
              "    Fudge\n",
              "    <span style=\"font-size: 0.8em; font-weight: bold; line-height: 1; border-radius: 0.35em; vertical-align: middle; margin-left: 0.5rem\">WORK_OF_ART</span>\n",
              "</mark>\n",
              " in a ringing voice, and \n",
              "<mark class=\"entity\" style=\"background: #aa9cfc; padding: 0.45em 0.6em; margin: 0 0.25em; line-height: 1; border-radius: 0.35em;\">\n",
              "    Percy\n",
              "    <span style=\"font-size: 0.8em; font-weight: bold; line-height: 1; border-radius: 0.35em; vertical-align: middle; margin-left: 0.5rem\">PERSON</span>\n",
              "</mark>\n",
              " began taking  notes at once, “into offenses committed under the  Decree for \n",
              "<mark class=\"entity\" style=\"background: #ff8197; padding: 0.45em 0.6em; margin: 0 0.25em; line-height: 1; border-radius: 0.35em;\">\n",
              "    the Reasonable Restriction of Underage\n",
              "    <span style=\"font-size: 0.8em; font-weight: bold; line-height: 1; border-radius: 0.35em; vertical-align: middle; margin-left: 0.5rem\">LAW</span>\n",
              "</mark>\n",
              "  Sorcery and \n",
              "<mark class=\"entity\" style=\"background: #7aecec; padding: 0.45em 0.6em; margin: 0 0.25em; line-height: 1; border-radius: 0.35em;\">\n",
              "    the International Statute of Secrecy\n",
              "    <span style=\"font-size: 0.8em; font-weight: bold; line-height: 1; border-radius: 0.35em; vertical-align: middle; margin-left: 0.5rem\">ORG</span>\n",
              "</mark>\n",
              " by  \n",
              "<mark class=\"entity\" style=\"background: #aa9cfc; padding: 0.45em 0.6em; margin: 0 0.25em; line-height: 1; border-radius: 0.35em;\">\n",
              "    Harry James Potter\n",
              "    <span style=\"font-size: 0.8em; font-weight: bold; line-height: 1; border-radius: 0.35em; vertical-align: middle; margin-left: 0.5rem\">PERSON</span>\n",
              "</mark>\n",
              ", resident at \n",
              "<mark class=\"entity\" style=\"background: #e4e7d2; padding: 0.45em 0.6em; margin: 0 0.25em; line-height: 1; border-radius: 0.35em;\">\n",
              "    number four\n",
              "    <span style=\"font-size: 0.8em; font-weight: bold; line-height: 1; border-radius: 0.35em; vertical-align: middle; margin-left: 0.5rem\">CARDINAL</span>\n",
              "</mark>\n",
              ", \n",
              "<mark class=\"entity\" style=\"background: #aa9cfc; padding: 0.45em 0.6em; margin: 0 0.25em; line-height: 1; border-radius: 0.35em;\">\n",
              "    Privet  Drive\n",
              "    <span style=\"font-size: 0.8em; font-weight: bold; line-height: 1; border-radius: 0.35em; vertical-align: middle; margin-left: 0.5rem\">PERSON</span>\n",
              "</mark>\n",
              ", \n",
              "<mark class=\"entity\" style=\"background: #7aecec; padding: 0.45em 0.6em; margin: 0 0.25em; line-height: 1; border-radius: 0.35em;\">\n",
              "    Little Whinging\n",
              "    <span style=\"font-size: 0.8em; font-weight: bold; line-height: 1; border-radius: 0.35em; vertical-align: middle; margin-left: 0.5rem\">ORG</span>\n",
              "</mark>\n",
              ", \n",
              "<mark class=\"entity\" style=\"background: #feca74; padding: 0.45em 0.6em; margin: 0 0.25em; line-height: 1; border-radius: 0.35em;\">\n",
              "    Surrey\n",
              "    <span style=\"font-size: 0.8em; font-weight: bold; line-height: 1; border-radius: 0.35em; vertical-align: middle; margin-left: 0.5rem\">GPE</span>\n",
              "</mark>\n",
              "</div></span>"
            ]
          },
          "metadata": {}
        },
        {
          "output_type": "stream",
          "name": "stdout",
          "text": [
            " “As I say, even if You-Know-Who has  gone — ”   “My dear Professor, surely a sensible person like  yourself can call him by his name? All this You-  Know-Who’ nonsense — for eleven years I have been  trying to persuade people to call him by his proper  name: Voldemort\n"
          ]
        },
        {
          "output_type": "stream",
          "name": "stderr",
          "text": [
            "/usr/local/lib/python3.7/dist-packages/spacy/displacy/__init__.py:205: UserWarning: [W006] No entities to visualize found in Doc object. If this is surprising to you, make sure the Doc was processed using a model that supports named entity recognition, and check the `doc.ents` property manually if necessary.\n",
            "  warnings.warn(Warnings.W006)\n"
          ]
        },
        {
          "output_type": "display_data",
          "data": {
            "text/plain": [
              "<IPython.core.display.HTML object>"
            ],
            "text/html": [
              "<span class=\"tex2jax_ignore\"><div class=\"entities\" style=\"line-height: 2.5; direction: ltr\"> “As I say, even if You-Know-Who has  gone — ”   “My dear Professor, surely a sensible person like  yourself can call him by his name? All this You-  Know-Who’ nonsense — for eleven years I have been  trying to persuade people to call him by his proper  name: Voldemort</div></span>"
            ]
          },
          "metadata": {}
        },
        {
          "output_type": "stream",
          "name": "stdout",
          "text": [
            "             THROUGH THE TRAPDOOR   In years to come, Harry would never quite remember  how he had managed to get through his exams when  he half expected Voldemort to come bursting through  the door at any moment\n"
          ]
        },
        {
          "output_type": "display_data",
          "data": {
            "text/plain": [
              "<IPython.core.display.HTML object>"
            ],
            "text/html": [
              "<span class=\"tex2jax_ignore\"><div class=\"entities\" style=\"line-height: 2.5; direction: ltr\">             THROUGH THE TRAPDOOR   In \n",
              "<mark class=\"entity\" style=\"background: #bfe1d9; padding: 0.45em 0.6em; margin: 0 0.25em; line-height: 1; border-radius: 0.35em;\">\n",
              "    years\n",
              "    <span style=\"font-size: 0.8em; font-weight: bold; line-height: 1; border-radius: 0.35em; vertical-align: middle; margin-left: 0.5rem\">DATE</span>\n",
              "</mark>\n",
              " to come, \n",
              "<mark class=\"entity\" style=\"background: #aa9cfc; padding: 0.45em 0.6em; margin: 0 0.25em; line-height: 1; border-radius: 0.35em;\">\n",
              "    Harry\n",
              "    <span style=\"font-size: 0.8em; font-weight: bold; line-height: 1; border-radius: 0.35em; vertical-align: middle; margin-left: 0.5rem\">PERSON</span>\n",
              "</mark>\n",
              " would never quite remember  how he had managed to get through his exams when  he half expected Voldemort to come bursting through  the door at any moment</div></span>"
            ]
          },
          "metadata": {}
        },
        {
          "output_type": "stream",
          "name": "stdout",
          "text": [
            " “I had to come into the office early to  send a couple of owls, and I found the Improper Use  of Magic lot all setting off — if Rita Skeeter gets hold  of this one, Arthur — ”   “What does Mad-Eye say happened?” asked Mr  Weasley, unscrewing the ink bottle, loading up his  quill, and preparing to take notes\n"
          ]
        },
        {
          "output_type": "display_data",
          "data": {
            "text/plain": [
              "<IPython.core.display.HTML object>"
            ],
            "text/html": [
              "<span class=\"tex2jax_ignore\"><div class=\"entities\" style=\"line-height: 2.5; direction: ltr\"> “I had to come into the office early to  send a couple of owls, and I found the Improper Use  of \n",
              "<mark class=\"entity\" style=\"background: #bfeeb7; padding: 0.45em 0.6em; margin: 0 0.25em; line-height: 1; border-radius: 0.35em;\">\n",
              "    Magic\n",
              "    <span style=\"font-size: 0.8em; font-weight: bold; line-height: 1; border-radius: 0.35em; vertical-align: middle; margin-left: 0.5rem\">PRODUCT</span>\n",
              "</mark>\n",
              " lot all setting off — if \n",
              "<mark class=\"entity\" style=\"background: #aa9cfc; padding: 0.45em 0.6em; margin: 0 0.25em; line-height: 1; border-radius: 0.35em;\">\n",
              "    Rita Skeeter\n",
              "    <span style=\"font-size: 0.8em; font-weight: bold; line-height: 1; border-radius: 0.35em; vertical-align: middle; margin-left: 0.5rem\">PERSON</span>\n",
              "</mark>\n",
              " gets hold  of this one, \n",
              "<mark class=\"entity\" style=\"background: #aa9cfc; padding: 0.45em 0.6em; margin: 0 0.25em; line-height: 1; border-radius: 0.35em;\">\n",
              "    Arthur\n",
              "    <span style=\"font-size: 0.8em; font-weight: bold; line-height: 1; border-radius: 0.35em; vertical-align: middle; margin-left: 0.5rem\">PERSON</span>\n",
              "</mark>\n",
              " — ”   “What does Mad-Eye say happened?” asked Mr  \n",
              "<mark class=\"entity\" style=\"background: #aa9cfc; padding: 0.45em 0.6em; margin: 0 0.25em; line-height: 1; border-radius: 0.35em;\">\n",
              "    Weasley\n",
              "    <span style=\"font-size: 0.8em; font-weight: bold; line-height: 1; border-radius: 0.35em; vertical-align: middle; margin-left: 0.5rem\">PERSON</span>\n",
              "</mark>\n",
              ", unscrewing the ink bottle, loading up his  quill, and preparing to take notes</div></span>"
            ]
          },
          "metadata": {}
        },
        {
          "output_type": "stream",
          "name": "stdout",
          "text": [
            "   “Lovely,” said Rita Skeeter, and in a second, her  scarlet-taloned fingers had Harry’s upper arm in a  surprisingly strong grip, and she was steering him  out of the room again and opening a nearby door\n"
          ]
        },
        {
          "output_type": "display_data",
          "data": {
            "text/plain": [
              "<IPython.core.display.HTML object>"
            ],
            "text/html": [
              "<span class=\"tex2jax_ignore\"><div class=\"entities\" style=\"line-height: 2.5; direction: ltr\">   “Lovely,” said \n",
              "<mark class=\"entity\" style=\"background: #aa9cfc; padding: 0.45em 0.6em; margin: 0 0.25em; line-height: 1; border-radius: 0.35em;\">\n",
              "    Rita Skeeter\n",
              "    <span style=\"font-size: 0.8em; font-weight: bold; line-height: 1; border-radius: 0.35em; vertical-align: middle; margin-left: 0.5rem\">PERSON</span>\n",
              "</mark>\n",
              ", and in a \n",
              "<mark class=\"entity\" style=\"background: #e4e7d2; padding: 0.45em 0.6em; margin: 0 0.25em; line-height: 1; border-radius: 0.35em;\">\n",
              "    second\n",
              "    <span style=\"font-size: 0.8em; font-weight: bold; line-height: 1; border-radius: 0.35em; vertical-align: middle; margin-left: 0.5rem\">ORDINAL</span>\n",
              "</mark>\n",
              ", her  scarlet-taloned fingers had \n",
              "<mark class=\"entity\" style=\"background: #aa9cfc; padding: 0.45em 0.6em; margin: 0 0.25em; line-height: 1; border-radius: 0.35em;\">\n",
              "    Harry\n",
              "    <span style=\"font-size: 0.8em; font-weight: bold; line-height: 1; border-radius: 0.35em; vertical-align: middle; margin-left: 0.5rem\">PERSON</span>\n",
              "</mark>\n",
              "’s upper arm in a  surprisingly strong grip, and she was steering him  out of the room again and opening a nearby door</div></span>"
            ]
          },
          "metadata": {}
        },
        {
          "output_type": "stream",
          "name": "stdout",
          "text": [
            " Harry told the turban he didn’t want  to be in Slytherin; it got heavier and heavier; he tried  to pull it off but it tightened painfully — and there  was Malfoy, laughing at him as he struggled with it —  then Malfoy turned into the hook-nosed teacher,  Snape, whose laugh became high and cold — there  was a burst of green light and Harry woke, sweating  and shaking\n"
          ]
        },
        {
          "output_type": "display_data",
          "data": {
            "text/plain": [
              "<IPython.core.display.HTML object>"
            ],
            "text/html": [
              "<span class=\"tex2jax_ignore\"><div class=\"entities\" style=\"line-height: 2.5; direction: ltr\"> Harry told the turban he didn’t want  to be in \n",
              "<mark class=\"entity\" style=\"background: #7aecec; padding: 0.45em 0.6em; margin: 0 0.25em; line-height: 1; border-radius: 0.35em;\">\n",
              "    Slytherin\n",
              "    <span style=\"font-size: 0.8em; font-weight: bold; line-height: 1; border-radius: 0.35em; vertical-align: middle; margin-left: 0.5rem\">ORG</span>\n",
              "</mark>\n",
              "; it got heavier and heavier; he tried  to pull it off but it tightened painfully — and there  was Malfoy, laughing at him as he struggled with it —  then Malfoy turned into the hook-nosed teacher,  Snape, whose laugh became high and cold — there  was a burst of green light and \n",
              "<mark class=\"entity\" style=\"background: #aa9cfc; padding: 0.45em 0.6em; margin: 0 0.25em; line-height: 1; border-radius: 0.35em;\">\n",
              "    Harry\n",
              "    <span style=\"font-size: 0.8em; font-weight: bold; line-height: 1; border-radius: 0.35em; vertical-align: middle; margin-left: 0.5rem\">PERSON</span>\n",
              "</mark>\n",
              " woke, sweating  and shaking</div></span>"
            ]
          },
          "metadata": {}
        },
        {
          "output_type": "stream",
          "name": "stdout",
          "text": [
            " Had Hagrid  collected that package just in time? Where was it  now? And did Hagrid know something about Snape  that he didn’t want to tell Harry?           9      THE MIDNIGHT DUEL   Harry had never believed he would meet a boy he  hated more than Dudley, but that was before he met  Draco Malfoy\n"
          ]
        },
        {
          "output_type": "display_data",
          "data": {
            "text/plain": [
              "<IPython.core.display.HTML object>"
            ],
            "text/html": [
              "<span class=\"tex2jax_ignore\"><div class=\"entities\" style=\"line-height: 2.5; direction: ltr\"> Had Hagrid  collected that package just in time? Where was it  now? And did Hagrid know something about \n",
              "<mark class=\"entity\" style=\"background: #aa9cfc; padding: 0.45em 0.6em; margin: 0 0.25em; line-height: 1; border-radius: 0.35em;\">\n",
              "    Snape\n",
              "    <span style=\"font-size: 0.8em; font-weight: bold; line-height: 1; border-radius: 0.35em; vertical-align: middle; margin-left: 0.5rem\">PERSON</span>\n",
              "</mark>\n",
              "  that he didn’t want to tell \n",
              "<mark class=\"entity\" style=\"background: #aa9cfc; padding: 0.45em 0.6em; margin: 0 0.25em; line-height: 1; border-radius: 0.35em;\">\n",
              "    Harry\n",
              "    <span style=\"font-size: 0.8em; font-weight: bold; line-height: 1; border-radius: 0.35em; vertical-align: middle; margin-left: 0.5rem\">PERSON</span>\n",
              "</mark>\n",
              "?           \n",
              "<mark class=\"entity\" style=\"background: #e4e7d2; padding: 0.45em 0.6em; margin: 0 0.25em; line-height: 1; border-radius: 0.35em;\">\n",
              "    9      \n",
              "    <span style=\"font-size: 0.8em; font-weight: bold; line-height: 1; border-radius: 0.35em; vertical-align: middle; margin-left: 0.5rem\">PERCENT</span>\n",
              "</mark>\n",
              "THE MIDNIGHT DUEL   Harry had never believed he would meet a boy he  hated more than \n",
              "<mark class=\"entity\" style=\"background: #aa9cfc; padding: 0.45em 0.6em; margin: 0 0.25em; line-height: 1; border-radius: 0.35em;\">\n",
              "    Dudley\n",
              "    <span style=\"font-size: 0.8em; font-weight: bold; line-height: 1; border-radius: 0.35em; vertical-align: middle; margin-left: 0.5rem\">PERSON</span>\n",
              "</mark>\n",
              ", but that was before he met  \n",
              "<mark class=\"entity\" style=\"background: #aa9cfc; padding: 0.45em 0.6em; margin: 0 0.25em; line-height: 1; border-radius: 0.35em;\">\n",
              "    Draco Malfoy\n",
              "    <span style=\"font-size: 0.8em; font-weight: bold; line-height: 1; border-radius: 0.35em; vertical-align: middle; margin-left: 0.5rem\">PERSON</span>\n",
              "</mark>\n",
              "</div></span>"
            ]
          },
          "metadata": {}
        },
        {
          "output_type": "stream",
          "name": "stdout",
          "text": [
            "          Dumbledore had told us that he would be leaving the  school for a few hours and that we were to patrol the  corridors just in case  Remus, Bill, and  Nymphadora were to join us  and so we patrolled\n"
          ]
        },
        {
          "output_type": "display_data",
          "data": {
            "text/plain": [
              "<IPython.core.display.HTML object>"
            ],
            "text/html": [
              "<span class=\"tex2jax_ignore\"><div class=\"entities\" style=\"line-height: 2.5; direction: ltr\">          Dumbledore had told us that he would be leaving the  school for \n",
              "<mark class=\"entity\" style=\"background: #bfe1d9; padding: 0.45em 0.6em; margin: 0 0.25em; line-height: 1; border-radius: 0.35em;\">\n",
              "    a few hours\n",
              "    <span style=\"font-size: 0.8em; font-weight: bold; line-height: 1; border-radius: 0.35em; vertical-align: middle; margin-left: 0.5rem\">TIME</span>\n",
              "</mark>\n",
              " and that we were to patrol the  corridors just in case  Remus, Bill, and  Nymphadora were to join us  and so we patrolled</div></span>"
            ]
          },
          "metadata": {}
        },
        {
          "output_type": "stream",
          "name": "stdout",
          "text": [
            "   “I am Remus John Lupin, werewolf, sometimes known  as Moony, one of the four creators of the Marauder’s  Map, married to Nymphadora, usually known as  Tonks, and I taught you how to produce a Patronus,  Harry, which takes the form of a stag\n"
          ]
        },
        {
          "output_type": "display_data",
          "data": {
            "text/plain": [
              "<IPython.core.display.HTML object>"
            ],
            "text/html": [
              "<span class=\"tex2jax_ignore\"><div class=\"entities\" style=\"line-height: 2.5; direction: ltr\">   “I am \n",
              "<mark class=\"entity\" style=\"background: #aa9cfc; padding: 0.45em 0.6em; margin: 0 0.25em; line-height: 1; border-radius: 0.35em;\">\n",
              "    Remus John Lupin\n",
              "    <span style=\"font-size: 0.8em; font-weight: bold; line-height: 1; border-radius: 0.35em; vertical-align: middle; margin-left: 0.5rem\">PERSON</span>\n",
              "</mark>\n",
              ", werewolf, sometimes known  as \n",
              "<mark class=\"entity\" style=\"background: #aa9cfc; padding: 0.45em 0.6em; margin: 0 0.25em; line-height: 1; border-radius: 0.35em;\">\n",
              "    Moony\n",
              "    <span style=\"font-size: 0.8em; font-weight: bold; line-height: 1; border-radius: 0.35em; vertical-align: middle; margin-left: 0.5rem\">PERSON</span>\n",
              "</mark>\n",
              ", \n",
              "<mark class=\"entity\" style=\"background: #e4e7d2; padding: 0.45em 0.6em; margin: 0 0.25em; line-height: 1; border-radius: 0.35em;\">\n",
              "    one\n",
              "    <span style=\"font-size: 0.8em; font-weight: bold; line-height: 1; border-radius: 0.35em; vertical-align: middle; margin-left: 0.5rem\">CARDINAL</span>\n",
              "</mark>\n",
              " of the \n",
              "<mark class=\"entity\" style=\"background: #e4e7d2; padding: 0.45em 0.6em; margin: 0 0.25em; line-height: 1; border-radius: 0.35em;\">\n",
              "    four\n",
              "    <span style=\"font-size: 0.8em; font-weight: bold; line-height: 1; border-radius: 0.35em; vertical-align: middle; margin-left: 0.5rem\">CARDINAL</span>\n",
              "</mark>\n",
              " creators of the \n",
              "<mark class=\"entity\" style=\"background: #bfeeb7; padding: 0.45em 0.6em; margin: 0 0.25em; line-height: 1; border-radius: 0.35em;\">\n",
              "    Marauder\n",
              "    <span style=\"font-size: 0.8em; font-weight: bold; line-height: 1; border-radius: 0.35em; vertical-align: middle; margin-left: 0.5rem\">PRODUCT</span>\n",
              "</mark>\n",
              "’s  Map, married to \n",
              "<mark class=\"entity\" style=\"background: #feca74; padding: 0.45em 0.6em; margin: 0 0.25em; line-height: 1; border-radius: 0.35em;\">\n",
              "    Nymphadora\n",
              "    <span style=\"font-size: 0.8em; font-weight: bold; line-height: 1; border-radius: 0.35em; vertical-align: middle; margin-left: 0.5rem\">GPE</span>\n",
              "</mark>\n",
              ", usually known as  Tonks, and I taught you how to produce a Patronus,  Harry, which takes the form of a stag</div></span>"
            ]
          },
          "metadata": {}
        },
        {
          "output_type": "stream",
          "name": "stdout",
          "text": [
            " We  are very pleased to welcome back Professor Grubbly-  Plank, who will be taking Care of Magical Creatures  lessons; we are also delighted to introduce Professor  Umbridge, our new Defense Against the Dark Arts  teacher\n"
          ]
        },
        {
          "output_type": "display_data",
          "data": {
            "text/plain": [
              "<IPython.core.display.HTML object>"
            ],
            "text/html": [
              "<span class=\"tex2jax_ignore\"><div class=\"entities\" style=\"line-height: 2.5; direction: ltr\"> We  are very pleased to welcome back Professor Grubbly-  \n",
              "<mark class=\"entity\" style=\"background: #7aecec; padding: 0.45em 0.6em; margin: 0 0.25em; line-height: 1; border-radius: 0.35em;\">\n",
              "    Plank\n",
              "    <span style=\"font-size: 0.8em; font-weight: bold; line-height: 1; border-radius: 0.35em; vertical-align: middle; margin-left: 0.5rem\">ORG</span>\n",
              "</mark>\n",
              ", who will be taking \n",
              "<mark class=\"entity\" style=\"background: #7aecec; padding: 0.45em 0.6em; margin: 0 0.25em; line-height: 1; border-radius: 0.35em;\">\n",
              "    Care of Magical Creatures\n",
              "    <span style=\"font-size: 0.8em; font-weight: bold; line-height: 1; border-radius: 0.35em; vertical-align: middle; margin-left: 0.5rem\">ORG</span>\n",
              "</mark>\n",
              "  lessons; we are also delighted to introduce Professor  \n",
              "<mark class=\"entity\" style=\"background: #7aecec; padding: 0.45em 0.6em; margin: 0 0.25em; line-height: 1; border-radius: 0.35em;\">\n",
              "    Umbridge\n",
              "    <span style=\"font-size: 0.8em; font-weight: bold; line-height: 1; border-radius: 0.35em; vertical-align: middle; margin-left: 0.5rem\">ORG</span>\n",
              "</mark>\n",
              ", our new Defense Against the Dark Arts  teacher</div></span>"
            ]
          },
          "metadata": {}
        },
        {
          "output_type": "stream",
          "name": "stdout",
          "text": [
            " As she was not much taller standing than  sitting, there was a moment when nobody understood  why Dumbledore had stopped talking, but then  Professor Umbridge said, “Hem, hem,” and it became  clear that she had got to her feet and was intending to  make a speech\n"
          ]
        },
        {
          "output_type": "display_data",
          "data": {
            "text/plain": [
              "<IPython.core.display.HTML object>"
            ],
            "text/html": [
              "<span class=\"tex2jax_ignore\"><div class=\"entities\" style=\"line-height: 2.5; direction: ltr\"> As she was not much taller standing than  sitting, there was a moment when nobody understood  why Dumbledore had stopped talking, but then  Professor \n",
              "<mark class=\"entity\" style=\"background: #aa9cfc; padding: 0.45em 0.6em; margin: 0 0.25em; line-height: 1; border-radius: 0.35em;\">\n",
              "    Umbridge\n",
              "    <span style=\"font-size: 0.8em; font-weight: bold; line-height: 1; border-radius: 0.35em; vertical-align: middle; margin-left: 0.5rem\">PERSON</span>\n",
              "</mark>\n",
              " said, “\n",
              "<mark class=\"entity\" style=\"background: #aa9cfc; padding: 0.45em 0.6em; margin: 0 0.25em; line-height: 1; border-radius: 0.35em;\">\n",
              "    Hem\n",
              "    <span style=\"font-size: 0.8em; font-weight: bold; line-height: 1; border-radius: 0.35em; vertical-align: middle; margin-left: 0.5rem\">PERSON</span>\n",
              "</mark>\n",
              ", hem,” and it became  clear that she had got to her feet and was intending to  make a speech</div></span>"
            ]
          },
          "metadata": {}
        },
        {
          "output_type": "stream",
          "name": "stdout",
          "text": [
            " Dozens of  heavy spellbooks came thundering down on all their  heads; there was a yell of, “Get him, Dad!” from Fred  or George; Mrs Weasley was shrieking, “No, Arthur,  no!”; the crowd stampeded backward, knocking more  shelves over; “Gentlemen, please — please!” cried the  assistant, and then, louder than all —   “Break it up, there, gents, break it up — ”   Hagrid was wading toward them through the sea of  books\n"
          ]
        },
        {
          "output_type": "display_data",
          "data": {
            "text/plain": [
              "<IPython.core.display.HTML object>"
            ],
            "text/html": [
              "<span class=\"tex2jax_ignore\"><div class=\"entities\" style=\"line-height: 2.5; direction: ltr\"> \n",
              "<mark class=\"entity\" style=\"background: #e4e7d2; padding: 0.45em 0.6em; margin: 0 0.25em; line-height: 1; border-radius: 0.35em;\">\n",
              "    Dozens\n",
              "    <span style=\"font-size: 0.8em; font-weight: bold; line-height: 1; border-radius: 0.35em; vertical-align: middle; margin-left: 0.5rem\">CARDINAL</span>\n",
              "</mark>\n",
              " of  heavy spellbooks came thundering down on all their  heads; there was a yell of, “Get him, Dad!” from \n",
              "<mark class=\"entity\" style=\"background: #aa9cfc; padding: 0.45em 0.6em; margin: 0 0.25em; line-height: 1; border-radius: 0.35em;\">\n",
              "    Fred\n",
              "    <span style=\"font-size: 0.8em; font-weight: bold; line-height: 1; border-radius: 0.35em; vertical-align: middle; margin-left: 0.5rem\">PERSON</span>\n",
              "</mark>\n",
              "  or \n",
              "<mark class=\"entity\" style=\"background: #aa9cfc; padding: 0.45em 0.6em; margin: 0 0.25em; line-height: 1; border-radius: 0.35em;\">\n",
              "    George\n",
              "    <span style=\"font-size: 0.8em; font-weight: bold; line-height: 1; border-radius: 0.35em; vertical-align: middle; margin-left: 0.5rem\">PERSON</span>\n",
              "</mark>\n",
              "; \n",
              "<mark class=\"entity\" style=\"background: #aa9cfc; padding: 0.45em 0.6em; margin: 0 0.25em; line-height: 1; border-radius: 0.35em;\">\n",
              "    Mrs Weasley\n",
              "    <span style=\"font-size: 0.8em; font-weight: bold; line-height: 1; border-radius: 0.35em; vertical-align: middle; margin-left: 0.5rem\">PERSON</span>\n",
              "</mark>\n",
              " was shrieking, “No, \n",
              "<mark class=\"entity\" style=\"background: #aa9cfc; padding: 0.45em 0.6em; margin: 0 0.25em; line-height: 1; border-radius: 0.35em;\">\n",
              "    Arthur\n",
              "    <span style=\"font-size: 0.8em; font-weight: bold; line-height: 1; border-radius: 0.35em; vertical-align: middle; margin-left: 0.5rem\">PERSON</span>\n",
              "</mark>\n",
              ",  no!”; the crowd stampeded backward, knocking more  shelves over; “Gentlemen, please — please!” cried the  assistant, and then, louder than all —   “Break it up, there, gents, break it up — ”   Hagrid was wading toward them through the sea of  books</div></span>"
            ]
          },
          "metadata": {}
        },
        {
          "output_type": "stream",
          "name": "stdout",
          "text": [
            "   It had been clipped out of the Daily Prophet, and it  said:   INQUIRY AT THE MINISTRY OF MAGIC   Arthur Weasley, Head of the Misuse of Muggle  Artifacts Office, was today fined fifty Galleons for  bewitching a Muggle car\n"
          ]
        },
        {
          "output_type": "display_data",
          "data": {
            "text/plain": [
              "<IPython.core.display.HTML object>"
            ],
            "text/html": [
              "<span class=\"tex2jax_ignore\"><div class=\"entities\" style=\"line-height: 2.5; direction: ltr\">   It had been clipped out of \n",
              "<mark class=\"entity\" style=\"background: #ffeb80; padding: 0.45em 0.6em; margin: 0 0.25em; line-height: 1; border-radius: 0.35em;\">\n",
              "    the Daily Prophet\n",
              "    <span style=\"font-size: 0.8em; font-weight: bold; line-height: 1; border-radius: 0.35em; vertical-align: middle; margin-left: 0.5rem\">EVENT</span>\n",
              "</mark>\n",
              ", and it  said:   INQUIRY AT \n",
              "<mark class=\"entity\" style=\"background: #7aecec; padding: 0.45em 0.6em; margin: 0 0.25em; line-height: 1; border-radius: 0.35em;\">\n",
              "    THE MINISTRY OF MAGIC\n",
              "    <span style=\"font-size: 0.8em; font-weight: bold; line-height: 1; border-radius: 0.35em; vertical-align: middle; margin-left: 0.5rem\">ORG</span>\n",
              "</mark>\n",
              "   \n",
              "<mark class=\"entity\" style=\"background: #aa9cfc; padding: 0.45em 0.6em; margin: 0 0.25em; line-height: 1; border-radius: 0.35em;\">\n",
              "    Arthur Weasley\n",
              "    <span style=\"font-size: 0.8em; font-weight: bold; line-height: 1; border-radius: 0.35em; vertical-align: middle; margin-left: 0.5rem\">PERSON</span>\n",
              "</mark>\n",
              ", Head of the Misuse of Muggle  Artifacts Office, was \n",
              "<mark class=\"entity\" style=\"background: #bfe1d9; padding: 0.45em 0.6em; margin: 0 0.25em; line-height: 1; border-radius: 0.35em;\">\n",
              "    today\n",
              "    <span style=\"font-size: 0.8em; font-weight: bold; line-height: 1; border-radius: 0.35em; vertical-align: middle; margin-left: 0.5rem\">DATE</span>\n",
              "</mark>\n",
              " fined \n",
              "<mark class=\"entity\" style=\"background: #e4e7d2; padding: 0.45em 0.6em; margin: 0 0.25em; line-height: 1; border-radius: 0.35em;\">\n",
              "    fifty Galleons\n",
              "    <span style=\"font-size: 0.8em; font-weight: bold; line-height: 1; border-radius: 0.35em; vertical-align: middle; margin-left: 0.5rem\">MONEY</span>\n",
              "</mark>\n",
              " for  bewitching a Muggle car</div></span>"
            ]
          },
          "metadata": {}
        },
        {
          "output_type": "stream",
          "name": "stdout",
          "text": [
            "   “Can you see all your family standing around you?”   “No — I’m alone — but I’m different — I look older —  and I’m Head Boy!”   “What?”           “I am — I’m wearing the badge like Bill used to — and  I’m holding the House Cup and the Quidditch Cup —  I’m Quidditch captain, too!”   Ron tore his eyes away from this splendid sight to  look excitedly at Harry\n"
          ]
        },
        {
          "output_type": "display_data",
          "data": {
            "text/plain": [
              "<IPython.core.display.HTML object>"
            ],
            "text/html": [
              "<span class=\"tex2jax_ignore\"><div class=\"entities\" style=\"line-height: 2.5; direction: ltr\">   “Can you see all your family standing around you?”   “No — I’m alone — but I’m different — I look older —  and I’m Head Boy!”   “What?”           “I am — I’m wearing the badge like \n",
              "<mark class=\"entity\" style=\"background: #aa9cfc; padding: 0.45em 0.6em; margin: 0 0.25em; line-height: 1; border-radius: 0.35em;\">\n",
              "    Bill\n",
              "    <span style=\"font-size: 0.8em; font-weight: bold; line-height: 1; border-radius: 0.35em; vertical-align: middle; margin-left: 0.5rem\">PERSON</span>\n",
              "</mark>\n",
              " used to — and  I’m holding \n",
              "<mark class=\"entity\" style=\"background: #ffeb80; padding: 0.45em 0.6em; margin: 0 0.25em; line-height: 1; border-radius: 0.35em;\">\n",
              "    the House Cup\n",
              "    <span style=\"font-size: 0.8em; font-weight: bold; line-height: 1; border-radius: 0.35em; vertical-align: middle; margin-left: 0.5rem\">EVENT</span>\n",
              "</mark>\n",
              " and \n",
              "<mark class=\"entity\" style=\"background: #ffeb80; padding: 0.45em 0.6em; margin: 0 0.25em; line-height: 1; border-radius: 0.35em;\">\n",
              "    the Quidditch Cup\n",
              "    <span style=\"font-size: 0.8em; font-weight: bold; line-height: 1; border-radius: 0.35em; vertical-align: middle; margin-left: 0.5rem\">EVENT</span>\n",
              "</mark>\n",
              " —  I’m \n",
              "<mark class=\"entity\" style=\"background: #bfeeb7; padding: 0.45em 0.6em; margin: 0 0.25em; line-height: 1; border-radius: 0.35em;\">\n",
              "    Quidditch\n",
              "    <span style=\"font-size: 0.8em; font-weight: bold; line-height: 1; border-radius: 0.35em; vertical-align: middle; margin-left: 0.5rem\">PRODUCT</span>\n",
              "</mark>\n",
              " captain, too!”   Ron tore his eyes away from this splendid sight to  look excitedly at Harry</div></span>"
            ]
          },
          "metadata": {}
        },
        {
          "output_type": "stream",
          "name": "stdout",
          "text": [
            "   “Beds empty\\ No note\\ Car gone — could have crashed  — out of my mind with worry — did you care? —  never, as long as I’ve lived — you wait until your father  gets home, we never had trouble like this from Bill or  Charlie or Percy — ”   “Perfect Percy,” muttered Fred\n"
          ]
        },
        {
          "output_type": "display_data",
          "data": {
            "text/plain": [
              "<IPython.core.display.HTML object>"
            ],
            "text/html": [
              "<span class=\"tex2jax_ignore\"><div class=\"entities\" style=\"line-height: 2.5; direction: ltr\">   “Beds empty\\ No note\\ Car gone — could have crashed  — out of my mind with worry — did you care? —  never, as long as I’ve lived — you wait until your father  gets home, we never had trouble like this from \n",
              "<mark class=\"entity\" style=\"background: #aa9cfc; padding: 0.45em 0.6em; margin: 0 0.25em; line-height: 1; border-radius: 0.35em;\">\n",
              "    Bill\n",
              "    <span style=\"font-size: 0.8em; font-weight: bold; line-height: 1; border-radius: 0.35em; vertical-align: middle; margin-left: 0.5rem\">PERSON</span>\n",
              "</mark>\n",
              " or  \n",
              "<mark class=\"entity\" style=\"background: #f0d0ff; padding: 0.45em 0.6em; margin: 0 0.25em; line-height: 1; border-radius: 0.35em;\">\n",
              "    Charlie or Percy —\n",
              "    <span style=\"font-size: 0.8em; font-weight: bold; line-height: 1; border-radius: 0.35em; vertical-align: middle; margin-left: 0.5rem\">WORK_OF_ART</span>\n",
              "</mark>\n",
              " ”   “\n",
              "<mark class=\"entity\" style=\"background: #f0d0ff; padding: 0.45em 0.6em; margin: 0 0.25em; line-height: 1; border-radius: 0.35em;\">\n",
              "    Perfect Percy\n",
              "    <span style=\"font-size: 0.8em; font-weight: bold; line-height: 1; border-radius: 0.35em; vertical-align: middle; margin-left: 0.5rem\">WORK_OF_ART</span>\n",
              "</mark>\n",
              ",” muttered \n",
              "<mark class=\"entity\" style=\"background: #aa9cfc; padding: 0.45em 0.6em; margin: 0 0.25em; line-height: 1; border-radius: 0.35em;\">\n",
              "    Fred\n",
              "    <span style=\"font-size: 0.8em; font-weight: bold; line-height: 1; border-radius: 0.35em; vertical-align: middle; margin-left: 0.5rem\">PERSON</span>\n",
              "</mark>\n",
              "</div></span>"
            ]
          },
          "metadata": {}
        },
        {
          "output_type": "stream",
          "name": "stdout",
          "text": [
            "   “Beds empty\\ No note\\ Car gone — could have crashed  — out of my mind with worry — did you care? —  never, as long as I’ve lived — you wait until your father  gets home, we never had trouble like this from Bill or  Charlie or Percy — ”   “Perfect Percy,” muttered Fred\n"
          ]
        },
        {
          "output_type": "display_data",
          "data": {
            "text/plain": [
              "<IPython.core.display.HTML object>"
            ],
            "text/html": [
              "<span class=\"tex2jax_ignore\"><div class=\"entities\" style=\"line-height: 2.5; direction: ltr\">   “Beds empty\\ No note\\ Car gone — could have crashed  — out of my mind with worry — did you care? —  never, as long as I’ve lived — you wait until your father  gets home, we never had trouble like this from \n",
              "<mark class=\"entity\" style=\"background: #aa9cfc; padding: 0.45em 0.6em; margin: 0 0.25em; line-height: 1; border-radius: 0.35em;\">\n",
              "    Bill\n",
              "    <span style=\"font-size: 0.8em; font-weight: bold; line-height: 1; border-radius: 0.35em; vertical-align: middle; margin-left: 0.5rem\">PERSON</span>\n",
              "</mark>\n",
              " or  \n",
              "<mark class=\"entity\" style=\"background: #f0d0ff; padding: 0.45em 0.6em; margin: 0 0.25em; line-height: 1; border-radius: 0.35em;\">\n",
              "    Charlie or Percy —\n",
              "    <span style=\"font-size: 0.8em; font-weight: bold; line-height: 1; border-radius: 0.35em; vertical-align: middle; margin-left: 0.5rem\">WORK_OF_ART</span>\n",
              "</mark>\n",
              " ”   “\n",
              "<mark class=\"entity\" style=\"background: #f0d0ff; padding: 0.45em 0.6em; margin: 0 0.25em; line-height: 1; border-radius: 0.35em;\">\n",
              "    Perfect Percy\n",
              "    <span style=\"font-size: 0.8em; font-weight: bold; line-height: 1; border-radius: 0.35em; vertical-align: middle; margin-left: 0.5rem\">WORK_OF_ART</span>\n",
              "</mark>\n",
              ",” muttered \n",
              "<mark class=\"entity\" style=\"background: #aa9cfc; padding: 0.45em 0.6em; margin: 0 0.25em; line-height: 1; border-radius: 0.35em;\">\n",
              "    Fred\n",
              "    <span style=\"font-size: 0.8em; font-weight: bold; line-height: 1; border-radius: 0.35em; vertical-align: middle; margin-left: 0.5rem\">PERSON</span>\n",
              "</mark>\n",
              "</div></span>"
            ]
          },
          "metadata": {}
        },
        {
          "output_type": "stream",
          "name": "stdout",
          "text": [
            " ”   The tiny kitchen exploded with laughter; Harry looked  around and saw that Ron and George were sitting at  the scrubbed wooden table with two red-haired people  Harry had never seen before, though he knew        immediately who they must be: Bill and Charlie, the  two eldest Weasley brothers\n"
          ]
        },
        {
          "output_type": "display_data",
          "data": {
            "text/plain": [
              "<IPython.core.display.HTML object>"
            ],
            "text/html": [
              "<span class=\"tex2jax_ignore\"><div class=\"entities\" style=\"line-height: 2.5; direction: ltr\"> ”   The tiny kitchen exploded with laughter; \n",
              "<mark class=\"entity\" style=\"background: #aa9cfc; padding: 0.45em 0.6em; margin: 0 0.25em; line-height: 1; border-radius: 0.35em;\">\n",
              "    Harry\n",
              "    <span style=\"font-size: 0.8em; font-weight: bold; line-height: 1; border-radius: 0.35em; vertical-align: middle; margin-left: 0.5rem\">PERSON</span>\n",
              "</mark>\n",
              " looked  around and saw that \n",
              "<mark class=\"entity\" style=\"background: #aa9cfc; padding: 0.45em 0.6em; margin: 0 0.25em; line-height: 1; border-radius: 0.35em;\">\n",
              "    Ron\n",
              "    <span style=\"font-size: 0.8em; font-weight: bold; line-height: 1; border-radius: 0.35em; vertical-align: middle; margin-left: 0.5rem\">PERSON</span>\n",
              "</mark>\n",
              " and \n",
              "<mark class=\"entity\" style=\"background: #aa9cfc; padding: 0.45em 0.6em; margin: 0 0.25em; line-height: 1; border-radius: 0.35em;\">\n",
              "    George\n",
              "    <span style=\"font-size: 0.8em; font-weight: bold; line-height: 1; border-radius: 0.35em; vertical-align: middle; margin-left: 0.5rem\">PERSON</span>\n",
              "</mark>\n",
              " were sitting at  the scrubbed wooden table with \n",
              "<mark class=\"entity\" style=\"background: #e4e7d2; padding: 0.45em 0.6em; margin: 0 0.25em; line-height: 1; border-radius: 0.35em;\">\n",
              "    two\n",
              "    <span style=\"font-size: 0.8em; font-weight: bold; line-height: 1; border-radius: 0.35em; vertical-align: middle; margin-left: 0.5rem\">CARDINAL</span>\n",
              "</mark>\n",
              " red-haired people  Harry had never seen before, though he knew        immediately who they must be: \n",
              "<mark class=\"entity\" style=\"background: #aa9cfc; padding: 0.45em 0.6em; margin: 0 0.25em; line-height: 1; border-radius: 0.35em;\">\n",
              "    Bill\n",
              "    <span style=\"font-size: 0.8em; font-weight: bold; line-height: 1; border-radius: 0.35em; vertical-align: middle; margin-left: 0.5rem\">PERSON</span>\n",
              "</mark>\n",
              " and \n",
              "<mark class=\"entity\" style=\"background: #aa9cfc; padding: 0.45em 0.6em; margin: 0 0.25em; line-height: 1; border-radius: 0.35em;\">\n",
              "    Charlie\n",
              "    <span style=\"font-size: 0.8em; font-weight: bold; line-height: 1; border-radius: 0.35em; vertical-align: middle; margin-left: 0.5rem\">PERSON</span>\n",
              "</mark>\n",
              ", the  \n",
              "<mark class=\"entity\" style=\"background: #e4e7d2; padding: 0.45em 0.6em; margin: 0 0.25em; line-height: 1; border-radius: 0.35em;\">\n",
              "    two\n",
              "    <span style=\"font-size: 0.8em; font-weight: bold; line-height: 1; border-radius: 0.35em; vertical-align: middle; margin-left: 0.5rem\">CARDINAL</span>\n",
              "</mark>\n",
              " eldest \n",
              "<mark class=\"entity\" style=\"background: #aa9cfc; padding: 0.45em 0.6em; margin: 0 0.25em; line-height: 1; border-radius: 0.35em;\">\n",
              "    Weasley\n",
              "    <span style=\"font-size: 0.8em; font-weight: bold; line-height: 1; border-radius: 0.35em; vertical-align: middle; margin-left: 0.5rem\">PERSON</span>\n",
              "</mark>\n",
              " brothers</div></span>"
            ]
          },
          "metadata": {}
        },
        {
          "output_type": "stream",
          "name": "stdout",
          "text": [
            " Once he caught  sight of a flash of gold, but it was just a reflection  from one of the Weasleys’ wristwatches, and once a  Bludger decided to come pelting his way, more like a  cannonball than anything, but Harry dodged it and  Fred Weasley came chasing after it\n"
          ]
        },
        {
          "output_type": "display_data",
          "data": {
            "text/plain": [
              "<IPython.core.display.HTML object>"
            ],
            "text/html": [
              "<span class=\"tex2jax_ignore\"><div class=\"entities\" style=\"line-height: 2.5; direction: ltr\"> Once he caught  sight of a flash of gold, but it was just a reflection  from \n",
              "<mark class=\"entity\" style=\"background: #e4e7d2; padding: 0.45em 0.6em; margin: 0 0.25em; line-height: 1; border-radius: 0.35em;\">\n",
              "    one\n",
              "    <span style=\"font-size: 0.8em; font-weight: bold; line-height: 1; border-radius: 0.35em; vertical-align: middle; margin-left: 0.5rem\">CARDINAL</span>\n",
              "</mark>\n",
              " of the Weasleys’ wristwatches, and once a  Bludger decided to come pelting his way, more like a  cannonball than anything, but \n",
              "<mark class=\"entity\" style=\"background: #aa9cfc; padding: 0.45em 0.6em; margin: 0 0.25em; line-height: 1; border-radius: 0.35em;\">\n",
              "    Harry\n",
              "    <span style=\"font-size: 0.8em; font-weight: bold; line-height: 1; border-radius: 0.35em; vertical-align: middle; margin-left: 0.5rem\">PERSON</span>\n",
              "</mark>\n",
              " dodged it and  \n",
              "<mark class=\"entity\" style=\"background: #aa9cfc; padding: 0.45em 0.6em; margin: 0 0.25em; line-height: 1; border-radius: 0.35em;\">\n",
              "    Fred Weasley\n",
              "    <span style=\"font-size: 0.8em; font-weight: bold; line-height: 1; border-radius: 0.35em; vertical-align: middle; margin-left: 0.5rem\">PERSON</span>\n",
              "</mark>\n",
              " came chasing after it</div></span>"
            ]
          },
          "metadata": {}
        },
        {
          "output_type": "stream",
          "name": "stdout",
          "text": [
            "  Harry pulled a wizard cracker with Fred and it didn’t  just bang, it went off with a blast like a cannon and        engulfed them all in a cloud of blue smoke, while from  the inside exploded a rear admiral’s hat and several  live, white mice\n"
          ]
        },
        {
          "output_type": "display_data",
          "data": {
            "text/plain": [
              "<IPython.core.display.HTML object>"
            ],
            "text/html": [
              "<span class=\"tex2jax_ignore\"><div class=\"entities\" style=\"line-height: 2.5; direction: ltr\">  Harry pulled a wizard cracker with \n",
              "<mark class=\"entity\" style=\"background: #aa9cfc; padding: 0.45em 0.6em; margin: 0 0.25em; line-height: 1; border-radius: 0.35em;\">\n",
              "    Fred\n",
              "    <span style=\"font-size: 0.8em; font-weight: bold; line-height: 1; border-radius: 0.35em; vertical-align: middle; margin-left: 0.5rem\">PERSON</span>\n",
              "</mark>\n",
              " and it didn’t  just bang, it went off with a blast like a cannon and        engulfed them all in a cloud of blue smoke, while from  the inside exploded a rear admiral’s hat and several  live, white mice</div></span>"
            ]
          },
          "metadata": {}
        },
        {
          "output_type": "stream",
          "name": "stdout",
          "text": [
            "   After a meal of turkey sandwiches, crumpets, trifle,  and Christmas cake, everyone felt too full and sleepy  to do much before bed except sit and watch Percy  chase Fred and George all over Gryffindor Tower  because they’d stolen his prefect badge\n"
          ]
        },
        {
          "output_type": "display_data",
          "data": {
            "text/plain": [
              "<IPython.core.display.HTML object>"
            ],
            "text/html": [
              "<span class=\"tex2jax_ignore\"><div class=\"entities\" style=\"line-height: 2.5; direction: ltr\">   After a meal of \n",
              "<mark class=\"entity\" style=\"background: #feca74; padding: 0.45em 0.6em; margin: 0 0.25em; line-height: 1; border-radius: 0.35em;\">\n",
              "    turkey\n",
              "    <span style=\"font-size: 0.8em; font-weight: bold; line-height: 1; border-radius: 0.35em; vertical-align: middle; margin-left: 0.5rem\">GPE</span>\n",
              "</mark>\n",
              " sandwiches, crumpets, trifle,  and \n",
              "<mark class=\"entity\" style=\"background: #bfe1d9; padding: 0.45em 0.6em; margin: 0 0.25em; line-height: 1; border-radius: 0.35em;\">\n",
              "    Christmas\n",
              "    <span style=\"font-size: 0.8em; font-weight: bold; line-height: 1; border-radius: 0.35em; vertical-align: middle; margin-left: 0.5rem\">DATE</span>\n",
              "</mark>\n",
              " cake, everyone felt too full and sleepy  to do much before bed except sit and watch \n",
              "<mark class=\"entity\" style=\"background: #aa9cfc; padding: 0.45em 0.6em; margin: 0 0.25em; line-height: 1; border-radius: 0.35em;\">\n",
              "    Percy\n",
              "    <span style=\"font-size: 0.8em; font-weight: bold; line-height: 1; border-radius: 0.35em; vertical-align: middle; margin-left: 0.5rem\">PERSON</span>\n",
              "</mark>\n",
              "  \n",
              "<mark class=\"entity\" style=\"background: #aa9cfc; padding: 0.45em 0.6em; margin: 0 0.25em; line-height: 1; border-radius: 0.35em;\">\n",
              "    chase Fred\n",
              "    <span style=\"font-size: 0.8em; font-weight: bold; line-height: 1; border-radius: 0.35em; vertical-align: middle; margin-left: 0.5rem\">PERSON</span>\n",
              "</mark>\n",
              " and \n",
              "<mark class=\"entity\" style=\"background: #aa9cfc; padding: 0.45em 0.6em; margin: 0 0.25em; line-height: 1; border-radius: 0.35em;\">\n",
              "    George\n",
              "    <span style=\"font-size: 0.8em; font-weight: bold; line-height: 1; border-radius: 0.35em; vertical-align: middle; margin-left: 0.5rem\">PERSON</span>\n",
              "</mark>\n",
              " all over \n",
              "<mark class=\"entity\" style=\"background: #9cc9cc; padding: 0.45em 0.6em; margin: 0 0.25em; line-height: 1; border-radius: 0.35em;\">\n",
              "    Gryffindor Tower\n",
              "    <span style=\"font-size: 0.8em; font-weight: bold; line-height: 1; border-radius: 0.35em; vertical-align: middle; margin-left: 0.5rem\">FAC</span>\n",
              "</mark>\n",
              "  because they’d stolen his prefect badge</div></span>"
            ]
          },
          "metadata": {}
        },
        {
          "output_type": "stream",
          "name": "stdout",
          "text": [
            " “That’s  exactly the sort of thing that’ll lose us the match!  Snape’s refereeing this time, and he’ll be looking for  any excuse to knock points off Gryffindor!”   George Weasley really did fall off his broom at these  words\n"
          ]
        },
        {
          "output_type": "display_data",
          "data": {
            "text/plain": [
              "<IPython.core.display.HTML object>"
            ],
            "text/html": [
              "<span class=\"tex2jax_ignore\"><div class=\"entities\" style=\"line-height: 2.5; direction: ltr\"> “That’s  exactly the sort of thing that’ll lose us the match!  Snape’s refereeing this time, and he’ll be looking for  any excuse to knock points off \n",
              "<mark class=\"entity\" style=\"background: #aa9cfc; padding: 0.45em 0.6em; margin: 0 0.25em; line-height: 1; border-radius: 0.35em;\">\n",
              "    Gryffindor\n",
              "    <span style=\"font-size: 0.8em; font-weight: bold; line-height: 1; border-radius: 0.35em; vertical-align: middle; margin-left: 0.5rem\">PERSON</span>\n",
              "</mark>\n",
              "!”   \n",
              "<mark class=\"entity\" style=\"background: #aa9cfc; padding: 0.45em 0.6em; margin: 0 0.25em; line-height: 1; border-radius: 0.35em;\">\n",
              "    George Weasley\n",
              "    <span style=\"font-size: 0.8em; font-weight: bold; line-height: 1; border-radius: 0.35em; vertical-align: middle; margin-left: 0.5rem\">PERSON</span>\n",
              "</mark>\n",
              " really did fall off his broom at these  words</div></span>"
            ]
          },
          "metadata": {}
        },
        {
          "output_type": "stream",
          "name": "stdout",
          "text": [
            "  “All those raids  I hope they’re paying you  overtime?”   He reached into Ginny’s cauldron and extracted, from  amid the glossy Lockhart books, a very old, very  battered copy of A Beginner’s Guide to Transfiguration\n"
          ]
        },
        {
          "output_type": "display_data",
          "data": {
            "text/plain": [
              "<IPython.core.display.HTML object>"
            ],
            "text/html": [
              "<span class=\"tex2jax_ignore\"><div class=\"entities\" style=\"line-height: 2.5; direction: ltr\">  “All those raids  I hope they’re paying you  overtime?”   He reached into \n",
              "<mark class=\"entity\" style=\"background: #aa9cfc; padding: 0.45em 0.6em; margin: 0 0.25em; line-height: 1; border-radius: 0.35em;\">\n",
              "    Ginny\n",
              "    <span style=\"font-size: 0.8em; font-weight: bold; line-height: 1; border-radius: 0.35em; vertical-align: middle; margin-left: 0.5rem\">PERSON</span>\n",
              "</mark>\n",
              "’s cauldron and extracted, from  amid the glossy \n",
              "<mark class=\"entity\" style=\"background: #7aecec; padding: 0.45em 0.6em; margin: 0 0.25em; line-height: 1; border-radius: 0.35em;\">\n",
              "    Lockhart\n",
              "    <span style=\"font-size: 0.8em; font-weight: bold; line-height: 1; border-radius: 0.35em; vertical-align: middle; margin-left: 0.5rem\">ORG</span>\n",
              "</mark>\n",
              " books, a very old, very  battered copy of \n",
              "<mark class=\"entity\" style=\"background: #f0d0ff; padding: 0.45em 0.6em; margin: 0 0.25em; line-height: 1; border-radius: 0.35em;\">\n",
              "    A Beginner’s Guide to Transfiguration\n",
              "    <span style=\"font-size: 0.8em; font-weight: bold; line-height: 1; border-radius: 0.35em; vertical-align: middle; margin-left: 0.5rem\">WORK_OF_ART</span>\n",
              "</mark>\n",
              "</div></span>"
            ]
          },
          "metadata": {}
        },
        {
          "output_type": "stream",
          "name": "stdout",
          "text": [
            " “The company you keep, Weasley   and I thought your family could sink no lower — ”   There was a thud of metal as Ginny’s cauldron went  flying; Mr Weasley had thrown himself at Mr Malfoy,  knocking him backward into a bookshelf\n"
          ]
        },
        {
          "output_type": "display_data",
          "data": {
            "text/plain": [
              "<IPython.core.display.HTML object>"
            ],
            "text/html": [
              "<span class=\"tex2jax_ignore\"><div class=\"entities\" style=\"line-height: 2.5; direction: ltr\"> “The company you keep, \n",
              "<mark class=\"entity\" style=\"background: #aa9cfc; padding: 0.45em 0.6em; margin: 0 0.25em; line-height: 1; border-radius: 0.35em;\">\n",
              "    Weasley   \n",
              "    <span style=\"font-size: 0.8em; font-weight: bold; line-height: 1; border-radius: 0.35em; vertical-align: middle; margin-left: 0.5rem\">PERSON</span>\n",
              "</mark>\n",
              "and I thought your family could sink no lower — ”   There was a thud of metal as \n",
              "<mark class=\"entity\" style=\"background: #aa9cfc; padding: 0.45em 0.6em; margin: 0 0.25em; line-height: 1; border-radius: 0.35em;\">\n",
              "    Ginny\n",
              "    <span style=\"font-size: 0.8em; font-weight: bold; line-height: 1; border-radius: 0.35em; vertical-align: middle; margin-left: 0.5rem\">PERSON</span>\n",
              "</mark>\n",
              "’s cauldron went  flying; Mr \n",
              "<mark class=\"entity\" style=\"background: #aa9cfc; padding: 0.45em 0.6em; margin: 0 0.25em; line-height: 1; border-radius: 0.35em;\">\n",
              "    Weasley\n",
              "    <span style=\"font-size: 0.8em; font-weight: bold; line-height: 1; border-radius: 0.35em; vertical-align: middle; margin-left: 0.5rem\">PERSON</span>\n",
              "</mark>\n",
              " had thrown himself at \n",
              "<mark class=\"entity\" style=\"background: #aa9cfc; padding: 0.45em 0.6em; margin: 0 0.25em; line-height: 1; border-radius: 0.35em;\">\n",
              "    Mr Malfoy\n",
              "    <span style=\"font-size: 0.8em; font-weight: bold; line-height: 1; border-radius: 0.35em; vertical-align: middle; margin-left: 0.5rem\">PERSON</span>\n",
              "</mark>\n",
              ",  knocking him backward into a bookshelf</div></span>"
            ]
          },
          "metadata": {}
        },
        {
          "output_type": "stream",
          "name": "stdout",
          "text": [
            "   “Well, there are an awful lot of wizard fires to choose  from, you know, but as long as you’ve spoken clearly     “He’ll be fine, Molly, don’t fuss,” said Mr Weasley,  helping himself to Floo powder, too\n"
          ]
        },
        {
          "output_type": "display_data",
          "data": {
            "text/plain": [
              "<IPython.core.display.HTML object>"
            ],
            "text/html": [
              "<span class=\"tex2jax_ignore\"><div class=\"entities\" style=\"line-height: 2.5; direction: ltr\">   “Well, there are an awful lot of wizard fires to choose  from, you know, but as long as you’ve spoken clearly     “He’ll be fine, Molly, don’t fuss,” said \n",
              "<mark class=\"entity\" style=\"background: #aa9cfc; padding: 0.45em 0.6em; margin: 0 0.25em; line-height: 1; border-radius: 0.35em;\">\n",
              "    Mr Weasley\n",
              "    <span style=\"font-size: 0.8em; font-weight: bold; line-height: 1; border-radius: 0.35em; vertical-align: middle; margin-left: 0.5rem\">PERSON</span>\n",
              "</mark>\n",
              ",  helping himself to \n",
              "<mark class=\"entity\" style=\"background: #aa9cfc; padding: 0.45em 0.6em; margin: 0 0.25em; line-height: 1; border-radius: 0.35em;\">\n",
              "    Floo\n",
              "    <span style=\"font-size: 0.8em; font-weight: bold; line-height: 1; border-radius: 0.35em; vertical-align: middle; margin-left: 0.5rem\">PERSON</span>\n",
              "</mark>\n",
              " powder, too</div></span>"
            ]
          },
          "metadata": {}
        },
        {
          "output_type": "stream",
          "name": "stdout",
          "text": [
            "”   “But he’s not dead, he’s fine, so what’s the point — ”   “Molly, they say Sirius Black’s mad, and maybe he is,  but he was clever enough to escape from Azkaban,  and that’s supposed to be impossible\n"
          ]
        },
        {
          "output_type": "display_data",
          "data": {
            "text/plain": [
              "<IPython.core.display.HTML object>"
            ],
            "text/html": [
              "<span class=\"tex2jax_ignore\"><div class=\"entities\" style=\"line-height: 2.5; direction: ltr\">”   “But he’s not dead, he’s fine, so what’s the point — ”   “Molly, they say \n",
              "<mark class=\"entity\" style=\"background: #7aecec; padding: 0.45em 0.6em; margin: 0 0.25em; line-height: 1; border-radius: 0.35em;\">\n",
              "    Sirius Black’s\n",
              "    <span style=\"font-size: 0.8em; font-weight: bold; line-height: 1; border-radius: 0.35em; vertical-align: middle; margin-left: 0.5rem\">ORG</span>\n",
              "</mark>\n",
              " mad, and maybe he is,  but he was clever enough to escape from \n",
              "<mark class=\"entity\" style=\"background: #7aecec; padding: 0.45em 0.6em; margin: 0 0.25em; line-height: 1; border-radius: 0.35em;\">\n",
              "    Azkaban\n",
              "    <span style=\"font-size: 0.8em; font-weight: bold; line-height: 1; border-radius: 0.35em; vertical-align: middle; margin-left: 0.5rem\">ORG</span>\n",
              "</mark>\n",
              ",  and that’s supposed to be impossible</div></span>"
            ]
          },
          "metadata": {}
        },
        {
          "output_type": "stream",
          "name": "stdout",
          "text": [
            "”   On Harry’s other side, Percy Weasley and Hermione  were talking about lessons (“I do hope they start right  away, there’s so much to learn, I’m particularly  interested in Transfiguration, you know, turning  something into something else, of course, it’s  supposed to be very difficult — “You’ll be starting  small, just matches into needles and that sort of  thing — ”)\n"
          ]
        },
        {
          "output_type": "display_data",
          "data": {
            "text/plain": [
              "<IPython.core.display.HTML object>"
            ],
            "text/html": [
              "<span class=\"tex2jax_ignore\"><div class=\"entities\" style=\"line-height: 2.5; direction: ltr\">”   On Harry’s other side, \n",
              "<mark class=\"entity\" style=\"background: #aa9cfc; padding: 0.45em 0.6em; margin: 0 0.25em; line-height: 1; border-radius: 0.35em;\">\n",
              "    Percy Weasley\n",
              "    <span style=\"font-size: 0.8em; font-weight: bold; line-height: 1; border-radius: 0.35em; vertical-align: middle; margin-left: 0.5rem\">PERSON</span>\n",
              "</mark>\n",
              " and \n",
              "<mark class=\"entity\" style=\"background: #aa9cfc; padding: 0.45em 0.6em; margin: 0 0.25em; line-height: 1; border-radius: 0.35em;\">\n",
              "    Hermione\n",
              "    <span style=\"font-size: 0.8em; font-weight: bold; line-height: 1; border-radius: 0.35em; vertical-align: middle; margin-left: 0.5rem\">PERSON</span>\n",
              "</mark>\n",
              "  were talking about lessons (“I do hope they start right  away, there’s so much to learn, I’m particularly  interested in Transfiguration, you know, turning  something into something else, of course, it’s  supposed to be very difficult — “You’ll be starting  small, just matches into needles and that sort of  thing — ”)</div></span>"
            ]
          },
          "metadata": {}
        },
        {
          "output_type": "stream",
          "name": "stdout",
          "text": [
            " He  was too sleepy even to be surprised that the people in  the portraits along the corridors whispered and  pointed as they passed, or that twice Percy led them  through doorways hidden behind sliding panels and  hanging tapestries\n"
          ]
        },
        {
          "output_type": "display_data",
          "data": {
            "text/plain": [
              "<IPython.core.display.HTML object>"
            ],
            "text/html": [
              "<span class=\"tex2jax_ignore\"><div class=\"entities\" style=\"line-height: 2.5; direction: ltr\"> He  was too sleepy even to be surprised that the people in  the portraits along the corridors whispered and  pointed as they passed, or that twice \n",
              "<mark class=\"entity\" style=\"background: #aa9cfc; padding: 0.45em 0.6em; margin: 0 0.25em; line-height: 1; border-radius: 0.35em;\">\n",
              "    Percy\n",
              "    <span style=\"font-size: 0.8em; font-weight: bold; line-height: 1; border-radius: 0.35em; vertical-align: middle; margin-left: 0.5rem\">PERSON</span>\n",
              "</mark>\n",
              " led them  through doorways hidden behind sliding panels and  hanging tapestries</div></span>"
            ]
          },
          "metadata": {}
        },
        {
          "output_type": "stream",
          "name": "stdout",
          "text": [
            "   Around half past twelve there was a great clattering  outside in the corridor and a smiling, dimpled woman  slid back their door and said, “Anything off the cart,  dears?”   Harry, who hadn’t had any breakfast, leapt to his feet,  but Ron’s ears went pink again and he muttered that  he’d brought sandwiches\n"
          ]
        },
        {
          "output_type": "display_data",
          "data": {
            "text/plain": [
              "<IPython.core.display.HTML object>"
            ],
            "text/html": [
              "<span class=\"tex2jax_ignore\"><div class=\"entities\" style=\"line-height: 2.5; direction: ltr\">   \n",
              "<mark class=\"entity\" style=\"background: #e4e7d2; padding: 0.45em 0.6em; margin: 0 0.25em; line-height: 1; border-radius: 0.35em;\">\n",
              "    Around half past twelve\n",
              "    <span style=\"font-size: 0.8em; font-weight: bold; line-height: 1; border-radius: 0.35em; vertical-align: middle; margin-left: 0.5rem\">CARDINAL</span>\n",
              "</mark>\n",
              " there was a great clattering  outside in the corridor and a smiling, dimpled woman  slid back their door and said, “Anything off the cart,  dears?”   Harry, who hadn’t had any breakfast, leapt to his feet,  but \n",
              "<mark class=\"entity\" style=\"background: #aa9cfc; padding: 0.45em 0.6em; margin: 0 0.25em; line-height: 1; border-radius: 0.35em;\">\n",
              "    Ron\n",
              "    <span style=\"font-size: 0.8em; font-weight: bold; line-height: 1; border-radius: 0.35em; vertical-align: middle; margin-left: 0.5rem\">PERSON</span>\n",
              "</mark>\n",
              "’s ears went pink again and he muttered that  he’d brought sandwiches</div></span>"
            ]
          },
          "metadata": {}
        },
        {
          "output_type": "stream",
          "name": "stdout",
          "text": [
            "”   Feeling oddly as though his legs had turned to lead,  Harry got into line behind a boy with sandy hair, with  Ron behind him, and they walked out of the chamber,  back across the hall, and through a pair of double  doors into the Great Hall\n"
          ]
        },
        {
          "output_type": "display_data",
          "data": {
            "text/plain": [
              "<IPython.core.display.HTML object>"
            ],
            "text/html": [
              "<span class=\"tex2jax_ignore\"><div class=\"entities\" style=\"line-height: 2.5; direction: ltr\">”   Feeling oddly as though his legs had turned to lead,  Harry got into line behind a boy with sandy hair, with  Ron behind him, and they walked out of the chamber,  back across the hall, and through a pair of double  doors into \n",
              "<mark class=\"entity\" style=\"background: #9cc9cc; padding: 0.45em 0.6em; margin: 0 0.25em; line-height: 1; border-radius: 0.35em;\">\n",
              "    the Great Hall\n",
              "    <span style=\"font-size: 0.8em; font-weight: bold; line-height: 1; border-radius: 0.35em; vertical-align: middle; margin-left: 0.5rem\">FAC</span>\n",
              "</mark>\n",
              "</div></span>"
            ]
          },
          "metadata": {}
        },
        {
          "output_type": "stream",
          "name": "stdout",
          "text": [
            " “Dobby has never  been asked to sit down by a wizard — like an equal —     Harry, trying to say “Shh!” and look comforting at the  same time, ushered Dobby back onto the bed where  he sat hiccoughing, looking like a large and very ugly  doll\n"
          ]
        },
        {
          "output_type": "display_data",
          "data": {
            "text/plain": [
              "<IPython.core.display.HTML object>"
            ],
            "text/html": [
              "<span class=\"tex2jax_ignore\"><div class=\"entities\" style=\"line-height: 2.5; direction: ltr\"> “Dobby has never  been asked to sit down by a wizard — like an equal —     Harry, trying to say “Shh!” and look comforting at the  same time, ushered Dobby back onto the bed where  he sat hiccoughing, looking like a large and very ugly  doll</div></span>"
            ]
          },
          "metadata": {}
        },
        {
          "output_type": "stream",
          "name": "stdout",
          "text": [
            " Then, without warning, he  leapt up and started banging his head furiously on  the window, shouting, “Bad Dobby! Bad Dobby!”   “Don’t — what are you doing?” Harry hissed,  springing up and pulling Dobby back onto the bed —  Hedwig had woken up with a particularly loud  screech and was beating her wings wildly against the  bars of her cage\n"
          ]
        },
        {
          "output_type": "display_data",
          "data": {
            "text/plain": [
              "<IPython.core.display.HTML object>"
            ],
            "text/html": [
              "<span class=\"tex2jax_ignore\"><div class=\"entities\" style=\"line-height: 2.5; direction: ltr\"> Then, without warning, he  leapt up and started banging his head furiously on  the window, shouting, “Bad Dobby! Bad Dobby!”   “Don’t — what are you doing?” \n",
              "<mark class=\"entity\" style=\"background: #aa9cfc; padding: 0.45em 0.6em; margin: 0 0.25em; line-height: 1; border-radius: 0.35em;\">\n",
              "    Harry\n",
              "    <span style=\"font-size: 0.8em; font-weight: bold; line-height: 1; border-radius: 0.35em; vertical-align: middle; margin-left: 0.5rem\">PERSON</span>\n",
              "</mark>\n",
              " hissed,  springing up and pulling \n",
              "<mark class=\"entity\" style=\"background: #aa9cfc; padding: 0.45em 0.6em; margin: 0 0.25em; line-height: 1; border-radius: 0.35em;\">\n",
              "    Dobby\n",
              "    <span style=\"font-size: 0.8em; font-weight: bold; line-height: 1; border-radius: 0.35em; vertical-align: middle; margin-left: 0.5rem\">PERSON</span>\n",
              "</mark>\n",
              " back onto the bed —  Hedwig had woken up with a particularly loud  screech and was beating her wings wildly against the  bars of her cage</div></span>"
            ]
          },
          "metadata": {}
        },
        {
          "output_type": "stream",
          "name": "stdout",
          "text": [
            " He  asked if he knew how to get past Fluffy — and he said  something about Quirrell’s ‘hocus-pocus’ — I reckon  there are other things guarding the stone apart from  Fluffy, loads of enchantments, probably, and Quirrell           would have done some anti-Dark Arts spell that  Snape needs to break through — ”   “So you mean the Stone’s only safe as long as Quirrell  stands up to Snape?” said Hermione in alarm\n"
          ]
        },
        {
          "output_type": "display_data",
          "data": {
            "text/plain": [
              "<IPython.core.display.HTML object>"
            ],
            "text/html": [
              "<span class=\"tex2jax_ignore\"><div class=\"entities\" style=\"line-height: 2.5; direction: ltr\"> He  asked if he knew how to get past Fluffy — and he said  something about \n",
              "<mark class=\"entity\" style=\"background: #aa9cfc; padding: 0.45em 0.6em; margin: 0 0.25em; line-height: 1; border-radius: 0.35em;\">\n",
              "    Quirrell\n",
              "    <span style=\"font-size: 0.8em; font-weight: bold; line-height: 1; border-radius: 0.35em; vertical-align: middle; margin-left: 0.5rem\">PERSON</span>\n",
              "</mark>\n",
              "’s ‘hocus-pocus’ — I reckon  there are other things guarding the stone apart from  Fluffy, loads of enchantments, probably, and \n",
              "<mark class=\"entity\" style=\"background: #7aecec; padding: 0.45em 0.6em; margin: 0 0.25em; line-height: 1; border-radius: 0.35em;\">\n",
              "    Quirrell           \n",
              "    <span style=\"font-size: 0.8em; font-weight: bold; line-height: 1; border-radius: 0.35em; vertical-align: middle; margin-left: 0.5rem\">ORG</span>\n",
              "</mark>\n",
              "would have done some anti-Dark Arts spell that  Snape needs to break through — ”   “So you mean the \n",
              "<mark class=\"entity\" style=\"background: #7aecec; padding: 0.45em 0.6em; margin: 0 0.25em; line-height: 1; border-radius: 0.35em;\">\n",
              "    Stone\n",
              "    <span style=\"font-size: 0.8em; font-weight: bold; line-height: 1; border-radius: 0.35em; vertical-align: middle; margin-left: 0.5rem\">ORG</span>\n",
              "</mark>\n",
              "’s only safe as long as \n",
              "<mark class=\"entity\" style=\"background: #aa9cfc; padding: 0.45em 0.6em; margin: 0 0.25em; line-height: 1; border-radius: 0.35em;\">\n",
              "    Quirrell\n",
              "    <span style=\"font-size: 0.8em; font-weight: bold; line-height: 1; border-radius: 0.35em; vertical-align: middle; margin-left: 0.5rem\">PERSON</span>\n",
              "</mark>\n",
              "  stands up to Snape?” said \n",
              "<mark class=\"entity\" style=\"background: #aa9cfc; padding: 0.45em 0.6em; margin: 0 0.25em; line-height: 1; border-radius: 0.35em;\">\n",
              "    Hermione\n",
              "    <span style=\"font-size: 0.8em; font-weight: bold; line-height: 1; border-radius: 0.35em; vertical-align: middle; margin-left: 0.5rem\">PERSON</span>\n",
              "</mark>\n",
              " in alarm</div></span>"
            ]
          },
          "metadata": {}
        },
        {
          "output_type": "stream",
          "name": "stdout",
          "text": [
            " “Don’ go shoutin’ about it,  what’s the matter with yeh?”   “There are a few things we wanted to ask you, as a  matter of fact,” said Harry, “about what’s guarding  the Stone apart from Fluffy — ”   “SHHHH!” said Hagrid again\n"
          ]
        },
        {
          "output_type": "display_data",
          "data": {
            "text/plain": [
              "<IPython.core.display.HTML object>"
            ],
            "text/html": [
              "<span class=\"tex2jax_ignore\"><div class=\"entities\" style=\"line-height: 2.5; direction: ltr\"> “Don’ go shoutin’ about it,  what’s the matter with \n",
              "<mark class=\"entity\" style=\"background: #aa9cfc; padding: 0.45em 0.6em; margin: 0 0.25em; line-height: 1; border-radius: 0.35em;\">\n",
              "    yeh\n",
              "    <span style=\"font-size: 0.8em; font-weight: bold; line-height: 1; border-radius: 0.35em; vertical-align: middle; margin-left: 0.5rem\">PERSON</span>\n",
              "</mark>\n",
              "?”   “There are a few things we wanted to ask you, as a  matter of fact,” said \n",
              "<mark class=\"entity\" style=\"background: #aa9cfc; padding: 0.45em 0.6em; margin: 0 0.25em; line-height: 1; border-radius: 0.35em;\">\n",
              "    Harry\n",
              "    <span style=\"font-size: 0.8em; font-weight: bold; line-height: 1; border-radius: 0.35em; vertical-align: middle; margin-left: 0.5rem\">PERSON</span>\n",
              "</mark>\n",
              ", “about what’s guarding  the \n",
              "<mark class=\"entity\" style=\"background: #7aecec; padding: 0.45em 0.6em; margin: 0 0.25em; line-height: 1; border-radius: 0.35em;\">\n",
              "    Stone\n",
              "    <span style=\"font-size: 0.8em; font-weight: bold; line-height: 1; border-radius: 0.35em; vertical-align: middle; margin-left: 0.5rem\">ORG</span>\n",
              "</mark>\n",
              " apart from Fluffy — ”   “\n",
              "<mark class=\"entity\" style=\"background: #7aecec; padding: 0.45em 0.6em; margin: 0 0.25em; line-height: 1; border-radius: 0.35em;\">\n",
              "    SHHHH\n",
              "    <span style=\"font-size: 0.8em; font-weight: bold; line-height: 1; border-radius: 0.35em; vertical-align: middle; margin-left: 0.5rem\">ORG</span>\n",
              "</mark>\n",
              "!” said Hagrid again</div></span>"
            ]
          },
          "metadata": {}
        },
        {
          "output_type": "stream",
          "name": "stdout",
          "text": [
            " Then, without warning, he  leapt up and started banging his head furiously on  the window, shouting, “Bad Dobby! Bad Dobby!”   “Don’t — what are you doing?” Harry hissed,  springing up and pulling Dobby back onto the bed —  Hedwig had woken up with a particularly loud  screech and was beating her wings wildly against the  bars of her cage\n"
          ]
        },
        {
          "output_type": "display_data",
          "data": {
            "text/plain": [
              "<IPython.core.display.HTML object>"
            ],
            "text/html": [
              "<span class=\"tex2jax_ignore\"><div class=\"entities\" style=\"line-height: 2.5; direction: ltr\"> Then, without warning, he  leapt up and started banging his head furiously on  the window, shouting, “Bad Dobby! Bad Dobby!”   “Don’t — what are you doing?” \n",
              "<mark class=\"entity\" style=\"background: #aa9cfc; padding: 0.45em 0.6em; margin: 0 0.25em; line-height: 1; border-radius: 0.35em;\">\n",
              "    Harry\n",
              "    <span style=\"font-size: 0.8em; font-weight: bold; line-height: 1; border-radius: 0.35em; vertical-align: middle; margin-left: 0.5rem\">PERSON</span>\n",
              "</mark>\n",
              " hissed,  springing up and pulling \n",
              "<mark class=\"entity\" style=\"background: #aa9cfc; padding: 0.45em 0.6em; margin: 0 0.25em; line-height: 1; border-radius: 0.35em;\">\n",
              "    Dobby\n",
              "    <span style=\"font-size: 0.8em; font-weight: bold; line-height: 1; border-radius: 0.35em; vertical-align: middle; margin-left: 0.5rem\">PERSON</span>\n",
              "</mark>\n",
              " back onto the bed —  Hedwig had woken up with a particularly loud  screech and was beating her wings wildly against the  bars of her cage</div></span>"
            ]
          },
          "metadata": {}
        },
        {
          "output_type": "stream",
          "name": "stdout",
          "text": [
            "   Both trolleys hit the barrier and bounced backward;  Ron’s trunk fell off with a loud thump, Harry was  knocked off his feet, and Hedwig’s cage bounced onto  the shiny floor, and she rolled away, shrieking  indignantly; people all around them stared and a  guard nearby yelled, “What in blazes d’you think  you’re doing?”   “Lost control of the trolley,” Harry gasped, clutching  his ribs as he got up\n"
          ]
        },
        {
          "output_type": "display_data",
          "data": {
            "text/plain": [
              "<IPython.core.display.HTML object>"
            ],
            "text/html": [
              "<span class=\"tex2jax_ignore\"><div class=\"entities\" style=\"line-height: 2.5; direction: ltr\">   Both trolleys hit the barrier and bounced backward;  Ron’s trunk fell off with a loud thump, \n",
              "<mark class=\"entity\" style=\"background: #aa9cfc; padding: 0.45em 0.6em; margin: 0 0.25em; line-height: 1; border-radius: 0.35em;\">\n",
              "    Harry\n",
              "    <span style=\"font-size: 0.8em; font-weight: bold; line-height: 1; border-radius: 0.35em; vertical-align: middle; margin-left: 0.5rem\">PERSON</span>\n",
              "</mark>\n",
              " was  knocked off his feet, and \n",
              "<mark class=\"entity\" style=\"background: #aa9cfc; padding: 0.45em 0.6em; margin: 0 0.25em; line-height: 1; border-radius: 0.35em;\">\n",
              "    Hedwig\n",
              "    <span style=\"font-size: 0.8em; font-weight: bold; line-height: 1; border-radius: 0.35em; vertical-align: middle; margin-left: 0.5rem\">PERSON</span>\n",
              "</mark>\n",
              "’s cage bounced onto  the shiny floor, and she rolled away, shrieking  indignantly; people all around them stared and a  guard nearby yelled, “What in blazes d’you think  you’re doing?”   “Lost control of the trolley,” \n",
              "<mark class=\"entity\" style=\"background: #aa9cfc; padding: 0.45em 0.6em; margin: 0 0.25em; line-height: 1; border-radius: 0.35em;\">\n",
              "    Harry\n",
              "    <span style=\"font-size: 0.8em; font-weight: bold; line-height: 1; border-radius: 0.35em; vertical-align: middle; margin-left: 0.5rem\">PERSON</span>\n",
              "</mark>\n",
              " gasped, clutching  his ribs as he got up</div></span>"
            ]
          },
          "metadata": {}
        },
        {
          "output_type": "stream",
          "name": "stdout",
          "text": [
            "   Myrtle gave a tragic sob, rose up in the air, turned  over, and dived headfirst into the toilet, splashing  water all over them and vanishing from sight,  although from the direction of her muffled sobs, she  had come to rest somewhere in the U-bend\n"
          ]
        },
        {
          "output_type": "display_data",
          "data": {
            "text/plain": [
              "<IPython.core.display.HTML object>"
            ],
            "text/html": [
              "<span class=\"tex2jax_ignore\"><div class=\"entities\" style=\"line-height: 2.5; direction: ltr\">   \n",
              "<mark class=\"entity\" style=\"background: #7aecec; padding: 0.45em 0.6em; margin: 0 0.25em; line-height: 1; border-radius: 0.35em;\">\n",
              "    Myrtle\n",
              "    <span style=\"font-size: 0.8em; font-weight: bold; line-height: 1; border-radius: 0.35em; vertical-align: middle; margin-left: 0.5rem\">ORG</span>\n",
              "</mark>\n",
              " gave a tragic sob, rose up in the air, turned  over, and dived headfirst into the toilet, splashing  water all over them and vanishing from sight,  although from the direction of her muffled sobs, she  had come to rest somewhere in the U-bend</div></span>"
            ]
          },
          "metadata": {}
        },
        {
          "output_type": "stream",
          "name": "stdout",
          "text": [
            " “Come to  throw something else at me?”   Harry waded across to her stall and said, “Why would  I throw something at you?”   “Don’t ask me,” Myrtle shouted, emerging with a wave  of yet more water, which splashed onto the already  sopping floor\n"
          ]
        },
        {
          "output_type": "display_data",
          "data": {
            "text/plain": [
              "<IPython.core.display.HTML object>"
            ],
            "text/html": [
              "<span class=\"tex2jax_ignore\"><div class=\"entities\" style=\"line-height: 2.5; direction: ltr\"> “Come to  throw something else at me?”   Harry waded across to her stall and said, “Why would  I throw something at you?”   “Don’t ask me,” \n",
              "<mark class=\"entity\" style=\"background: #aa9cfc; padding: 0.45em 0.6em; margin: 0 0.25em; line-height: 1; border-radius: 0.35em;\">\n",
              "    Myrtle\n",
              "    <span style=\"font-size: 0.8em; font-weight: bold; line-height: 1; border-radius: 0.35em; vertical-align: middle; margin-left: 0.5rem\">PERSON</span>\n",
              "</mark>\n",
              " shouted, emerging with a wave  of yet more water, which splashed onto the already  sopping floor</div></span>"
            ]
          },
          "metadata": {}
        },
        {
          "output_type": "stream",
          "name": "stdout",
          "text": [
            "”   Aragog clicked his pincers furiously, and all around  the hollow the sound was echoed by the crowd of         spiders; it was like applause, except applause didn’t  usually make Harry feel sick with fear\n"
          ]
        },
        {
          "output_type": "display_data",
          "data": {
            "text/plain": [
              "<IPython.core.display.HTML object>"
            ],
            "text/html": [
              "<span class=\"tex2jax_ignore\"><div class=\"entities\" style=\"line-height: 2.5; direction: ltr\">”   \n",
              "<mark class=\"entity\" style=\"background: #bfeeb7; padding: 0.45em 0.6em; margin: 0 0.25em; line-height: 1; border-radius: 0.35em;\">\n",
              "    Aragog\n",
              "    <span style=\"font-size: 0.8em; font-weight: bold; line-height: 1; border-radius: 0.35em; vertical-align: middle; margin-left: 0.5rem\">PRODUCT</span>\n",
              "</mark>\n",
              " clicked his pincers furiously, and all around  the hollow the sound was echoed by the crowd of         spiders; it was like applause, except applause didn’t  usually make Harry feel sick with fear</div></span>"
            ]
          },
          "metadata": {}
        },
        {
          "output_type": "stream",
          "name": "stdout",
          "text": [
            " For nearly a  quarter of an hour he spoke into the rapt silence: He  told them about hearing the disembodied voice, how  Hermione had finally realized that he was hearing a  basilisk in the pipes; how he and Ron had followed  the spiders into the forest, that Aragog had told them  where the last victim of the basilisk had died; how he  had guessed that Moaning Myrtle had been the  victim, and that the entrance to the Chamber of  Secrets might be in her bathroom\n"
          ]
        },
        {
          "output_type": "display_data",
          "data": {
            "text/plain": [
              "<IPython.core.display.HTML object>"
            ],
            "text/html": [
              "<span class=\"tex2jax_ignore\"><div class=\"entities\" style=\"line-height: 2.5; direction: ltr\"> For \n",
              "<mark class=\"entity\" style=\"background: #bfe1d9; padding: 0.45em 0.6em; margin: 0 0.25em; line-height: 1; border-radius: 0.35em;\">\n",
              "    nearly a  quarter\n",
              "    <span style=\"font-size: 0.8em; font-weight: bold; line-height: 1; border-radius: 0.35em; vertical-align: middle; margin-left: 0.5rem\">DATE</span>\n",
              "</mark>\n",
              " of an hour he spoke into the rapt silence: He  told them about hearing the disembodied voice, how  Hermione had finally realized that he was hearing a  basilisk in the pipes; how he and \n",
              "<mark class=\"entity\" style=\"background: #aa9cfc; padding: 0.45em 0.6em; margin: 0 0.25em; line-height: 1; border-radius: 0.35em;\">\n",
              "    Ron\n",
              "    <span style=\"font-size: 0.8em; font-weight: bold; line-height: 1; border-radius: 0.35em; vertical-align: middle; margin-left: 0.5rem\">PERSON</span>\n",
              "</mark>\n",
              " had followed  the spiders into the forest, that \n",
              "<mark class=\"entity\" style=\"background: #7aecec; padding: 0.45em 0.6em; margin: 0 0.25em; line-height: 1; border-radius: 0.35em;\">\n",
              "    Aragog\n",
              "    <span style=\"font-size: 0.8em; font-weight: bold; line-height: 1; border-radius: 0.35em; vertical-align: middle; margin-left: 0.5rem\">ORG</span>\n",
              "</mark>\n",
              " had told them  where the last victim of the basilisk had died; how he  had guessed that Moaning Myrtle had been the  victim, and that the entrance to the Chamber of  Secrets might be in her bathroom</div></span>"
            ]
          },
          "metadata": {}
        },
        {
          "output_type": "stream",
          "name": "stdout",
          "text": [
            " The back, under what  looked like a dirty brownish smock comprised of  animal skins sewn roughly together, was very broad,  and as Grawp slept, it seemed to strain a little at the  rough seams of the skins\n"
          ]
        },
        {
          "output_type": "display_data",
          "data": {
            "text/plain": [
              "<IPython.core.display.HTML object>"
            ],
            "text/html": [
              "<span class=\"tex2jax_ignore\"><div class=\"entities\" style=\"line-height: 2.5; direction: ltr\"> The back, under what  looked like a dirty brownish smock comprised of  animal skins sewn roughly together, was very broad,  and as \n",
              "<mark class=\"entity\" style=\"background: #7aecec; padding: 0.45em 0.6em; margin: 0 0.25em; line-height: 1; border-radius: 0.35em;\">\n",
              "    Grawp\n",
              "    <span style=\"font-size: 0.8em; font-weight: bold; line-height: 1; border-radius: 0.35em; vertical-align: middle; margin-left: 0.5rem\">ORG</span>\n",
              "</mark>\n",
              " slept, it seemed to strain a little at the  rough seams of the skins</div></span>"
            ]
          },
          "metadata": {}
        },
        {
          "output_type": "stream",
          "name": "stdout",
          "text": [
            " “An’ I don’ wan’ yeh ter  put yerself out too much, like I know yeh’ve got  exams If yeh could jus’ nip down here in yer  Invisibility Cloak maybe once a week an’ have a little  chat with him  I’ll wake him up, then — introduce  you — ”   “Wha — no!” said Hermione, jumping up, “Hagrid, no,  don’t wake him, really, we don’t need — ”   But Hagrid had already stepped over the great trunk  in front of them and was proceeding toward Grawp\n"
          ]
        },
        {
          "output_type": "display_data",
          "data": {
            "text/plain": [
              "<IPython.core.display.HTML object>"
            ],
            "text/html": [
              "<span class=\"tex2jax_ignore\"><div class=\"entities\" style=\"line-height: 2.5; direction: ltr\"> “An’ I don’ wan’ \n",
              "<mark class=\"entity\" style=\"background: #aa9cfc; padding: 0.45em 0.6em; margin: 0 0.25em; line-height: 1; border-radius: 0.35em;\">\n",
              "    yeh ter\n",
              "    <span style=\"font-size: 0.8em; font-weight: bold; line-height: 1; border-radius: 0.35em; vertical-align: middle; margin-left: 0.5rem\">PERSON</span>\n",
              "</mark>\n",
              "  put yerself out too much, like I know yeh’ve got  exams If \n",
              "<mark class=\"entity\" style=\"background: #aa9cfc; padding: 0.45em 0.6em; margin: 0 0.25em; line-height: 1; border-radius: 0.35em;\">\n",
              "    yeh\n",
              "    <span style=\"font-size: 0.8em; font-weight: bold; line-height: 1; border-radius: 0.35em; vertical-align: middle; margin-left: 0.5rem\">PERSON</span>\n",
              "</mark>\n",
              " could jus’ nip down here in yer  \n",
              "<mark class=\"entity\" style=\"background: #bfeeb7; padding: 0.45em 0.6em; margin: 0 0.25em; line-height: 1; border-radius: 0.35em;\">\n",
              "    Invisibility Cloak\n",
              "    <span style=\"font-size: 0.8em; font-weight: bold; line-height: 1; border-radius: 0.35em; vertical-align: middle; margin-left: 0.5rem\">PRODUCT</span>\n",
              "</mark>\n",
              " maybe once a week an’ have a little  chat with him  I’ll wake him up, then — introduce  you — ”   “Wha — no!” said \n",
              "<mark class=\"entity\" style=\"background: #aa9cfc; padding: 0.45em 0.6em; margin: 0 0.25em; line-height: 1; border-radius: 0.35em;\">\n",
              "    Hermione\n",
              "    <span style=\"font-size: 0.8em; font-weight: bold; line-height: 1; border-radius: 0.35em; vertical-align: middle; margin-left: 0.5rem\">PERSON</span>\n",
              "</mark>\n",
              ", jumping up, “Hagrid, no,  don’t wake him, really, we don’t need — ”   But Hagrid had already stepped over the great trunk  in front of them and was proceeding toward \n",
              "<mark class=\"entity\" style=\"background: #7aecec; padding: 0.45em 0.6em; margin: 0 0.25em; line-height: 1; border-radius: 0.35em;\">\n",
              "    Grawp\n",
              "    <span style=\"font-size: 0.8em; font-weight: bold; line-height: 1; border-radius: 0.35em; vertical-align: middle; margin-left: 0.5rem\">ORG</span>\n",
              "</mark>\n",
              "</div></span>"
            ]
          },
          "metadata": {}
        }
      ]
    },
    {
      "cell_type": "markdown",
      "source": [
        "### Selezione delle Label e creazione del dataframe per l'evaluation di NER"
      ],
      "metadata": {
        "id": "kFc1kq-ffraR"
      }
    },
    {
      "cell_type": "code",
      "source": [
        "# caricamento dati\n",
        "name_entity_label_risultati=[]\n",
        "df_ner = pd.DataFrame()\n",
        "df_ner[\"frase\"] = df[\"phrase\"]\n",
        "df_ner[\"ner\"] = 0\n",
        "sentence = list(df[\"phrase\"])\n",
        "print(sentence)\n",
        "contatore=1\n",
        "lista_entità_person=[]\n",
        "lista_entità_product=[]\n",
        "lista_entità_org=[]\n",
        "for i in sentence:\n",
        "  x = []\n",
        "  doc = nlp(i)\n",
        "  for ent in doc.ents:\n",
        "    x.append({\"label\" : ent.label_ ,  \"start\" : ent.start_char , \"end\" : ent.end_char})\n",
        "    if(ent.label_ == \"PERSON\"):\n",
        "      lista_entità_person.append(ent.text)\n",
        "    elif(ent.label_ == \"PRODUCT\"):\n",
        "      lista_entità_product.append(ent.text)\n",
        "    elif(ent.label_ == \"ORG\"):\n",
        "      lista_entità_org.append(ent.text)\n",
        "  df_ner[\"ner\"][contatore] = x\n",
        "  name_entity_label_risultati.append(x)\n",
        "  contatore = contatore + 1\n",
        "\n",
        "\n",
        "print(df_ner[\"ner\"])\n",
        "print(name_entity_label_risultati)\n"
      ],
      "metadata": {
        "colab": {
          "base_uri": "https://localhost:8080/"
        },
        "id": "RrHORMea0Lxl",
        "outputId": "1338866c-1cc7-4960-e68f-a36b70f3206a"
      },
      "execution_count": 16,
      "outputs": [
        {
          "output_type": "stream",
          "name": "stdout",
          "text": [
            "[' The Dark Mark  had been set over it — well, frankly, I’m surprised he  stayed alive for even a year after deserting the Death  Eaters; Sirius’s brother, Regulus, only managed a few  days as far as I can remember', ' It  was a pompous little sign, neatly lettered by hand,  the sort of thing that Percy Weasley might have stuck  on his bedroom door:   Do Not Enter   Without the Express Permission of  Regulus Arcturus Black   Excitement trickled through Harry, but he was not  immediately sure why', '”   Harry held the paper up to the candlelight and read:  BLACK STILL AT LARGE   Sirius Black, possibly the most infamous prisoner  ever to be held in Azkaban fortress, is still eluding  capture, the Ministry of Magic confirmed today', '        Harry spent the long sunny days exploring the shops  and eating under the brightly colored umbrellas  outside cafes, where his fellow diners were showing  one another their purchases (“it’s a lunascope, old  boy — no more messing around with moon charts,  see?”) or else discussing the case of Sirius Black  (“personally, I won’t let any of the children out alone  until he’s back in Azkaban”)', ' What she did have were Bertie Bott’s  Every Flavor Beans, Drooble’s Best Blowing Gum,  Chocolate Frogs, Pumpkin Pasties, Cauldron Cakes,  Licorice Wands, and a number of other strange things  Harry had never seen in his life', '   Choose, unless you wish to stay here forevermore,   To help you in your choice, we give you these clues  four:   First, however slyly the poison tries to hide   You will always find some on nettle wine’s left side;   Second, different are those who stand at either end,   But if you would move onward, neither is your friend;   Third, as you see clearly, all are different size,   Neither dwarf nor giant holds death in their insides;   Fourth, the second left and the second on the right   Are twins once you taste them, though different at first  sight         Hermione let out a great sigh and Harry, amazed, saw  that she was smiling, the very last thing he felt like  doing', '   Scabbers the rat was hanging off his finger, sharp  little teeth sunk deep into Goyle ’s knuckle — Crabbe  and Malfoy backed away as Goyle swung Scabbers  round and round, howling, and when Scabbers finally  flew off and hit the window, all three of them  disappeared at once', '”   Malfoy swaggered forward when his name was called  and got his wish at once: the hat had barely touched  his head when it screamed, “SLYTHERIN!”   Malfoy went to join his friends Crabbe and Goyle,  looking pleased with himself', '”   “Oh Bagman’s likable enough, of course,” said Percy  dismissively, “but how he ever got to be Head of  Department  when I compare him to Mr Crouch! I  can’t see Mr Crouch losing a member of our  department and not trying to find out what’s  happened to them', '  Mr Crouch has been taking a personal interest, she  worked in our department at one time, you know, and  I think Mr Crouch was quite fond of her — but  Bagman just keeps laughing and saying she probably  misread the map and ended up in Australia instead of  Albania', ' “Why  are you disturbing these people? Minerva, I’m  surprised at you — I asked you to stand guard over  Barty Crouch — ”   “There is no need to stand guard over him anymore,  Dumbledore!” she shrieked', '   “The champion for Beauxbatons,” said Dumbledore,   “is Fleur Delacour!”   “It’s her, Ron!” Harry shouted as the girl who so  resembled a veela got gracefully to her feet, shook  back her sheet of silvery blonde hair, and swept up  between the Ravenclaw and Hufflepuff tables', ' “Miss Delacour, if you please!”     Fleur was trembling from head to foot; Harry felt more  warmly toward her than he had done so far as she left  the tent with her head held high and her hand  clutching her wand', ' Cedric Diggory was  pelting up the field, and a tiny speck of gold was  shimmering in the rain-filled air between them —   With a jolt of panic, Harry threw himself flat to the  broom-handle and zoomed toward the Snitch', '  Cedric Diggory came over to congratulate Harry on  having acquired such a superb replacement for his  Nimbus, and Percy’s Ravenclaw girlfriend, Penelope  Clearwater, asked if she could actually hold the  Firebolt', ' It was all over the  papers, but did Aberforth hide? No, he did not! He  held his head high and went about his business as  usual! Of course, I’m not entirely sure he can read, so  that may not have been bravery', '   “That’s Dumbledore’s brother, Aberforth, only time I  ever met him, strange bloke  That’s Dorcas  Meadowes, Voldemort killed her personally  Sirius,  when he still had short hair  and  there you go,  thought that would interest you!”   Harry’s heart turned over', ' You know what  everyone’s saying? About why he’s disappeared?   About what finally stopped him?”   It seemed that Professor McGonagall had reached the  point she was most anxious to discuss, the real  reason she had been waiting on a cold, hard wall all  day, for neither as a cat nor as a woman had she  fixed Dumbledore with such a piercing stare as she  did now', ' “Really, Dumbledore,  you think you can explain all this in a letter? These  people will never understand him! He’ll be famous —  a legend — I wouldn’t be surprised if today was  known as Harry Potter Day in the future — there will  be books written about Harry — every child in our  world will know his name!”   “Exactly,” said Dumbledore, looking very seriously  over the top of his half-moon glasses', '   At that moment the telephone rang and Aunt Petunia  went to answer it while Harry and Uncle Vernon  watched Dudley unwrap the racing bike, a video  camera, a remote control airplane, sixteen new  computer games, and a VCR', '   Once, Aunt Petunia, tired of Harry coming back from  the barbers looking as though he hadn’t been at all,  had taken a pair of kitchen scissors and cut his hair  so short he was almost bald except for his bangs,  which she left “to hide that horrible scar', '   At that moment the telephone rang and Aunt Petunia  went to answer it while Harry and Uncle Vernon  watched Dudley unwrap the racing bike, a video  camera, a remote control airplane, sixteen new  computer games, and a VCR', ' They  ate in the zoo restaurant, and when Dudley had a  tantrum because his knickerbocker glory didn’t have  enough ice cream on top, Uncle Vernon bought him  another one and Harry was allowed to finish the first', ' He would drop  wastepaper baskets on your head, pull rugs from  under your feet, pelt you with bits of chalk, or sneak  up behind you, invisible, grab your nose, and screech,  “GOT YOUR CONK!”   Even worse than Peeves, if that was possible, was the  caretaker, Argus Filch', '   “RUN!” Harry yelled, and the four of them sprinted  down the gallery, not looking back to see whether  Filch was following — they swung around the  doorpost and galloped down one corridor then  another, Harry in the lead, without any idea where  they were or where they were going — they ripped  through a tapestry and found themselves in a hidden  passageway, hurtled along it and came out near their  Charms classroom, which they knew was miles from  the trophy room', ' For one thing, when Seamus  Finnigan asked eagerly to hear how Quirrell had  fought off the zombie, Quirrell went pink and started  talking about the weather; for another, they had  noticed that a funny smell hung around the turban,  and the Weasley twins insisted that it was stuffed full  of garlic as well, so that Quirrell was protected  wherever he went', '   All the same, it wasn’t what you’d call the perfect end  to the day, Harry thought, as he lay awake much later  listening to Dean and Seamus falling asleep (Neville  wasn’t back from the hospital wing)', ' “Can I have a frog? I might get Agrippa — thanks     Harry turned over his card and read:   ALBUS DUMBLEDORE   CURRENTLY HEADMASTER OF HOGWARTS   Considered by many the greatest wizard of modern  times, Dumbledore is particularly famous for his  defeat of the Dark wizard Grindelwald in 1945, for the  discovery of the twelve uses of dragon’s blood, and his  work on alchemy with his partner, Nicolas Flamel', ' You forget that dog, an’  you forget what it’s guardin’, that’s between Professor  Dumbledore an’ Nicolas Flamel — ■”   “Aha!” said Harry, “so there’s someone called Nicolas  Flamel involved, is there?”   Hagrid looked furious with himself', ' At the same time, Stan shouted, “Blimey!  Ern, come ’ere! Come ’ere!”   Harry looked up at the owner of the hand on his  shoulder and felt a bucketful of ice cascade into his  stomach — he had walked right into Cornelius Fudge,  the Minister of Magic himself', '   Professors McGonagall and Flitwick had just entered  the pub with a flurry of snowflakes, shortly followed  by Hagrid, who was deep in conversation with a portly  man in a lime-green bowler hat and a pinstriped  cloak — Cornelius Fudge, Minister of Magic', '   Scabbers the rat was hanging off his finger, sharp  little teeth sunk deep into Goyle ’s knuckle — Crabbe  and Malfoy backed away as Goyle swung Scabbers  round and round, howling, and when Scabbers finally  flew off and hit the window, all three of them  disappeared at once', '”   Malfoy swaggered forward when his name was called  and got his wish at once: the hat had barely touched  his head when it screamed, “SLYTHERIN!”   Malfoy went to join his friends Crabbe and Goyle,  looking pleased with himself', ' Nobody in  my family’s magic at all, it was ever such a surprise  when I got my letter, but I was ever so pleased, of  course, I mean, it’s the very best school of witchcraft  there is, I’ve heard — I’ve learned all our course books  by heart, of course, I just hope it will be enough — I’m  Hermione Granger, by the way, who are you?”   She said all this very fast', '”   On Harry’s other side, Percy Weasley and Hermione  were talking about lessons (“I do hope they start right  away, there’s so much to learn, I’m particularly  interested in Transfiguration, you know, turning  something into something else, of course, it’s  supposed to be very difficult — “You’ll be starting  small, just matches into needles and that sort of  thing — ”)', ' “But I c-c-  can’t stand it — Lily an’ James dead — an’ poor little  Harry off ter live with Muggles — ”   “Yes, yes, it’s all very sad, but get a grip on yourself,  Hagrid, or we’ll be found,” Professor McGonagall  whispered, patting Hagrid gingerly on the arm as  Dumbledore stepped over the low garden wall and  walked to the front door', ' For a full minute the three of them stood  and looked at the little bundle; Hagrid’s shoulders  shook, Professor McGonagall blinked furiously, and  the twinkling light that usually shone from  Dumbledore’s eyes seemed to have gone out', ' Rowling      Karkaroff had a fruity, unctuous voice; when he  stepped into the light pouring from the front doors of  the castle they saw that he was tall and thin like  Dumbledore, but his white hair was short, and his  goatee (finishing in a small curl) did not entirely hide  his rather weak chin', '   “Mr Bagman and Mr Crouch have worked tirelessly  over the last few months on the arrangements for the  Triwizard Tournament,” Dumbledore continued, “and  they will be joining myself, Professor Karkaroff, and  Madame Maxime on the panel that will judge the  champions’ efforts', '   One hundred thousand wizards gasped as the two  Seekers, Krum and Lynch, plummeted through the  center of the Chasers, so fast that it looked as though  they had just jumped from airplanes without  parachutes', ' “Krum was feinting!”   “It’s time-out!” yelled Bagman’s voice, “as trained  mediwizards hurry onto the field to examine Aidan  Lynch!”         “He’ll be okay, he only got ploughed!” Charlie said  reassuringly to Ginny, who was hanging over the side  of the box, looking horror-struck', ' Rowling      And Harry remembered: He had seen Bellatrix  Lestrange inside Dumbledore’s Pensieve, the strange  device in which thoughts and memories could be  stored: a tall dark woman with heavy-lidded eyes,  who had stood at her trial and proclaimed her  continuing allegiance to Lord Voldemort, her pride  that she had tried to find him after his downfall and  her conviction that she would one day be rewarded  for her loyalty', ' Their glass  might be shattered, but still the little black-and-white  people inside them peered haughtily up at him,  including — he felt a little jolt in his stomach — the  dark, heavy-lidded woman whose trial he had  witnessed in Dumbledore’s Pensieve: Bellatrix  Lestrange', ' That’s Frank and  Alice Longbottom — ”   Harry’s stomach, already uncomfortable, clenched as  he looked at Alice Longbottom; he knew her round,  friendly face very well, even though he had never met  her, because she was the image of her son, Neville', ' The four of you stand accused of  capturing an Auror — Frank Longbottom — and  subjecting him to the Cruciatus Curse, believing him  to have knowledge of the present whereabouts of your  exiled master, He-Who-Must-Not-Be-Named — ”   “Father, I didn’t!” shrieked the boy in chains below', ' “I  didn’t, I swear it, Father, don’t send me back to the  dementors — ”   “You are further accused,” bellowed Mr Crouch, “of  using the Cruciatus Curse on Frank Longbottom’s  wife, when he would not give you information', ' What if he  wasn’t chosen at all? What if he just sat there with  the hat over his eyes for ages, until Professor  McGonagall jerked it off his head and said there had  obviously been a mistake and he’d better get back on  the train?   When Neville Longbottom, the boy who kept losing his  toad, was called, he fell over on his way to the stool', ' Within  seconds, the whole class was standing on their stools  while Neville, who had been drenched in the potion  when the cauldron collapsed, moaned in pain as  angry red boils sprang up all over his arms and legs', ' “You didn’t tell us where that maniac’s  escaped from! What use is that? Lunatic could be  coming up the street right now!”   Aunt Petunia, who was bony and horse-faced,  whipped around and peered intently out of the  kitchen window', ' Utterly nonplussed, he  looked around at the others, who were now laughing  at the expression on Ron’s face and at the ludicrously  prolonged laughter of Luna Lovegood, who was  rocking backward and forward, clutching her sides', '   Barely ten seconds passed, then the door was flung  open and there stood Xenophilius Lovegood, barefoot  and wearing what appeared to be a stained nightshirt  His long white candyfloss hair was dirty and  unkempt', '   “Excuse me,” said Xenophilius, and he strode over to  the machine, seized a grubby tablecloth from beneath  an immense number of books and papers, which all  tumbled onto the floor, and threw it over the press,  somewhat muffling the loud bangs and clatters', ' “You went sort of rigid  and fell out of your seat and started twitching — ”   “And Professor Lupin stepped over you, and walked  toward the dementor, and pulled out his wand,” said  Hermione, “and he said, ‘None of us is hiding Sirius  Black under our cloaks', '   But Harry didn’t go back to the common room; he  climbed a staircase, thinking vaguely of visiting the  Owlery to see Hedwig, and was walking along another  corridor when a voice from inside one of the rooms  said, “Harry?”   Harry doubled back to see who had spoken and met  Professor Lupin, looking around his office door', ' Had Hagrid  collected that package just in time? Where was it  now? And did Hagrid know something about Snape  that he didn’t want to tell Harry?           9      THE MIDNIGHT DUEL   Harry had never believed he would meet a boy he  hated more than Dudley, but that was before he met  Draco Malfoy', ' Look, you hold it tight like this  and if it turns red — oh ” His face fell, because the  Remembrall had suddenly glowed scarlet, “ you’ve  forgotten something ”   Neville was trying to remember what he’d forgotten  when Draco Malfoy, who was passing the Gryffindor  table, snatched the Remembrall out of his hand', ' Don’t go biting off more  than you can chew — ”   “So you don’t think I’m a match for Lucius Malfoy?”  said Mr Weasley indignantly, but he was distracted  almost at once by the sight of Hermione’s parents,  who were standing nervously at the counter that ran  all along the great marble hall, waiting for Hermione  to introduce them', ' “Get  outta my house!”   “My dear man, please believe me, I have no pleasure  at all in being inside your — er — d’you call this a  house?” said Lucius Malfoy, sneering as he looked  around the small cabin', '  “Here? In this Muggle dunghill? We must be the first  of our kind ever to set foot — ”           But Narcissa was not listening; she had slipped  through a gap in the rusty railings and was already  hurrying across the road', '   “Cissy, your own sister? You wouldn’t — ”   “There is nothing I wouldn’t do anymore!” Narcissa  breathed, a note of hysteria in her voice, and as she  brought down the wand like a knife, there was  another flash of light', ' We was pretendin’ we  was goin’ on holiday together, so we got inter France  an’ we made like we was headin’ fer where Olympe’s  school is, ’cause we knew we was bein’ tailed by  someone from the Ministry', ' You know what  everyone’s saying? About why he’s disappeared?   About what finally stopped him?”   It seemed that Professor McGonagall had reached the  point she was most anxious to discuss, the real  reason she had been waiting on a cold, hard wall all  day, for neither as a cat nor as a woman had she  fixed Dumbledore with such a piercing stare as she  did now', ' Famous before he can  walk and talk! Famous for something he won’t even  remember! Can’t you see how much better off he’ll be,  growing up away from all that until he’s ready to take  it?”     Professor McGonagall opened her mouth, changed her  mind, swallowed, and then said, “Yes — yes, you’re  right, of course', '   “As I was saying,” he said, smiling at the sea of  students before him, all of whom were still gazing  transfixed at Mad-Eye Moody, “we are to have the  honor of hosting a very exciting event over the coming  months, an event that has not been held for over a  century', ' Mr  Weasley appears to have rushed to the aid of “Mad-  Eye” Moody, the aged ex-Auror who retired from the  Ministry when no longer able to tell the difference  between a handshake and attempted murder', ' Moony, Wormtail, Padfoot, and Prongs   Purveyors of Aids to Magical Mischief-Makers   are proud to present   THE MARAUDER’S MAP           It was a map showing every detail of the Hogwarts  castle and grounds', ' perhaps the task of nursing  me has become wearisome for you, “Wormtail? Could  this suggestion of abandoning the plan be nothing  more than an attempt to desert me?”   “My Lord! I — I have no wish to leave you, none at all     “Do not lie to me!” hissed the second voice', ' “Really, Dumbledore,  you think you can explain all this in a letter? These  people will never understand him! He’ll be famous —  a legend — I wouldn’t be surprised if today was  known as Harry Potter Day in the future — there will  be books written about Harry — every child in our  world will know his name!”   “Exactly,” said Dumbledore, looking very seriously  over the top of his half-moon glasses', ' “But I c-c-  can’t stand it — Lily an’ James dead — an’ poor little  Harry off ter live with Muggles — ”   “Yes, yes, it’s all very sad, but get a grip on yourself,  Hagrid, or we’ll be found,” Professor McGonagall  whispered, patting Hagrid gingerly on the arm as  Dumbledore stepped over the low garden wall and  walked to the front door', ' “How  could a car crash kill Lily an’ James Potter? It’s an  outrage! A scandal! Harry Potter not knowin’ his own  story when every kid in our world knows his name!”   “But why? What happened?” Harry asked urgently', '     “Disciplinary hearing of the twelfth of August,” said  Fudge in a ringing voice, and Percy began taking  notes at once, “into offenses committed under the  Decree for the Reasonable Restriction of Underage  Sorcery and the International Statute of Secrecy by  Harry James Potter, resident at number four, Privet  Drive, Little Whinging, Surrey', ' “As I say, even if You-Know-Who has  gone — ”   “My dear Professor, surely a sensible person like  yourself can call him by his name? All this You-  Know-Who’ nonsense — for eleven years I have been  trying to persuade people to call him by his proper  name: Voldemort', '             THROUGH THE TRAPDOOR   In years to come, Harry would never quite remember  how he had managed to get through his exams when  he half expected Voldemort to come bursting through  the door at any moment', ' “I had to come into the office early to  send a couple of owls, and I found the Improper Use  of Magic lot all setting off — if Rita Skeeter gets hold  of this one, Arthur — ”   “What does Mad-Eye say happened?” asked Mr  Weasley, unscrewing the ink bottle, loading up his  quill, and preparing to take notes', '   “Lovely,” said Rita Skeeter, and in a second, her  scarlet-taloned fingers had Harry’s upper arm in a  surprisingly strong grip, and she was steering him  out of the room again and opening a nearby door', ' Harry told the turban he didn’t want  to be in Slytherin; it got heavier and heavier; he tried  to pull it off but it tightened painfully — and there  was Malfoy, laughing at him as he struggled with it —  then Malfoy turned into the hook-nosed teacher,  Snape, whose laugh became high and cold — there  was a burst of green light and Harry woke, sweating  and shaking', ' Had Hagrid  collected that package just in time? Where was it  now? And did Hagrid know something about Snape  that he didn’t want to tell Harry?           9      THE MIDNIGHT DUEL   Harry had never believed he would meet a boy he  hated more than Dudley, but that was before he met  Draco Malfoy', '          Dumbledore had told us that he would be leaving the  school for a few hours and that we were to patrol the  corridors just in case  Remus, Bill, and  Nymphadora were to join us  and so we patrolled', '   “I am Remus John Lupin, werewolf, sometimes known  as Moony, one of the four creators of the Marauder’s  Map, married to Nymphadora, usually known as  Tonks, and I taught you how to produce a Patronus,  Harry, which takes the form of a stag', ' We  are very pleased to welcome back Professor Grubbly-  Plank, who will be taking Care of Magical Creatures  lessons; we are also delighted to introduce Professor  Umbridge, our new Defense Against the Dark Arts  teacher', ' As she was not much taller standing than  sitting, there was a moment when nobody understood  why Dumbledore had stopped talking, but then  Professor Umbridge said, “Hem, hem,” and it became  clear that she had got to her feet and was intending to  make a speech', ' Dozens of  heavy spellbooks came thundering down on all their  heads; there was a yell of, “Get him, Dad!” from Fred  or George; Mrs Weasley was shrieking, “No, Arthur,  no!”; the crowd stampeded backward, knocking more  shelves over; “Gentlemen, please — please!” cried the  assistant, and then, louder than all —   “Break it up, there, gents, break it up — ”   Hagrid was wading toward them through the sea of  books', '   It had been clipped out of the Daily Prophet, and it  said:   INQUIRY AT THE MINISTRY OF MAGIC   Arthur Weasley, Head of the Misuse of Muggle  Artifacts Office, was today fined fifty Galleons for  bewitching a Muggle car', '   “Can you see all your family standing around you?”   “No — I’m alone — but I’m different — I look older —  and I’m Head Boy!”   “What?”           “I am — I’m wearing the badge like Bill used to — and  I’m holding the House Cup and the Quidditch Cup —  I’m Quidditch captain, too!”   Ron tore his eyes away from this splendid sight to  look excitedly at Harry', '   “Beds empty\\\\ No note\\\\ Car gone — could have crashed  — out of my mind with worry — did you care? —  never, as long as I’ve lived — you wait until your father  gets home, we never had trouble like this from Bill or  Charlie or Percy — ”   “Perfect Percy,” muttered Fred', '   “Beds empty\\\\ No note\\\\ Car gone — could have crashed  — out of my mind with worry — did you care? —  never, as long as I’ve lived — you wait until your father  gets home, we never had trouble like this from Bill or  Charlie or Percy — ”   “Perfect Percy,” muttered Fred', ' ”   The tiny kitchen exploded with laughter; Harry looked  around and saw that Ron and George were sitting at  the scrubbed wooden table with two red-haired people  Harry had never seen before, though he knew        immediately who they must be: Bill and Charlie, the  two eldest Weasley brothers', ' Once he caught  sight of a flash of gold, but it was just a reflection  from one of the Weasleys’ wristwatches, and once a  Bludger decided to come pelting his way, more like a  cannonball than anything, but Harry dodged it and  Fred Weasley came chasing after it', '  Harry pulled a wizard cracker with Fred and it didn’t  just bang, it went off with a blast like a cannon and        engulfed them all in a cloud of blue smoke, while from  the inside exploded a rear admiral’s hat and several  live, white mice', '   After a meal of turkey sandwiches, crumpets, trifle,  and Christmas cake, everyone felt too full and sleepy  to do much before bed except sit and watch Percy  chase Fred and George all over Gryffindor Tower  because they’d stolen his prefect badge', ' “That’s  exactly the sort of thing that’ll lose us the match!  Snape’s refereeing this time, and he’ll be looking for  any excuse to knock points off Gryffindor!”   George Weasley really did fall off his broom at these  words', '  “All those raids  I hope they’re paying you  overtime?”   He reached into Ginny’s cauldron and extracted, from  amid the glossy Lockhart books, a very old, very  battered copy of A Beginner’s Guide to Transfiguration', ' “The company you keep, Weasley   and I thought your family could sink no lower — ”   There was a thud of metal as Ginny’s cauldron went  flying; Mr Weasley had thrown himself at Mr Malfoy,  knocking him backward into a bookshelf', '   “Well, there are an awful lot of wizard fires to choose  from, you know, but as long as you’ve spoken clearly     “He’ll be fine, Molly, don’t fuss,” said Mr Weasley,  helping himself to Floo powder, too', '”   “But he’s not dead, he’s fine, so what’s the point — ”   “Molly, they say Sirius Black’s mad, and maybe he is,  but he was clever enough to escape from Azkaban,  and that’s supposed to be impossible', '”   On Harry’s other side, Percy Weasley and Hermione  were talking about lessons (“I do hope they start right  away, there’s so much to learn, I’m particularly  interested in Transfiguration, you know, turning  something into something else, of course, it’s  supposed to be very difficult — “You’ll be starting  small, just matches into needles and that sort of  thing — ”)', ' He  was too sleepy even to be surprised that the people in  the portraits along the corridors whispered and  pointed as they passed, or that twice Percy led them  through doorways hidden behind sliding panels and  hanging tapestries', '   Around half past twelve there was a great clattering  outside in the corridor and a smiling, dimpled woman  slid back their door and said, “Anything off the cart,  dears?”   Harry, who hadn’t had any breakfast, leapt to his feet,  but Ron’s ears went pink again and he muttered that  he’d brought sandwiches', '”   Feeling oddly as though his legs had turned to lead,  Harry got into line behind a boy with sandy hair, with  Ron behind him, and they walked out of the chamber,  back across the hall, and through a pair of double  doors into the Great Hall', ' “Dobby has never  been asked to sit down by a wizard — like an equal —     Harry, trying to say “Shh!” and look comforting at the  same time, ushered Dobby back onto the bed where  he sat hiccoughing, looking like a large and very ugly  doll', ' Then, without warning, he  leapt up and started banging his head furiously on  the window, shouting, “Bad Dobby! Bad Dobby!”   “Don’t — what are you doing?” Harry hissed,  springing up and pulling Dobby back onto the bed —  Hedwig had woken up with a particularly loud  screech and was beating her wings wildly against the  bars of her cage', ' He  asked if he knew how to get past Fluffy — and he said  something about Quirrell’s ‘hocus-pocus’ — I reckon  there are other things guarding the stone apart from  Fluffy, loads of enchantments, probably, and Quirrell           would have done some anti-Dark Arts spell that  Snape needs to break through — ”   “So you mean the Stone’s only safe as long as Quirrell  stands up to Snape?” said Hermione in alarm', ' “Don’ go shoutin’ about it,  what’s the matter with yeh?”   “There are a few things we wanted to ask you, as a  matter of fact,” said Harry, “about what’s guarding  the Stone apart from Fluffy — ”   “SHHHH!” said Hagrid again', ' Then, without warning, he  leapt up and started banging his head furiously on  the window, shouting, “Bad Dobby! Bad Dobby!”   “Don’t — what are you doing?” Harry hissed,  springing up and pulling Dobby back onto the bed —  Hedwig had woken up with a particularly loud  screech and was beating her wings wildly against the  bars of her cage', '   Both trolleys hit the barrier and bounced backward;  Ron’s trunk fell off with a loud thump, Harry was  knocked off his feet, and Hedwig’s cage bounced onto  the shiny floor, and she rolled away, shrieking  indignantly; people all around them stared and a  guard nearby yelled, “What in blazes d’you think  you’re doing?”   “Lost control of the trolley,” Harry gasped, clutching  his ribs as he got up', '   Myrtle gave a tragic sob, rose up in the air, turned  over, and dived headfirst into the toilet, splashing  water all over them and vanishing from sight,  although from the direction of her muffled sobs, she  had come to rest somewhere in the U-bend', ' “Come to  throw something else at me?”   Harry waded across to her stall and said, “Why would  I throw something at you?”   “Don’t ask me,” Myrtle shouted, emerging with a wave  of yet more water, which splashed onto the already  sopping floor', '”   Aragog clicked his pincers furiously, and all around  the hollow the sound was echoed by the crowd of         spiders; it was like applause, except applause didn’t  usually make Harry feel sick with fear', ' For nearly a  quarter of an hour he spoke into the rapt silence: He  told them about hearing the disembodied voice, how  Hermione had finally realized that he was hearing a  basilisk in the pipes; how he and Ron had followed  the spiders into the forest, that Aragog had told them  where the last victim of the basilisk had died; how he  had guessed that Moaning Myrtle had been the  victim, and that the entrance to the Chamber of  Secrets might be in her bathroom', ' The back, under what  looked like a dirty brownish smock comprised of  animal skins sewn roughly together, was very broad,  and as Grawp slept, it seemed to strain a little at the  rough seams of the skins', ' “An’ I don’ wan’ yeh ter  put yerself out too much, like I know yeh’ve got  exams If yeh could jus’ nip down here in yer  Invisibility Cloak maybe once a week an’ have a little  chat with him  I’ll wake him up, then — introduce  you — ”   “Wha — no!” said Hermione, jumping up, “Hagrid, no,  don’t wake him, really, we don’t need — ”   But Hagrid had already stepped over the great trunk  in front of them and was proceeding toward Grawp']\n"
          ]
        },
        {
          "output_type": "stream",
          "name": "stderr",
          "text": [
            "/usr/local/lib/python3.7/dist-packages/ipykernel_launcher.py:23: SettingWithCopyWarning: \n",
            "A value is trying to be set on a copy of a slice from a DataFrame\n",
            "\n",
            "See the caveats in the documentation: https://pandas.pydata.org/pandas-docs/stable/user_guide/indexing.html#returning-a-view-versus-a-copy\n",
            "/usr/local/lib/python3.7/dist-packages/pandas/core/indexing.py:1732: SettingWithCopyWarning: \n",
            "A value is trying to be set on a copy of a slice from a DataFrame\n",
            "\n",
            "See the caveats in the documentation: https://pandas.pydata.org/pandas-docs/stable/user_guide/indexing.html#returning-a-view-versus-a-copy\n",
            "  self._setitem_single_block(indexer, value, name)\n"
          ]
        },
        {
          "output_type": "stream",
          "name": "stdout",
          "text": [
            "1      [{'label': 'PRODUCT', 'start': 1, 'end': 14}, ...\n",
            "2      [{'label': 'PERSON', 'start': 81, 'end': 94}, ...\n",
            "3      [{'label': 'ORG', 'start': 81, 'end': 93}, {'l...\n",
            "4      [{'label': 'DATE', 'start': 20, 'end': 39}, {'...\n",
            "5      [{'label': 'PERSON', 'start': 24, 'end': 35}, ...\n",
            "                             ...                        \n",
            "107      [{'label': 'PERSON', 'start': 141, 'end': 147}]\n",
            "108        [{'label': 'PRODUCT', 'start': 4, 'end': 10}]\n",
            "109    [{'label': 'DATE', 'start': 5, 'end': 22}, {'l...\n",
            "110         [{'label': 'ORG', 'start': 132, 'end': 137}]\n",
            "111    [{'label': 'PERSON', 'start': 18, 'end': 25}, ...\n",
            "Name: ner, Length: 111, dtype: object\n",
            "[[{'label': 'PRODUCT', 'start': 1, 'end': 14}, {'label': 'ORG', 'start': 136, 'end': 142}, {'label': 'DATE', 'start': 176, 'end': 187}], [{'label': 'PERSON', 'start': 81, 'end': 94}, {'label': 'ORG', 'start': 159, 'end': 181}], [{'label': 'ORG', 'start': 81, 'end': 93}, {'label': 'PRODUCT', 'start': 151, 'end': 158}, {'label': 'ORG', 'start': 196, 'end': 217}, {'label': 'DATE', 'start': 228, 'end': 233}], [{'label': 'DATE', 'start': 20, 'end': 39}, {'label': 'ORG', 'start': 302, 'end': 314}], [{'label': 'PERSON', 'start': 24, 'end': 35}, {'label': 'PRODUCT', 'start': 39, 'end': 57}, {'label': 'PRODUCT', 'start': 88, 'end': 120}, {'label': 'PRODUCT', 'start': 139, 'end': 153}], [{'label': 'CARDINAL', 'start': 108, 'end': 112}, {'label': 'ORDINAL', 'start': 116, 'end': 121}, {'label': 'ORDINAL', 'start': 220, 'end': 226}, {'label': 'ORDINAL', 'start': 331, 'end': 336}, {'label': 'ORDINAL', 'start': 440, 'end': 446}, {'label': 'ORDINAL', 'start': 452, 'end': 458}, {'label': 'ORDINAL', 'start': 472, 'end': 478}, {'label': 'ORDINAL', 'start': 545, 'end': 550}, {'label': 'PRODUCT', 'start': 552, 'end': 566}, {'label': 'PERSON', 'start': 600, 'end': 605}], [{'label': 'PERSON', 'start': 83, 'end': 88}, {'label': 'PERSON', 'start': 114, 'end': 120}, {'label': 'PERSON', 'start': 136, 'end': 141}, {'label': 'CARDINAL', 'start': 244, 'end': 249}], [{'label': 'PERSON', 'start': 183, 'end': 189}, {'label': 'PERSON', 'start': 194, 'end': 199}], [{'label': 'WORK_OF_ART', 'start': 5, 'end': 16}, {'label': 'PERSON', 'start': 50, 'end': 57}, {'label': 'PERSON', 'start': 144, 'end': 150}, {'label': 'PERSON', 'start': 168, 'end': 174}], [{'label': 'PERSON', 'start': 5, 'end': 11}, {'label': 'CARDINAL', 'start': 82, 'end': 85}, {'label': 'PERSON', 'start': 118, 'end': 124}, {'label': 'GPE', 'start': 238, 'end': 247}, {'label': 'GPE', 'start': 260, 'end': 267}], [{'label': 'PERSON', 'start': 40, 'end': 47}, {'label': 'PERSON', 'start': 106, 'end': 118}], [{'label': 'ORG', 'start': 21, 'end': 32}, {'label': 'PERSON', 'start': 40, 'end': 50}, {'label': 'ORG', 'start': 58, 'end': 72}, {'label': 'PERSON', 'start': 88, 'end': 91}, {'label': 'PERSON', 'start': 94, 'end': 99}, {'label': 'ORG', 'start': 246, 'end': 255}, {'label': 'PERSON', 'start': 260, 'end': 270}], [{'label': 'PERSON', 'start': 7, 'end': 15}], [{'label': 'PERSON', 'start': 1, 'end': 15}, {'label': 'PERSON', 'start': 146, 'end': 151}], [{'label': 'PERSON', 'start': 2, 'end': 16}, {'label': 'PERSON', 'start': 43, 'end': 48}, {'label': 'ORG', 'start': 104, 'end': 110}, {'label': 'PERSON', 'start': 116, 'end': 121}, {'label': 'PERSON', 'start': 146, 'end': 154}], [{'label': 'PERSON', 'start': 38, 'end': 47}], [{'label': 'PERSON', 'start': 33, 'end': 42}, {'label': 'ORG', 'start': 93, 'end': 99}, {'label': 'ORG', 'start': 144, 'end': 150}], [{'label': 'PERSON', 'start': 125, 'end': 135}], [{'label': 'DATE', 'start': 169, 'end': 174}, {'label': 'PERSON', 'start': 189, 'end': 205}, {'label': 'PERSON', 'start': 257, 'end': 262}, {'label': 'PERSON', 'start': 330, 'end': 340}], [{'label': 'PERSON', 'start': 41, 'end': 53}, {'label': 'PERSON', 'start': 79, 'end': 84}, {'label': 'PERSON', 'start': 111, 'end': 117}, {'label': 'CARDINAL', 'start': 186, 'end': 193}], [{'label': 'PERSON', 'start': 9, 'end': 21}], [{'label': 'PERSON', 'start': 41, 'end': 53}, {'label': 'PERSON', 'start': 79, 'end': 84}, {'label': 'PERSON', 'start': 111, 'end': 117}, {'label': 'CARDINAL', 'start': 186, 'end': 193}], [{'label': 'PERSON', 'start': 43, 'end': 49}, {'label': 'PERSON', 'start': 135, 'end': 147}, {'label': 'PERSON', 'start': 176, 'end': 181}, {'label': 'ORDINAL', 'start': 208, 'end': 213}], [{'label': 'PERSON', 'start': 212, 'end': 218}, {'label': 'ORG', 'start': 262, 'end': 273}], [{'label': 'PERSON', 'start': 10, 'end': 15}, {'label': 'CARDINAL', 'start': 32, 'end': 36}, {'label': 'CARDINAL', 'start': 178, 'end': 181}, {'label': 'PERSON', 'start': 206, 'end': 211}], [{'label': 'CARDINAL', 'start': 5, 'end': 8}, {'label': 'PERSON', 'start': 21, 'end': 37}, {'label': 'PERSON', 'start': 64, 'end': 72}, {'label': 'PERSON', 'start': 101, 'end': 109}, {'label': 'PERSON', 'start': 243, 'end': 250}, {'label': 'PERSON', 'start': 319, 'end': 327}], [{'label': 'DATE', 'start': 63, 'end': 70}, {'label': 'PERSON', 'start': 72, 'end': 77}, {'label': 'PERSON', 'start': 128, 'end': 132}, {'label': 'PERSON', 'start': 137, 'end': 143}, {'label': 'PERSON', 'start': 160, 'end': 167}], [{'label': 'ORG', 'start': 136, 'end': 144}, {'label': 'PERSON', 'start': 273, 'end': 284}, {'label': 'DATE', 'start': 288, 'end': 292}, {'label': 'CARDINAL', 'start': 320, 'end': 326}, {'label': 'PERSON', 'start': 394, 'end': 408}], [{'label': 'PERSON', 'start': 99, 'end': 113}, {'label': 'PERSON', 'start': 133, 'end': 138}, {'label': 'PERSON', 'start': 167, 'end': 182}], [{'label': 'PERSON', 'start': 19, 'end': 23}, {'label': 'PERSON', 'start': 212, 'end': 227}], [{'label': 'PERSON', 'start': 29, 'end': 37}, {'label': 'PERSON', 'start': 223, 'end': 238}, {'label': 'ORG', 'start': 252, 'end': 257}], [{'label': 'PERSON', 'start': 83, 'end': 88}, {'label': 'PERSON', 'start': 114, 'end': 120}, {'label': 'PERSON', 'start': 136, 'end': 141}, {'label': 'CARDINAL', 'start': 244, 'end': 249}], [{'label': 'PERSON', 'start': 183, 'end': 189}, {'label': 'PERSON', 'start': 194, 'end': 199}], [{'label': 'PERSON', 'start': 293, 'end': 309}], [{'label': 'PERSON', 'start': 27, 'end': 40}, {'label': 'PERSON', 'start': 45, 'end': 53}], [{'label': 'PERSON', 'start': 205, 'end': 215}], [{'label': 'TIME', 'start': 5, 'end': 18}, {'label': 'CARDINAL', 'start': 23, 'end': 28}, {'label': 'PERSON', 'start': 114, 'end': 124}], [{'label': 'PERSON', 'start': 1, 'end': 14}, {'label': 'ORG', 'start': 14, 'end': 23}], [{'label': 'PERSON', 'start': 21, 'end': 27}, {'label': 'DATE', 'start': 57, 'end': 76}, {'label': 'PRODUCT', 'start': 106, 'end': 126}, {'label': 'PERSON', 'start': 196, 'end': 205}, {'label': 'PERSON', 'start': 219, 'end': 225}], [{'label': 'CARDINAL', 'start': 3, 'end': 23}, {'label': 'CARDINAL', 'start': 46, 'end': 49}, {'label': 'ORG', 'start': 60, 'end': 64}, {'label': 'GPE', 'start': 69, 'end': 74}, {'label': 'PRODUCT', 'start': 113, 'end': 120}], [{'label': 'PERSON', 'start': 48, 'end': 54}, {'label': 'PERSON', 'start': 121, 'end': 126}, {'label': 'PERSON', 'start': 183, 'end': 190}, {'label': 'PERSON', 'start': 213, 'end': 218}], [{'label': 'PERSON', 'start': 1, 'end': 14}, {'label': 'PERSON', 'start': 18, 'end': 23}, {'label': 'PERSON', 'start': 48, 'end': 57}, {'label': 'PRODUCT', 'start': 59, 'end': 68}, {'label': 'WORK_OF_ART', 'start': 76, 'end': 97}, {'label': 'PERSON', 'start': 288, 'end': 297}], [{'label': 'WORK_OF_ART', 'start': 234, 'end': 256}, {'label': 'PERSON', 'start': 257, 'end': 266}, {'label': 'ORG', 'start': 268, 'end': 277}], [{'label': 'PERSON', 'start': 8, 'end': 13}, {'label': 'PERSON', 'start': 19, 'end': 35}, {'label': 'PERSON', 'start': 108, 'end': 124}, {'label': 'PERSON', 'start': 244, 'end': 251}], [{'label': 'CARDINAL', 'start': 5, 'end': 9}, {'label': 'PERSON', 'start': 56, 'end': 72}], [{'label': 'PERSON', 'start': 112, 'end': 121}, {'label': 'PERSON', 'start': 157, 'end': 173}], [{'label': 'PERSON', 'start': 242, 'end': 260}], [{'label': 'PERSON', 'start': 70, 'end': 77}], [{'label': 'PERSON', 'start': 127, 'end': 139}], [{'label': 'PERSON', 'start': 98, 'end': 101}, {'label': 'PERSON', 'start': 155, 'end': 168}], [{'label': 'TIME', 'start': 3, 'end': 21}, {'label': 'PERSON', 'start': 76, 'end': 96}], [{'label': 'ORG', 'start': 21, 'end': 32}], [{'label': 'PERSON', 'start': 95, 'end': 100}, {'label': 'ORG', 'start': 230, 'end': 243}], [{'label': 'PERSON', 'start': 121, 'end': 127}, {'label': 'PERSON', 'start': 289, 'end': 294}], [{'label': 'PERSON', 'start': 105, 'end': 110}, {'label': 'PERSON', 'start': 140, 'end': 145}, {'label': 'PERCENT', 'start': 157, 'end': 164}, {'label': 'PERSON', 'start': 249, 'end': 255}, {'label': 'PERSON', 'start': 285, 'end': 297}], [{'label': 'WORK_OF_ART', 'start': 91, 'end': 101}, {'label': 'PERSON', 'start': 165, 'end': 172}, {'label': 'PERSON', 'start': 222, 'end': 234}, {'label': 'PERSON', 'start': 256, 'end': 266}, {'label': 'PERSON', 'start': 288, 'end': 298}], [{'label': 'PERSON', 'start': 87, 'end': 100}, {'label': 'PERSON', 'start': 112, 'end': 119}, {'label': 'PERSON', 'start': 187, 'end': 195}, {'label': 'PERSON', 'start': 306, 'end': 314}], [{'label': 'PERSON', 'start': 146, 'end': 159}], [{'label': 'ORDINAL', 'start': 49, 'end': 54}], [{'label': 'ORG', 'start': 4, 'end': 9}, {'label': 'PERSON', 'start': 89, 'end': 97}], [{'label': 'GPE', 'start': 70, 'end': 76}, {'label': 'ORG', 'start': 120, 'end': 126}], [{'label': 'PERSON', 'start': 125, 'end': 135}], [{'label': 'PERSON', 'start': 204, 'end': 214}], [{'label': 'ORG', 'start': 120, 'end': 133}, {'label': 'DATE', 'start': 200, 'end': 218}, {'label': 'DATE', 'start': 256, 'end': 271}], [{'label': 'PERSON', 'start': 5, 'end': 12}, {'label': 'ORG', 'start': 104, 'end': 117}], [{'label': 'PERSON', 'start': 8, 'end': 16}, {'label': 'ORG', 'start': 18, 'end': 25}, {'label': 'ORG', 'start': 180, 'end': 188}], [{'label': 'ORDINAL', 'start': 260, 'end': 266}], [{'label': 'DATE', 'start': 169, 'end': 174}, {'label': 'PERSON', 'start': 189, 'end': 205}, {'label': 'PERSON', 'start': 257, 'end': 262}, {'label': 'PERSON', 'start': 330, 'end': 340}], [{'label': 'PERSON', 'start': 205, 'end': 215}], [{'label': 'PERSON', 'start': 30, 'end': 34}, {'label': 'PERSON', 'start': 39, 'end': 51}, {'label': 'PERSON', 'start': 82, 'end': 94}], [{'label': 'DATE', 'start': 30, 'end': 51}, {'label': 'WORK_OF_ART', 'start': 60, 'end': 65}, {'label': 'PERSON', 'start': 90, 'end': 95}, {'label': 'LAW', 'start': 172, 'end': 210}, {'label': 'ORG', 'start': 224, 'end': 260}, {'label': 'PERSON', 'start': 265, 'end': 283}, {'label': 'CARDINAL', 'start': 297, 'end': 308}, {'label': 'PERSON', 'start': 310, 'end': 323}, {'label': 'ORG', 'start': 325, 'end': 340}, {'label': 'GPE', 'start': 342, 'end': 348}], [], [{'label': 'DATE', 'start': 39, 'end': 44}, {'label': 'PERSON', 'start': 54, 'end': 59}], [{'label': 'PRODUCT', 'start': 98, 'end': 103}, {'label': 'PERSON', 'start': 129, 'end': 141}, {'label': 'PERSON', 'start': 166, 'end': 172}, {'label': 'PERSON', 'start': 223, 'end': 230}], [{'label': 'PERSON', 'start': 18, 'end': 30}, {'label': 'ORDINAL', 'start': 41, 'end': 47}, {'label': 'PERSON', 'start': 82, 'end': 87}], [{'label': 'ORG', 'start': 48, 'end': 57}, {'label': 'PERSON', 'start': 336, 'end': 341}], [{'label': 'PERSON', 'start': 105, 'end': 110}, {'label': 'PERSON', 'start': 140, 'end': 145}, {'label': 'PERCENT', 'start': 157, 'end': 164}, {'label': 'PERSON', 'start': 249, 'end': 255}, {'label': 'PERSON', 'start': 285, 'end': 297}], [{'label': 'TIME', 'start': 74, 'end': 85}], [{'label': 'PERSON', 'start': 9, 'end': 25}, {'label': 'PERSON', 'start': 57, 'end': 62}, {'label': 'CARDINAL', 'start': 64, 'end': 67}, {'label': 'CARDINAL', 'start': 75, 'end': 79}, {'label': 'PRODUCT', 'start': 96, 'end': 104}, {'label': 'GPE', 'start': 124, 'end': 134}], [{'label': 'ORG', 'start': 58, 'end': 63}, {'label': 'ORG', 'start': 84, 'end': 109}, {'label': 'ORG', 'start': 166, 'end': 174}], [{'label': 'PERSON', 'start': 151, 'end': 159}, {'label': 'PERSON', 'start': 167, 'end': 170}], [{'label': 'CARDINAL', 'start': 1, 'end': 7}, {'label': 'PERSON', 'start': 113, 'end': 117}, {'label': 'PERSON', 'start': 122, 'end': 128}, {'label': 'PERSON', 'start': 130, 'end': 141}, {'label': 'PERSON', 'start': 162, 'end': 168}], [{'label': 'EVENT', 'start': 30, 'end': 47}, {'label': 'ORG', 'start': 76, 'end': 97}, {'label': 'PERSON', 'start': 100, 'end': 114}, {'label': 'DATE', 'start': 168, 'end': 173}, {'label': 'MONEY', 'start': 180, 'end': 194}], [{'label': 'PERSON', 'start': 184, 'end': 188}, {'label': 'EVENT', 'start': 216, 'end': 229}, {'label': 'EVENT', 'start': 234, 'end': 251}, {'label': 'PRODUCT', 'start': 259, 'end': 268}], [{'label': 'PERSON', 'start': 209, 'end': 213}, {'label': 'WORK_OF_ART', 'start': 218, 'end': 236}, {'label': 'WORK_OF_ART', 'start': 242, 'end': 255}, {'label': 'PERSON', 'start': 267, 'end': 271}], [{'label': 'PERSON', 'start': 209, 'end': 213}, {'label': 'WORK_OF_ART', 'start': 218, 'end': 236}, {'label': 'WORK_OF_ART', 'start': 242, 'end': 255}, {'label': 'PERSON', 'start': 267, 'end': 271}], [{'label': 'PERSON', 'start': 46, 'end': 51}, {'label': 'PERSON', 'start': 80, 'end': 83}, {'label': 'PERSON', 'start': 88, 'end': 94}, {'label': 'CARDINAL', 'start': 143, 'end': 146}, {'label': 'PERSON', 'start': 247, 'end': 251}, {'label': 'PERSON', 'start': 256, 'end': 263}, {'label': 'CARDINAL', 'start': 270, 'end': 273}, {'label': 'PERSON', 'start': 281, 'end': 288}], [{'label': 'CARDINAL', 'start': 78, 'end': 81}, {'label': 'PERSON', 'start': 209, 'end': 214}, {'label': 'PERSON', 'start': 230, 'end': 242}], [{'label': 'PERSON', 'start': 37, 'end': 41}], [{'label': 'GPE', 'start': 19, 'end': 25}, {'label': 'DATE', 'start': 61, 'end': 70}, {'label': 'PERSON', 'start': 155, 'end': 160}, {'label': 'PERSON', 'start': 162, 'end': 172}, {'label': 'PERSON', 'start': 177, 'end': 183}, {'label': 'FAC', 'start': 193, 'end': 209}], [{'label': 'PERSON', 'start': 151, 'end': 161}, {'label': 'PERSON', 'start': 166, 'end': 180}], [{'label': 'PERSON', 'start': 76, 'end': 81}, {'label': 'ORG', 'start': 130, 'end': 138}, {'label': 'WORK_OF_ART', 'start': 181, 'end': 218}], [{'label': 'PERSON', 'start': 24, 'end': 34}, {'label': 'PERSON', 'start': 115, 'end': 120}, {'label': 'PERSON', 'start': 149, 'end': 156}, {'label': 'PERSON', 'start': 179, 'end': 188}], [{'label': 'PERSON', 'start': 158, 'end': 168}, {'label': 'PERSON', 'start': 190, 'end': 194}], [{'label': 'ORG', 'start': 78, 'end': 92}, {'label': 'ORG', 'start': 156, 'end': 163}], [{'label': 'PERSON', 'start': 27, 'end': 40}, {'label': 'PERSON', 'start': 45, 'end': 53}], [{'label': 'PERSON', 'start': 148, 'end': 153}], [{'label': 'CARDINAL', 'start': 3, 'end': 26}, {'label': 'PERSON', 'start': 238, 'end': 241}], [{'label': 'FAC', 'start': 230, 'end': 244}], [], [{'label': 'PERSON', 'start': 158, 'end': 163}, {'label': 'PERSON', 'start': 198, 'end': 203}], [{'label': 'PERSON', 'start': 76, 'end': 84}, {'label': 'ORG', 'start': 212, 'end': 231}, {'label': 'ORG', 'start': 331, 'end': 336}, {'label': 'PERSON', 'start': 360, 'end': 368}, {'label': 'PERSON', 'start': 396, 'end': 404}], [{'label': 'PERSON', 'start': 53, 'end': 56}, {'label': 'PERSON', 'start': 135, 'end': 140}, {'label': 'ORG', 'start': 170, 'end': 175}, {'label': 'ORG', 'start': 201, 'end': 206}], [{'label': 'PERSON', 'start': 158, 'end': 163}, {'label': 'PERSON', 'start': 198, 'end': 203}], [{'label': 'PERSON', 'start': 96, 'end': 101}, {'label': 'PERSON', 'start': 133, 'end': 139}, {'label': 'PERSON', 'start': 358, 'end': 363}], [{'label': 'ORG', 'start': 3, 'end': 9}], [{'label': 'PERSON', 'start': 141, 'end': 147}], [{'label': 'PRODUCT', 'start': 4, 'end': 10}], [{'label': 'DATE', 'start': 5, 'end': 22}, {'label': 'PERSON', 'start': 209, 'end': 212}, {'label': 'ORG', 'start': 261, 'end': 267}], [{'label': 'ORG', 'start': 132, 'end': 137}], [{'label': 'PERSON', 'start': 18, 'end': 25}, {'label': 'PERSON', 'start': 86, 'end': 89}, {'label': 'PRODUCT', 'start': 123, 'end': 141}, {'label': 'PERSON', 'start': 257, 'end': 265}, {'label': 'ORG', 'start': 433, 'end': 438}]]\n"
          ]
        }
      ]
    },
    {
      "cell_type": "code",
      "source": [
        "myset = set(lista_entità_person)\n",
        "print(myset)\n",
        "lista_entità_person = list(myset)\n"
      ],
      "metadata": {
        "colab": {
          "base_uri": "https://localhost:8080/"
        },
        "id": "8ZPRZb1KqRhh",
        "outputId": "8c9f4239-dc51-4b84-c577-de9bfafdb5c5"
      },
      "execution_count": 17,
      "outputs": [
        {
          "output_type": "stream",
          "name": "stdout",
          "text": [
            "{'Harry', 'Mr Crouch', 'Lucius Malfoy', 'Charlie', 'Bellatrix', 'Remembrall', 'Cedric Diggory', 'Percy Weasley', 'Weasley   ', 'Bagman', 'Aberforth', 'Dean', 'Mrs Weasley', 'Hermione', 'George Weasley', 'Umbridge', 'Nicolas  Flamel', 'Frank', 'Minerva', 'Harry Potter Day', 'Mr Malfoy', 'Mr Weasley', 'Quirrell', 'Fred', 'Voldemort', 'Arthur', 'Lily', 'Crabbe', 'Ginny', 'Uncle Vernon', 'Floo', 'Remus John Lupin', 'Narcissa', 'Draco Malfoy', 'Arthur Weasley', 'Harry Potter', 'Bill', 'Alice Longbottom', 'Hem', 'Wormtail', 'Seamus', 'chase Fred', 'Frank Longbottom', 'Moony', 'Delacour', 'Gryffindor', 'Stan', 'Neville Longbottom', 'Barty Crouch', 'Karkaroff', 'Luna Lovegood', 'Harry James Potter', 'Ron', 'Percy  ', 'Hermione Granger', 'Nicolas Flamel', 'Hedwig', 'Neville', 'Myrtle', 'Malfoy', 'Rowling      ', 'Bertie Bott', 'Percy', 'McGonagall', 'Aunt Petunia', 'Penelope', 'Maxime', 'Grindelwald', 'Dobby', 'Flitwick', 'Xenophilius Lovegood', 'George', 'yeh ter', 'Goyle', 'Cornelius Fudge', 'Dudley', 'Lupin', 'Hufflepuff', 'Seamus  Finnigan', 'Rita Skeeter', 'Snape', 'Peeves', 'Dumbledore', 'Privet  Drive', 'Aidan', 'Weasley', 'James Potter', 'Crouch', 'Fred Weasley', 'yeh'}\n"
          ]
        }
      ]
    },
    {
      "cell_type": "code",
      "source": [
        "for i in lista_entità_person:\n",
        "  i.replace(' +','')"
      ],
      "metadata": {
        "id": "WqhgCUaYsJPH"
      },
      "execution_count": 18,
      "outputs": []
    },
    {
      "cell_type": "code",
      "source": [
        "df_ner.to_csv(\"ner.csv\", sep=\";\")\n",
        "\n",
        "#csv che verranno passati a Word2Vec e Cade\n",
        "data = pd.DataFrame(data=lista_entità_person)\n",
        "data= data.rename(columns={0: \"person\"})\n",
        "data.to_csv(\"person_label.csv\")\n",
        "\n",
        "data2 = pd.DataFrame(data=lista_entità_product)\n",
        "data2= data2.rename(columns={0: \"product\"})\n",
        "data2.to_csv(\"product_label.csv\")\n",
        "\n",
        "\n",
        "data3 = pd.DataFrame(data=lista_entità_org)\n",
        "data3= data3.rename(columns={0: \"org\"})\n",
        "data3.to_csv(\"org_label.csv\")\n"
      ],
      "metadata": {
        "id": "Jw_abTc5Bw1z"
      },
      "execution_count": 19,
      "outputs": []
    },
    {
      "cell_type": "code",
      "source": [
        "df_ner_corretto = pd.read_csv(\"ner_corretto_csv.csv\",sep=\";\", header=None)\n",
        "df_ner_corretto.columns = [\"index\", \"phrase\", \"label\"]\n",
        "df_ner_corretto = df_ner_corretto.iloc[1: , 1:]\n",
        "df_ner_corretto\n",
        "df_ner_corretto_label = df_ner_corretto.label"
      ],
      "metadata": {
        "id": "0fh3zMGSB0Lo"
      },
      "execution_count": 20,
      "outputs": []
    },
    {
      "cell_type": "code",
      "source": [
        "print(df_ner_corretto_label)"
      ],
      "metadata": {
        "colab": {
          "base_uri": "https://localhost:8080/"
        },
        "id": "qjwMPSsQVMuy",
        "outputId": "1e39db4c-a489-44d6-a130-4c771aa837f9"
      },
      "execution_count": 21,
      "outputs": [
        {
          "output_type": "stream",
          "name": "stdout",
          "text": [
            "1      [{'label': 'PRODUCT', 'start': 1, 'end': 14}, ...\n",
            "2      [{'label': 'PERSON', 'start': 81, 'end': 94}, ...\n",
            "3      [{'label': 'PERSON', 'start': 81, 'end': 93}, ...\n",
            "4      [{'label': 'DATE', 'start': 20, 'end': 39}, {'...\n",
            "5      [{'label': 'PERSON', 'start': 24, 'end': 35}, ...\n",
            "                             ...                        \n",
            "107      [{'label': 'PERSON', 'start': 141, 'end': 147}]\n",
            "108         [{'label': ‘PERSON', 'start': 4, 'end': 10}]\n",
            "109    [{'label': 'DATE', 'start': 5, 'end': 22}, {'l...\n",
            "110      [{'label': ‘PERSON', 'start': 132, 'end': 137}]\n",
            "111    [{'label': 'PRODUCT', 'start': 18, 'end': 25},...\n",
            "Name: label, Length: 111, dtype: object\n"
          ]
        }
      ]
    },
    {
      "cell_type": "code",
      "source": [
        "ner_corretto = []\n",
        "for i in df_ner_corretto_label:\n",
        "  if (len(i) > 2):\n",
        "    i=i.replace(\"‘\", \"'\")\n",
        "    d = ast.literal_eval(i)\n",
        "    ner_corretto.append(d)\n",
        "ner_corretto\n"
      ],
      "metadata": {
        "colab": {
          "base_uri": "https://localhost:8080/"
        },
        "id": "8nO6GowuB3XO",
        "outputId": "f865f785-d37c-4343-f62b-c25baba1696b"
      },
      "execution_count": 22,
      "outputs": [
        {
          "output_type": "execute_result",
          "data": {
            "text/plain": [
              "[[{'end': 14, 'label': 'PRODUCT', 'start': 1},\n",
              "  {'end': 142, 'label': 'PERSON', 'start': 136},\n",
              "  {'end': 187, 'label': 'DATE', 'start': 176}],\n",
              " [{'end': 94, 'label': 'PERSON', 'start': 81},\n",
              "  {'end': 181, 'label': 'ORG', 'start': 159}],\n",
              " [{'end': 93, 'label': 'PERSON', 'start': 81},\n",
              "  {'end': 158, 'label': 'ORG', 'start': 151},\n",
              "  {'end': 217, 'label': 'ORG', 'start': 196},\n",
              "  {'end': 233, 'label': 'DATE', 'start': 228}],\n",
              " [{'end': 39, 'label': 'DATE', 'start': 20},\n",
              "  {'end': 314, 'label': 'PERSON', 'start': 302}],\n",
              " [{'end': 35, 'label': 'PERSON', 'start': 24},\n",
              "  {'end': 57, 'label': 'PRODUCT', 'start': 39},\n",
              "  {'end': 120, 'label': 'PRODUCT', 'start': 88},\n",
              "  {'end': 153, 'label': 'PRODUCT', 'start': 139}],\n",
              " [{'end': 112, 'label': 'CARDINAL', 'start': 108},\n",
              "  {'end': 121, 'label': 'ORDINAL', 'start': 116},\n",
              "  {'end': 226, 'label': 'ORDINAL', 'start': 220},\n",
              "  {'end': 336, 'label': 'ORDINAL', 'start': 331},\n",
              "  {'end': 446, 'label': 'ORDINAL', 'start': 440},\n",
              "  {'end': 458, 'label': 'ORDINAL', 'start': 452},\n",
              "  {'end': 478, 'label': 'ORDINAL', 'start': 472},\n",
              "  {'end': 550, 'label': 'ORDINAL', 'start': 545},\n",
              "  {'end': 566, 'label': 'PRODUCT', 'start': 552},\n",
              "  {'end': 605, 'label': 'PERSON', 'start': 600}],\n",
              " [{'end': 88, 'label': 'PERSON', 'start': 83},\n",
              "  {'end': 120, 'label': 'PERSON', 'start': 114},\n",
              "  {'end': 141, 'label': 'PERSON', 'start': 136},\n",
              "  {'end': 249, 'label': 'CARDINAL', 'start': 244}],\n",
              " [{'end': 189, 'label': 'PERSON', 'start': 183},\n",
              "  {'end': 199, 'label': 'PERSON', 'start': 194}],\n",
              " [{'end': 16, 'label': 'WORK_OF_ART', 'start': 5},\n",
              "  {'end': 57, 'label': 'PERSON', 'start': 50},\n",
              "  {'end': 150, 'label': 'PERSON', 'start': 144},\n",
              "  {'end': 174, 'label': 'PERSON', 'start': 168}],\n",
              " [{'end': 11, 'label': 'PERSON', 'start': 5},\n",
              "  {'end': 85, 'label': 'CARDINAL', 'start': 82},\n",
              "  {'end': 124, 'label': 'PERSON', 'start': 118},\n",
              "  {'end': 247, 'label': 'GPE', 'start': 238},\n",
              "  {'end': 267, 'label': 'GPE', 'start': 260}],\n",
              " [{'end': 47, 'label': 'PERSON', 'start': 40},\n",
              "  {'end': 118, 'label': 'PERSON', 'start': 106}],\n",
              " [{'end': 32, 'label': 'ORG', 'start': 21},\n",
              "  {'end': 50, 'label': 'PERSON', 'start': 40},\n",
              "  {'end': 72, 'label': 'PERSON', 'start': 58},\n",
              "  {'end': 91, 'label': 'PERSON', 'start': 88},\n",
              "  {'end': 99, 'label': 'PERSON', 'start': 94},\n",
              "  {'end': 255, 'label': 'ORG', 'start': 246},\n",
              "  {'end': 270, 'label': 'PERSON', 'start': 260}],\n",
              " [{'end': 15, 'label': 'PERSON', 'start': 7}],\n",
              " [{'end': 15, 'label': 'PERSON', 'start': 1},\n",
              "  {'end': 151, 'label': 'PERSON', 'start': 146}],\n",
              " [{'end': 16, 'label': 'PERSON', 'start': 2},\n",
              "  {'end': 48, 'label': 'PERSON', 'start': 43},\n",
              "  {'end': 110, 'label': 'PRODUCT', 'start': 104},\n",
              "  {'end': 121, 'label': 'PERSON', 'start': 116},\n",
              "  {'end': 154, 'label': 'PERSON', 'start': 146}],\n",
              " [{'end': 47, 'label': 'PERSON', 'start': 38}],\n",
              " [{'end': 42, 'label': 'PERSON', 'start': 33},\n",
              "  {'end': 99, 'label': 'PERSON', 'start': 93},\n",
              "  {'end': 150, 'label': 'PERSON', 'start': 144}],\n",
              " [{'end': 135, 'label': 'PERSON', 'start': 125}],\n",
              " [{'end': 174, 'label': 'DATE', 'start': 169},\n",
              "  {'end': 205, 'label': 'PERSON', 'start': 189},\n",
              "  {'end': 262, 'label': 'PERSON', 'start': 257},\n",
              "  {'end': 340, 'label': 'PERSON', 'start': 330}],\n",
              " [{'end': 53, 'label': 'PERSON', 'start': 41},\n",
              "  {'end': 84, 'label': 'PERSON', 'start': 79},\n",
              "  {'end': 117, 'label': 'PERSON', 'start': 111},\n",
              "  {'end': 193, 'label': 'CARDINAL', 'start': 186}],\n",
              " [{'end': 21, 'label': 'PERSON', 'start': 9}],\n",
              " [{'end': 53, 'label': 'PERSON', 'start': 41},\n",
              "  {'end': 84, 'label': 'PERSON', 'start': 79},\n",
              "  {'end': 117, 'label': 'PERSON', 'start': 111},\n",
              "  {'end': 193, 'label': 'CARDINAL', 'start': 186}],\n",
              " [{'end': 49, 'label': 'PERSON', 'start': 43},\n",
              "  {'end': 147, 'label': 'PERSON', 'start': 135},\n",
              "  {'end': 181, 'label': 'PERSON', 'start': 176},\n",
              "  {'end': 213, 'label': 'ORDINAL', 'start': 208}],\n",
              " [{'end': 218, 'label': 'PERSON', 'start': 212},\n",
              "  {'end': 273, 'label': 'PERSON', 'start': 262}],\n",
              " [{'end': 15, 'label': 'PERSON', 'start': 10},\n",
              "  {'end': 36, 'label': 'CARDINAL', 'start': 32},\n",
              "  {'end': 181, 'label': 'CARDINAL', 'start': 178},\n",
              "  {'end': 211, 'label': 'PERSON', 'start': 206}],\n",
              " [{'end': 8, 'label': 'CARDINAL', 'start': 5},\n",
              "  {'end': 37, 'label': 'PERSON', 'start': 21},\n",
              "  {'end': 72, 'label': 'PERSON', 'start': 64},\n",
              "  {'end': 109, 'label': 'PERSON', 'start': 101},\n",
              "  {'end': 250, 'label': 'PERSON', 'start': 243},\n",
              "  {'end': 327, 'label': 'PERSON', 'start': 319}],\n",
              " [{'end': 70, 'label': 'DATE', 'start': 63},\n",
              "  {'end': 77, 'label': 'PERSON', 'start': 72},\n",
              "  {'end': 132, 'label': 'PERSON', 'start': 128},\n",
              "  {'end': 143, 'label': 'PERSON', 'start': 137},\n",
              "  {'end': 167, 'label': 'PERSON', 'start': 160}],\n",
              " [{'end': 144, 'label': 'ORG', 'start': 136},\n",
              "  {'end': 284, 'label': 'PERSON', 'start': 273},\n",
              "  {'end': 292, 'label': 'DATE', 'start': 288},\n",
              "  {'end': 326, 'label': 'CARDINAL', 'start': 320},\n",
              "  {'end': 408, 'label': 'PERSON', 'start': 394}],\n",
              " [{'end': 113, 'label': 'PERSON', 'start': 99},\n",
              "  {'end': 138, 'label': 'PERSON', 'start': 133},\n",
              "  {'end': 182, 'label': 'PERSON', 'start': 167}],\n",
              " [{'end': 23, 'label': 'PERSON', 'start': 19},\n",
              "  {'end': 227, 'label': 'PERSON', 'start': 212}],\n",
              " [{'end': 37, 'label': 'PERSON', 'start': 29},\n",
              "  {'end': 238, 'label': 'PERSON', 'start': 223},\n",
              "  {'end': 257, 'label': 'ORG', 'start': 252}],\n",
              " [{'end': 88, 'label': 'PERSON', 'start': 83},\n",
              "  {'end': 120, 'label': 'PERSON', 'start': 114},\n",
              "  {'end': 141, 'label': 'PERSON', 'start': 136},\n",
              "  {'end': 249, 'label': 'CARDINAL', 'start': 244}],\n",
              " [{'end': 189, 'label': 'PERSON', 'start': 183},\n",
              "  {'end': 199, 'label': 'PERSON', 'start': 194}],\n",
              " [{'end': 309, 'label': 'PERSON', 'start': 293}],\n",
              " [{'end': 40, 'label': 'PERSON', 'start': 27},\n",
              "  {'end': 53, 'label': 'PERSON', 'start': 45}],\n",
              " [{'end': 215, 'label': 'PERSON', 'start': 205}],\n",
              " [{'end': 18, 'label': 'TIME', 'start': 5},\n",
              "  {'end': 28, 'label': 'CARDINAL', 'start': 23},\n",
              "  {'end': 124, 'label': 'PERSON', 'start': 114}],\n",
              " [{'end': 14, 'label': 'PERSON', 'start': 1},\n",
              "  {'end': 23, 'label': 'PERSON', 'start': 14}],\n",
              " [{'end': 27, 'label': 'PERSON', 'start': 21},\n",
              "  {'end': 76, 'label': 'DATE', 'start': 57},\n",
              "  {'end': 126, 'label': 'EVENT', 'start': 106},\n",
              "  {'end': 205, 'label': 'PERSON', 'start': 196},\n",
              "  {'end': 225, 'label': 'PERSON', 'start': 219}],\n",
              " [{'end': 23, 'label': 'CARDINAL', 'start': 3},\n",
              "  {'end': 49, 'label': 'CARDINAL', 'start': 46},\n",
              "  {'end': 64, 'label': 'PERSON', 'start': 60},\n",
              "  {'end': 74, 'label': 'PERSON', 'start': 69},\n",
              "  {'end': 120, 'label': 'EVENT', 'start': 113}],\n",
              " [{'end': 54, 'label': 'PERSON', 'start': 48},\n",
              "  {'end': 126, 'label': 'PERSON', 'start': 121},\n",
              "  {'end': 190, 'label': 'PERSON', 'start': 183},\n",
              "  {'end': 218, 'label': 'PERSON', 'start': 213}],\n",
              " [{'end': 14, 'label': 'PERSON', 'start': 1},\n",
              "  {'end': 23, 'label': 'PERSON', 'start': 18},\n",
              "  {'end': 57, 'label': 'PERSON', 'start': 48},\n",
              "  {'end': 68, 'label': 'PERSON', 'start': 59},\n",
              "  {'end': 97, 'label': 'WORK_OF_ART', 'start': 76},\n",
              "  {'end': 297, 'label': 'PERSON', 'start': 288}],\n",
              " [{'end': 256, 'label': 'WORK_OF_ART', 'start': 234},\n",
              "  {'end': 266, 'label': 'PERSON', 'start': 257},\n",
              "  {'end': 277, 'label': 'PERSON', 'start': 268}],\n",
              " [{'end': 13, 'label': 'PERSON', 'start': 8},\n",
              "  {'end': 35, 'label': 'PERSON', 'start': 19},\n",
              "  {'end': 124, 'label': 'PERSON', 'start': 108},\n",
              "  {'end': 251, 'label': 'PERSON', 'start': 244}],\n",
              " [{'end': 9, 'label': 'CARDINAL', 'start': 5},\n",
              "  {'end': 72, 'label': 'PERSON', 'start': 56}],\n",
              " [{'end': 121, 'label': 'PERSON', 'start': 112},\n",
              "  {'end': 173, 'label': 'PERSON', 'start': 157}],\n",
              " [{'end': 260, 'label': 'PERSON', 'start': 242}],\n",
              " [{'end': 77, 'label': 'PERSON', 'start': 70}],\n",
              " [{'end': 139, 'label': 'PERSON', 'start': 127}],\n",
              " [{'end': 101, 'label': 'PERSON', 'start': 98},\n",
              "  {'end': 168, 'label': 'PERSON', 'start': 155}],\n",
              " [{'end': 21, 'label': 'TIME', 'start': 3},\n",
              "  {'end': 96, 'label': 'PERSON', 'start': 76}],\n",
              " [{'end': 32, 'label': 'PERSON', 'start': 21}],\n",
              " [{'end': 100, 'label': 'PERSON', 'start': 95},\n",
              "  {'end': 243, 'label': 'PERSON', 'start': 230}],\n",
              " [{'end': 127, 'label': 'PERSON', 'start': 121},\n",
              "  {'end': 294, 'label': 'PERSON', 'start': 289}],\n",
              " [{'end': 110, 'label': 'PERSON', 'start': 105},\n",
              "  {'end': 145, 'label': 'PERSON', 'start': 140},\n",
              "  {'end': 164, 'label': 'PERCENT', 'start': 157},\n",
              "  {'end': 255, 'label': 'PERSON', 'start': 249},\n",
              "  {'end': 297, 'label': 'PERSON', 'start': 285}],\n",
              " [{'end': 101, 'label': 'WORK_OF_ART', 'start': 91},\n",
              "  {'end': 172, 'label': 'PERSON', 'start': 165},\n",
              "  {'end': 234, 'label': 'PERSON', 'start': 222},\n",
              "  {'end': 266, 'label': 'PERSON', 'start': 256},\n",
              "  {'end': 298, 'label': 'PERSON', 'start': 288}],\n",
              " [{'end': 100, 'label': 'PERSON', 'start': 87},\n",
              "  {'end': 119, 'label': 'PERSON', 'start': 112},\n",
              "  {'end': 195, 'label': 'PERSON', 'start': 187},\n",
              "  {'end': 314, 'label': 'PERSON', 'start': 306}],\n",
              " [{'end': 159, 'label': 'PERSON', 'start': 146}],\n",
              " [{'end': 54, 'label': 'ORDINAL', 'start': 49}],\n",
              " [{'end': 9, 'label': 'PERSON', 'start': 4},\n",
              "  {'end': 97, 'label': 'PERSON', 'start': 89}],\n",
              " [{'end': 76, 'label': 'GPE', 'start': 70},\n",
              "  {'end': 126, 'label': 'ORG', 'start': 120}],\n",
              " [{'end': 135, 'label': 'PERSON', 'start': 125}],\n",
              " [{'end': 214, 'label': 'PERSON', 'start': 204}],\n",
              " [{'end': 133, 'label': 'PERSON', 'start': 120},\n",
              "  {'end': 218, 'label': 'DATE', 'start': 200},\n",
              "  {'end': 271, 'label': 'DATE', 'start': 256}],\n",
              " [{'end': 12, 'label': 'PERSON', 'start': 5},\n",
              "  {'end': 117, 'label': 'ORG', 'start': 104}],\n",
              " [{'end': 16, 'label': 'PERSON', 'start': 8},\n",
              "  {'end': 25, 'label': 'PERSON', 'start': 18},\n",
              "  {'end': 188, 'label': 'ORG', 'start': 180}],\n",
              " [{'end': 266, 'label': 'ORDINAL', 'start': 260}],\n",
              " [{'end': 174, 'label': 'DATE', 'start': 169},\n",
              "  {'end': 205, 'label': 'PERSON', 'start': 189},\n",
              "  {'end': 262, 'label': 'PERSON', 'start': 257},\n",
              "  {'end': 340, 'label': 'PERSON', 'start': 330}],\n",
              " [{'end': 215, 'label': 'PERSON', 'start': 205}],\n",
              " [{'end': 34, 'label': 'PERSON', 'start': 30},\n",
              "  {'end': 51, 'label': 'PERSON', 'start': 39},\n",
              "  {'end': 94, 'label': 'PERSON', 'start': 82}],\n",
              " [{'end': 51, 'label': 'DATE', 'start': 30},\n",
              "  {'end': 65, 'label': 'PERSON', 'start': 60},\n",
              "  {'end': 95, 'label': 'PERSON', 'start': 90},\n",
              "  {'end': 210, 'label': 'LAW', 'start': 172},\n",
              "  {'end': 260, 'label': 'ORG', 'start': 224},\n",
              "  {'end': 283, 'label': 'PERSON', 'start': 265},\n",
              "  {'end': 308, 'label': 'CARDINAL', 'start': 297},\n",
              "  {'end': 323, 'label': 'PERSON', 'start': 310},\n",
              "  {'end': 340, 'label': 'GPE', 'start': 325},\n",
              "  {'end': 348, 'label': 'GPE', 'start': 342}],\n",
              " [{'end': 44, 'label': 'DATE', 'start': 39},\n",
              "  {'end': 59, 'label': 'PERSON', 'start': 54}],\n",
              " [{'end': 103, 'label': 'PRODUCT', 'start': 98},\n",
              "  {'end': 141, 'label': 'PERSON', 'start': 129},\n",
              "  {'end': 172, 'label': 'PERSON', 'start': 166},\n",
              "  {'end': 230, 'label': 'PERSON', 'start': 223}],\n",
              " [{'end': 30, 'label': 'PERSON', 'start': 18},\n",
              "  {'end': 47, 'label': 'ORDINAL', 'start': 41},\n",
              "  {'end': 87, 'label': 'PERSON', 'start': 82}],\n",
              " [{'end': 57, 'label': 'ORG', 'start': 48},\n",
              "  {'end': 341, 'label': 'PERSON', 'start': 336}],\n",
              " [{'end': 110, 'label': 'PERSON', 'start': 105},\n",
              "  {'end': 145, 'label': 'PERSON', 'start': 140},\n",
              "  {'end': 164, 'label': 'PERCENT', 'start': 157},\n",
              "  {'end': 255, 'label': 'PERSON', 'start': 249},\n",
              "  {'end': 297, 'label': 'PERSON', 'start': 285}],\n",
              " [{'end': 85, 'label': 'TIME', 'start': 74}],\n",
              " [{'end': 25, 'label': 'PERSON', 'start': 9},\n",
              "  {'end': 62, 'label': 'PERSON', 'start': 57},\n",
              "  {'end': 67, 'label': 'CARDINAL', 'start': 64},\n",
              "  {'end': 79, 'label': 'CARDINAL', 'start': 75},\n",
              "  {'end': 104, 'label': 'PERSON', 'start': 96},\n",
              "  {'end': 134, 'label': 'PERSON', 'start': 124}],\n",
              " [{'end': 63, 'label': 'PERSON', 'start': 58},\n",
              "  {'end': 109, 'label': 'ORG', 'start': 84},\n",
              "  {'end': 174, 'label': 'PERSON', 'start': 166}],\n",
              " [{'end': 159, 'label': 'PERSON', 'start': 151},\n",
              "  {'end': 170, 'label': 'PERSON', 'start': 167}],\n",
              " [{'end': 7, 'label': 'CARDINAL', 'start': 1},\n",
              "  {'end': 117, 'label': 'PERSON', 'start': 113},\n",
              "  {'end': 128, 'label': 'PERSON', 'start': 122},\n",
              "  {'end': 141, 'label': 'PERSON', 'start': 130},\n",
              "  {'end': 168, 'label': 'PERSON', 'start': 162}],\n",
              " [{'end': 47, 'label': 'EVENT', 'start': 30},\n",
              "  {'end': 97, 'label': 'ORG', 'start': 76},\n",
              "  {'end': 114, 'label': 'PERSON', 'start': 100},\n",
              "  {'end': 173, 'label': 'DATE', 'start': 168},\n",
              "  {'end': 194, 'label': 'MONEY', 'start': 180}],\n",
              " [{'end': 188, 'label': 'PERSON', 'start': 184},\n",
              "  {'end': 229, 'label': 'EVENT', 'start': 216},\n",
              "  {'end': 251, 'label': 'EVENT', 'start': 234},\n",
              "  {'end': 268, 'label': 'ORG', 'start': 259}],\n",
              " [{'end': 213, 'label': 'PERSON', 'start': 209},\n",
              "  {'end': 236, 'label': 'PERSON', 'start': 218},\n",
              "  {'end': 255, 'label': 'PERSON', 'start': 242},\n",
              "  {'end': 271, 'label': 'PERSON', 'start': 267}],\n",
              " [{'end': 213, 'label': 'PERSON', 'start': 209},\n",
              "  {'end': 236, 'label': 'PERSON', 'start': 218},\n",
              "  {'end': 255, 'label': 'PERSON', 'start': 242},\n",
              "  {'end': 271, 'label': 'PERSON', 'start': 267}],\n",
              " [{'end': 51, 'label': 'PERSON', 'start': 46},\n",
              "  {'end': 83, 'label': 'PERSON', 'start': 80},\n",
              "  {'end': 94, 'label': 'PERSON', 'start': 88},\n",
              "  {'end': 146, 'label': 'CARDINAL', 'start': 143},\n",
              "  {'end': 251, 'label': 'PERSON', 'start': 247},\n",
              "  {'end': 263, 'label': 'PERSON', 'start': 256},\n",
              "  {'end': 273, 'label': 'CARDINAL', 'start': 270},\n",
              "  {'end': 288, 'label': 'PERSON', 'start': 281}],\n",
              " [{'end': 81, 'label': 'CARDINAL', 'start': 78},\n",
              "  {'end': 214, 'label': 'PERSON', 'start': 209},\n",
              "  {'end': 242, 'label': 'PERSON', 'start': 230}],\n",
              " [{'end': 41, 'label': 'PERSON', 'start': 37}],\n",
              " [{'end': 25, 'label': 'GPE', 'start': 19},\n",
              "  {'end': 70, 'label': 'DATE', 'start': 61},\n",
              "  {'end': 160, 'label': 'PERSON', 'start': 155},\n",
              "  {'end': 172, 'label': 'PERSON', 'start': 162},\n",
              "  {'end': 183, 'label': 'PERSON', 'start': 177},\n",
              "  {'end': 209, 'label': 'FAC', 'start': 193}],\n",
              " [{'end': 161, 'label': 'ORG', 'start': 151},\n",
              "  {'end': 180, 'label': 'PERSON', 'start': 166}],\n",
              " [{'end': 81, 'label': 'PERSON', 'start': 76},\n",
              "  {'end': 138, 'label': 'ORG', 'start': 130},\n",
              "  {'end': 218, 'label': 'WORK_OF_ART', 'start': 181}],\n",
              " [{'end': 34, 'label': 'PERSON', 'start': 24},\n",
              "  {'end': 120, 'label': 'PERSON', 'start': 115},\n",
              "  {'end': 156, 'label': 'PERSON', 'start': 149},\n",
              "  {'end': 188, 'label': 'PERSON', 'start': 179}],\n",
              " [{'end': 168, 'label': 'PERSON', 'start': 158},\n",
              "  {'end': 194, 'label': 'PERSON', 'start': 190}],\n",
              " [{'end': 92, 'label': 'PERSON', 'start': 78},\n",
              "  {'end': 163, 'label': 'ORG', 'start': 156}],\n",
              " [{'end': 40, 'label': 'PERSON', 'start': 27},\n",
              "  {'end': 53, 'label': 'PERSON', 'start': 45}],\n",
              " [{'end': 153, 'label': 'PERSON', 'start': 148}],\n",
              " [{'end': 26, 'label': 'CARDINAL', 'start': 3},\n",
              "  {'end': 241, 'label': 'PERSON', 'start': 238}],\n",
              " [{'end': 244, 'label': 'FAC', 'start': 230}],\n",
              " [{'end': 163, 'label': 'PERSON', 'start': 158},\n",
              "  {'end': 203, 'label': 'PERSON', 'start': 198}],\n",
              " [{'end': 84, 'label': 'PERSON', 'start': 76},\n",
              "  {'end': 231, 'label': 'PERSON', 'start': 212},\n",
              "  {'end': 336, 'label': 'PRODUCT', 'start': 331},\n",
              "  {'end': 368, 'label': 'PERSON', 'start': 360},\n",
              "  {'end': 404, 'label': 'PERSON', 'start': 396}],\n",
              " [{'end': 56, 'label': 'PRODUCT', 'start': 53},\n",
              "  {'end': 140, 'label': 'PERSON', 'start': 135},\n",
              "  {'end': 175, 'label': 'PRODUCT', 'start': 170},\n",
              "  {'end': 206, 'label': 'PRODUCT', 'start': 201}],\n",
              " [{'end': 163, 'label': 'PERSON', 'start': 158},\n",
              "  {'end': 203, 'label': 'PERSON', 'start': 198}],\n",
              " [{'end': 101, 'label': 'PERSON', 'start': 96},\n",
              "  {'end': 139, 'label': 'PERSON', 'start': 133},\n",
              "  {'end': 363, 'label': 'PERSON', 'start': 358}],\n",
              " [{'end': 9, 'label': 'PERSON', 'start': 3}],\n",
              " [{'end': 147, 'label': 'PERSON', 'start': 141}],\n",
              " [{'end': 10, 'label': 'PERSON', 'start': 4}],\n",
              " [{'end': 22, 'label': 'DATE', 'start': 5},\n",
              "  {'end': 212, 'label': 'PERSON', 'start': 209},\n",
              "  {'end': 267, 'label': 'PERSON', 'start': 261}],\n",
              " [{'end': 137, 'label': 'PERSON', 'start': 132}],\n",
              " [{'end': 25, 'label': 'PRODUCT', 'start': 18},\n",
              "  {'end': 89, 'label': 'PRODUCT', 'start': 86},\n",
              "  {'end': 141, 'label': 'PRODUCT', 'start': 123},\n",
              "  {'end': 265, 'label': 'PERSON', 'start': 257},\n",
              "  {'end': 438, 'label': 'PERSON', 'start': 433}]]"
            ]
          },
          "metadata": {},
          "execution_count": 22
        }
      ]
    },
    {
      "cell_type": "code",
      "source": [
        "for i in name_entity_label_risultati:\n",
        "  if(len(i)== 0):\n",
        "    name_entity_label_risultati.remove(i)\n",
        "name_entity_label_risultati   "
      ],
      "metadata": {
        "colab": {
          "base_uri": "https://localhost:8080/"
        },
        "id": "u59mXawdB4-V",
        "outputId": "99c9574e-eb7f-4ca9-ce1a-c73978ff1ab9"
      },
      "execution_count": 23,
      "outputs": [
        {
          "output_type": "execute_result",
          "data": {
            "text/plain": [
              "[[{'end': 14, 'label': 'PRODUCT', 'start': 1},\n",
              "  {'end': 142, 'label': 'ORG', 'start': 136},\n",
              "  {'end': 187, 'label': 'DATE', 'start': 176}],\n",
              " [{'end': 94, 'label': 'PERSON', 'start': 81},\n",
              "  {'end': 181, 'label': 'ORG', 'start': 159}],\n",
              " [{'end': 93, 'label': 'ORG', 'start': 81},\n",
              "  {'end': 158, 'label': 'PRODUCT', 'start': 151},\n",
              "  {'end': 217, 'label': 'ORG', 'start': 196},\n",
              "  {'end': 233, 'label': 'DATE', 'start': 228}],\n",
              " [{'end': 39, 'label': 'DATE', 'start': 20},\n",
              "  {'end': 314, 'label': 'ORG', 'start': 302}],\n",
              " [{'end': 35, 'label': 'PERSON', 'start': 24},\n",
              "  {'end': 57, 'label': 'PRODUCT', 'start': 39},\n",
              "  {'end': 120, 'label': 'PRODUCT', 'start': 88},\n",
              "  {'end': 153, 'label': 'PRODUCT', 'start': 139}],\n",
              " [{'end': 112, 'label': 'CARDINAL', 'start': 108},\n",
              "  {'end': 121, 'label': 'ORDINAL', 'start': 116},\n",
              "  {'end': 226, 'label': 'ORDINAL', 'start': 220},\n",
              "  {'end': 336, 'label': 'ORDINAL', 'start': 331},\n",
              "  {'end': 446, 'label': 'ORDINAL', 'start': 440},\n",
              "  {'end': 458, 'label': 'ORDINAL', 'start': 452},\n",
              "  {'end': 478, 'label': 'ORDINAL', 'start': 472},\n",
              "  {'end': 550, 'label': 'ORDINAL', 'start': 545},\n",
              "  {'end': 566, 'label': 'PRODUCT', 'start': 552},\n",
              "  {'end': 605, 'label': 'PERSON', 'start': 600}],\n",
              " [{'end': 88, 'label': 'PERSON', 'start': 83},\n",
              "  {'end': 120, 'label': 'PERSON', 'start': 114},\n",
              "  {'end': 141, 'label': 'PERSON', 'start': 136},\n",
              "  {'end': 249, 'label': 'CARDINAL', 'start': 244}],\n",
              " [{'end': 189, 'label': 'PERSON', 'start': 183},\n",
              "  {'end': 199, 'label': 'PERSON', 'start': 194}],\n",
              " [{'end': 16, 'label': 'WORK_OF_ART', 'start': 5},\n",
              "  {'end': 57, 'label': 'PERSON', 'start': 50},\n",
              "  {'end': 150, 'label': 'PERSON', 'start': 144},\n",
              "  {'end': 174, 'label': 'PERSON', 'start': 168}],\n",
              " [{'end': 11, 'label': 'PERSON', 'start': 5},\n",
              "  {'end': 85, 'label': 'CARDINAL', 'start': 82},\n",
              "  {'end': 124, 'label': 'PERSON', 'start': 118},\n",
              "  {'end': 247, 'label': 'GPE', 'start': 238},\n",
              "  {'end': 267, 'label': 'GPE', 'start': 260}],\n",
              " [{'end': 47, 'label': 'PERSON', 'start': 40},\n",
              "  {'end': 118, 'label': 'PERSON', 'start': 106}],\n",
              " [{'end': 32, 'label': 'ORG', 'start': 21},\n",
              "  {'end': 50, 'label': 'PERSON', 'start': 40},\n",
              "  {'end': 72, 'label': 'ORG', 'start': 58},\n",
              "  {'end': 91, 'label': 'PERSON', 'start': 88},\n",
              "  {'end': 99, 'label': 'PERSON', 'start': 94},\n",
              "  {'end': 255, 'label': 'ORG', 'start': 246},\n",
              "  {'end': 270, 'label': 'PERSON', 'start': 260}],\n",
              " [{'end': 15, 'label': 'PERSON', 'start': 7}],\n",
              " [{'end': 15, 'label': 'PERSON', 'start': 1},\n",
              "  {'end': 151, 'label': 'PERSON', 'start': 146}],\n",
              " [{'end': 16, 'label': 'PERSON', 'start': 2},\n",
              "  {'end': 48, 'label': 'PERSON', 'start': 43},\n",
              "  {'end': 110, 'label': 'ORG', 'start': 104},\n",
              "  {'end': 121, 'label': 'PERSON', 'start': 116},\n",
              "  {'end': 154, 'label': 'PERSON', 'start': 146}],\n",
              " [{'end': 47, 'label': 'PERSON', 'start': 38}],\n",
              " [{'end': 42, 'label': 'PERSON', 'start': 33},\n",
              "  {'end': 99, 'label': 'ORG', 'start': 93},\n",
              "  {'end': 150, 'label': 'ORG', 'start': 144}],\n",
              " [{'end': 135, 'label': 'PERSON', 'start': 125}],\n",
              " [{'end': 174, 'label': 'DATE', 'start': 169},\n",
              "  {'end': 205, 'label': 'PERSON', 'start': 189},\n",
              "  {'end': 262, 'label': 'PERSON', 'start': 257},\n",
              "  {'end': 340, 'label': 'PERSON', 'start': 330}],\n",
              " [{'end': 53, 'label': 'PERSON', 'start': 41},\n",
              "  {'end': 84, 'label': 'PERSON', 'start': 79},\n",
              "  {'end': 117, 'label': 'PERSON', 'start': 111},\n",
              "  {'end': 193, 'label': 'CARDINAL', 'start': 186}],\n",
              " [{'end': 21, 'label': 'PERSON', 'start': 9}],\n",
              " [{'end': 53, 'label': 'PERSON', 'start': 41},\n",
              "  {'end': 84, 'label': 'PERSON', 'start': 79},\n",
              "  {'end': 117, 'label': 'PERSON', 'start': 111},\n",
              "  {'end': 193, 'label': 'CARDINAL', 'start': 186}],\n",
              " [{'end': 49, 'label': 'PERSON', 'start': 43},\n",
              "  {'end': 147, 'label': 'PERSON', 'start': 135},\n",
              "  {'end': 181, 'label': 'PERSON', 'start': 176},\n",
              "  {'end': 213, 'label': 'ORDINAL', 'start': 208}],\n",
              " [{'end': 218, 'label': 'PERSON', 'start': 212},\n",
              "  {'end': 273, 'label': 'ORG', 'start': 262}],\n",
              " [{'end': 15, 'label': 'PERSON', 'start': 10},\n",
              "  {'end': 36, 'label': 'CARDINAL', 'start': 32},\n",
              "  {'end': 181, 'label': 'CARDINAL', 'start': 178},\n",
              "  {'end': 211, 'label': 'PERSON', 'start': 206}],\n",
              " [{'end': 8, 'label': 'CARDINAL', 'start': 5},\n",
              "  {'end': 37, 'label': 'PERSON', 'start': 21},\n",
              "  {'end': 72, 'label': 'PERSON', 'start': 64},\n",
              "  {'end': 109, 'label': 'PERSON', 'start': 101},\n",
              "  {'end': 250, 'label': 'PERSON', 'start': 243},\n",
              "  {'end': 327, 'label': 'PERSON', 'start': 319}],\n",
              " [{'end': 70, 'label': 'DATE', 'start': 63},\n",
              "  {'end': 77, 'label': 'PERSON', 'start': 72},\n",
              "  {'end': 132, 'label': 'PERSON', 'start': 128},\n",
              "  {'end': 143, 'label': 'PERSON', 'start': 137},\n",
              "  {'end': 167, 'label': 'PERSON', 'start': 160}],\n",
              " [{'end': 144, 'label': 'ORG', 'start': 136},\n",
              "  {'end': 284, 'label': 'PERSON', 'start': 273},\n",
              "  {'end': 292, 'label': 'DATE', 'start': 288},\n",
              "  {'end': 326, 'label': 'CARDINAL', 'start': 320},\n",
              "  {'end': 408, 'label': 'PERSON', 'start': 394}],\n",
              " [{'end': 113, 'label': 'PERSON', 'start': 99},\n",
              "  {'end': 138, 'label': 'PERSON', 'start': 133},\n",
              "  {'end': 182, 'label': 'PERSON', 'start': 167}],\n",
              " [{'end': 23, 'label': 'PERSON', 'start': 19},\n",
              "  {'end': 227, 'label': 'PERSON', 'start': 212}],\n",
              " [{'end': 37, 'label': 'PERSON', 'start': 29},\n",
              "  {'end': 238, 'label': 'PERSON', 'start': 223},\n",
              "  {'end': 257, 'label': 'ORG', 'start': 252}],\n",
              " [{'end': 88, 'label': 'PERSON', 'start': 83},\n",
              "  {'end': 120, 'label': 'PERSON', 'start': 114},\n",
              "  {'end': 141, 'label': 'PERSON', 'start': 136},\n",
              "  {'end': 249, 'label': 'CARDINAL', 'start': 244}],\n",
              " [{'end': 189, 'label': 'PERSON', 'start': 183},\n",
              "  {'end': 199, 'label': 'PERSON', 'start': 194}],\n",
              " [{'end': 309, 'label': 'PERSON', 'start': 293}],\n",
              " [{'end': 40, 'label': 'PERSON', 'start': 27},\n",
              "  {'end': 53, 'label': 'PERSON', 'start': 45}],\n",
              " [{'end': 215, 'label': 'PERSON', 'start': 205}],\n",
              " [{'end': 18, 'label': 'TIME', 'start': 5},\n",
              "  {'end': 28, 'label': 'CARDINAL', 'start': 23},\n",
              "  {'end': 124, 'label': 'PERSON', 'start': 114}],\n",
              " [{'end': 14, 'label': 'PERSON', 'start': 1},\n",
              "  {'end': 23, 'label': 'ORG', 'start': 14}],\n",
              " [{'end': 27, 'label': 'PERSON', 'start': 21},\n",
              "  {'end': 76, 'label': 'DATE', 'start': 57},\n",
              "  {'end': 126, 'label': 'PRODUCT', 'start': 106},\n",
              "  {'end': 205, 'label': 'PERSON', 'start': 196},\n",
              "  {'end': 225, 'label': 'PERSON', 'start': 219}],\n",
              " [{'end': 23, 'label': 'CARDINAL', 'start': 3},\n",
              "  {'end': 49, 'label': 'CARDINAL', 'start': 46},\n",
              "  {'end': 64, 'label': 'ORG', 'start': 60},\n",
              "  {'end': 74, 'label': 'GPE', 'start': 69},\n",
              "  {'end': 120, 'label': 'PRODUCT', 'start': 113}],\n",
              " [{'end': 54, 'label': 'PERSON', 'start': 48},\n",
              "  {'end': 126, 'label': 'PERSON', 'start': 121},\n",
              "  {'end': 190, 'label': 'PERSON', 'start': 183},\n",
              "  {'end': 218, 'label': 'PERSON', 'start': 213}],\n",
              " [{'end': 14, 'label': 'PERSON', 'start': 1},\n",
              "  {'end': 23, 'label': 'PERSON', 'start': 18},\n",
              "  {'end': 57, 'label': 'PERSON', 'start': 48},\n",
              "  {'end': 68, 'label': 'PRODUCT', 'start': 59},\n",
              "  {'end': 97, 'label': 'WORK_OF_ART', 'start': 76},\n",
              "  {'end': 297, 'label': 'PERSON', 'start': 288}],\n",
              " [{'end': 256, 'label': 'WORK_OF_ART', 'start': 234},\n",
              "  {'end': 266, 'label': 'PERSON', 'start': 257},\n",
              "  {'end': 277, 'label': 'ORG', 'start': 268}],\n",
              " [{'end': 13, 'label': 'PERSON', 'start': 8},\n",
              "  {'end': 35, 'label': 'PERSON', 'start': 19},\n",
              "  {'end': 124, 'label': 'PERSON', 'start': 108},\n",
              "  {'end': 251, 'label': 'PERSON', 'start': 244}],\n",
              " [{'end': 9, 'label': 'CARDINAL', 'start': 5},\n",
              "  {'end': 72, 'label': 'PERSON', 'start': 56}],\n",
              " [{'end': 121, 'label': 'PERSON', 'start': 112},\n",
              "  {'end': 173, 'label': 'PERSON', 'start': 157}],\n",
              " [{'end': 260, 'label': 'PERSON', 'start': 242}],\n",
              " [{'end': 77, 'label': 'PERSON', 'start': 70}],\n",
              " [{'end': 139, 'label': 'PERSON', 'start': 127}],\n",
              " [{'end': 101, 'label': 'PERSON', 'start': 98},\n",
              "  {'end': 168, 'label': 'PERSON', 'start': 155}],\n",
              " [{'end': 21, 'label': 'TIME', 'start': 3},\n",
              "  {'end': 96, 'label': 'PERSON', 'start': 76}],\n",
              " [{'end': 32, 'label': 'ORG', 'start': 21}],\n",
              " [{'end': 100, 'label': 'PERSON', 'start': 95},\n",
              "  {'end': 243, 'label': 'ORG', 'start': 230}],\n",
              " [{'end': 127, 'label': 'PERSON', 'start': 121},\n",
              "  {'end': 294, 'label': 'PERSON', 'start': 289}],\n",
              " [{'end': 110, 'label': 'PERSON', 'start': 105},\n",
              "  {'end': 145, 'label': 'PERSON', 'start': 140},\n",
              "  {'end': 164, 'label': 'PERCENT', 'start': 157},\n",
              "  {'end': 255, 'label': 'PERSON', 'start': 249},\n",
              "  {'end': 297, 'label': 'PERSON', 'start': 285}],\n",
              " [{'end': 101, 'label': 'WORK_OF_ART', 'start': 91},\n",
              "  {'end': 172, 'label': 'PERSON', 'start': 165},\n",
              "  {'end': 234, 'label': 'PERSON', 'start': 222},\n",
              "  {'end': 266, 'label': 'PERSON', 'start': 256},\n",
              "  {'end': 298, 'label': 'PERSON', 'start': 288}],\n",
              " [{'end': 100, 'label': 'PERSON', 'start': 87},\n",
              "  {'end': 119, 'label': 'PERSON', 'start': 112},\n",
              "  {'end': 195, 'label': 'PERSON', 'start': 187},\n",
              "  {'end': 314, 'label': 'PERSON', 'start': 306}],\n",
              " [{'end': 159, 'label': 'PERSON', 'start': 146}],\n",
              " [{'end': 54, 'label': 'ORDINAL', 'start': 49}],\n",
              " [{'end': 9, 'label': 'ORG', 'start': 4},\n",
              "  {'end': 97, 'label': 'PERSON', 'start': 89}],\n",
              " [{'end': 76, 'label': 'GPE', 'start': 70},\n",
              "  {'end': 126, 'label': 'ORG', 'start': 120}],\n",
              " [{'end': 135, 'label': 'PERSON', 'start': 125}],\n",
              " [{'end': 214, 'label': 'PERSON', 'start': 204}],\n",
              " [{'end': 133, 'label': 'ORG', 'start': 120},\n",
              "  {'end': 218, 'label': 'DATE', 'start': 200},\n",
              "  {'end': 271, 'label': 'DATE', 'start': 256}],\n",
              " [{'end': 12, 'label': 'PERSON', 'start': 5},\n",
              "  {'end': 117, 'label': 'ORG', 'start': 104}],\n",
              " [{'end': 16, 'label': 'PERSON', 'start': 8},\n",
              "  {'end': 25, 'label': 'ORG', 'start': 18},\n",
              "  {'end': 188, 'label': 'ORG', 'start': 180}],\n",
              " [{'end': 266, 'label': 'ORDINAL', 'start': 260}],\n",
              " [{'end': 174, 'label': 'DATE', 'start': 169},\n",
              "  {'end': 205, 'label': 'PERSON', 'start': 189},\n",
              "  {'end': 262, 'label': 'PERSON', 'start': 257},\n",
              "  {'end': 340, 'label': 'PERSON', 'start': 330}],\n",
              " [{'end': 215, 'label': 'PERSON', 'start': 205}],\n",
              " [{'end': 34, 'label': 'PERSON', 'start': 30},\n",
              "  {'end': 51, 'label': 'PERSON', 'start': 39},\n",
              "  {'end': 94, 'label': 'PERSON', 'start': 82}],\n",
              " [{'end': 51, 'label': 'DATE', 'start': 30},\n",
              "  {'end': 65, 'label': 'WORK_OF_ART', 'start': 60},\n",
              "  {'end': 95, 'label': 'PERSON', 'start': 90},\n",
              "  {'end': 210, 'label': 'LAW', 'start': 172},\n",
              "  {'end': 260, 'label': 'ORG', 'start': 224},\n",
              "  {'end': 283, 'label': 'PERSON', 'start': 265},\n",
              "  {'end': 308, 'label': 'CARDINAL', 'start': 297},\n",
              "  {'end': 323, 'label': 'PERSON', 'start': 310},\n",
              "  {'end': 340, 'label': 'ORG', 'start': 325},\n",
              "  {'end': 348, 'label': 'GPE', 'start': 342}],\n",
              " [{'end': 44, 'label': 'DATE', 'start': 39},\n",
              "  {'end': 59, 'label': 'PERSON', 'start': 54}],\n",
              " [{'end': 103, 'label': 'PRODUCT', 'start': 98},\n",
              "  {'end': 141, 'label': 'PERSON', 'start': 129},\n",
              "  {'end': 172, 'label': 'PERSON', 'start': 166},\n",
              "  {'end': 230, 'label': 'PERSON', 'start': 223}],\n",
              " [{'end': 30, 'label': 'PERSON', 'start': 18},\n",
              "  {'end': 47, 'label': 'ORDINAL', 'start': 41},\n",
              "  {'end': 87, 'label': 'PERSON', 'start': 82}],\n",
              " [{'end': 57, 'label': 'ORG', 'start': 48},\n",
              "  {'end': 341, 'label': 'PERSON', 'start': 336}],\n",
              " [{'end': 110, 'label': 'PERSON', 'start': 105},\n",
              "  {'end': 145, 'label': 'PERSON', 'start': 140},\n",
              "  {'end': 164, 'label': 'PERCENT', 'start': 157},\n",
              "  {'end': 255, 'label': 'PERSON', 'start': 249},\n",
              "  {'end': 297, 'label': 'PERSON', 'start': 285}],\n",
              " [{'end': 85, 'label': 'TIME', 'start': 74}],\n",
              " [{'end': 25, 'label': 'PERSON', 'start': 9},\n",
              "  {'end': 62, 'label': 'PERSON', 'start': 57},\n",
              "  {'end': 67, 'label': 'CARDINAL', 'start': 64},\n",
              "  {'end': 79, 'label': 'CARDINAL', 'start': 75},\n",
              "  {'end': 104, 'label': 'PRODUCT', 'start': 96},\n",
              "  {'end': 134, 'label': 'GPE', 'start': 124}],\n",
              " [{'end': 63, 'label': 'ORG', 'start': 58},\n",
              "  {'end': 109, 'label': 'ORG', 'start': 84},\n",
              "  {'end': 174, 'label': 'ORG', 'start': 166}],\n",
              " [{'end': 159, 'label': 'PERSON', 'start': 151},\n",
              "  {'end': 170, 'label': 'PERSON', 'start': 167}],\n",
              " [{'end': 7, 'label': 'CARDINAL', 'start': 1},\n",
              "  {'end': 117, 'label': 'PERSON', 'start': 113},\n",
              "  {'end': 128, 'label': 'PERSON', 'start': 122},\n",
              "  {'end': 141, 'label': 'PERSON', 'start': 130},\n",
              "  {'end': 168, 'label': 'PERSON', 'start': 162}],\n",
              " [{'end': 47, 'label': 'EVENT', 'start': 30},\n",
              "  {'end': 97, 'label': 'ORG', 'start': 76},\n",
              "  {'end': 114, 'label': 'PERSON', 'start': 100},\n",
              "  {'end': 173, 'label': 'DATE', 'start': 168},\n",
              "  {'end': 194, 'label': 'MONEY', 'start': 180}],\n",
              " [{'end': 188, 'label': 'PERSON', 'start': 184},\n",
              "  {'end': 229, 'label': 'EVENT', 'start': 216},\n",
              "  {'end': 251, 'label': 'EVENT', 'start': 234},\n",
              "  {'end': 268, 'label': 'PRODUCT', 'start': 259}],\n",
              " [{'end': 213, 'label': 'PERSON', 'start': 209},\n",
              "  {'end': 236, 'label': 'WORK_OF_ART', 'start': 218},\n",
              "  {'end': 255, 'label': 'WORK_OF_ART', 'start': 242},\n",
              "  {'end': 271, 'label': 'PERSON', 'start': 267}],\n",
              " [{'end': 213, 'label': 'PERSON', 'start': 209},\n",
              "  {'end': 236, 'label': 'WORK_OF_ART', 'start': 218},\n",
              "  {'end': 255, 'label': 'WORK_OF_ART', 'start': 242},\n",
              "  {'end': 271, 'label': 'PERSON', 'start': 267}],\n",
              " [{'end': 51, 'label': 'PERSON', 'start': 46},\n",
              "  {'end': 83, 'label': 'PERSON', 'start': 80},\n",
              "  {'end': 94, 'label': 'PERSON', 'start': 88},\n",
              "  {'end': 146, 'label': 'CARDINAL', 'start': 143},\n",
              "  {'end': 251, 'label': 'PERSON', 'start': 247},\n",
              "  {'end': 263, 'label': 'PERSON', 'start': 256},\n",
              "  {'end': 273, 'label': 'CARDINAL', 'start': 270},\n",
              "  {'end': 288, 'label': 'PERSON', 'start': 281}],\n",
              " [{'end': 81, 'label': 'CARDINAL', 'start': 78},\n",
              "  {'end': 214, 'label': 'PERSON', 'start': 209},\n",
              "  {'end': 242, 'label': 'PERSON', 'start': 230}],\n",
              " [{'end': 41, 'label': 'PERSON', 'start': 37}],\n",
              " [{'end': 25, 'label': 'GPE', 'start': 19},\n",
              "  {'end': 70, 'label': 'DATE', 'start': 61},\n",
              "  {'end': 160, 'label': 'PERSON', 'start': 155},\n",
              "  {'end': 172, 'label': 'PERSON', 'start': 162},\n",
              "  {'end': 183, 'label': 'PERSON', 'start': 177},\n",
              "  {'end': 209, 'label': 'FAC', 'start': 193}],\n",
              " [{'end': 161, 'label': 'PERSON', 'start': 151},\n",
              "  {'end': 180, 'label': 'PERSON', 'start': 166}],\n",
              " [{'end': 81, 'label': 'PERSON', 'start': 76},\n",
              "  {'end': 138, 'label': 'ORG', 'start': 130},\n",
              "  {'end': 218, 'label': 'WORK_OF_ART', 'start': 181}],\n",
              " [{'end': 34, 'label': 'PERSON', 'start': 24},\n",
              "  {'end': 120, 'label': 'PERSON', 'start': 115},\n",
              "  {'end': 156, 'label': 'PERSON', 'start': 149},\n",
              "  {'end': 188, 'label': 'PERSON', 'start': 179}],\n",
              " [{'end': 168, 'label': 'PERSON', 'start': 158},\n",
              "  {'end': 194, 'label': 'PERSON', 'start': 190}],\n",
              " [{'end': 92, 'label': 'ORG', 'start': 78},\n",
              "  {'end': 163, 'label': 'ORG', 'start': 156}],\n",
              " [{'end': 40, 'label': 'PERSON', 'start': 27},\n",
              "  {'end': 53, 'label': 'PERSON', 'start': 45}],\n",
              " [{'end': 153, 'label': 'PERSON', 'start': 148}],\n",
              " [{'end': 26, 'label': 'CARDINAL', 'start': 3},\n",
              "  {'end': 241, 'label': 'PERSON', 'start': 238}],\n",
              " [{'end': 244, 'label': 'FAC', 'start': 230}],\n",
              " [{'end': 163, 'label': 'PERSON', 'start': 158},\n",
              "  {'end': 203, 'label': 'PERSON', 'start': 198}],\n",
              " [{'end': 84, 'label': 'PERSON', 'start': 76},\n",
              "  {'end': 231, 'label': 'ORG', 'start': 212},\n",
              "  {'end': 336, 'label': 'ORG', 'start': 331},\n",
              "  {'end': 368, 'label': 'PERSON', 'start': 360},\n",
              "  {'end': 404, 'label': 'PERSON', 'start': 396}],\n",
              " [{'end': 56, 'label': 'PERSON', 'start': 53},\n",
              "  {'end': 140, 'label': 'PERSON', 'start': 135},\n",
              "  {'end': 175, 'label': 'ORG', 'start': 170},\n",
              "  {'end': 206, 'label': 'ORG', 'start': 201}],\n",
              " [{'end': 163, 'label': 'PERSON', 'start': 158},\n",
              "  {'end': 203, 'label': 'PERSON', 'start': 198}],\n",
              " [{'end': 101, 'label': 'PERSON', 'start': 96},\n",
              "  {'end': 139, 'label': 'PERSON', 'start': 133},\n",
              "  {'end': 363, 'label': 'PERSON', 'start': 358}],\n",
              " [{'end': 9, 'label': 'ORG', 'start': 3}],\n",
              " [{'end': 147, 'label': 'PERSON', 'start': 141}],\n",
              " [{'end': 10, 'label': 'PRODUCT', 'start': 4}],\n",
              " [{'end': 22, 'label': 'DATE', 'start': 5},\n",
              "  {'end': 212, 'label': 'PERSON', 'start': 209},\n",
              "  {'end': 267, 'label': 'ORG', 'start': 261}],\n",
              " [{'end': 137, 'label': 'ORG', 'start': 132}],\n",
              " [{'end': 25, 'label': 'PERSON', 'start': 18},\n",
              "  {'end': 89, 'label': 'PERSON', 'start': 86},\n",
              "  {'end': 141, 'label': 'PRODUCT', 'start': 123},\n",
              "  {'end': 265, 'label': 'PERSON', 'start': 257},\n",
              "  {'end': 438, 'label': 'ORG', 'start': 433}]]"
            ]
          },
          "metadata": {},
          "execution_count": 23
        }
      ]
    },
    {
      "cell_type": "markdown",
      "source": [
        "### Valutazione NER (quante label riconosce e quante ne avrebbe dovute trovare)"
      ],
      "metadata": {
        "id": "A0Nkd8Fh4Svq"
      }
    },
    {
      "cell_type": "code",
      "source": [
        "#df_ner_corretto\n",
        "df_numero_trovati = pd.read_csv(\"trovate_effettive.csv\")\n",
        "df_numero_trovati.index += 1 \n",
        "df_ner_corretto_totale = df_ner_corretto.join(df_numero_trovati)\n",
        "df_ner_corretto_totale"
      ],
      "metadata": {
        "colab": {
          "base_uri": "https://localhost:8080/",
          "height": 424
        },
        "id": "KepqEDdX4lSi",
        "outputId": "c5aae306-77d1-4e54-ab54-5053c33d155f"
      },
      "execution_count": 49,
      "outputs": [
        {
          "output_type": "execute_result",
          "data": {
            "text/plain": [
              "                                                phrase  \\\n",
              "1     The Dark Mark  had been set over it — well, f...   \n",
              "2     It  was a pompous little sign, neatly lettere...   \n",
              "3    ”   Harry held the paper up to the candlelight...   \n",
              "4            Harry spent the long sunny days explor...   \n",
              "5     What she did have were Bertie Bott’s  Every F...   \n",
              "..                                                 ...   \n",
              "107   “Come to  throw something else at me?”   Harr...   \n",
              "108  ”   Aragog clicked his pincers furiously, and ...   \n",
              "109   For nearly a  quarter of an hour he spoke int...   \n",
              "110   The back, under what  looked like a dirty bro...   \n",
              "111   “An’ I don’ wan’ yeh ter  put yerself out too...   \n",
              "\n",
              "                                                 label  trovate  effettive  \n",
              "1    [{'label': 'PRODUCT', 'start': 1, 'end': 14}, ...        3          5  \n",
              "2    [{'label': 'PERSON', 'start': 81, 'end': 94}, ...        2          4  \n",
              "3    [{'label': 'PERSON', 'start': 81, 'end': 93}, ...        4          5  \n",
              "4    [{'label': 'DATE', 'start': 20, 'end': 39}, {'...        2          4  \n",
              "5    [{'label': 'PERSON', 'start': 24, 'end': 35}, ...        4          7  \n",
              "..                                                 ...      ...        ...  \n",
              "107    [{'label': 'PERSON', 'start': 141, 'end': 147}]        1          2  \n",
              "108       [{'label': ‘PERSON', 'start': 4, 'end': 10}]        3          5  \n",
              "109  [{'label': 'DATE', 'start': 5, 'end': 22}, {'l...        1          1  \n",
              "110    [{'label': ‘PERSON', 'start': 132, 'end': 137}]        3          4  \n",
              "111  [{'label': 'PRODUCT', 'start': 18, 'end': 25},...        5          7  \n",
              "\n",
              "[111 rows x 4 columns]"
            ],
            "text/html": [
              "\n",
              "  <div id=\"df-f4d1d69b-9808-487a-b7eb-129814527a9b\">\n",
              "    <div class=\"colab-df-container\">\n",
              "      <div>\n",
              "<style scoped>\n",
              "    .dataframe tbody tr th:only-of-type {\n",
              "        vertical-align: middle;\n",
              "    }\n",
              "\n",
              "    .dataframe tbody tr th {\n",
              "        vertical-align: top;\n",
              "    }\n",
              "\n",
              "    .dataframe thead th {\n",
              "        text-align: right;\n",
              "    }\n",
              "</style>\n",
              "<table border=\"1\" class=\"dataframe\">\n",
              "  <thead>\n",
              "    <tr style=\"text-align: right;\">\n",
              "      <th></th>\n",
              "      <th>phrase</th>\n",
              "      <th>label</th>\n",
              "      <th>trovate</th>\n",
              "      <th>effettive</th>\n",
              "    </tr>\n",
              "  </thead>\n",
              "  <tbody>\n",
              "    <tr>\n",
              "      <th>1</th>\n",
              "      <td>The Dark Mark  had been set over it — well, f...</td>\n",
              "      <td>[{'label': 'PRODUCT', 'start': 1, 'end': 14}, ...</td>\n",
              "      <td>3</td>\n",
              "      <td>5</td>\n",
              "    </tr>\n",
              "    <tr>\n",
              "      <th>2</th>\n",
              "      <td>It  was a pompous little sign, neatly lettere...</td>\n",
              "      <td>[{'label': 'PERSON', 'start': 81, 'end': 94}, ...</td>\n",
              "      <td>2</td>\n",
              "      <td>4</td>\n",
              "    </tr>\n",
              "    <tr>\n",
              "      <th>3</th>\n",
              "      <td>”   Harry held the paper up to the candlelight...</td>\n",
              "      <td>[{'label': 'PERSON', 'start': 81, 'end': 93}, ...</td>\n",
              "      <td>4</td>\n",
              "      <td>5</td>\n",
              "    </tr>\n",
              "    <tr>\n",
              "      <th>4</th>\n",
              "      <td>Harry spent the long sunny days explor...</td>\n",
              "      <td>[{'label': 'DATE', 'start': 20, 'end': 39}, {'...</td>\n",
              "      <td>2</td>\n",
              "      <td>4</td>\n",
              "    </tr>\n",
              "    <tr>\n",
              "      <th>5</th>\n",
              "      <td>What she did have were Bertie Bott’s  Every F...</td>\n",
              "      <td>[{'label': 'PERSON', 'start': 24, 'end': 35}, ...</td>\n",
              "      <td>4</td>\n",
              "      <td>7</td>\n",
              "    </tr>\n",
              "    <tr>\n",
              "      <th>...</th>\n",
              "      <td>...</td>\n",
              "      <td>...</td>\n",
              "      <td>...</td>\n",
              "      <td>...</td>\n",
              "    </tr>\n",
              "    <tr>\n",
              "      <th>107</th>\n",
              "      <td>“Come to  throw something else at me?”   Harr...</td>\n",
              "      <td>[{'label': 'PERSON', 'start': 141, 'end': 147}]</td>\n",
              "      <td>1</td>\n",
              "      <td>2</td>\n",
              "    </tr>\n",
              "    <tr>\n",
              "      <th>108</th>\n",
              "      <td>”   Aragog clicked his pincers furiously, and ...</td>\n",
              "      <td>[{'label': ‘PERSON', 'start': 4, 'end': 10}]</td>\n",
              "      <td>3</td>\n",
              "      <td>5</td>\n",
              "    </tr>\n",
              "    <tr>\n",
              "      <th>109</th>\n",
              "      <td>For nearly a  quarter of an hour he spoke int...</td>\n",
              "      <td>[{'label': 'DATE', 'start': 5, 'end': 22}, {'l...</td>\n",
              "      <td>1</td>\n",
              "      <td>1</td>\n",
              "    </tr>\n",
              "    <tr>\n",
              "      <th>110</th>\n",
              "      <td>The back, under what  looked like a dirty bro...</td>\n",
              "      <td>[{'label': ‘PERSON', 'start': 132, 'end': 137}]</td>\n",
              "      <td>3</td>\n",
              "      <td>4</td>\n",
              "    </tr>\n",
              "    <tr>\n",
              "      <th>111</th>\n",
              "      <td>“An’ I don’ wan’ yeh ter  put yerself out too...</td>\n",
              "      <td>[{'label': 'PRODUCT', 'start': 18, 'end': 25},...</td>\n",
              "      <td>5</td>\n",
              "      <td>7</td>\n",
              "    </tr>\n",
              "  </tbody>\n",
              "</table>\n",
              "<p>111 rows × 4 columns</p>\n",
              "</div>\n",
              "      <button class=\"colab-df-convert\" onclick=\"convertToInteractive('df-f4d1d69b-9808-487a-b7eb-129814527a9b')\"\n",
              "              title=\"Convert this dataframe to an interactive table.\"\n",
              "              style=\"display:none;\">\n",
              "        \n",
              "  <svg xmlns=\"http://www.w3.org/2000/svg\" height=\"24px\"viewBox=\"0 0 24 24\"\n",
              "       width=\"24px\">\n",
              "    <path d=\"M0 0h24v24H0V0z\" fill=\"none\"/>\n",
              "    <path d=\"M18.56 5.44l.94 2.06.94-2.06 2.06-.94-2.06-.94-.94-2.06-.94 2.06-2.06.94zm-11 1L8.5 8.5l.94-2.06 2.06-.94-2.06-.94L8.5 2.5l-.94 2.06-2.06.94zm10 10l.94 2.06.94-2.06 2.06-.94-2.06-.94-.94-2.06-.94 2.06-2.06.94z\"/><path d=\"M17.41 7.96l-1.37-1.37c-.4-.4-.92-.59-1.43-.59-.52 0-1.04.2-1.43.59L10.3 9.45l-7.72 7.72c-.78.78-.78 2.05 0 2.83L4 21.41c.39.39.9.59 1.41.59.51 0 1.02-.2 1.41-.59l7.78-7.78 2.81-2.81c.8-.78.8-2.07 0-2.86zM5.41 20L4 18.59l7.72-7.72 1.47 1.35L5.41 20z\"/>\n",
              "  </svg>\n",
              "      </button>\n",
              "      \n",
              "  <style>\n",
              "    .colab-df-container {\n",
              "      display:flex;\n",
              "      flex-wrap:wrap;\n",
              "      gap: 12px;\n",
              "    }\n",
              "\n",
              "    .colab-df-convert {\n",
              "      background-color: #E8F0FE;\n",
              "      border: none;\n",
              "      border-radius: 50%;\n",
              "      cursor: pointer;\n",
              "      display: none;\n",
              "      fill: #1967D2;\n",
              "      height: 32px;\n",
              "      padding: 0 0 0 0;\n",
              "      width: 32px;\n",
              "    }\n",
              "\n",
              "    .colab-df-convert:hover {\n",
              "      background-color: #E2EBFA;\n",
              "      box-shadow: 0px 1px 2px rgba(60, 64, 67, 0.3), 0px 1px 3px 1px rgba(60, 64, 67, 0.15);\n",
              "      fill: #174EA6;\n",
              "    }\n",
              "\n",
              "    [theme=dark] .colab-df-convert {\n",
              "      background-color: #3B4455;\n",
              "      fill: #D2E3FC;\n",
              "    }\n",
              "\n",
              "    [theme=dark] .colab-df-convert:hover {\n",
              "      background-color: #434B5C;\n",
              "      box-shadow: 0px 1px 3px 1px rgba(0, 0, 0, 0.15);\n",
              "      filter: drop-shadow(0px 1px 2px rgba(0, 0, 0, 0.3));\n",
              "      fill: #FFFFFF;\n",
              "    }\n",
              "  </style>\n",
              "\n",
              "      <script>\n",
              "        const buttonEl =\n",
              "          document.querySelector('#df-f4d1d69b-9808-487a-b7eb-129814527a9b button.colab-df-convert');\n",
              "        buttonEl.style.display =\n",
              "          google.colab.kernel.accessAllowed ? 'block' : 'none';\n",
              "\n",
              "        async function convertToInteractive(key) {\n",
              "          const element = document.querySelector('#df-f4d1d69b-9808-487a-b7eb-129814527a9b');\n",
              "          const dataTable =\n",
              "            await google.colab.kernel.invokeFunction('convertToInteractive',\n",
              "                                                     [key], {});\n",
              "          if (!dataTable) return;\n",
              "\n",
              "          const docLinkHtml = 'Like what you see? Visit the ' +\n",
              "            '<a target=\"_blank\" href=https://colab.research.google.com/notebooks/data_table.ipynb>data table notebook</a>'\n",
              "            + ' to learn more about interactive tables.';\n",
              "          element.innerHTML = '';\n",
              "          dataTable['output_type'] = 'display_data';\n",
              "          await google.colab.output.renderOutput(dataTable, element);\n",
              "          const docLink = document.createElement('div');\n",
              "          docLink.innerHTML = docLinkHtml;\n",
              "          element.appendChild(docLink);\n",
              "        }\n",
              "      </script>\n",
              "    </div>\n",
              "  </div>\n",
              "  "
            ]
          },
          "metadata": {},
          "execution_count": 49
        }
      ]
    },
    {
      "cell_type": "code",
      "source": [
        "print(\"Il numero di label trovate è :\" , df_ner_corretto_totale.trovate.sum())\n",
        "print(\"Il numero di label che avrebbe dovuto trovare è :\" , df_ner_corretto_totale.effettive.sum())\n",
        "print(\"Percentuale identificate : \", \"{:.2f}\".format((df_ner_corretto_totale.trovate.sum()/df_ner_corretto_totale.effettive.sum())*100) )\n",
        "print(\"Errore del : \", \"{:.2f}\".format((100-((df_ner_corretto_totale.trovate.sum()/df_ner_corretto_totale.effettive.sum())*100))) )\n"
      ],
      "metadata": {
        "colab": {
          "base_uri": "https://localhost:8080/"
        },
        "id": "OQSPy9HE75qR",
        "outputId": "25763842-290f-40bb-c414-083d2a197bcf"
      },
      "execution_count": 54,
      "outputs": [
        {
          "output_type": "stream",
          "name": "stdout",
          "text": [
            "Il numero di label trovate è : 332\n",
            "Il numero di label che avrebbe dovuto trovare è : 463\n",
            "Percentuale identificate :  71.71\n",
            "Errore del :  28.29\n"
          ]
        }
      ]
    },
    {
      "cell_type": "markdown",
      "source": [
        "### Valutazione NER(delle label trovate quante sono corrette) "
      ],
      "metadata": {
        "id": "r9gDB04SiGee"
      }
    },
    {
      "cell_type": "code",
      "source": [
        "true = ner_corretto\n",
        "\n",
        "pred = name_entity_label_risultati\n",
        "\n",
        "from nervaluate import Evaluator\n",
        "\n",
        "evaluator = Evaluator(true, pred, tags=['PRODUCT', 'PERSON','EVENT','QUANTITY','MONEY', 'ORG', 'CARDINAL','FAC','LOC', 'GPE', 'TIME', 'WORK_OF_ART','ORDINAL','DATE'])\n",
        "\n",
        "# Risultati delle metriche per ogni tag \n",
        "\n",
        "results, results_per_tag = evaluator.evaluate()\n",
        "\n",
        "print(\"PRODUCT\" , results_per_tag[\"PRODUCT\"] )\n",
        "print(\"PERSON\" ,results_per_tag[\"PERSON\"] )\n",
        "print(\"EVENT\" , results_per_tag[\"EVENT\"] )\n",
        "print(\"MONEY\" , results_per_tag[\"MONEY\"] )\n",
        "print(\"QUANTITY\", results_per_tag[\"QUANTITY\"] )\n",
        "print(\"CARDINAL\", results_per_tag[\"CARDINAL\"] )\n",
        "print(\"FAC\", results_per_tag[\"FAC\"] )\n",
        "print(\"LOC\" , results_per_tag[\"LOC\"] )\n",
        "print(\"GPE\", results_per_tag[\"GPE\"] )\n",
        "print(\"TIME\", results_per_tag[\"TIME\"] )\n",
        "print(\"WORK_OF_ART\", results_per_tag[\"WORK_OF_ART\"] )\n",
        "print(\"ORDINAL\", results_per_tag[\"ORDINAL\"] )\n",
        "print(\"DATE\", results_per_tag[\"DATE\"] )\n",
        "\n"
      ],
      "metadata": {
        "colab": {
          "base_uri": "https://localhost:8080/"
        },
        "id": "dDUfizbUB6un",
        "outputId": "b68b444b-d5c1-4f81-be48-cc30199dc38c"
      },
      "execution_count": 24,
      "outputs": [
        {
          "output_type": "stream",
          "name": "stdout",
          "text": [
            "PRODUCT {'ent_type': {'correct': 7, 'incorrect': 7, 'partial': 0, 'missed': 0, 'spurious': 0, 'possible': 14, 'actual': 14, 'precision': 0.5, 'recall': 0.5, 'f1': 0.5}, 'partial': {'correct': 14, 'incorrect': 0, 'partial': 0, 'missed': 0, 'spurious': 0, 'possible': 14, 'actual': 14, 'precision': 1.0, 'recall': 1.0, 'f1': 1.0}, 'strict': {'correct': 7, 'incorrect': 7, 'partial': 0, 'missed': 0, 'spurious': 0, 'possible': 14, 'actual': 14, 'precision': 0.5, 'recall': 0.5, 'f1': 0.5}, 'exact': {'correct': 14, 'incorrect': 0, 'partial': 0, 'missed': 0, 'spurious': 0, 'possible': 14, 'actual': 14, 'precision': 1.0, 'recall': 1.0, 'f1': 1.0}}\n",
            "PERSON {'ent_type': {'correct': 193, 'incorrect': 33, 'partial': 0, 'missed': 0, 'spurious': 0, 'possible': 226, 'actual': 226, 'precision': 0.8539823008849557, 'recall': 0.8539823008849557, 'f1': 0.8539823008849556}, 'partial': {'correct': 226, 'incorrect': 0, 'partial': 0, 'missed': 0, 'spurious': 0, 'possible': 226, 'actual': 226, 'precision': 1.0, 'recall': 1.0, 'f1': 1.0}, 'strict': {'correct': 193, 'incorrect': 33, 'partial': 0, 'missed': 0, 'spurious': 0, 'possible': 226, 'actual': 226, 'precision': 0.8539823008849557, 'recall': 0.8539823008849557, 'f1': 0.8539823008849556}, 'exact': {'correct': 226, 'incorrect': 0, 'partial': 0, 'missed': 0, 'spurious': 0, 'possible': 226, 'actual': 226, 'precision': 1.0, 'recall': 1.0, 'f1': 1.0}}\n",
            "EVENT {'ent_type': {'correct': 3, 'incorrect': 2, 'partial': 0, 'missed': 0, 'spurious': 0, 'possible': 5, 'actual': 5, 'precision': 0.6, 'recall': 0.6, 'f1': 0.6}, 'partial': {'correct': 5, 'incorrect': 0, 'partial': 0, 'missed': 0, 'spurious': 0, 'possible': 5, 'actual': 5, 'precision': 1.0, 'recall': 1.0, 'f1': 1.0}, 'strict': {'correct': 3, 'incorrect': 2, 'partial': 0, 'missed': 0, 'spurious': 0, 'possible': 5, 'actual': 5, 'precision': 0.6, 'recall': 0.6, 'f1': 0.6}, 'exact': {'correct': 5, 'incorrect': 0, 'partial': 0, 'missed': 0, 'spurious': 0, 'possible': 5, 'actual': 5, 'precision': 1.0, 'recall': 1.0, 'f1': 1.0}}\n",
            "MONEY {'ent_type': {'correct': 1, 'incorrect': 0, 'partial': 0, 'missed': 0, 'spurious': 0, 'possible': 1, 'actual': 1, 'precision': 1.0, 'recall': 1.0, 'f1': 1.0}, 'partial': {'correct': 1, 'incorrect': 0, 'partial': 0, 'missed': 0, 'spurious': 0, 'possible': 1, 'actual': 1, 'precision': 1.0, 'recall': 1.0, 'f1': 1.0}, 'strict': {'correct': 1, 'incorrect': 0, 'partial': 0, 'missed': 0, 'spurious': 0, 'possible': 1, 'actual': 1, 'precision': 1.0, 'recall': 1.0, 'f1': 1.0}, 'exact': {'correct': 1, 'incorrect': 0, 'partial': 0, 'missed': 0, 'spurious': 0, 'possible': 1, 'actual': 1, 'precision': 1.0, 'recall': 1.0, 'f1': 1.0}}\n",
            "QUANTITY {'ent_type': {'correct': 0, 'incorrect': 0, 'partial': 0, 'missed': 0, 'spurious': 0, 'possible': 0, 'actual': 0, 'precision': 0, 'recall': 0, 'f1': 0}, 'partial': {'correct': 0, 'incorrect': 0, 'partial': 0, 'missed': 0, 'spurious': 0, 'possible': 0, 'actual': 0, 'precision': 0, 'recall': 0, 'f1': 0}, 'strict': {'correct': 0, 'incorrect': 0, 'partial': 0, 'missed': 0, 'spurious': 0, 'possible': 0, 'actual': 0, 'precision': 0, 'recall': 0, 'f1': 0}, 'exact': {'correct': 0, 'incorrect': 0, 'partial': 0, 'missed': 0, 'spurious': 0, 'possible': 0, 'actual': 0, 'precision': 0, 'recall': 0, 'f1': 0}}\n",
            "CARDINAL {'ent_type': {'correct': 22, 'incorrect': 0, 'partial': 0, 'missed': 0, 'spurious': 0, 'possible': 22, 'actual': 22, 'precision': 1.0, 'recall': 1.0, 'f1': 1.0}, 'partial': {'correct': 22, 'incorrect': 0, 'partial': 0, 'missed': 0, 'spurious': 0, 'possible': 22, 'actual': 22, 'precision': 1.0, 'recall': 1.0, 'f1': 1.0}, 'strict': {'correct': 22, 'incorrect': 0, 'partial': 0, 'missed': 0, 'spurious': 0, 'possible': 22, 'actual': 22, 'precision': 1.0, 'recall': 1.0, 'f1': 1.0}, 'exact': {'correct': 22, 'incorrect': 0, 'partial': 0, 'missed': 0, 'spurious': 0, 'possible': 22, 'actual': 22, 'precision': 1.0, 'recall': 1.0, 'f1': 1.0}}\n",
            "FAC {'ent_type': {'correct': 2, 'incorrect': 0, 'partial': 0, 'missed': 0, 'spurious': 0, 'possible': 2, 'actual': 2, 'precision': 1.0, 'recall': 1.0, 'f1': 1.0}, 'partial': {'correct': 2, 'incorrect': 0, 'partial': 0, 'missed': 0, 'spurious': 0, 'possible': 2, 'actual': 2, 'precision': 1.0, 'recall': 1.0, 'f1': 1.0}, 'strict': {'correct': 2, 'incorrect': 0, 'partial': 0, 'missed': 0, 'spurious': 0, 'possible': 2, 'actual': 2, 'precision': 1.0, 'recall': 1.0, 'f1': 1.0}, 'exact': {'correct': 2, 'incorrect': 0, 'partial': 0, 'missed': 0, 'spurious': 0, 'possible': 2, 'actual': 2, 'precision': 1.0, 'recall': 1.0, 'f1': 1.0}}\n",
            "LOC {'ent_type': {'correct': 0, 'incorrect': 0, 'partial': 0, 'missed': 0, 'spurious': 0, 'possible': 0, 'actual': 0, 'precision': 0, 'recall': 0, 'f1': 0}, 'partial': {'correct': 0, 'incorrect': 0, 'partial': 0, 'missed': 0, 'spurious': 0, 'possible': 0, 'actual': 0, 'precision': 0, 'recall': 0, 'f1': 0}, 'strict': {'correct': 0, 'incorrect': 0, 'partial': 0, 'missed': 0, 'spurious': 0, 'possible': 0, 'actual': 0, 'precision': 0, 'recall': 0, 'f1': 0}, 'exact': {'correct': 0, 'incorrect': 0, 'partial': 0, 'missed': 0, 'spurious': 0, 'possible': 0, 'actual': 0, 'precision': 0, 'recall': 0, 'f1': 0}}\n",
            "GPE {'ent_type': {'correct': 5, 'incorrect': 1, 'partial': 0, 'missed': 0, 'spurious': 0, 'possible': 6, 'actual': 6, 'precision': 0.8333333333333334, 'recall': 0.8333333333333334, 'f1': 0.8333333333333334}, 'partial': {'correct': 6, 'incorrect': 0, 'partial': 0, 'missed': 0, 'spurious': 0, 'possible': 6, 'actual': 6, 'precision': 1.0, 'recall': 1.0, 'f1': 1.0}, 'strict': {'correct': 5, 'incorrect': 1, 'partial': 0, 'missed': 0, 'spurious': 0, 'possible': 6, 'actual': 6, 'precision': 0.8333333333333334, 'recall': 0.8333333333333334, 'f1': 0.8333333333333334}, 'exact': {'correct': 6, 'incorrect': 0, 'partial': 0, 'missed': 0, 'spurious': 0, 'possible': 6, 'actual': 6, 'precision': 1.0, 'recall': 1.0, 'f1': 1.0}}\n",
            "TIME {'ent_type': {'correct': 3, 'incorrect': 0, 'partial': 0, 'missed': 0, 'spurious': 0, 'possible': 3, 'actual': 3, 'precision': 1.0, 'recall': 1.0, 'f1': 1.0}, 'partial': {'correct': 3, 'incorrect': 0, 'partial': 0, 'missed': 0, 'spurious': 0, 'possible': 3, 'actual': 3, 'precision': 1.0, 'recall': 1.0, 'f1': 1.0}, 'strict': {'correct': 3, 'incorrect': 0, 'partial': 0, 'missed': 0, 'spurious': 0, 'possible': 3, 'actual': 3, 'precision': 1.0, 'recall': 1.0, 'f1': 1.0}, 'exact': {'correct': 3, 'incorrect': 0, 'partial': 0, 'missed': 0, 'spurious': 0, 'possible': 3, 'actual': 3, 'precision': 1.0, 'recall': 1.0, 'f1': 1.0}}\n",
            "WORK_OF_ART {'ent_type': {'correct': 5, 'incorrect': 0, 'partial': 0, 'missed': 0, 'spurious': 0, 'possible': 5, 'actual': 5, 'precision': 1.0, 'recall': 1.0, 'f1': 1.0}, 'partial': {'correct': 5, 'incorrect': 0, 'partial': 0, 'missed': 0, 'spurious': 0, 'possible': 5, 'actual': 5, 'precision': 1.0, 'recall': 1.0, 'f1': 1.0}, 'strict': {'correct': 5, 'incorrect': 0, 'partial': 0, 'missed': 0, 'spurious': 0, 'possible': 5, 'actual': 5, 'precision': 1.0, 'recall': 1.0, 'f1': 1.0}, 'exact': {'correct': 5, 'incorrect': 0, 'partial': 0, 'missed': 0, 'spurious': 0, 'possible': 5, 'actual': 5, 'precision': 1.0, 'recall': 1.0, 'f1': 1.0}}\n",
            "ORDINAL {'ent_type': {'correct': 11, 'incorrect': 0, 'partial': 0, 'missed': 0, 'spurious': 0, 'possible': 11, 'actual': 11, 'precision': 1.0, 'recall': 1.0, 'f1': 1.0}, 'partial': {'correct': 11, 'incorrect': 0, 'partial': 0, 'missed': 0, 'spurious': 0, 'possible': 11, 'actual': 11, 'precision': 1.0, 'recall': 1.0, 'f1': 1.0}, 'strict': {'correct': 11, 'incorrect': 0, 'partial': 0, 'missed': 0, 'spurious': 0, 'possible': 11, 'actual': 11, 'precision': 1.0, 'recall': 1.0, 'f1': 1.0}, 'exact': {'correct': 11, 'incorrect': 0, 'partial': 0, 'missed': 0, 'spurious': 0, 'possible': 11, 'actual': 11, 'precision': 1.0, 'recall': 1.0, 'f1': 1.0}}\n",
            "DATE {'ent_type': {'correct': 15, 'incorrect': 0, 'partial': 0, 'missed': 0, 'spurious': 0, 'possible': 15, 'actual': 15, 'precision': 1.0, 'recall': 1.0, 'f1': 1.0}, 'partial': {'correct': 15, 'incorrect': 0, 'partial': 0, 'missed': 0, 'spurious': 0, 'possible': 15, 'actual': 15, 'precision': 1.0, 'recall': 1.0, 'f1': 1.0}, 'strict': {'correct': 15, 'incorrect': 0, 'partial': 0, 'missed': 0, 'spurious': 0, 'possible': 15, 'actual': 15, 'precision': 1.0, 'recall': 1.0, 'f1': 1.0}, 'exact': {'correct': 15, 'incorrect': 0, 'partial': 0, 'missed': 0, 'spurious': 0, 'possible': 15, 'actual': 15, 'precision': 1.0, 'recall': 1.0, 'f1': 1.0}}\n"
          ]
        }
      ]
    },
    {
      "cell_type": "markdown",
      "source": [
        "## Named Entity Linking"
      ],
      "metadata": {
        "id": "t_T45cHMn5q8"
      }
    },
    {
      "cell_type": "code",
      "source": [
        "nlp3 = spacy.load('en_core_web_lg')\n",
        "string_name = []\n",
        "link = []\n",
        "nlp3.add_pipe('dbpedia_spotlight')\n",
        "for x in range(df.shape[0]):\n",
        "    print(x)\n",
        "    doc = nlp3(df[\"phrase\"].values[x])\n",
        "    annotations =  [(ent.text, ent.label_, ent.kb_id_) for ent in doc.ents]\n",
        "    for substring, label, url in annotations:\n",
        "        new_sentence = df[\"phrase\"].values[x].replace(substring, url)\n",
        "        string_name.append(substring)\n",
        "        link.append(url)\n",
        "        print(substring,url)"
      ],
      "metadata": {
        "colab": {
          "base_uri": "https://localhost:8080/"
        },
        "id": "5kYrmS0coXeH",
        "outputId": "f4e9d766-eb1e-42f6-9ec8-7a6dfc88d2c0"
      },
      "execution_count": 25,
      "outputs": [
        {
          "output_type": "stream",
          "name": "stdout",
          "text": [
            "0\n",
            "Dark Mark http://dbpedia.org/resource/Magic_in_Harry_Potter\n",
            "Sirius http://dbpedia.org/resource/Sirius\n",
            "Regulus http://dbpedia.org/resource/Regulus\n",
            "1\n",
            "Percy Weasley http://dbpedia.org/resource/Ministry_of_Magic\n",
            "Regulus Arcturus Black http://dbpedia.org/resource/Death_Eater\n",
            "2\n",
            "STILL AT LARGE http://dbpedia.org/resource/Still_at_Large\n",
            "Black http://dbpedia.org/resource/African_Americans\n",
            "Azkaban http://dbpedia.org/resource/Places_in_Harry_Potter\n",
            "3\n",
            "sunny days http://dbpedia.org/resource/Dou_Wei\n",
            "Black http://dbpedia.org/resource/African_Americans\n",
            "Azkaban http://dbpedia.org/resource/Places_in_Harry_Potter\n",
            "4\n",
            "Bott http://dbpedia.org/resource/Raoul_Bott\n",
            "Pasties http://dbpedia.org/resource/Pasty\n",
            "Wands http://dbpedia.org/resource/Suit_of_wands\n",
            "5\n",
            "forevermore http://dbpedia.org/resource/Forevermore_(TV_series)\n",
            "four \n",
            "First \n",
            "poison http://dbpedia.org/resource/Poison\n",
            "nettle http://dbpedia.org/resource/Urtica_dioica\n",
            "wine http://dbpedia.org/resource/Wine\n",
            "Second \n",
            "Third \n",
            "Fourth \n",
            "second \n",
            "second \n",
            "first \n",
            "sight          \n",
            "Hermione http://dbpedia.org/resource/Hermione_Granger\n",
            "Harry \n",
            "amazed http://dbpedia.org/resource/Amazed\n",
            "6\n",
            "Scabbers http://dbpedia.org/resource/Death_Eater\n",
            "Goyle http://dbpedia.org/resource/Death_Eater\n",
            "Goyle http://dbpedia.org/resource/Death_Eater\n",
            "Scabbers http://dbpedia.org/resource/Death_Eater\n",
            "Scabbers http://dbpedia.org/resource/Death_Eater\n",
            "7\n",
            "SLYTHERIN http://dbpedia.org/resource/Hogwarts\n",
            "Goyle http://dbpedia.org/resource/Death_Eater\n",
            "8\n",
            "Oh Bagman’s \n",
            "Percy   \n",
            "Crouch \n",
            "Crouch \n",
            "9\n",
            "Australia http://dbpedia.org/resource/Australia\n",
            "Albania http://dbpedia.org/resource/Albania\n",
            "10\n",
            "Minerva http://dbpedia.org/resource/Minerva\n",
            "Dumbledore http://dbpedia.org/resource/Albus_Dumbledore\n",
            "11\n",
            "Beauxbatons http://dbpedia.org/resource/Beauxbatons\n",
            "Dumbledore http://dbpedia.org/resource/Albus_Dumbledore\n",
            "Fleur Delacour http://dbpedia.org/resource/Order_of_the_Phoenix_(fictional_organisation)\n",
            "veela http://dbpedia.org/resource/Magical_creatures_in_Harry_Potter\n",
            "Ravenclaw http://dbpedia.org/resource/Hogwarts\n",
            "Hufflepuff http://dbpedia.org/resource/Hogwarts\n",
            "12\n",
            "Delacour \n",
            "Harry felt http://dbpedia.org/resource/Harry_D._Felt\n",
            "wand http://dbpedia.org/resource/Wand\n",
            "13\n",
            "Cedric Diggory \n",
            "tiny speck http://dbpedia.org/resource/Slack_Technologies\n",
            "Harry \n",
            "Snitch http://dbpedia.org/resource/Snitch_(film)\n",
            "14\n",
            "congratulate http://dbpedia.org/resource/Congratulate_(song)\n",
            "Nimbus http://dbpedia.org/resource/Nimbus_Records\n",
            "Percy http://dbpedia.org/resource/Percy_Jackson\n",
            "Ravenclaw http://dbpedia.org/resource/Hogwarts\n",
            "Penelope http://dbpedia.org/resource/Penelope\n",
            "Clearwater http://dbpedia.org/resource/Clearwater_Threshers\n",
            "15\n",
            "Aberforth http://dbpedia.org/resource/Order_of_the_Phoenix_(fictional_organisation)\n",
            "16\n",
            "Dumbledore http://dbpedia.org/resource/Albus_Dumbledore\n",
            "Aberforth http://dbpedia.org/resource/Order_of_the_Phoenix_(fictional_organisation)\n",
            "Dorcas http://dbpedia.org/resource/Dorcas\n",
            "Voldemort http://dbpedia.org/resource/Lord_Voldemort\n",
            "Sirius http://dbpedia.org/resource/Sirius\n",
            "17\n",
            "Professor McGonagall http://dbpedia.org/resource/Hogwarts_staff\n",
            "Dumbledore http://dbpedia.org/resource/Albus_Dumbledore\n",
            "18\n",
            "Dumbledore http://dbpedia.org/resource/Albus_Dumbledore\n",
            "Harry Potter http://dbpedia.org/resource/Harry_Potter\n",
            "Dumbledore http://dbpedia.org/resource/Albus_Dumbledore\n",
            "19\n",
            "rang http://dbpedia.org/resource/Rangers_de_Talca\n",
            "Petunia http://dbpedia.org/resource/Petunia\n",
            "Vernon http://dbpedia.org/resource/Edward_Vernon\n",
            "Dudley http://dbpedia.org/resource/Dudley\n",
            "remote control http://dbpedia.org/resource/Remote_control\n",
            "computer http://dbpedia.org/resource/Computer\n",
            "VCR http://dbpedia.org/resource/Videocassette_recorder\n",
            "20\n",
            "Petunia http://dbpedia.org/resource/Petunia\n",
            "scissors http://dbpedia.org/resource/Scissors\n",
            "21\n",
            "rang http://dbpedia.org/resource/Rangers_de_Talca\n",
            "Petunia http://dbpedia.org/resource/Petunia\n",
            "Vernon http://dbpedia.org/resource/Edward_Vernon\n",
            "Dudley http://dbpedia.org/resource/Dudley\n",
            "remote control http://dbpedia.org/resource/Remote_control\n",
            "computer http://dbpedia.org/resource/Computer\n",
            "VCR http://dbpedia.org/resource/Videocassette_recorder\n",
            "22\n",
            "Dudley http://dbpedia.org/resource/Dudley\n",
            "tantrum http://dbpedia.org/resource/Tantrum\n",
            "knickerbocker glory http://dbpedia.org/resource/Knickerbocker_glory\n",
            "ice cream http://dbpedia.org/resource/Ice_cream\n",
            "Vernon http://dbpedia.org/resource/Edward_Vernon\n",
            "23\n",
            "chalk http://dbpedia.org/resource/Chalk\n",
            "Even worse http://dbpedia.org/resource/Even_Worse\n",
            "Peeves http://dbpedia.org/resource/Magical_creatures_in_Harry_Potter\n",
            "Argus Filch http://dbpedia.org/resource/Hogwarts_staff\n",
            "24\n",
            "Harry \n",
            "four \n",
            "one \n",
            "Harry \n",
            "tapestry http://dbpedia.org/resource/Tapestry\n",
            "25\n",
            "one \n",
            "Seamus  Finnigan \n",
            "Quirrell \n",
            "Quirrell \n",
            "turban http://dbpedia.org/resource/Turban\n",
            "Weasley \n",
            "garlic http://dbpedia.org/resource/Garlic\n",
            "Quirrell \n",
            "26\n",
            "Dean http://dbpedia.org/resource/Dean_Winchester\n",
            "Neville http://dbpedia.org/resource/Neville_Ashworth\n",
            "27\n",
            "frog http://dbpedia.org/resource/Frog\n",
            "Agrippa http://dbpedia.org/resource/Heinrich_Cornelius_Agrippa\n",
            "ALBUS DUMBLEDORE http://dbpedia.org/resource/Albus_Dumbledore\n",
            "HOGWARTS http://dbpedia.org/resource/Hogwarts\n",
            "wizard http://dbpedia.org/resource/Unseen_University\n",
            "Dumbledore http://dbpedia.org/resource/Albus_Dumbledore\n",
            "Dark wizard http://dbpedia.org/resource/Magic_in_Harry_Potter\n",
            "Grindelwald http://dbpedia.org/resource/Grindelwald\n",
            "alchemy http://dbpedia.org/resource/Alchemy\n",
            "Nicolas Flamel http://dbpedia.org/resource/Nicolas_Flamel\n",
            "28\n",
            "dog http://dbpedia.org/resource/Dog\n",
            "Dumbledore http://dbpedia.org/resource/Albus_Dumbledore\n",
            "Nicolas Flamel http://dbpedia.org/resource/Nicolas_Flamel\n",
            "Hagrid http://dbpedia.org/resource/Rubeus_Hagrid\n",
            "29\n",
            "ere http://dbpedia.org/resource/Eredivisie\n",
            "ere http://dbpedia.org/resource/Eredivisie\n",
            "ice http://dbpedia.org/resource/Ice\n",
            "stomach http://dbpedia.org/resource/Stomach\n",
            "Cornelius Fudge http://dbpedia.org/resource/Ministry_of_Magic\n",
            "30\n",
            "Flitwick http://dbpedia.org/resource/Hogwarts_staff\n",
            "pub http://dbpedia.org/resource/Pub\n",
            "Hagrid http://dbpedia.org/resource/Rubeus_Hagrid\n",
            "bowler hat http://dbpedia.org/resource/Bowler_hat\n",
            "Cornelius Fudge http://dbpedia.org/resource/Ministry_of_Magic\n",
            "31\n",
            "Scabbers http://dbpedia.org/resource/Death_Eater\n",
            "Goyle http://dbpedia.org/resource/Death_Eater\n",
            "Goyle http://dbpedia.org/resource/Death_Eater\n",
            "Scabbers http://dbpedia.org/resource/Death_Eater\n",
            "Scabbers http://dbpedia.org/resource/Death_Eater\n",
            "32\n",
            "SLYTHERIN http://dbpedia.org/resource/Hogwarts\n",
            "Goyle http://dbpedia.org/resource/Death_Eater\n",
            "33\n",
            "magic http://dbpedia.org/resource/Magic_in_Harry_Potter\n",
            "witchcraft http://dbpedia.org/resource/Witchcraft\n",
            "Hermione Granger http://dbpedia.org/resource/Hermione_Granger\n",
            "34\n",
            "Percy Weasley http://dbpedia.org/resource/Ministry_of_Magic\n",
            "Hermione http://dbpedia.org/resource/Hermione_Granger\n",
            "Transfiguration http://dbpedia.org/resource/Magic_in_Harry_Potter\n",
            "35\n",
            "Lily http://dbpedia.org/resource/Lily_Aldrin\n",
            "James http://dbpedia.org/resource/James,_son_of_Zebedee\n",
            "Hagrid http://dbpedia.org/resource/Rubeus_Hagrid\n",
            "Professor McGonagall http://dbpedia.org/resource/Hogwarts_staff\n",
            "Hagrid http://dbpedia.org/resource/Rubeus_Hagrid\n",
            "Dumbledore http://dbpedia.org/resource/Albus_Dumbledore\n",
            "36\n",
            "Hagrid http://dbpedia.org/resource/Rubeus_Hagrid\n",
            "Professor McGonagall http://dbpedia.org/resource/Hogwarts_staff\n",
            "Dumbledore http://dbpedia.org/resource/Albus_Dumbledore\n",
            "37\n",
            "Rowling       \n",
            "Karkaroff \n",
            "Dumbledore http://dbpedia.org/resource/Albus_Dumbledore\n",
            "goatee http://dbpedia.org/resource/Goatee\n",
            "curl http://dbpedia.org/resource/Hair\n",
            "38\n",
            "Triwizard Tournament http://dbpedia.org/resource/Harry_Potter_and_the_Goblet_of_Fire\n",
            "Dumbledore http://dbpedia.org/resource/Albus_Dumbledore\n",
            "39\n",
            "Krum http://dbpedia.org/resource/Krum\n",
            "40\n",
            "Krum http://dbpedia.org/resource/Krum\n",
            "time-out http://dbpedia.org/resource/Lethwei\n",
            "Aidan http://dbpedia.org/resource/Aidan_of_Lindisfarne\n",
            "41\n",
            "Bellatrix http://dbpedia.org/resource/Death_Eater\n",
            "Dumbledore http://dbpedia.org/resource/Albus_Dumbledore\n",
            "Pensieve http://dbpedia.org/resource/Magical_objects_in_Harry_Potter\n",
            "Lord Voldemort http://dbpedia.org/resource/Lord_Voldemort\n",
            "42\n",
            "black-and-white http://dbpedia.org/resource/Black_and_white\n",
            "stomach http://dbpedia.org/resource/Stomach\n",
            "Dumbledore http://dbpedia.org/resource/Albus_Dumbledore\n",
            "Pensieve http://dbpedia.org/resource/Magical_objects_in_Harry_Potter\n",
            "Bellatrix http://dbpedia.org/resource/Death_Eater\n",
            "43\n",
            "Alice Longbottom http://dbpedia.org/resource/Order_of_the_Phoenix_(fictional_organisation)\n",
            "stomach http://dbpedia.org/resource/Stomach\n",
            "Alice Longbottom http://dbpedia.org/resource/Order_of_the_Phoenix_(fictional_organisation)\n",
            "44\n",
            "four \n",
            "Auror http://dbpedia.org/resource/Ministry_of_Magic\n",
            "Frank Longbottom \n",
            "Cruciatus Curse http://dbpedia.org/resource/Magic_in_Harry_Potter\n",
            "45\n",
            "I swear http://dbpedia.org/resource/I_Swear\n",
            "dementors http://dbpedia.org/resource/Magical_creatures_in_Harry_Potter\n",
            "Mr Crouch \n",
            "Cruciatus Curse http://dbpedia.org/resource/Magic_in_Harry_Potter\n",
            "Frank Longbottom \n",
            "46\n",
            "Neville Longbottom \n",
            "toad http://dbpedia.org/resource/Toad\n",
            "47\n",
            "Neville http://dbpedia.org/resource/House_of_Neville\n",
            "cauldron http://dbpedia.org/resource/Cauldron\n",
            "pain http://dbpedia.org/resource/Pain\n",
            "48\n",
            "Petunia http://dbpedia.org/resource/Petunia\n",
            "49\n",
            "expression http://dbpedia.org/resource/Gene_expression\n",
            "Luna http://dbpedia.org/resource/Moon\n",
            "50\n",
            "Barely ten seconds \n",
            "Xenophilius Lovegood \n",
            "barefoot http://dbpedia.org/resource/Barefoot\n",
            "51\n",
            "Xenophilius \n",
            "tablecloth http://dbpedia.org/resource/Tablecloth\n",
            "52\n",
            "Lupin http://dbpedia.org/resource/Lupinus\n",
            "dementor http://dbpedia.org/resource/Magical_creatures_in_Harry_Potter\n",
            "wand http://dbpedia.org/resource/Magical_objects_in_Harry_Potter\n",
            "Hermione http://dbpedia.org/resource/Hermione_Granger\n",
            "Sirius http://dbpedia.org/resource/Sirius\n",
            "Black http://dbpedia.org/resource/Race_and_ethnicity_in_the_United_States_Census\n",
            "53\n",
            "Hedwig http://dbpedia.org/resource/Magical_creatures_in_Harry_Potter\n",
            "Lupin http://dbpedia.org/resource/Lupinus\n",
            "54\n",
            "Hagrid http://dbpedia.org/resource/Rubeus_Hagrid\n",
            "Hagrid http://dbpedia.org/resource/Rubeus_Hagrid\n",
            "Snape http://dbpedia.org/resource/Severus_Snape\n",
            "Dudley http://dbpedia.org/resource/Dudley\n",
            "Draco Malfoy http://dbpedia.org/resource/Draco_Malfoy\n",
            "55\n",
            "Remembrall http://dbpedia.org/resource/Magical_objects_in_Harry_Potter\n",
            "Neville http://dbpedia.org/resource/Neville_Chamberlain\n",
            "Draco Malfoy http://dbpedia.org/resource/Draco_Malfoy\n",
            "Gryffindor http://dbpedia.org/resource/Hogwarts\n",
            "Remembrall http://dbpedia.org/resource/Magical_objects_in_Harry_Potter\n",
            "56\n",
            "Lucius http://dbpedia.org/resource/Death_Eater\n",
            "Hermione http://dbpedia.org/resource/Hermione_Granger\n",
            "marble http://dbpedia.org/resource/Marble\n",
            "Hermione http://dbpedia.org/resource/Hermione_Granger\n",
            "57\n",
            "Lucius http://dbpedia.org/resource/Death_Eater\n",
            "58\n",
            "Muggle http://dbpedia.org/resource/Muggle\n",
            "first \n",
            "Narcissa http://dbpedia.org/resource/Narcissa_Whitman\n",
            "59\n",
            "Narcissa http://dbpedia.org/resource/Narcissa_Whitman\n",
            "hysteria http://dbpedia.org/resource/Hysteria\n",
            "wand http://dbpedia.org/resource/Wand\n",
            "60\n",
            "France http://dbpedia.org/resource/France\n",
            "61\n",
            "Professor McGonagall http://dbpedia.org/resource/Hogwarts_staff\n",
            "Dumbledore http://dbpedia.org/resource/Albus_Dumbledore\n",
            "62\n",
            "Professor McGonagall http://dbpedia.org/resource/Hogwarts_staff\n",
            "63\n",
            "Mad-Eye Moody http://dbpedia.org/resource/Order_of_the_Phoenix_(fictional_organisation)\n",
            "64\n",
            "Weasley \n",
            "Moody http://dbpedia.org/resource/Richard_Clement_Moody\n",
            "the  Ministry \n",
            "handshake http://dbpedia.org/resource/Handshake\n",
            "65\n",
            "Moony http://dbpedia.org/resource/Moony\n",
            "Wormtail http://dbpedia.org/resource/Death_Eater\n",
            "Hogwarts http://dbpedia.org/resource/Hogwarts\n",
            "66\n",
            "nursing http://dbpedia.org/resource/Nursing\n",
            "Wormtail http://dbpedia.org/resource/Death_Eater\n",
            "second \n",
            "67\n",
            "Dumbledore http://dbpedia.org/resource/Albus_Dumbledore\n",
            "Harry Potter http://dbpedia.org/resource/Harry_Potter\n",
            "Dumbledore http://dbpedia.org/resource/Albus_Dumbledore\n",
            "68\n",
            "Lily http://dbpedia.org/resource/Lily_Aldrin\n",
            "James http://dbpedia.org/resource/James,_son_of_Zebedee\n",
            "Hagrid http://dbpedia.org/resource/Rubeus_Hagrid\n",
            "Professor McGonagall http://dbpedia.org/resource/Hogwarts_staff\n",
            "Hagrid http://dbpedia.org/resource/Rubeus_Hagrid\n",
            "Dumbledore http://dbpedia.org/resource/Albus_Dumbledore\n",
            "69\n",
            "Lily http://dbpedia.org/resource/Lily_Aldrin\n",
            "James Potter http://dbpedia.org/resource/Order_of_the_Phoenix_(fictional_organisation)\n",
            "outrage! http://dbpedia.org/resource/OutRage!\n",
            "scandal! http://dbpedia.org/resource/Scandal!_(TV_series)\n",
            "Harry Potter http://dbpedia.org/resource/Harry_Potter\n",
            "70\n",
            "Fudge http://dbpedia.org/resource/Fudge\n",
            "Harry James http://dbpedia.org/resource/Harry_James\n",
            "Privet http://dbpedia.org/resource/Privet\n",
            "Little Whinging http://dbpedia.org/resource/Places_in_Harry_Potter\n",
            "Surrey http://dbpedia.org/resource/Surrey\n",
            "71\n",
            "Voldemort http://dbpedia.org/resource/Lord_Voldemort\n",
            "72\n",
            "years \n",
            "Harry \n",
            "Voldemort http://dbpedia.org/resource/Lord_Voldemort\n",
            "73\n",
            "Arthur http://dbpedia.org/resource/King_Arthur\n",
            "ink http://dbpedia.org/resource/Ink\n",
            "74\n",
            "Rita Skeeter \n",
            "second \n",
            "Harry \n",
            "75\n",
            "turban http://dbpedia.org/resource/Turban\n",
            "Slytherin http://dbpedia.org/resource/Hogwarts\n",
            "Snape http://dbpedia.org/resource/Severus_Snape\n",
            "76\n",
            "Hagrid http://dbpedia.org/resource/Rubeus_Hagrid\n",
            "Hagrid http://dbpedia.org/resource/Rubeus_Hagrid\n",
            "Snape http://dbpedia.org/resource/Severus_Snape\n",
            "Dudley http://dbpedia.org/resource/Dudley\n",
            "Draco Malfoy http://dbpedia.org/resource/Draco_Malfoy\n",
            "77\n",
            "Dumbledore http://dbpedia.org/resource/Albus_Dumbledore\n",
            "a few hours \n",
            "Remus http://dbpedia.org/resource/Romulus_and_Remus\n",
            "78\n",
            "Remus http://dbpedia.org/resource/Romulus_and_Remus\n",
            "Lupin http://dbpedia.org/resource/Lupinus\n",
            "werewolf http://dbpedia.org/resource/Magical_creatures_in_Harry_Potter\n",
            "Moony http://dbpedia.org/resource/Moony\n",
            "Patronus http://dbpedia.org/resource/Fictional_universe_of_Harry_Potter\n",
            "79\n",
            "Plank \n",
            "Care of Magical Creatures \n",
            "Umbridge \n",
            "Dark Arts http://dbpedia.org/resource/Magic_in_Harry_Potter\n",
            "80\n",
            "Dumbledore http://dbpedia.org/resource/Albus_Dumbledore\n",
            "Professor Umbridge http://dbpedia.org/resource/Ministry_of_Magic\n",
            "81\n",
            "Dad http://dbpedia.org/resource/Revenge\n",
            "Fred http://dbpedia.org/resource/Winifred_Burkle\n",
            "Arthur http://dbpedia.org/resource/King_Arthur\n",
            "Hagrid http://dbpedia.org/resource/Rubeus_Hagrid\n",
            "82\n",
            "Daily Prophet http://dbpedia.org/resource/Fictional_universe_of_Harry_Potter\n",
            "MINISTRY OF MAGIC http://dbpedia.org/resource/Ministry_of_Magic\n",
            "Arthur http://dbpedia.org/resource/King_Arthur\n",
            "Muggle http://dbpedia.org/resource/Muggle\n",
            "Muggle http://dbpedia.org/resource/Muggle\n",
            "83\n",
            "Head Boy http://dbpedia.org/resource/Head_girl_and_head_boy\n",
            "Quidditch http://dbpedia.org/resource/Quidditch\n",
            "Quidditch http://dbpedia.org/resource/Quidditch\n",
            "captain http://dbpedia.org/resource/Sea_captain\n",
            "84\n",
            "crashed http://dbpedia.org/resource/2005_Air_Kasai_Antonov_An-26B_crash\n",
            "Percy http://dbpedia.org/resource/Percy_the_Small_Engine\n",
            "Percy http://dbpedia.org/resource/Percy_the_Small_Engine\n",
            "Fred http://dbpedia.org/resource/Winifred_Burkle\n",
            "85\n",
            "crashed http://dbpedia.org/resource/2005_Air_Kasai_Antonov_An-26B_crash\n",
            "Percy http://dbpedia.org/resource/Percy_the_Small_Engine\n",
            "Percy http://dbpedia.org/resource/Percy_the_Small_Engine\n",
            "Fred http://dbpedia.org/resource/Winifred_Burkle\n",
            "86\n",
            "Harry \n",
            "Ron \n",
            "George \n",
            "two \n",
            "Bill \n",
            "Charlie \n",
            "two \n",
            "Weasley \n",
            "87\n",
            "Weasleys http://dbpedia.org/resource/Ron_Weasley\n",
            "Bludger http://dbpedia.org/resource/Quidditch\n",
            "Fred http://dbpedia.org/resource/Fred_Flintstone\n",
            "88\n",
            "wizard http://dbpedia.org/resource/Unseen_University\n",
            "cracker http://dbpedia.org/resource/Security_hacker\n",
            "Fred http://dbpedia.org/resource/Winifred_Burkle\n",
            "cannon http://dbpedia.org/resource/Cannon\n",
            "cloud http://dbpedia.org/resource/Cloud\n",
            "blue smoke http://dbpedia.org/resource/Blue_Smoke\n",
            "rear admiral http://dbpedia.org/resource/Rear_admiral\n",
            "white mice http://dbpedia.org/resource/White_Mice\n",
            "89\n",
            "turkey http://dbpedia.org/resource/Turkey_as_food\n",
            "Christmas cake http://dbpedia.org/resource/Christmas_cake\n",
            "sleepy http://dbpedia.org/resource/Sleepy_(novel)\n",
            "Percy http://dbpedia.org/resource/Percy_Jackson\n",
            "Fred http://dbpedia.org/resource/Fred_Flintstone\n",
            "Gryffindor http://dbpedia.org/resource/Hogwarts\n",
            "prefect http://dbpedia.org/resource/Prefect\n",
            "90\n",
            "Snape http://dbpedia.org/resource/Severus_Snape\n",
            "Gryffindor http://dbpedia.org/resource/Hogwarts\n",
            "broom http://dbpedia.org/resource/Broom\n",
            "91\n",
            "cauldron http://dbpedia.org/resource/Magical_objects_in_Harry_Potter\n",
            "Lockhart http://dbpedia.org/resource/John_Gibson_Lockhart\n",
            "Transfiguration http://dbpedia.org/resource/Magic_in_Harry_Potter\n",
            "92\n",
            "Weasley    \n",
            "thud http://dbpedia.org/resource/Games_of_the_Discworld\n",
            "Ginny \n",
            "cauldron http://dbpedia.org/resource/Magical_objects_in_Harry_Potter\n",
            "Weasley \n",
            "Mr Malfoy \n",
            "93\n",
            "wizard http://dbpedia.org/resource/Unseen_University\n",
            "Molly http://dbpedia.org/resource/Molly_Hayes\n",
            "Mr Weasley \n",
            "Floo \n",
            "94\n",
            "Molly http://dbpedia.org/resource/Molly_Hayes\n",
            "Black http://dbpedia.org/resource/Race_and_ethnicity_in_the_United_States_Census\n",
            "Azkaban http://dbpedia.org/resource/Places_in_Harry_Potter\n",
            "95\n",
            "Percy Weasley http://dbpedia.org/resource/Ministry_of_Magic\n",
            "Hermione http://dbpedia.org/resource/Hermione_Granger\n",
            "Transfiguration http://dbpedia.org/resource/Magic_in_Harry_Potter\n",
            "96\n",
            "sleepy http://dbpedia.org/resource/Sleepy_(novel)\n",
            "Percy http://dbpedia.org/resource/Percy_Jackson\n",
            "tapestries http://dbpedia.org/resource/Tapestry\n",
            "97\n",
            "Around half past twelve \n",
            "slid http://dbpedia.org/resource/Slid_(Fluke_song)\n",
            "Ron \n",
            "98\n",
            "chamber http://dbpedia.org/resource/Chamber_music\n",
            "the Great Hall \n",
            "99\n",
            "Dobby http://dbpedia.org/resource/Magical_creatures_in_Harry_Potter\n",
            "wizard http://dbpedia.org/resource/Unseen_University\n",
            "Shh http://dbpedia.org/resource/Sonic_hedgehog\n",
            "Dobby http://dbpedia.org/resource/Magical_creatures_in_Harry_Potter\n",
            "100\n",
            "Bad http://dbpedia.org/resource/Spa_town\n",
            "Dobby http://dbpedia.org/resource/Magical_creatures_in_Harry_Potter\n",
            "Bad http://dbpedia.org/resource/Spa_town\n",
            "Dobby http://dbpedia.org/resource/Magical_creatures_in_Harry_Potter\n",
            "Dobby http://dbpedia.org/resource/Magical_creatures_in_Harry_Potter\n",
            "Hedwig http://dbpedia.org/resource/Magical_creatures_in_Harry_Potter\n",
            "101\n",
            "Snape http://dbpedia.org/resource/Severus_Snape\n",
            "Snape http://dbpedia.org/resource/Severus_Snape\n",
            "Hermione http://dbpedia.org/resource/Hermione_Granger\n",
            "102\n",
            "shoutin’ http://dbpedia.org/resource/Shoutin'\n",
            "yeh \n",
            "Harry \n",
            "Stone \n",
            "SHHHH \n",
            "Hagrid http://dbpedia.org/resource/Rubeus_Hagrid\n",
            "103\n",
            "Bad http://dbpedia.org/resource/Spa_town\n",
            "Dobby http://dbpedia.org/resource/Magical_creatures_in_Harry_Potter\n",
            "Bad http://dbpedia.org/resource/Spa_town\n",
            "Dobby http://dbpedia.org/resource/Magical_creatures_in_Harry_Potter\n",
            "Dobby http://dbpedia.org/resource/Magical_creatures_in_Harry_Potter\n",
            "Hedwig http://dbpedia.org/resource/Magical_creatures_in_Harry_Potter\n",
            "104\n",
            "thump http://dbpedia.org/resource/Vice_Media\n",
            "Hedwig http://dbpedia.org/resource/Magical_creatures_in_Harry_Potter\n",
            "Lost http://dbpedia.org/resource/Lost_(TV_series)\n",
            "trolley http://dbpedia.org/resource/Tram\n",
            "105\n",
            "Myrtle \n",
            "toilet http://dbpedia.org/resource/Toilet\n",
            "sobs http://dbpedia.org/resource/Southampton_BASIC_System\n",
            "U-bend http://dbpedia.org/resource/Trap_(plumbing)\n",
            "106\n",
            "Myrtle \n",
            "107\n",
            "Aragog http://dbpedia.org/resource/Magical_creatures_in_Harry_Potter\n",
            "108\n",
            "Hermione http://dbpedia.org/resource/Hermione_Granger\n",
            "basilisk http://dbpedia.org/resource/Magical_creatures_in_Harry_Potter\n",
            "Aragog http://dbpedia.org/resource/Rubeus_Hagrid\n",
            "basilisk http://dbpedia.org/resource/Magical_creatures_in_Harry_Potter\n",
            "109\n",
            "smock http://dbpedia.org/resource/Chemise\n",
            "Grawp \n",
            "110\n",
            "wan http://dbpedia.org/resource/Wide_area_network\n",
            "ter http://dbpedia.org/resource/TER_Occitanie\n",
            "yer http://dbpedia.org/resource/Yer\n",
            "Invisibility Cloak http://dbpedia.org/resource/Magical_objects_in_Harry_Potter\n",
            "Hermione http://dbpedia.org/resource/Hermione_Granger\n",
            "Hagrid http://dbpedia.org/resource/Rubeus_Hagrid\n",
            "Hagrid http://dbpedia.org/resource/Rubeus_Hagrid\n"
          ]
        }
      ]
    },
    {
      "cell_type": "code",
      "source": [
        "risultati_nel = pd.DataFrame(\n",
        "    {'string_name': string_name,\n",
        "     'link': link\n",
        "    })\n",
        "risultati_nel\n",
        "\n"
      ],
      "metadata": {
        "colab": {
          "base_uri": "https://localhost:8080/",
          "height": 424
        },
        "id": "5cvhS_9Nx8mq",
        "outputId": "1aaabf84-54fe-4ff9-dc32-0ef3c5178e24"
      },
      "execution_count": 26,
      "outputs": [
        {
          "output_type": "execute_result",
          "data": {
            "text/plain": [
              "                string_name                                               link\n",
              "0                 Dark Mark  http://dbpedia.org/resource/Magic_in_Harry_Potter\n",
              "1                    Sirius                 http://dbpedia.org/resource/Sirius\n",
              "2                   Regulus                http://dbpedia.org/resource/Regulus\n",
              "3             Percy Weasley      http://dbpedia.org/resource/Ministry_of_Magic\n",
              "4    Regulus Arcturus Black            http://dbpedia.org/resource/Death_Eater\n",
              "..                      ...                                                ...\n",
              "420                     yer                    http://dbpedia.org/resource/Yer\n",
              "421      Invisibility Cloak  http://dbpedia.org/resource/Magical_objects_in...\n",
              "422                Hermione       http://dbpedia.org/resource/Hermione_Granger\n",
              "423                  Hagrid          http://dbpedia.org/resource/Rubeus_Hagrid\n",
              "424                  Hagrid          http://dbpedia.org/resource/Rubeus_Hagrid\n",
              "\n",
              "[425 rows x 2 columns]"
            ],
            "text/html": [
              "\n",
              "  <div id=\"df-bf4a51a4-c3e9-4522-abed-c84bb5bb553f\">\n",
              "    <div class=\"colab-df-container\">\n",
              "      <div>\n",
              "<style scoped>\n",
              "    .dataframe tbody tr th:only-of-type {\n",
              "        vertical-align: middle;\n",
              "    }\n",
              "\n",
              "    .dataframe tbody tr th {\n",
              "        vertical-align: top;\n",
              "    }\n",
              "\n",
              "    .dataframe thead th {\n",
              "        text-align: right;\n",
              "    }\n",
              "</style>\n",
              "<table border=\"1\" class=\"dataframe\">\n",
              "  <thead>\n",
              "    <tr style=\"text-align: right;\">\n",
              "      <th></th>\n",
              "      <th>string_name</th>\n",
              "      <th>link</th>\n",
              "    </tr>\n",
              "  </thead>\n",
              "  <tbody>\n",
              "    <tr>\n",
              "      <th>0</th>\n",
              "      <td>Dark Mark</td>\n",
              "      <td>http://dbpedia.org/resource/Magic_in_Harry_Potter</td>\n",
              "    </tr>\n",
              "    <tr>\n",
              "      <th>1</th>\n",
              "      <td>Sirius</td>\n",
              "      <td>http://dbpedia.org/resource/Sirius</td>\n",
              "    </tr>\n",
              "    <tr>\n",
              "      <th>2</th>\n",
              "      <td>Regulus</td>\n",
              "      <td>http://dbpedia.org/resource/Regulus</td>\n",
              "    </tr>\n",
              "    <tr>\n",
              "      <th>3</th>\n",
              "      <td>Percy Weasley</td>\n",
              "      <td>http://dbpedia.org/resource/Ministry_of_Magic</td>\n",
              "    </tr>\n",
              "    <tr>\n",
              "      <th>4</th>\n",
              "      <td>Regulus Arcturus Black</td>\n",
              "      <td>http://dbpedia.org/resource/Death_Eater</td>\n",
              "    </tr>\n",
              "    <tr>\n",
              "      <th>...</th>\n",
              "      <td>...</td>\n",
              "      <td>...</td>\n",
              "    </tr>\n",
              "    <tr>\n",
              "      <th>420</th>\n",
              "      <td>yer</td>\n",
              "      <td>http://dbpedia.org/resource/Yer</td>\n",
              "    </tr>\n",
              "    <tr>\n",
              "      <th>421</th>\n",
              "      <td>Invisibility Cloak</td>\n",
              "      <td>http://dbpedia.org/resource/Magical_objects_in...</td>\n",
              "    </tr>\n",
              "    <tr>\n",
              "      <th>422</th>\n",
              "      <td>Hermione</td>\n",
              "      <td>http://dbpedia.org/resource/Hermione_Granger</td>\n",
              "    </tr>\n",
              "    <tr>\n",
              "      <th>423</th>\n",
              "      <td>Hagrid</td>\n",
              "      <td>http://dbpedia.org/resource/Rubeus_Hagrid</td>\n",
              "    </tr>\n",
              "    <tr>\n",
              "      <th>424</th>\n",
              "      <td>Hagrid</td>\n",
              "      <td>http://dbpedia.org/resource/Rubeus_Hagrid</td>\n",
              "    </tr>\n",
              "  </tbody>\n",
              "</table>\n",
              "<p>425 rows × 2 columns</p>\n",
              "</div>\n",
              "      <button class=\"colab-df-convert\" onclick=\"convertToInteractive('df-bf4a51a4-c3e9-4522-abed-c84bb5bb553f')\"\n",
              "              title=\"Convert this dataframe to an interactive table.\"\n",
              "              style=\"display:none;\">\n",
              "        \n",
              "  <svg xmlns=\"http://www.w3.org/2000/svg\" height=\"24px\"viewBox=\"0 0 24 24\"\n",
              "       width=\"24px\">\n",
              "    <path d=\"M0 0h24v24H0V0z\" fill=\"none\"/>\n",
              "    <path d=\"M18.56 5.44l.94 2.06.94-2.06 2.06-.94-2.06-.94-.94-2.06-.94 2.06-2.06.94zm-11 1L8.5 8.5l.94-2.06 2.06-.94-2.06-.94L8.5 2.5l-.94 2.06-2.06.94zm10 10l.94 2.06.94-2.06 2.06-.94-2.06-.94-.94-2.06-.94 2.06-2.06.94z\"/><path d=\"M17.41 7.96l-1.37-1.37c-.4-.4-.92-.59-1.43-.59-.52 0-1.04.2-1.43.59L10.3 9.45l-7.72 7.72c-.78.78-.78 2.05 0 2.83L4 21.41c.39.39.9.59 1.41.59.51 0 1.02-.2 1.41-.59l7.78-7.78 2.81-2.81c.8-.78.8-2.07 0-2.86zM5.41 20L4 18.59l7.72-7.72 1.47 1.35L5.41 20z\"/>\n",
              "  </svg>\n",
              "      </button>\n",
              "      \n",
              "  <style>\n",
              "    .colab-df-container {\n",
              "      display:flex;\n",
              "      flex-wrap:wrap;\n",
              "      gap: 12px;\n",
              "    }\n",
              "\n",
              "    .colab-df-convert {\n",
              "      background-color: #E8F0FE;\n",
              "      border: none;\n",
              "      border-radius: 50%;\n",
              "      cursor: pointer;\n",
              "      display: none;\n",
              "      fill: #1967D2;\n",
              "      height: 32px;\n",
              "      padding: 0 0 0 0;\n",
              "      width: 32px;\n",
              "    }\n",
              "\n",
              "    .colab-df-convert:hover {\n",
              "      background-color: #E2EBFA;\n",
              "      box-shadow: 0px 1px 2px rgba(60, 64, 67, 0.3), 0px 1px 3px 1px rgba(60, 64, 67, 0.15);\n",
              "      fill: #174EA6;\n",
              "    }\n",
              "\n",
              "    [theme=dark] .colab-df-convert {\n",
              "      background-color: #3B4455;\n",
              "      fill: #D2E3FC;\n",
              "    }\n",
              "\n",
              "    [theme=dark] .colab-df-convert:hover {\n",
              "      background-color: #434B5C;\n",
              "      box-shadow: 0px 1px 3px 1px rgba(0, 0, 0, 0.15);\n",
              "      filter: drop-shadow(0px 1px 2px rgba(0, 0, 0, 0.3));\n",
              "      fill: #FFFFFF;\n",
              "    }\n",
              "  </style>\n",
              "\n",
              "      <script>\n",
              "        const buttonEl =\n",
              "          document.querySelector('#df-bf4a51a4-c3e9-4522-abed-c84bb5bb553f button.colab-df-convert');\n",
              "        buttonEl.style.display =\n",
              "          google.colab.kernel.accessAllowed ? 'block' : 'none';\n",
              "\n",
              "        async function convertToInteractive(key) {\n",
              "          const element = document.querySelector('#df-bf4a51a4-c3e9-4522-abed-c84bb5bb553f');\n",
              "          const dataTable =\n",
              "            await google.colab.kernel.invokeFunction('convertToInteractive',\n",
              "                                                     [key], {});\n",
              "          if (!dataTable) return;\n",
              "\n",
              "          const docLinkHtml = 'Like what you see? Visit the ' +\n",
              "            '<a target=\"_blank\" href=https://colab.research.google.com/notebooks/data_table.ipynb>data table notebook</a>'\n",
              "            + ' to learn more about interactive tables.';\n",
              "          element.innerHTML = '';\n",
              "          dataTable['output_type'] = 'display_data';\n",
              "          await google.colab.output.renderOutput(dataTable, element);\n",
              "          const docLink = document.createElement('div');\n",
              "          docLink.innerHTML = docLinkHtml;\n",
              "          element.appendChild(docLink);\n",
              "        }\n",
              "      </script>\n",
              "    </div>\n",
              "  </div>\n",
              "  "
            ]
          },
          "metadata": {},
          "execution_count": 26
        }
      ]
    },
    {
      "cell_type": "markdown",
      "source": [
        "### Creazione dataframe contentente i dati corretti di DBpedia tramite query SPARQL"
      ],
      "metadata": {
        "id": "LG9xbRPL18i3"
      }
    },
    {
      "cell_type": "code",
      "source": [
        "from SPARQLWrapper import SPARQLWrapper, JSON\n",
        "\n",
        "def get_country_description(query):\n",
        "    sparql = SPARQLWrapper(\"http://dbpedia.org/sparql\")\n",
        "    sparql.setReturnFormat(JSON)\n",
        "     \n",
        "    sparql.setQuery(query) \n",
        "\n",
        "    return sparql.query().convert()"
      ],
      "metadata": {
        "id": "3DMGR9PpiXgI"
      },
      "execution_count": 27,
      "outputs": []
    },
    {
      "cell_type": "code",
      "source": [
        "characters_list = pd.read_csv(\"characters_list.csv\", sep=\";\")\n",
        "characters_entity = characters_list.Entity\n",
        "characters_list = characters_list.name\n",
        "characters_list"
      ],
      "metadata": {
        "colab": {
          "base_uri": "https://localhost:8080/"
        },
        "id": "vgB7ud1eiYta",
        "outputId": "ee5171c5-2ae0-4669-e590-4476d260a4c5"
      },
      "execution_count": 28,
      "outputs": [
        {
          "output_type": "execute_result",
          "data": {
            "text/plain": [
              "0     Regulus Arcturus Black\n",
              "1               Sirius Black\n",
              "2             Lavender Brown\n",
              "3                  Cho Chang\n",
              "4             Vincent Crabbe\n",
              "               ...          \n",
              "57                    Fluffy\n",
              "58                    Hedwig\n",
              "59            Moaning Myrtle\n",
              "60                    Aragog\n",
              "61                     Grawp\n",
              "Name: name, Length: 62, dtype: object"
            ]
          },
          "metadata": {},
          "execution_count": 28
        }
      ]
    },
    {
      "cell_type": "code",
      "source": [
        "personaggi= []\n",
        "url_dbpedia = []\n",
        "for i in characters_list:\n",
        "  query = \"\"\"SELECT ?link\n",
        "  WHERE\n",
        "  { \n",
        "    ?link rdfs:label '\"\"\"+i+\"\"\"'@en.\n",
        "  }\n",
        "  \"\"\"\n",
        "  data=get_country_description(query)\n",
        "  if(len(data[\"results\"][\"bindings\"]) > 0):\n",
        "      print(i, data[\"results\"][\"bindings\"][0][\"link\"][\"value\"])\n",
        "      personaggi.append(i)\n",
        "      url_dbpedia.append(data[\"results\"][\"bindings\"][0][\"link\"][\"value\"])\n",
        "  else:\n",
        "    print(i, data[\"results\"][\"bindings\"])"
      ],
      "metadata": {
        "colab": {
          "base_uri": "https://localhost:8080/"
        },
        "id": "tlheQ5CtsRPo",
        "outputId": "9f2cbca8-b053-4792-e22c-66409a471010"
      },
      "execution_count": 29,
      "outputs": [
        {
          "output_type": "stream",
          "name": "stdout",
          "text": [
            "Regulus Arcturus Black http://dbpedia.org/resource/Regulus_Arcturus_Black\n",
            "Sirius Black http://dbpedia.org/resource/Sirius_Black\n",
            "Lavender Brown http://dbpedia.org/resource/Lavender_Brown\n",
            "Cho Chang http://dbpedia.org/resource/Cho_Chang\n",
            "Vincent Crabbe http://dbpedia.org/resource/Vincent_Crabbe\n",
            "Bartemius \"Barty\" Crouch Sr. []\n",
            "Bartemius \"Barty\" Crouch Jr. []\n",
            "Fleur Delacour http://dbpedia.org/resource/Fleur_Delacour\n",
            "Cedric Diggory http://dbpedia.org/resource/Cedric_Diggory\n",
            "Aberforth Dumbledore http://dbpedia.org/resource/Aberforth_Dumbledore\n",
            "Albus Dumbledore http://dbpedia.org/resource/Albus_Dumbledore\n",
            "Dudley Dursley http://dbpedia.org/resource/Dudley_Dursley\n",
            "Petunia Dursley http://dbpedia.org/resource/Petunia_Dursley\n",
            "Vernon Dursley http://dbpedia.org/resource/Vernon_Dursley\n",
            "Argus Filch http://dbpedia.org/resource/Argus_Filch\n",
            "Seamus Finnigan http://dbpedia.org/resource/Seamus_Finnigan\n",
            "Nicolas Flamel http://dbpedia.org/resource/Nicolas_Flamel\n",
            "Cornelius Fudge http://dbpedia.org/resource/Cornelius_Fudge\n",
            "Gregory Goyle http://dbpedia.org/resource/Gregory_Goyle\n",
            "Hermione Granger http://dbpedia.org/resource/Hermione_Granger\n",
            "Rubeus Hagrid http://dbpedia.org/resource/Rubeus_Hagrid\n",
            "Igor Karkaroff http://dbpedia.org/resource/Igor_Karkaroff\n",
            "Viktor Krum http://dbpedia.org/resource/Viktor_Krum\n",
            "Bellatrix Lestrange http://dbpedia.org/resource/Bellatrix_Lestrange\n",
            "Alice Longbottom http://dbpedia.org/resource/Alice_Longbottom\n",
            "Frank Longbottom http://dbpedia.org/resource/Frank_Longbottom\n",
            "Neville Longbottom http://dbpedia.org/resource/Neville_Longbottom\n",
            "Luna Lovegood http://dbpedia.org/resource/Luna_Lovegood\n",
            "Xenophilius Lovegood http://dbpedia.org/resource/Xenophilius_Lovegood\n",
            "Remus Lupin http://dbpedia.org/resource/Remus_Lupin\n",
            "Draco Malfoy http://dbpedia.org/resource/Draco_Malfoy\n",
            "Lucius Malfoy http://dbpedia.org/resource/Lucius_Malfoy\n",
            "Narcissa Malfoy http://dbpedia.org/resource/Narcissa_Malfoy\n",
            "Olympe Maxime http://dbpedia.org/resource/Olympe_Maxime\n",
            "Minerva McGonagall http://dbpedia.org/resource/Minerva_McGonagall\n",
            "Alastor \"Mad-Eye\" Moody http://dbpedia.org/resource/Alastor_%22Mad-Eye%22_Moody\n",
            "Peter Pettigrew http://dbpedia.org/resource/Peter_Pettigrew\n",
            "Harry Potter http://dbpedia.org/resource/Harry_Potter\n",
            "James Potter http://dbpedia.org/resource/James_Potter\n",
            "Lily Potter http://dbpedia.org/resource/Lily_Potter\n",
            "Quirinus Quirrell http://dbpedia.org/resource/Quirinus_Quirrell\n",
            "Mary Riddle http://dbpedia.org/resource/Mary_Riddle\n",
            "Lord Voldemort http://dbpedia.org/resource/Lord_Voldemort\n",
            "Rita Skeeter http://dbpedia.org/resource/Rita_Skeeter\n",
            "Severus Snape http://dbpedia.org/resource/Severus_Snape\n",
            "Nymphadora Tonks http://dbpedia.org/resource/Nymphadora_Tonks\n",
            "Dolores Umbridge http://dbpedia.org/resource/Dolores_Umbridge\n",
            "Arthur Weasley http://dbpedia.org/resource/Arthur_Weasley\n",
            "Bill Weasley http://dbpedia.org/resource/Bill_Weasley\n",
            "Charlie Weasley http://dbpedia.org/resource/Charlie_Weasley\n",
            "Fred Weasley http://dbpedia.org/resource/Fred_Weasley\n",
            "George Weasley http://dbpedia.org/resource/George_Weasley\n",
            "Ginny Weasley http://dbpedia.org/resource/Ginny_Weasley\n",
            "Molly Weasley http://dbpedia.org/resource/Molly_Weasley\n",
            "Percy Weasley http://dbpedia.org/resource/Percy_Weasley\n",
            "Ron Weasley http://dbpedia.org/resource/Ron_Weasley\n",
            "Dobby http://dbpedia.org/resource/Dobby\n",
            "Fluffy http://dbpedia.org/resource/Fluffy\n",
            "Hedwig http://dbpedia.org/resource/Hedwig\n",
            "Moaning Myrtle http://dbpedia.org/resource/Moaning_Myrtle\n",
            "Aragog http://dbpedia.org/resource/Aragog\n",
            "Grawp http://dbpedia.org/resource/Grawp\n"
          ]
        }
      ]
    },
    {
      "cell_type": "code",
      "source": [
        "characters_entity = characters_entity.drop([5,6])\n"
      ],
      "metadata": {
        "id": "V0HE5xAp1S9P"
      },
      "execution_count": 30,
      "outputs": []
    },
    {
      "cell_type": "code",
      "source": [
        "risultati_nel_corretti = pd.DataFrame(\n",
        "    {'name': personaggi,\n",
        "     'link_dbpedia': url_dbpedia,\n",
        "     'entity' : characters_entity\n",
        "    })\n",
        "risultati_nel_corretti.to_csv(\"risultati_nel_corretti.csv\")\n",
        "risultati_nel_corretti\n"
      ],
      "metadata": {
        "colab": {
          "base_uri": "https://localhost:8080/",
          "height": 1000
        },
        "id": "-asJHHWAJ8Ak",
        "outputId": "2c4bf7be-d456-444d-9773-00c894eba31f"
      },
      "execution_count": 39,
      "outputs": [
        {
          "output_type": "execute_result",
          "data": {
            "text/plain": [
              "                       name  \\\n",
              "0    Regulus Arcturus Black   \n",
              "1              Sirius Black   \n",
              "2            Lavender Brown   \n",
              "3                 Cho Chang   \n",
              "4            Vincent Crabbe   \n",
              "7            Fleur Delacour   \n",
              "8            Cedric Diggory   \n",
              "9      Aberforth Dumbledore   \n",
              "10         Albus Dumbledore   \n",
              "11           Dudley Dursley   \n",
              "12          Petunia Dursley   \n",
              "13           Vernon Dursley   \n",
              "14              Argus Filch   \n",
              "15          Seamus Finnigan   \n",
              "16           Nicolas Flamel   \n",
              "17          Cornelius Fudge   \n",
              "18            Gregory Goyle   \n",
              "19         Hermione Granger   \n",
              "20            Rubeus Hagrid   \n",
              "21           Igor Karkaroff   \n",
              "22              Viktor Krum   \n",
              "23      Bellatrix Lestrange   \n",
              "24         Alice Longbottom   \n",
              "25         Frank Longbottom   \n",
              "26       Neville Longbottom   \n",
              "27            Luna Lovegood   \n",
              "28     Xenophilius Lovegood   \n",
              "29              Remus Lupin   \n",
              "30             Draco Malfoy   \n",
              "31            Lucius Malfoy   \n",
              "32          Narcissa Malfoy   \n",
              "33            Olympe Maxime   \n",
              "34       Minerva McGonagall   \n",
              "35  Alastor \"Mad-Eye\" Moody   \n",
              "36          Peter Pettigrew   \n",
              "37             Harry Potter   \n",
              "38             James Potter   \n",
              "39              Lily Potter   \n",
              "40        Quirinus Quirrell   \n",
              "41              Mary Riddle   \n",
              "42           Lord Voldemort   \n",
              "43             Rita Skeeter   \n",
              "44            Severus Snape   \n",
              "45         Nymphadora Tonks   \n",
              "46         Dolores Umbridge   \n",
              "47           Arthur Weasley   \n",
              "48             Bill Weasley   \n",
              "49          Charlie Weasley   \n",
              "50             Fred Weasley   \n",
              "51           George Weasley   \n",
              "52            Ginny Weasley   \n",
              "53            Molly Weasley   \n",
              "54            Percy Weasley   \n",
              "55              Ron Weasley   \n",
              "56                    Dobby   \n",
              "57                   Fluffy   \n",
              "58                   Hedwig   \n",
              "59           Moaning Myrtle   \n",
              "60                   Aragog   \n",
              "61                    Grawp   \n",
              "\n",
              "                                         link_dbpedia             entity  \n",
              "0   http://dbpedia.org/resource/Regulus_Arcturus_B...            Regulus  \n",
              "1            http://dbpedia.org/resource/Sirius_Black             Sirius  \n",
              "2          http://dbpedia.org/resource/Lavender_Brown           Lavander  \n",
              "3               http://dbpedia.org/resource/Cho_Chang                Cho  \n",
              "4          http://dbpedia.org/resource/Vincent_Crabbe             Crabbe  \n",
              "7          http://dbpedia.org/resource/Fleur_Delacour              Fleur  \n",
              "8          http://dbpedia.org/resource/Cedric_Diggory             Cedric  \n",
              "9    http://dbpedia.org/resource/Aberforth_Dumbledore          Aberforth  \n",
              "10       http://dbpedia.org/resource/Albus_Dumbledore         Dumbledore  \n",
              "11         http://dbpedia.org/resource/Dudley_Dursley             Dubley  \n",
              "12        http://dbpedia.org/resource/Petunia_Dursley            Petunia  \n",
              "13         http://dbpedia.org/resource/Vernon_Dursley             Vernon  \n",
              "14            http://dbpedia.org/resource/Argus_Filch              Filch  \n",
              "15        http://dbpedia.org/resource/Seamus_Finnigan             Seamus  \n",
              "16         http://dbpedia.org/resource/Nicolas_Flamel     Nicolas Flamel  \n",
              "17        http://dbpedia.org/resource/Cornelius_Fudge          Cornelius  \n",
              "18          http://dbpedia.org/resource/Gregory_Goyle              Goyle  \n",
              "19       http://dbpedia.org/resource/Hermione_Granger           Hermione  \n",
              "20          http://dbpedia.org/resource/Rubeus_Hagrid             Hagrid  \n",
              "21         http://dbpedia.org/resource/Igor_Karkaroff          Karkaroff  \n",
              "22            http://dbpedia.org/resource/Viktor_Krum               Krum  \n",
              "23    http://dbpedia.org/resource/Bellatrix_Lestrange          Bellatrix  \n",
              "24       http://dbpedia.org/resource/Alice_Longbottom   Alice Longbottom  \n",
              "25       http://dbpedia.org/resource/Frank_Longbottom   Frank Longbottom  \n",
              "26     http://dbpedia.org/resource/Neville_Longbottom            Neville  \n",
              "27          http://dbpedia.org/resource/Luna_Lovegood               Luna  \n",
              "28   http://dbpedia.org/resource/Xenophilius_Lovegood        Xenophilius  \n",
              "29            http://dbpedia.org/resource/Remus_Lupin              Lupin  \n",
              "30           http://dbpedia.org/resource/Draco_Malfoy              Draco  \n",
              "31          http://dbpedia.org/resource/Lucius_Malfoy             Lucius  \n",
              "32        http://dbpedia.org/resource/Narcissa_Malfoy           Narcissa  \n",
              "33          http://dbpedia.org/resource/Olympe_Maxime             Olympe  \n",
              "34     http://dbpedia.org/resource/Minerva_McGonagall         McGonagall  \n",
              "35  http://dbpedia.org/resource/Alastor_%22Mad-Eye...              Moody  \n",
              "36        http://dbpedia.org/resource/Peter_Pettigrew           Wormtail  \n",
              "37           http://dbpedia.org/resource/Harry_Potter              Harry  \n",
              "38           http://dbpedia.org/resource/James_Potter       James Potter  \n",
              "39            http://dbpedia.org/resource/Lily_Potter        Lily Potter  \n",
              "40      http://dbpedia.org/resource/Quirinus_Quirrell  Quirinus Quirrell  \n",
              "41            http://dbpedia.org/resource/Mary_Riddle        Mary Riddle  \n",
              "42         http://dbpedia.org/resource/Lord_Voldemort          Voldemort  \n",
              "43           http://dbpedia.org/resource/Rita_Skeeter       Rita Skeeter  \n",
              "44          http://dbpedia.org/resource/Severus_Snape              Snape  \n",
              "45       http://dbpedia.org/resource/Nymphadora_Tonks         Nymphadora  \n",
              "46       http://dbpedia.org/resource/Dolores_Umbridge           Umbridge  \n",
              "47         http://dbpedia.org/resource/Arthur_Weasley             Arthur  \n",
              "48           http://dbpedia.org/resource/Bill_Weasley               Bill  \n",
              "49        http://dbpedia.org/resource/Charlie_Weasley            Charlie  \n",
              "50           http://dbpedia.org/resource/Fred_Weasley               Fred  \n",
              "51         http://dbpedia.org/resource/George_Weasley             George  \n",
              "52          http://dbpedia.org/resource/Ginny_Weasley              Ginny  \n",
              "53          http://dbpedia.org/resource/Molly_Weasley              Molly  \n",
              "54          http://dbpedia.org/resource/Percy_Weasley              Percy  \n",
              "55            http://dbpedia.org/resource/Ron_Weasley                Ron  \n",
              "56                  http://dbpedia.org/resource/Dobby              Dobby  \n",
              "57                 http://dbpedia.org/resource/Fluffy             Fluffy  \n",
              "58                 http://dbpedia.org/resource/Hedwig             Hedwig  \n",
              "59         http://dbpedia.org/resource/Moaning_Myrtle             Myrtle  \n",
              "60                 http://dbpedia.org/resource/Aragog             Aragog  \n",
              "61                  http://dbpedia.org/resource/Grawp              Grawp  "
            ],
            "text/html": [
              "\n",
              "  <div id=\"df-a4ac2894-b522-4b05-80b6-94fa810cf35e\">\n",
              "    <div class=\"colab-df-container\">\n",
              "      <div>\n",
              "<style scoped>\n",
              "    .dataframe tbody tr th:only-of-type {\n",
              "        vertical-align: middle;\n",
              "    }\n",
              "\n",
              "    .dataframe tbody tr th {\n",
              "        vertical-align: top;\n",
              "    }\n",
              "\n",
              "    .dataframe thead th {\n",
              "        text-align: right;\n",
              "    }\n",
              "</style>\n",
              "<table border=\"1\" class=\"dataframe\">\n",
              "  <thead>\n",
              "    <tr style=\"text-align: right;\">\n",
              "      <th></th>\n",
              "      <th>name</th>\n",
              "      <th>link_dbpedia</th>\n",
              "      <th>entity</th>\n",
              "    </tr>\n",
              "  </thead>\n",
              "  <tbody>\n",
              "    <tr>\n",
              "      <th>0</th>\n",
              "      <td>Regulus Arcturus Black</td>\n",
              "      <td>http://dbpedia.org/resource/Regulus_Arcturus_B...</td>\n",
              "      <td>Regulus</td>\n",
              "    </tr>\n",
              "    <tr>\n",
              "      <th>1</th>\n",
              "      <td>Sirius Black</td>\n",
              "      <td>http://dbpedia.org/resource/Sirius_Black</td>\n",
              "      <td>Sirius</td>\n",
              "    </tr>\n",
              "    <tr>\n",
              "      <th>2</th>\n",
              "      <td>Lavender Brown</td>\n",
              "      <td>http://dbpedia.org/resource/Lavender_Brown</td>\n",
              "      <td>Lavander</td>\n",
              "    </tr>\n",
              "    <tr>\n",
              "      <th>3</th>\n",
              "      <td>Cho Chang</td>\n",
              "      <td>http://dbpedia.org/resource/Cho_Chang</td>\n",
              "      <td>Cho</td>\n",
              "    </tr>\n",
              "    <tr>\n",
              "      <th>4</th>\n",
              "      <td>Vincent Crabbe</td>\n",
              "      <td>http://dbpedia.org/resource/Vincent_Crabbe</td>\n",
              "      <td>Crabbe</td>\n",
              "    </tr>\n",
              "    <tr>\n",
              "      <th>7</th>\n",
              "      <td>Fleur Delacour</td>\n",
              "      <td>http://dbpedia.org/resource/Fleur_Delacour</td>\n",
              "      <td>Fleur</td>\n",
              "    </tr>\n",
              "    <tr>\n",
              "      <th>8</th>\n",
              "      <td>Cedric Diggory</td>\n",
              "      <td>http://dbpedia.org/resource/Cedric_Diggory</td>\n",
              "      <td>Cedric</td>\n",
              "    </tr>\n",
              "    <tr>\n",
              "      <th>9</th>\n",
              "      <td>Aberforth Dumbledore</td>\n",
              "      <td>http://dbpedia.org/resource/Aberforth_Dumbledore</td>\n",
              "      <td>Aberforth</td>\n",
              "    </tr>\n",
              "    <tr>\n",
              "      <th>10</th>\n",
              "      <td>Albus Dumbledore</td>\n",
              "      <td>http://dbpedia.org/resource/Albus_Dumbledore</td>\n",
              "      <td>Dumbledore</td>\n",
              "    </tr>\n",
              "    <tr>\n",
              "      <th>11</th>\n",
              "      <td>Dudley Dursley</td>\n",
              "      <td>http://dbpedia.org/resource/Dudley_Dursley</td>\n",
              "      <td>Dubley</td>\n",
              "    </tr>\n",
              "    <tr>\n",
              "      <th>12</th>\n",
              "      <td>Petunia Dursley</td>\n",
              "      <td>http://dbpedia.org/resource/Petunia_Dursley</td>\n",
              "      <td>Petunia</td>\n",
              "    </tr>\n",
              "    <tr>\n",
              "      <th>13</th>\n",
              "      <td>Vernon Dursley</td>\n",
              "      <td>http://dbpedia.org/resource/Vernon_Dursley</td>\n",
              "      <td>Vernon</td>\n",
              "    </tr>\n",
              "    <tr>\n",
              "      <th>14</th>\n",
              "      <td>Argus Filch</td>\n",
              "      <td>http://dbpedia.org/resource/Argus_Filch</td>\n",
              "      <td>Filch</td>\n",
              "    </tr>\n",
              "    <tr>\n",
              "      <th>15</th>\n",
              "      <td>Seamus Finnigan</td>\n",
              "      <td>http://dbpedia.org/resource/Seamus_Finnigan</td>\n",
              "      <td>Seamus</td>\n",
              "    </tr>\n",
              "    <tr>\n",
              "      <th>16</th>\n",
              "      <td>Nicolas Flamel</td>\n",
              "      <td>http://dbpedia.org/resource/Nicolas_Flamel</td>\n",
              "      <td>Nicolas Flamel</td>\n",
              "    </tr>\n",
              "    <tr>\n",
              "      <th>17</th>\n",
              "      <td>Cornelius Fudge</td>\n",
              "      <td>http://dbpedia.org/resource/Cornelius_Fudge</td>\n",
              "      <td>Cornelius</td>\n",
              "    </tr>\n",
              "    <tr>\n",
              "      <th>18</th>\n",
              "      <td>Gregory Goyle</td>\n",
              "      <td>http://dbpedia.org/resource/Gregory_Goyle</td>\n",
              "      <td>Goyle</td>\n",
              "    </tr>\n",
              "    <tr>\n",
              "      <th>19</th>\n",
              "      <td>Hermione Granger</td>\n",
              "      <td>http://dbpedia.org/resource/Hermione_Granger</td>\n",
              "      <td>Hermione</td>\n",
              "    </tr>\n",
              "    <tr>\n",
              "      <th>20</th>\n",
              "      <td>Rubeus Hagrid</td>\n",
              "      <td>http://dbpedia.org/resource/Rubeus_Hagrid</td>\n",
              "      <td>Hagrid</td>\n",
              "    </tr>\n",
              "    <tr>\n",
              "      <th>21</th>\n",
              "      <td>Igor Karkaroff</td>\n",
              "      <td>http://dbpedia.org/resource/Igor_Karkaroff</td>\n",
              "      <td>Karkaroff</td>\n",
              "    </tr>\n",
              "    <tr>\n",
              "      <th>22</th>\n",
              "      <td>Viktor Krum</td>\n",
              "      <td>http://dbpedia.org/resource/Viktor_Krum</td>\n",
              "      <td>Krum</td>\n",
              "    </tr>\n",
              "    <tr>\n",
              "      <th>23</th>\n",
              "      <td>Bellatrix Lestrange</td>\n",
              "      <td>http://dbpedia.org/resource/Bellatrix_Lestrange</td>\n",
              "      <td>Bellatrix</td>\n",
              "    </tr>\n",
              "    <tr>\n",
              "      <th>24</th>\n",
              "      <td>Alice Longbottom</td>\n",
              "      <td>http://dbpedia.org/resource/Alice_Longbottom</td>\n",
              "      <td>Alice Longbottom</td>\n",
              "    </tr>\n",
              "    <tr>\n",
              "      <th>25</th>\n",
              "      <td>Frank Longbottom</td>\n",
              "      <td>http://dbpedia.org/resource/Frank_Longbottom</td>\n",
              "      <td>Frank Longbottom</td>\n",
              "    </tr>\n",
              "    <tr>\n",
              "      <th>26</th>\n",
              "      <td>Neville Longbottom</td>\n",
              "      <td>http://dbpedia.org/resource/Neville_Longbottom</td>\n",
              "      <td>Neville</td>\n",
              "    </tr>\n",
              "    <tr>\n",
              "      <th>27</th>\n",
              "      <td>Luna Lovegood</td>\n",
              "      <td>http://dbpedia.org/resource/Luna_Lovegood</td>\n",
              "      <td>Luna</td>\n",
              "    </tr>\n",
              "    <tr>\n",
              "      <th>28</th>\n",
              "      <td>Xenophilius Lovegood</td>\n",
              "      <td>http://dbpedia.org/resource/Xenophilius_Lovegood</td>\n",
              "      <td>Xenophilius</td>\n",
              "    </tr>\n",
              "    <tr>\n",
              "      <th>29</th>\n",
              "      <td>Remus Lupin</td>\n",
              "      <td>http://dbpedia.org/resource/Remus_Lupin</td>\n",
              "      <td>Lupin</td>\n",
              "    </tr>\n",
              "    <tr>\n",
              "      <th>30</th>\n",
              "      <td>Draco Malfoy</td>\n",
              "      <td>http://dbpedia.org/resource/Draco_Malfoy</td>\n",
              "      <td>Draco</td>\n",
              "    </tr>\n",
              "    <tr>\n",
              "      <th>31</th>\n",
              "      <td>Lucius Malfoy</td>\n",
              "      <td>http://dbpedia.org/resource/Lucius_Malfoy</td>\n",
              "      <td>Lucius</td>\n",
              "    </tr>\n",
              "    <tr>\n",
              "      <th>32</th>\n",
              "      <td>Narcissa Malfoy</td>\n",
              "      <td>http://dbpedia.org/resource/Narcissa_Malfoy</td>\n",
              "      <td>Narcissa</td>\n",
              "    </tr>\n",
              "    <tr>\n",
              "      <th>33</th>\n",
              "      <td>Olympe Maxime</td>\n",
              "      <td>http://dbpedia.org/resource/Olympe_Maxime</td>\n",
              "      <td>Olympe</td>\n",
              "    </tr>\n",
              "    <tr>\n",
              "      <th>34</th>\n",
              "      <td>Minerva McGonagall</td>\n",
              "      <td>http://dbpedia.org/resource/Minerva_McGonagall</td>\n",
              "      <td>McGonagall</td>\n",
              "    </tr>\n",
              "    <tr>\n",
              "      <th>35</th>\n",
              "      <td>Alastor \"Mad-Eye\" Moody</td>\n",
              "      <td>http://dbpedia.org/resource/Alastor_%22Mad-Eye...</td>\n",
              "      <td>Moody</td>\n",
              "    </tr>\n",
              "    <tr>\n",
              "      <th>36</th>\n",
              "      <td>Peter Pettigrew</td>\n",
              "      <td>http://dbpedia.org/resource/Peter_Pettigrew</td>\n",
              "      <td>Wormtail</td>\n",
              "    </tr>\n",
              "    <tr>\n",
              "      <th>37</th>\n",
              "      <td>Harry Potter</td>\n",
              "      <td>http://dbpedia.org/resource/Harry_Potter</td>\n",
              "      <td>Harry</td>\n",
              "    </tr>\n",
              "    <tr>\n",
              "      <th>38</th>\n",
              "      <td>James Potter</td>\n",
              "      <td>http://dbpedia.org/resource/James_Potter</td>\n",
              "      <td>James Potter</td>\n",
              "    </tr>\n",
              "    <tr>\n",
              "      <th>39</th>\n",
              "      <td>Lily Potter</td>\n",
              "      <td>http://dbpedia.org/resource/Lily_Potter</td>\n",
              "      <td>Lily Potter</td>\n",
              "    </tr>\n",
              "    <tr>\n",
              "      <th>40</th>\n",
              "      <td>Quirinus Quirrell</td>\n",
              "      <td>http://dbpedia.org/resource/Quirinus_Quirrell</td>\n",
              "      <td>Quirinus Quirrell</td>\n",
              "    </tr>\n",
              "    <tr>\n",
              "      <th>41</th>\n",
              "      <td>Mary Riddle</td>\n",
              "      <td>http://dbpedia.org/resource/Mary_Riddle</td>\n",
              "      <td>Mary Riddle</td>\n",
              "    </tr>\n",
              "    <tr>\n",
              "      <th>42</th>\n",
              "      <td>Lord Voldemort</td>\n",
              "      <td>http://dbpedia.org/resource/Lord_Voldemort</td>\n",
              "      <td>Voldemort</td>\n",
              "    </tr>\n",
              "    <tr>\n",
              "      <th>43</th>\n",
              "      <td>Rita Skeeter</td>\n",
              "      <td>http://dbpedia.org/resource/Rita_Skeeter</td>\n",
              "      <td>Rita Skeeter</td>\n",
              "    </tr>\n",
              "    <tr>\n",
              "      <th>44</th>\n",
              "      <td>Severus Snape</td>\n",
              "      <td>http://dbpedia.org/resource/Severus_Snape</td>\n",
              "      <td>Snape</td>\n",
              "    </tr>\n",
              "    <tr>\n",
              "      <th>45</th>\n",
              "      <td>Nymphadora Tonks</td>\n",
              "      <td>http://dbpedia.org/resource/Nymphadora_Tonks</td>\n",
              "      <td>Nymphadora</td>\n",
              "    </tr>\n",
              "    <tr>\n",
              "      <th>46</th>\n",
              "      <td>Dolores Umbridge</td>\n",
              "      <td>http://dbpedia.org/resource/Dolores_Umbridge</td>\n",
              "      <td>Umbridge</td>\n",
              "    </tr>\n",
              "    <tr>\n",
              "      <th>47</th>\n",
              "      <td>Arthur Weasley</td>\n",
              "      <td>http://dbpedia.org/resource/Arthur_Weasley</td>\n",
              "      <td>Arthur</td>\n",
              "    </tr>\n",
              "    <tr>\n",
              "      <th>48</th>\n",
              "      <td>Bill Weasley</td>\n",
              "      <td>http://dbpedia.org/resource/Bill_Weasley</td>\n",
              "      <td>Bill</td>\n",
              "    </tr>\n",
              "    <tr>\n",
              "      <th>49</th>\n",
              "      <td>Charlie Weasley</td>\n",
              "      <td>http://dbpedia.org/resource/Charlie_Weasley</td>\n",
              "      <td>Charlie</td>\n",
              "    </tr>\n",
              "    <tr>\n",
              "      <th>50</th>\n",
              "      <td>Fred Weasley</td>\n",
              "      <td>http://dbpedia.org/resource/Fred_Weasley</td>\n",
              "      <td>Fred</td>\n",
              "    </tr>\n",
              "    <tr>\n",
              "      <th>51</th>\n",
              "      <td>George Weasley</td>\n",
              "      <td>http://dbpedia.org/resource/George_Weasley</td>\n",
              "      <td>George</td>\n",
              "    </tr>\n",
              "    <tr>\n",
              "      <th>52</th>\n",
              "      <td>Ginny Weasley</td>\n",
              "      <td>http://dbpedia.org/resource/Ginny_Weasley</td>\n",
              "      <td>Ginny</td>\n",
              "    </tr>\n",
              "    <tr>\n",
              "      <th>53</th>\n",
              "      <td>Molly Weasley</td>\n",
              "      <td>http://dbpedia.org/resource/Molly_Weasley</td>\n",
              "      <td>Molly</td>\n",
              "    </tr>\n",
              "    <tr>\n",
              "      <th>54</th>\n",
              "      <td>Percy Weasley</td>\n",
              "      <td>http://dbpedia.org/resource/Percy_Weasley</td>\n",
              "      <td>Percy</td>\n",
              "    </tr>\n",
              "    <tr>\n",
              "      <th>55</th>\n",
              "      <td>Ron Weasley</td>\n",
              "      <td>http://dbpedia.org/resource/Ron_Weasley</td>\n",
              "      <td>Ron</td>\n",
              "    </tr>\n",
              "    <tr>\n",
              "      <th>56</th>\n",
              "      <td>Dobby</td>\n",
              "      <td>http://dbpedia.org/resource/Dobby</td>\n",
              "      <td>Dobby</td>\n",
              "    </tr>\n",
              "    <tr>\n",
              "      <th>57</th>\n",
              "      <td>Fluffy</td>\n",
              "      <td>http://dbpedia.org/resource/Fluffy</td>\n",
              "      <td>Fluffy</td>\n",
              "    </tr>\n",
              "    <tr>\n",
              "      <th>58</th>\n",
              "      <td>Hedwig</td>\n",
              "      <td>http://dbpedia.org/resource/Hedwig</td>\n",
              "      <td>Hedwig</td>\n",
              "    </tr>\n",
              "    <tr>\n",
              "      <th>59</th>\n",
              "      <td>Moaning Myrtle</td>\n",
              "      <td>http://dbpedia.org/resource/Moaning_Myrtle</td>\n",
              "      <td>Myrtle</td>\n",
              "    </tr>\n",
              "    <tr>\n",
              "      <th>60</th>\n",
              "      <td>Aragog</td>\n",
              "      <td>http://dbpedia.org/resource/Aragog</td>\n",
              "      <td>Aragog</td>\n",
              "    </tr>\n",
              "    <tr>\n",
              "      <th>61</th>\n",
              "      <td>Grawp</td>\n",
              "      <td>http://dbpedia.org/resource/Grawp</td>\n",
              "      <td>Grawp</td>\n",
              "    </tr>\n",
              "  </tbody>\n",
              "</table>\n",
              "</div>\n",
              "      <button class=\"colab-df-convert\" onclick=\"convertToInteractive('df-a4ac2894-b522-4b05-80b6-94fa810cf35e')\"\n",
              "              title=\"Convert this dataframe to an interactive table.\"\n",
              "              style=\"display:none;\">\n",
              "        \n",
              "  <svg xmlns=\"http://www.w3.org/2000/svg\" height=\"24px\"viewBox=\"0 0 24 24\"\n",
              "       width=\"24px\">\n",
              "    <path d=\"M0 0h24v24H0V0z\" fill=\"none\"/>\n",
              "    <path d=\"M18.56 5.44l.94 2.06.94-2.06 2.06-.94-2.06-.94-.94-2.06-.94 2.06-2.06.94zm-11 1L8.5 8.5l.94-2.06 2.06-.94-2.06-.94L8.5 2.5l-.94 2.06-2.06.94zm10 10l.94 2.06.94-2.06 2.06-.94-2.06-.94-.94-2.06-.94 2.06-2.06.94z\"/><path d=\"M17.41 7.96l-1.37-1.37c-.4-.4-.92-.59-1.43-.59-.52 0-1.04.2-1.43.59L10.3 9.45l-7.72 7.72c-.78.78-.78 2.05 0 2.83L4 21.41c.39.39.9.59 1.41.59.51 0 1.02-.2 1.41-.59l7.78-7.78 2.81-2.81c.8-.78.8-2.07 0-2.86zM5.41 20L4 18.59l7.72-7.72 1.47 1.35L5.41 20z\"/>\n",
              "  </svg>\n",
              "      </button>\n",
              "      \n",
              "  <style>\n",
              "    .colab-df-container {\n",
              "      display:flex;\n",
              "      flex-wrap:wrap;\n",
              "      gap: 12px;\n",
              "    }\n",
              "\n",
              "    .colab-df-convert {\n",
              "      background-color: #E8F0FE;\n",
              "      border: none;\n",
              "      border-radius: 50%;\n",
              "      cursor: pointer;\n",
              "      display: none;\n",
              "      fill: #1967D2;\n",
              "      height: 32px;\n",
              "      padding: 0 0 0 0;\n",
              "      width: 32px;\n",
              "    }\n",
              "\n",
              "    .colab-df-convert:hover {\n",
              "      background-color: #E2EBFA;\n",
              "      box-shadow: 0px 1px 2px rgba(60, 64, 67, 0.3), 0px 1px 3px 1px rgba(60, 64, 67, 0.15);\n",
              "      fill: #174EA6;\n",
              "    }\n",
              "\n",
              "    [theme=dark] .colab-df-convert {\n",
              "      background-color: #3B4455;\n",
              "      fill: #D2E3FC;\n",
              "    }\n",
              "\n",
              "    [theme=dark] .colab-df-convert:hover {\n",
              "      background-color: #434B5C;\n",
              "      box-shadow: 0px 1px 3px 1px rgba(0, 0, 0, 0.15);\n",
              "      filter: drop-shadow(0px 1px 2px rgba(0, 0, 0, 0.3));\n",
              "      fill: #FFFFFF;\n",
              "    }\n",
              "  </style>\n",
              "\n",
              "      <script>\n",
              "        const buttonEl =\n",
              "          document.querySelector('#df-a4ac2894-b522-4b05-80b6-94fa810cf35e button.colab-df-convert');\n",
              "        buttonEl.style.display =\n",
              "          google.colab.kernel.accessAllowed ? 'block' : 'none';\n",
              "\n",
              "        async function convertToInteractive(key) {\n",
              "          const element = document.querySelector('#df-a4ac2894-b522-4b05-80b6-94fa810cf35e');\n",
              "          const dataTable =\n",
              "            await google.colab.kernel.invokeFunction('convertToInteractive',\n",
              "                                                     [key], {});\n",
              "          if (!dataTable) return;\n",
              "\n",
              "          const docLinkHtml = 'Like what you see? Visit the ' +\n",
              "            '<a target=\"_blank\" href=https://colab.research.google.com/notebooks/data_table.ipynb>data table notebook</a>'\n",
              "            + ' to learn more about interactive tables.';\n",
              "          element.innerHTML = '';\n",
              "          dataTable['output_type'] = 'display_data';\n",
              "          await google.colab.output.renderOutput(dataTable, element);\n",
              "          const docLink = document.createElement('div');\n",
              "          docLink.innerHTML = docLinkHtml;\n",
              "          element.appendChild(docLink);\n",
              "        }\n",
              "      </script>\n",
              "    </div>\n",
              "  </div>\n",
              "  "
            ]
          },
          "metadata": {},
          "execution_count": 39
        }
      ]
    },
    {
      "cell_type": "markdown",
      "source": [
        "### 1. Valutazione Nel personaggi - più precisa (si controlla solamente il nome)"
      ],
      "metadata": {
        "id": "7K_kGAyl119E"
      }
    },
    {
      "cell_type": "code",
      "source": [
        "df = risultati_nel.groupby(['string_name','link']).size().reset_index(name='Freq')\n",
        "df\n",
        "\n"
      ],
      "metadata": {
        "colab": {
          "base_uri": "https://localhost:8080/",
          "height": 424
        },
        "id": "SvwWp24U2IvZ",
        "outputId": "85d7f742-88b5-4b16-ab0b-977bf8983ca4"
      },
      "execution_count": 40,
      "outputs": [
        {
          "output_type": "execute_result",
          "data": {
            "text/plain": [
              "          string_name                                               link  Freq\n",
              "0    ALBUS DUMBLEDORE       http://dbpedia.org/resource/Albus_Dumbledore     1\n",
              "1           Aberforth  http://dbpedia.org/resource/Order_of_the_Phoen...     2\n",
              "2             Agrippa  http://dbpedia.org/resource/Heinrich_Cornelius...     1\n",
              "3               Aidan   http://dbpedia.org/resource/Aidan_of_Lindisfarne     1\n",
              "4             Albania                http://dbpedia.org/resource/Albania     1\n",
              "..                ...                                                ...   ...\n",
              "243        witchcraft             http://dbpedia.org/resource/Witchcraft     1\n",
              "244            wizard      http://dbpedia.org/resource/Unseen_University     4\n",
              "245             years                                                        1\n",
              "246               yeh                                                        1\n",
              "247               yer                    http://dbpedia.org/resource/Yer     1\n",
              "\n",
              "[248 rows x 3 columns]"
            ],
            "text/html": [
              "\n",
              "  <div id=\"df-ce2956ea-5f6d-46bf-ba98-580eeeb88a63\">\n",
              "    <div class=\"colab-df-container\">\n",
              "      <div>\n",
              "<style scoped>\n",
              "    .dataframe tbody tr th:only-of-type {\n",
              "        vertical-align: middle;\n",
              "    }\n",
              "\n",
              "    .dataframe tbody tr th {\n",
              "        vertical-align: top;\n",
              "    }\n",
              "\n",
              "    .dataframe thead th {\n",
              "        text-align: right;\n",
              "    }\n",
              "</style>\n",
              "<table border=\"1\" class=\"dataframe\">\n",
              "  <thead>\n",
              "    <tr style=\"text-align: right;\">\n",
              "      <th></th>\n",
              "      <th>string_name</th>\n",
              "      <th>link</th>\n",
              "      <th>Freq</th>\n",
              "    </tr>\n",
              "  </thead>\n",
              "  <tbody>\n",
              "    <tr>\n",
              "      <th>0</th>\n",
              "      <td>ALBUS DUMBLEDORE</td>\n",
              "      <td>http://dbpedia.org/resource/Albus_Dumbledore</td>\n",
              "      <td>1</td>\n",
              "    </tr>\n",
              "    <tr>\n",
              "      <th>1</th>\n",
              "      <td>Aberforth</td>\n",
              "      <td>http://dbpedia.org/resource/Order_of_the_Phoen...</td>\n",
              "      <td>2</td>\n",
              "    </tr>\n",
              "    <tr>\n",
              "      <th>2</th>\n",
              "      <td>Agrippa</td>\n",
              "      <td>http://dbpedia.org/resource/Heinrich_Cornelius...</td>\n",
              "      <td>1</td>\n",
              "    </tr>\n",
              "    <tr>\n",
              "      <th>3</th>\n",
              "      <td>Aidan</td>\n",
              "      <td>http://dbpedia.org/resource/Aidan_of_Lindisfarne</td>\n",
              "      <td>1</td>\n",
              "    </tr>\n",
              "    <tr>\n",
              "      <th>4</th>\n",
              "      <td>Albania</td>\n",
              "      <td>http://dbpedia.org/resource/Albania</td>\n",
              "      <td>1</td>\n",
              "    </tr>\n",
              "    <tr>\n",
              "      <th>...</th>\n",
              "      <td>...</td>\n",
              "      <td>...</td>\n",
              "      <td>...</td>\n",
              "    </tr>\n",
              "    <tr>\n",
              "      <th>243</th>\n",
              "      <td>witchcraft</td>\n",
              "      <td>http://dbpedia.org/resource/Witchcraft</td>\n",
              "      <td>1</td>\n",
              "    </tr>\n",
              "    <tr>\n",
              "      <th>244</th>\n",
              "      <td>wizard</td>\n",
              "      <td>http://dbpedia.org/resource/Unseen_University</td>\n",
              "      <td>4</td>\n",
              "    </tr>\n",
              "    <tr>\n",
              "      <th>245</th>\n",
              "      <td>years</td>\n",
              "      <td></td>\n",
              "      <td>1</td>\n",
              "    </tr>\n",
              "    <tr>\n",
              "      <th>246</th>\n",
              "      <td>yeh</td>\n",
              "      <td></td>\n",
              "      <td>1</td>\n",
              "    </tr>\n",
              "    <tr>\n",
              "      <th>247</th>\n",
              "      <td>yer</td>\n",
              "      <td>http://dbpedia.org/resource/Yer</td>\n",
              "      <td>1</td>\n",
              "    </tr>\n",
              "  </tbody>\n",
              "</table>\n",
              "<p>248 rows × 3 columns</p>\n",
              "</div>\n",
              "      <button class=\"colab-df-convert\" onclick=\"convertToInteractive('df-ce2956ea-5f6d-46bf-ba98-580eeeb88a63')\"\n",
              "              title=\"Convert this dataframe to an interactive table.\"\n",
              "              style=\"display:none;\">\n",
              "        \n",
              "  <svg xmlns=\"http://www.w3.org/2000/svg\" height=\"24px\"viewBox=\"0 0 24 24\"\n",
              "       width=\"24px\">\n",
              "    <path d=\"M0 0h24v24H0V0z\" fill=\"none\"/>\n",
              "    <path d=\"M18.56 5.44l.94 2.06.94-2.06 2.06-.94-2.06-.94-.94-2.06-.94 2.06-2.06.94zm-11 1L8.5 8.5l.94-2.06 2.06-.94-2.06-.94L8.5 2.5l-.94 2.06-2.06.94zm10 10l.94 2.06.94-2.06 2.06-.94-2.06-.94-.94-2.06-.94 2.06-2.06.94z\"/><path d=\"M17.41 7.96l-1.37-1.37c-.4-.4-.92-.59-1.43-.59-.52 0-1.04.2-1.43.59L10.3 9.45l-7.72 7.72c-.78.78-.78 2.05 0 2.83L4 21.41c.39.39.9.59 1.41.59.51 0 1.02-.2 1.41-.59l7.78-7.78 2.81-2.81c.8-.78.8-2.07 0-2.86zM5.41 20L4 18.59l7.72-7.72 1.47 1.35L5.41 20z\"/>\n",
              "  </svg>\n",
              "      </button>\n",
              "      \n",
              "  <style>\n",
              "    .colab-df-container {\n",
              "      display:flex;\n",
              "      flex-wrap:wrap;\n",
              "      gap: 12px;\n",
              "    }\n",
              "\n",
              "    .colab-df-convert {\n",
              "      background-color: #E8F0FE;\n",
              "      border: none;\n",
              "      border-radius: 50%;\n",
              "      cursor: pointer;\n",
              "      display: none;\n",
              "      fill: #1967D2;\n",
              "      height: 32px;\n",
              "      padding: 0 0 0 0;\n",
              "      width: 32px;\n",
              "    }\n",
              "\n",
              "    .colab-df-convert:hover {\n",
              "      background-color: #E2EBFA;\n",
              "      box-shadow: 0px 1px 2px rgba(60, 64, 67, 0.3), 0px 1px 3px 1px rgba(60, 64, 67, 0.15);\n",
              "      fill: #174EA6;\n",
              "    }\n",
              "\n",
              "    [theme=dark] .colab-df-convert {\n",
              "      background-color: #3B4455;\n",
              "      fill: #D2E3FC;\n",
              "    }\n",
              "\n",
              "    [theme=dark] .colab-df-convert:hover {\n",
              "      background-color: #434B5C;\n",
              "      box-shadow: 0px 1px 3px 1px rgba(0, 0, 0, 0.15);\n",
              "      filter: drop-shadow(0px 1px 2px rgba(0, 0, 0, 0.3));\n",
              "      fill: #FFFFFF;\n",
              "    }\n",
              "  </style>\n",
              "\n",
              "      <script>\n",
              "        const buttonEl =\n",
              "          document.querySelector('#df-ce2956ea-5f6d-46bf-ba98-580eeeb88a63 button.colab-df-convert');\n",
              "        buttonEl.style.display =\n",
              "          google.colab.kernel.accessAllowed ? 'block' : 'none';\n",
              "\n",
              "        async function convertToInteractive(key) {\n",
              "          const element = document.querySelector('#df-ce2956ea-5f6d-46bf-ba98-580eeeb88a63');\n",
              "          const dataTable =\n",
              "            await google.colab.kernel.invokeFunction('convertToInteractive',\n",
              "                                                     [key], {});\n",
              "          if (!dataTable) return;\n",
              "\n",
              "          const docLinkHtml = 'Like what you see? Visit the ' +\n",
              "            '<a target=\"_blank\" href=https://colab.research.google.com/notebooks/data_table.ipynb>data table notebook</a>'\n",
              "            + ' to learn more about interactive tables.';\n",
              "          element.innerHTML = '';\n",
              "          dataTable['output_type'] = 'display_data';\n",
              "          await google.colab.output.renderOutput(dataTable, element);\n",
              "          const docLink = document.createElement('div');\n",
              "          docLink.innerHTML = docLinkHtml;\n",
              "          element.appendChild(docLink);\n",
              "        }\n",
              "      </script>\n",
              "    </div>\n",
              "  </div>\n",
              "  "
            ]
          },
          "metadata": {},
          "execution_count": 40
        }
      ]
    },
    {
      "cell_type": "code",
      "source": [
        "correct_entity = list(risultati_nel_corretti.entity)\n",
        "correct_name = list(risultati_nel_corretti.name)\n"
      ],
      "metadata": {
        "id": "080sa-qJ-WJR"
      },
      "execution_count": 41,
      "outputs": []
    },
    {
      "cell_type": "code",
      "source": [
        "count_totale = 0\n",
        "count_esatti = 0\n",
        "count_sbagliati = 0\n",
        "count_non_riconosciuti = 0\n",
        "for index,row in df.iterrows():\n",
        "  if((row[\"string_name\"].title() in correct_entity) or(row[\"string_name\"].title() in correct_name)):\n",
        "    count_totale = count_totale+1\n",
        "    for index2,row2 in risultati_nel_corretti.iterrows():\n",
        "      if((row[\"string_name\"].title() == row2[\"entity\"]) or (row[\"string_name\"].title() == row2[\"name\"])):\n",
        "        print(row[\"string_name\"], row[\"link\"],\"-\", row2[\"link_dbpedia\"])\n",
        "        if((len(row[\"link\"]) > 0) and (row[\"link\"] == row2[\"link_dbpedia\"])):\n",
        "          count_esatti = count_esatti +1\n",
        "        else: \n",
        "          if(len(row[\"link\"]) > 0):\n",
        "            count_sbagliati = count_sbagliati + 1\n",
        "          else: count_non_riconosciuti= count_non_riconosciuti +1\n",
        "\n",
        "print(\"Totale personaggi trovati da NEL: \", count_totale)\n",
        "print(\"Totale personaggi riconosciuti correttamente: \", count_esatti)\n",
        "print(\"Totale personaggi riconosciuti con un diverso link: \", count_sbagliati)\n",
        "print(\"Totale personaggi non riconosciuti da NEL: \", count_non_riconosciuti)"
      ],
      "metadata": {
        "colab": {
          "base_uri": "https://localhost:8080/"
        },
        "id": "jXVfqdal5TtA",
        "outputId": "17a1d62e-bdcc-4e53-df38-88265ad39525"
      },
      "execution_count": 42,
      "outputs": [
        {
          "output_type": "stream",
          "name": "stdout",
          "text": [
            "ALBUS DUMBLEDORE http://dbpedia.org/resource/Albus_Dumbledore - http://dbpedia.org/resource/Albus_Dumbledore\n",
            "Aberforth http://dbpedia.org/resource/Order_of_the_Phoenix_(fictional_organisation) - http://dbpedia.org/resource/Aberforth_Dumbledore\n",
            "Alice Longbottom http://dbpedia.org/resource/Order_of_the_Phoenix_(fictional_organisation) - http://dbpedia.org/resource/Alice_Longbottom\n",
            "Aragog http://dbpedia.org/resource/Magical_creatures_in_Harry_Potter - http://dbpedia.org/resource/Aragog\n",
            "Aragog http://dbpedia.org/resource/Rubeus_Hagrid - http://dbpedia.org/resource/Aragog\n",
            "Argus Filch http://dbpedia.org/resource/Hogwarts_staff - http://dbpedia.org/resource/Argus_Filch\n",
            "Arthur http://dbpedia.org/resource/King_Arthur - http://dbpedia.org/resource/Arthur_Weasley\n",
            "Bellatrix http://dbpedia.org/resource/Death_Eater - http://dbpedia.org/resource/Bellatrix_Lestrange\n",
            "Bill  - http://dbpedia.org/resource/Bill_Weasley\n",
            "Cedric Diggory  - http://dbpedia.org/resource/Cedric_Diggory\n",
            "Charlie  - http://dbpedia.org/resource/Charlie_Weasley\n",
            "Cornelius Fudge http://dbpedia.org/resource/Ministry_of_Magic - http://dbpedia.org/resource/Cornelius_Fudge\n",
            "Dobby http://dbpedia.org/resource/Magical_creatures_in_Harry_Potter - http://dbpedia.org/resource/Dobby\n",
            "Draco Malfoy http://dbpedia.org/resource/Draco_Malfoy - http://dbpedia.org/resource/Draco_Malfoy\n",
            "Dumbledore http://dbpedia.org/resource/Albus_Dumbledore - http://dbpedia.org/resource/Albus_Dumbledore\n",
            "Fleur Delacour http://dbpedia.org/resource/Order_of_the_Phoenix_(fictional_organisation) - http://dbpedia.org/resource/Fleur_Delacour\n",
            "Frank Longbottom  - http://dbpedia.org/resource/Frank_Longbottom\n",
            "Fred http://dbpedia.org/resource/Fred_Flintstone - http://dbpedia.org/resource/Fred_Weasley\n",
            "Fred http://dbpedia.org/resource/Winifred_Burkle - http://dbpedia.org/resource/Fred_Weasley\n",
            "George  - http://dbpedia.org/resource/George_Weasley\n",
            "Ginny  - http://dbpedia.org/resource/Ginny_Weasley\n",
            "Goyle http://dbpedia.org/resource/Death_Eater - http://dbpedia.org/resource/Gregory_Goyle\n",
            "Grawp  - http://dbpedia.org/resource/Grawp\n",
            "Hagrid http://dbpedia.org/resource/Rubeus_Hagrid - http://dbpedia.org/resource/Rubeus_Hagrid\n",
            "Harry  - http://dbpedia.org/resource/Harry_Potter\n",
            "Harry Potter http://dbpedia.org/resource/Harry_Potter - http://dbpedia.org/resource/Harry_Potter\n",
            "Hedwig http://dbpedia.org/resource/Magical_creatures_in_Harry_Potter - http://dbpedia.org/resource/Hedwig\n",
            "Hermione http://dbpedia.org/resource/Hermione_Granger - http://dbpedia.org/resource/Hermione_Granger\n",
            "Hermione Granger http://dbpedia.org/resource/Hermione_Granger - http://dbpedia.org/resource/Hermione_Granger\n",
            "James Potter http://dbpedia.org/resource/Order_of_the_Phoenix_(fictional_organisation) - http://dbpedia.org/resource/James_Potter\n",
            "Karkaroff  - http://dbpedia.org/resource/Igor_Karkaroff\n",
            "Krum http://dbpedia.org/resource/Krum - http://dbpedia.org/resource/Viktor_Krum\n",
            "Lord Voldemort http://dbpedia.org/resource/Lord_Voldemort - http://dbpedia.org/resource/Lord_Voldemort\n",
            "Lucius http://dbpedia.org/resource/Death_Eater - http://dbpedia.org/resource/Lucius_Malfoy\n",
            "Luna http://dbpedia.org/resource/Moon - http://dbpedia.org/resource/Luna_Lovegood\n",
            "Lupin http://dbpedia.org/resource/Lupinus - http://dbpedia.org/resource/Remus_Lupin\n",
            "Molly http://dbpedia.org/resource/Molly_Hayes - http://dbpedia.org/resource/Molly_Weasley\n",
            "Moody http://dbpedia.org/resource/Richard_Clement_Moody - http://dbpedia.org/resource/Alastor_%22Mad-Eye%22_Moody\n",
            "Myrtle  - http://dbpedia.org/resource/Moaning_Myrtle\n",
            "Narcissa http://dbpedia.org/resource/Narcissa_Whitman - http://dbpedia.org/resource/Narcissa_Malfoy\n",
            "Neville http://dbpedia.org/resource/House_of_Neville - http://dbpedia.org/resource/Neville_Longbottom\n",
            "Neville http://dbpedia.org/resource/Neville_Ashworth - http://dbpedia.org/resource/Neville_Longbottom\n",
            "Neville http://dbpedia.org/resource/Neville_Chamberlain - http://dbpedia.org/resource/Neville_Longbottom\n",
            "Neville Longbottom  - http://dbpedia.org/resource/Neville_Longbottom\n",
            "Nicolas Flamel http://dbpedia.org/resource/Nicolas_Flamel - http://dbpedia.org/resource/Nicolas_Flamel\n",
            "Percy http://dbpedia.org/resource/Percy_Jackson - http://dbpedia.org/resource/Percy_Weasley\n",
            "Percy http://dbpedia.org/resource/Percy_the_Small_Engine - http://dbpedia.org/resource/Percy_Weasley\n",
            "Percy Weasley http://dbpedia.org/resource/Ministry_of_Magic - http://dbpedia.org/resource/Percy_Weasley\n",
            "Petunia http://dbpedia.org/resource/Petunia - http://dbpedia.org/resource/Petunia_Dursley\n",
            "Regulus http://dbpedia.org/resource/Regulus - http://dbpedia.org/resource/Regulus_Arcturus_Black\n",
            "Regulus Arcturus Black http://dbpedia.org/resource/Death_Eater - http://dbpedia.org/resource/Regulus_Arcturus_Black\n",
            "Rita Skeeter  - http://dbpedia.org/resource/Rita_Skeeter\n",
            "Ron  - http://dbpedia.org/resource/Ron_Weasley\n",
            "Sirius http://dbpedia.org/resource/Sirius - http://dbpedia.org/resource/Sirius_Black\n",
            "Snape http://dbpedia.org/resource/Severus_Snape - http://dbpedia.org/resource/Severus_Snape\n",
            "Umbridge  - http://dbpedia.org/resource/Dolores_Umbridge\n",
            "Vernon http://dbpedia.org/resource/Edward_Vernon - http://dbpedia.org/resource/Vernon_Dursley\n",
            "Voldemort http://dbpedia.org/resource/Lord_Voldemort - http://dbpedia.org/resource/Lord_Voldemort\n",
            "Wormtail http://dbpedia.org/resource/Death_Eater - http://dbpedia.org/resource/Peter_Pettigrew\n",
            "Xenophilius  - http://dbpedia.org/resource/Xenophilius_Lovegood\n",
            "Xenophilius Lovegood  - http://dbpedia.org/resource/Xenophilius_Lovegood\n",
            "Totale personaggi trovati da NEL:  61\n",
            "Totale personaggi riconosciuti correttamente:  11\n",
            "Totale personaggi riconosciuti con un diverso link:  34\n",
            "Totale personaggi non riconosciuti da NEL:  16\n"
          ]
        }
      ]
    },
    {
      "cell_type": "markdown",
      "source": [
        "### 2. Valutazione Nel Personaggi - meno specifica (si controlla che il risultato di NEL appartenga ad Harry Potter)"
      ],
      "metadata": {
        "id": "2pfYFfMrf3rr"
      }
    },
    {
      "cell_type": "code",
      "source": [
        "risultati_nel_corretti_2 = pd.read_csv(\"risultati_nel_corretti_2.csv\")\n",
        "risultati_nel_corretti_2 = risultati_nel_corretti_2.iloc[:,1:]\n",
        "risultati_nel_corretti_2[\"film\"] = \"http://dbpedia.org/resource/Order_of_the_Phoenix_(fictional_organisation)\"\n",
        "risultati_nel_corretti_2"
      ],
      "metadata": {
        "colab": {
          "base_uri": "https://localhost:8080/",
          "height": 1000
        },
        "id": "YMtHRvETf0f3",
        "outputId": "34a52386-4028-42f0-df49-52d7e9adcc68"
      },
      "execution_count": 43,
      "outputs": [
        {
          "output_type": "execute_result",
          "data": {
            "text/plain": [
              "                      name                                       link_dbpedia  \\\n",
              "0   Regulus Arcturus Black  http://dbpedia.org/resource/Regulus_Arcturus_B...   \n",
              "1             Sirius Black           http://dbpedia.org/resource/Sirius_Black   \n",
              "2           Lavender Brown         http://dbpedia.org/resource/Lavender_Brown   \n",
              "3                Cho Chang              http://dbpedia.org/resource/Cho_Chang   \n",
              "4           Vincent Crabbe         http://dbpedia.org/resource/Vincent_Crabbe   \n",
              "5           Fleur Delacour         http://dbpedia.org/resource/Fleur_Delacour   \n",
              "6           Cedric Diggory         http://dbpedia.org/resource/Cedric_Diggory   \n",
              "7     Aberforth Dumbledore   http://dbpedia.org/resource/Aberforth_Dumbledore   \n",
              "8         Albus Dumbledore       http://dbpedia.org/resource/Albus_Dumbledore   \n",
              "9           Dudley Dursley         http://dbpedia.org/resource/Dudley_Dursley   \n",
              "10         Petunia Dursley        http://dbpedia.org/resource/Petunia_Dursley   \n",
              "11          Vernon Dursley         http://dbpedia.org/resource/Vernon_Dursley   \n",
              "12             Argus Filch            http://dbpedia.org/resource/Argus_Filch   \n",
              "13         Seamus Finnigan        http://dbpedia.org/resource/Seamus_Finnigan   \n",
              "14          Nicolas Flamel         http://dbpedia.org/resource/Nicolas_Flamel   \n",
              "15         Cornelius Fudge        http://dbpedia.org/resource/Cornelius_Fudge   \n",
              "16           Gregory Goyle          http://dbpedia.org/resource/Gregory_Goyle   \n",
              "17        Hermione Granger       http://dbpedia.org/resource/Hermione_Granger   \n",
              "18           Rubeus Hagrid          http://dbpedia.org/resource/Rubeus_Hagrid   \n",
              "19          Igor Karkaroff         http://dbpedia.org/resource/Igor_Karkaroff   \n",
              "20             Viktor Krum            http://dbpedia.org/resource/Viktor_Krum   \n",
              "21     Bellatrix Lestrange    http://dbpedia.org/resource/Bellatrix_Lestrange   \n",
              "22        Alice Longbottom       http://dbpedia.org/resource/Alice_Longbottom   \n",
              "23        Frank Longbottom       http://dbpedia.org/resource/Frank_Longbottom   \n",
              "24      Neville Longbottom     http://dbpedia.org/resource/Neville_Longbottom   \n",
              "25           Luna Lovegood          http://dbpedia.org/resource/Luna_Lovegood   \n",
              "26    Xenophilius Lovegood   http://dbpedia.org/resource/Xenophilius_Lovegood   \n",
              "27             Remus Lupin            http://dbpedia.org/resource/Remus_Lupin   \n",
              "28            Draco Malfoy           http://dbpedia.org/resource/Draco_Malfoy   \n",
              "29           Lucius Malfoy          http://dbpedia.org/resource/Lucius_Malfoy   \n",
              "30         Narcissa Malfoy        http://dbpedia.org/resource/Narcissa_Malfoy   \n",
              "31           Olympe Maxime          http://dbpedia.org/resource/Olympe_Maxime   \n",
              "32      Minerva McGonagall     http://dbpedia.org/resource/Minerva_McGonagall   \n",
              "33  Alastor Mad-Eye Moody   http://dbpedia.org/resource/Alastor_%22Mad-Eye...   \n",
              "34         Peter Pettigrew        http://dbpedia.org/resource/Peter_Pettigrew   \n",
              "35            Harry Potter           http://dbpedia.org/resource/Harry_Potter   \n",
              "36            James Potter           http://dbpedia.org/resource/James_Potter   \n",
              "37             Lily Potter            http://dbpedia.org/resource/Lily_Potter   \n",
              "38       Quirinus Quirrell      http://dbpedia.org/resource/Quirinus_Quirrell   \n",
              "39             Mary Riddle            http://dbpedia.org/resource/Mary_Riddle   \n",
              "40          Lord Voldemort         http://dbpedia.org/resource/Lord_Voldemort   \n",
              "41            Rita Skeeter           http://dbpedia.org/resource/Rita_Skeeter   \n",
              "42           Severus Snape          http://dbpedia.org/resource/Severus_Snape   \n",
              "43        Nymphadora Tonks       http://dbpedia.org/resource/Nymphadora_Tonks   \n",
              "44        Dolores Umbridge       http://dbpedia.org/resource/Dolores_Umbridge   \n",
              "45          Arthur Weasley         http://dbpedia.org/resource/Arthur_Weasley   \n",
              "46            Bill Weasley           http://dbpedia.org/resource/Bill_Weasley   \n",
              "47         Charlie Weasley        http://dbpedia.org/resource/Charlie_Weasley   \n",
              "48            Fred Weasley           http://dbpedia.org/resource/Fred_Weasley   \n",
              "49          George Weasley         http://dbpedia.org/resource/George_Weasley   \n",
              "50           Ginny Weasley          http://dbpedia.org/resource/Ginny_Weasley   \n",
              "51           Molly Weasley          http://dbpedia.org/resource/Molly_Weasley   \n",
              "52           Percy Weasley          http://dbpedia.org/resource/Percy_Weasley   \n",
              "53             Ron Weasley            http://dbpedia.org/resource/Ron_Weasley   \n",
              "54                   Dobby                  http://dbpedia.org/resource/Dobby   \n",
              "55                  Fluffy                 http://dbpedia.org/resource/Fluffy   \n",
              "56                  Hedwig                 http://dbpedia.org/resource/Hedwig   \n",
              "57          Moaning Myrtle         http://dbpedia.org/resource/Moaning_Myrtle   \n",
              "58                  Aragog                 http://dbpedia.org/resource/Aragog   \n",
              "59                   Grawp                  http://dbpedia.org/resource/Grawp   \n",
              "\n",
              "               entity                                        second_link  \\\n",
              "0             Regulus            http://dbpedia.org/resource/Death_Eater   \n",
              "1              Sirius                                                NaN   \n",
              "2            Lavander                                                NaN   \n",
              "3                 Cho                                                NaN   \n",
              "4              Crabbe                                                NaN   \n",
              "5               Fleur                                                NaN   \n",
              "6              Cedric                                                NaN   \n",
              "7           Aberforth                                                NaN   \n",
              "8          Dumbledore                                                NaN   \n",
              "9              Dubley                                                NaN   \n",
              "10            Petunia                                                NaN   \n",
              "11             Vernon                                                NaN   \n",
              "12              Filch                                                NaN   \n",
              "13             Seamus                                                NaN   \n",
              "14     Nicolas Flamel                                                NaN   \n",
              "15          Cornelius                                                NaN   \n",
              "16              Goyle            http://dbpedia.org/resource/Death_Eater   \n",
              "17           Hermione                                                NaN   \n",
              "18             Hagrid                                                NaN   \n",
              "19          Karkaroff                                                NaN   \n",
              "20               Krum                                                NaN   \n",
              "21          Bellatrix            http://dbpedia.org/resource/Death_Eater   \n",
              "22   Alice Longbottom                                                NaN   \n",
              "23   Frank Longbottom                                                NaN   \n",
              "24            Neville                                                NaN   \n",
              "25               Luna                                                NaN   \n",
              "26        Xenophilius                                                NaN   \n",
              "27              Lupin                                                NaN   \n",
              "28              Draco                                                NaN   \n",
              "29             Lucius            http://dbpedia.org/resource/Death_Eater   \n",
              "30           Narcissa                                                NaN   \n",
              "31             Olympe                                                NaN   \n",
              "32         McGonagall                                                NaN   \n",
              "33              Moody                                                NaN   \n",
              "34           Wormtail            http://dbpedia.org/resource/Death_Eater   \n",
              "35              Harry                                                NaN   \n",
              "36       James Potter                                                NaN   \n",
              "37        Lily Potter                                                NaN   \n",
              "38  Quirinus Quirrell                                                NaN   \n",
              "39        Mary Riddle                                                NaN   \n",
              "40          Voldemort                                                NaN   \n",
              "41       Rita Skeeter                                                NaN   \n",
              "42              Snape                                                NaN   \n",
              "43         Nymphadora                                                NaN   \n",
              "44           Umbridge                                                NaN   \n",
              "45             Arthur                                                NaN   \n",
              "46               Bill                                                NaN   \n",
              "47            Charlie                                                NaN   \n",
              "48               Fred                                                NaN   \n",
              "49             George                                                NaN   \n",
              "50              Ginny                                                NaN   \n",
              "51              Molly                                                NaN   \n",
              "52              Percy                                                NaN   \n",
              "53                Ron                                                NaN   \n",
              "54              Dobby   http://dbpedia.org/resource/Magical_creatures...   \n",
              "55             Fluffy   http://dbpedia.org/resource/Magical_creatures...   \n",
              "56             Hedwig   http://dbpedia.org/resource/Magical_creatures...   \n",
              "57             Myrtle                                                NaN   \n",
              "58             Aragog   http://dbpedia.org/resource/Magical_creatures...   \n",
              "59              Grawp   http://dbpedia.org/resource/Magical_creatures...   \n",
              "\n",
              "                                                 film  \n",
              "0   http://dbpedia.org/resource/Order_of_the_Phoen...  \n",
              "1   http://dbpedia.org/resource/Order_of_the_Phoen...  \n",
              "2   http://dbpedia.org/resource/Order_of_the_Phoen...  \n",
              "3   http://dbpedia.org/resource/Order_of_the_Phoen...  \n",
              "4   http://dbpedia.org/resource/Order_of_the_Phoen...  \n",
              "5   http://dbpedia.org/resource/Order_of_the_Phoen...  \n",
              "6   http://dbpedia.org/resource/Order_of_the_Phoen...  \n",
              "7   http://dbpedia.org/resource/Order_of_the_Phoen...  \n",
              "8   http://dbpedia.org/resource/Order_of_the_Phoen...  \n",
              "9   http://dbpedia.org/resource/Order_of_the_Phoen...  \n",
              "10  http://dbpedia.org/resource/Order_of_the_Phoen...  \n",
              "11  http://dbpedia.org/resource/Order_of_the_Phoen...  \n",
              "12  http://dbpedia.org/resource/Order_of_the_Phoen...  \n",
              "13  http://dbpedia.org/resource/Order_of_the_Phoen...  \n",
              "14  http://dbpedia.org/resource/Order_of_the_Phoen...  \n",
              "15  http://dbpedia.org/resource/Order_of_the_Phoen...  \n",
              "16  http://dbpedia.org/resource/Order_of_the_Phoen...  \n",
              "17  http://dbpedia.org/resource/Order_of_the_Phoen...  \n",
              "18  http://dbpedia.org/resource/Order_of_the_Phoen...  \n",
              "19  http://dbpedia.org/resource/Order_of_the_Phoen...  \n",
              "20  http://dbpedia.org/resource/Order_of_the_Phoen...  \n",
              "21  http://dbpedia.org/resource/Order_of_the_Phoen...  \n",
              "22  http://dbpedia.org/resource/Order_of_the_Phoen...  \n",
              "23  http://dbpedia.org/resource/Order_of_the_Phoen...  \n",
              "24  http://dbpedia.org/resource/Order_of_the_Phoen...  \n",
              "25  http://dbpedia.org/resource/Order_of_the_Phoen...  \n",
              "26  http://dbpedia.org/resource/Order_of_the_Phoen...  \n",
              "27  http://dbpedia.org/resource/Order_of_the_Phoen...  \n",
              "28  http://dbpedia.org/resource/Order_of_the_Phoen...  \n",
              "29  http://dbpedia.org/resource/Order_of_the_Phoen...  \n",
              "30  http://dbpedia.org/resource/Order_of_the_Phoen...  \n",
              "31  http://dbpedia.org/resource/Order_of_the_Phoen...  \n",
              "32  http://dbpedia.org/resource/Order_of_the_Phoen...  \n",
              "33  http://dbpedia.org/resource/Order_of_the_Phoen...  \n",
              "34  http://dbpedia.org/resource/Order_of_the_Phoen...  \n",
              "35  http://dbpedia.org/resource/Order_of_the_Phoen...  \n",
              "36  http://dbpedia.org/resource/Order_of_the_Phoen...  \n",
              "37  http://dbpedia.org/resource/Order_of_the_Phoen...  \n",
              "38  http://dbpedia.org/resource/Order_of_the_Phoen...  \n",
              "39  http://dbpedia.org/resource/Order_of_the_Phoen...  \n",
              "40  http://dbpedia.org/resource/Order_of_the_Phoen...  \n",
              "41  http://dbpedia.org/resource/Order_of_the_Phoen...  \n",
              "42  http://dbpedia.org/resource/Order_of_the_Phoen...  \n",
              "43  http://dbpedia.org/resource/Order_of_the_Phoen...  \n",
              "44  http://dbpedia.org/resource/Order_of_the_Phoen...  \n",
              "45  http://dbpedia.org/resource/Order_of_the_Phoen...  \n",
              "46  http://dbpedia.org/resource/Order_of_the_Phoen...  \n",
              "47  http://dbpedia.org/resource/Order_of_the_Phoen...  \n",
              "48  http://dbpedia.org/resource/Order_of_the_Phoen...  \n",
              "49  http://dbpedia.org/resource/Order_of_the_Phoen...  \n",
              "50  http://dbpedia.org/resource/Order_of_the_Phoen...  \n",
              "51  http://dbpedia.org/resource/Order_of_the_Phoen...  \n",
              "52  http://dbpedia.org/resource/Order_of_the_Phoen...  \n",
              "53  http://dbpedia.org/resource/Order_of_the_Phoen...  \n",
              "54  http://dbpedia.org/resource/Order_of_the_Phoen...  \n",
              "55  http://dbpedia.org/resource/Order_of_the_Phoen...  \n",
              "56  http://dbpedia.org/resource/Order_of_the_Phoen...  \n",
              "57  http://dbpedia.org/resource/Order_of_the_Phoen...  \n",
              "58  http://dbpedia.org/resource/Order_of_the_Phoen...  \n",
              "59  http://dbpedia.org/resource/Order_of_the_Phoen...  "
            ],
            "text/html": [
              "\n",
              "  <div id=\"df-45752a31-dd60-4d98-a3c6-e423ec45f5b2\">\n",
              "    <div class=\"colab-df-container\">\n",
              "      <div>\n",
              "<style scoped>\n",
              "    .dataframe tbody tr th:only-of-type {\n",
              "        vertical-align: middle;\n",
              "    }\n",
              "\n",
              "    .dataframe tbody tr th {\n",
              "        vertical-align: top;\n",
              "    }\n",
              "\n",
              "    .dataframe thead th {\n",
              "        text-align: right;\n",
              "    }\n",
              "</style>\n",
              "<table border=\"1\" class=\"dataframe\">\n",
              "  <thead>\n",
              "    <tr style=\"text-align: right;\">\n",
              "      <th></th>\n",
              "      <th>name</th>\n",
              "      <th>link_dbpedia</th>\n",
              "      <th>entity</th>\n",
              "      <th>second_link</th>\n",
              "      <th>film</th>\n",
              "    </tr>\n",
              "  </thead>\n",
              "  <tbody>\n",
              "    <tr>\n",
              "      <th>0</th>\n",
              "      <td>Regulus Arcturus Black</td>\n",
              "      <td>http://dbpedia.org/resource/Regulus_Arcturus_B...</td>\n",
              "      <td>Regulus</td>\n",
              "      <td>http://dbpedia.org/resource/Death_Eater</td>\n",
              "      <td>http://dbpedia.org/resource/Order_of_the_Phoen...</td>\n",
              "    </tr>\n",
              "    <tr>\n",
              "      <th>1</th>\n",
              "      <td>Sirius Black</td>\n",
              "      <td>http://dbpedia.org/resource/Sirius_Black</td>\n",
              "      <td>Sirius</td>\n",
              "      <td>NaN</td>\n",
              "      <td>http://dbpedia.org/resource/Order_of_the_Phoen...</td>\n",
              "    </tr>\n",
              "    <tr>\n",
              "      <th>2</th>\n",
              "      <td>Lavender Brown</td>\n",
              "      <td>http://dbpedia.org/resource/Lavender_Brown</td>\n",
              "      <td>Lavander</td>\n",
              "      <td>NaN</td>\n",
              "      <td>http://dbpedia.org/resource/Order_of_the_Phoen...</td>\n",
              "    </tr>\n",
              "    <tr>\n",
              "      <th>3</th>\n",
              "      <td>Cho Chang</td>\n",
              "      <td>http://dbpedia.org/resource/Cho_Chang</td>\n",
              "      <td>Cho</td>\n",
              "      <td>NaN</td>\n",
              "      <td>http://dbpedia.org/resource/Order_of_the_Phoen...</td>\n",
              "    </tr>\n",
              "    <tr>\n",
              "      <th>4</th>\n",
              "      <td>Vincent Crabbe</td>\n",
              "      <td>http://dbpedia.org/resource/Vincent_Crabbe</td>\n",
              "      <td>Crabbe</td>\n",
              "      <td>NaN</td>\n",
              "      <td>http://dbpedia.org/resource/Order_of_the_Phoen...</td>\n",
              "    </tr>\n",
              "    <tr>\n",
              "      <th>5</th>\n",
              "      <td>Fleur Delacour</td>\n",
              "      <td>http://dbpedia.org/resource/Fleur_Delacour</td>\n",
              "      <td>Fleur</td>\n",
              "      <td>NaN</td>\n",
              "      <td>http://dbpedia.org/resource/Order_of_the_Phoen...</td>\n",
              "    </tr>\n",
              "    <tr>\n",
              "      <th>6</th>\n",
              "      <td>Cedric Diggory</td>\n",
              "      <td>http://dbpedia.org/resource/Cedric_Diggory</td>\n",
              "      <td>Cedric</td>\n",
              "      <td>NaN</td>\n",
              "      <td>http://dbpedia.org/resource/Order_of_the_Phoen...</td>\n",
              "    </tr>\n",
              "    <tr>\n",
              "      <th>7</th>\n",
              "      <td>Aberforth Dumbledore</td>\n",
              "      <td>http://dbpedia.org/resource/Aberforth_Dumbledore</td>\n",
              "      <td>Aberforth</td>\n",
              "      <td>NaN</td>\n",
              "      <td>http://dbpedia.org/resource/Order_of_the_Phoen...</td>\n",
              "    </tr>\n",
              "    <tr>\n",
              "      <th>8</th>\n",
              "      <td>Albus Dumbledore</td>\n",
              "      <td>http://dbpedia.org/resource/Albus_Dumbledore</td>\n",
              "      <td>Dumbledore</td>\n",
              "      <td>NaN</td>\n",
              "      <td>http://dbpedia.org/resource/Order_of_the_Phoen...</td>\n",
              "    </tr>\n",
              "    <tr>\n",
              "      <th>9</th>\n",
              "      <td>Dudley Dursley</td>\n",
              "      <td>http://dbpedia.org/resource/Dudley_Dursley</td>\n",
              "      <td>Dubley</td>\n",
              "      <td>NaN</td>\n",
              "      <td>http://dbpedia.org/resource/Order_of_the_Phoen...</td>\n",
              "    </tr>\n",
              "    <tr>\n",
              "      <th>10</th>\n",
              "      <td>Petunia Dursley</td>\n",
              "      <td>http://dbpedia.org/resource/Petunia_Dursley</td>\n",
              "      <td>Petunia</td>\n",
              "      <td>NaN</td>\n",
              "      <td>http://dbpedia.org/resource/Order_of_the_Phoen...</td>\n",
              "    </tr>\n",
              "    <tr>\n",
              "      <th>11</th>\n",
              "      <td>Vernon Dursley</td>\n",
              "      <td>http://dbpedia.org/resource/Vernon_Dursley</td>\n",
              "      <td>Vernon</td>\n",
              "      <td>NaN</td>\n",
              "      <td>http://dbpedia.org/resource/Order_of_the_Phoen...</td>\n",
              "    </tr>\n",
              "    <tr>\n",
              "      <th>12</th>\n",
              "      <td>Argus Filch</td>\n",
              "      <td>http://dbpedia.org/resource/Argus_Filch</td>\n",
              "      <td>Filch</td>\n",
              "      <td>NaN</td>\n",
              "      <td>http://dbpedia.org/resource/Order_of_the_Phoen...</td>\n",
              "    </tr>\n",
              "    <tr>\n",
              "      <th>13</th>\n",
              "      <td>Seamus Finnigan</td>\n",
              "      <td>http://dbpedia.org/resource/Seamus_Finnigan</td>\n",
              "      <td>Seamus</td>\n",
              "      <td>NaN</td>\n",
              "      <td>http://dbpedia.org/resource/Order_of_the_Phoen...</td>\n",
              "    </tr>\n",
              "    <tr>\n",
              "      <th>14</th>\n",
              "      <td>Nicolas Flamel</td>\n",
              "      <td>http://dbpedia.org/resource/Nicolas_Flamel</td>\n",
              "      <td>Nicolas Flamel</td>\n",
              "      <td>NaN</td>\n",
              "      <td>http://dbpedia.org/resource/Order_of_the_Phoen...</td>\n",
              "    </tr>\n",
              "    <tr>\n",
              "      <th>15</th>\n",
              "      <td>Cornelius Fudge</td>\n",
              "      <td>http://dbpedia.org/resource/Cornelius_Fudge</td>\n",
              "      <td>Cornelius</td>\n",
              "      <td>NaN</td>\n",
              "      <td>http://dbpedia.org/resource/Order_of_the_Phoen...</td>\n",
              "    </tr>\n",
              "    <tr>\n",
              "      <th>16</th>\n",
              "      <td>Gregory Goyle</td>\n",
              "      <td>http://dbpedia.org/resource/Gregory_Goyle</td>\n",
              "      <td>Goyle</td>\n",
              "      <td>http://dbpedia.org/resource/Death_Eater</td>\n",
              "      <td>http://dbpedia.org/resource/Order_of_the_Phoen...</td>\n",
              "    </tr>\n",
              "    <tr>\n",
              "      <th>17</th>\n",
              "      <td>Hermione Granger</td>\n",
              "      <td>http://dbpedia.org/resource/Hermione_Granger</td>\n",
              "      <td>Hermione</td>\n",
              "      <td>NaN</td>\n",
              "      <td>http://dbpedia.org/resource/Order_of_the_Phoen...</td>\n",
              "    </tr>\n",
              "    <tr>\n",
              "      <th>18</th>\n",
              "      <td>Rubeus Hagrid</td>\n",
              "      <td>http://dbpedia.org/resource/Rubeus_Hagrid</td>\n",
              "      <td>Hagrid</td>\n",
              "      <td>NaN</td>\n",
              "      <td>http://dbpedia.org/resource/Order_of_the_Phoen...</td>\n",
              "    </tr>\n",
              "    <tr>\n",
              "      <th>19</th>\n",
              "      <td>Igor Karkaroff</td>\n",
              "      <td>http://dbpedia.org/resource/Igor_Karkaroff</td>\n",
              "      <td>Karkaroff</td>\n",
              "      <td>NaN</td>\n",
              "      <td>http://dbpedia.org/resource/Order_of_the_Phoen...</td>\n",
              "    </tr>\n",
              "    <tr>\n",
              "      <th>20</th>\n",
              "      <td>Viktor Krum</td>\n",
              "      <td>http://dbpedia.org/resource/Viktor_Krum</td>\n",
              "      <td>Krum</td>\n",
              "      <td>NaN</td>\n",
              "      <td>http://dbpedia.org/resource/Order_of_the_Phoen...</td>\n",
              "    </tr>\n",
              "    <tr>\n",
              "      <th>21</th>\n",
              "      <td>Bellatrix Lestrange</td>\n",
              "      <td>http://dbpedia.org/resource/Bellatrix_Lestrange</td>\n",
              "      <td>Bellatrix</td>\n",
              "      <td>http://dbpedia.org/resource/Death_Eater</td>\n",
              "      <td>http://dbpedia.org/resource/Order_of_the_Phoen...</td>\n",
              "    </tr>\n",
              "    <tr>\n",
              "      <th>22</th>\n",
              "      <td>Alice Longbottom</td>\n",
              "      <td>http://dbpedia.org/resource/Alice_Longbottom</td>\n",
              "      <td>Alice Longbottom</td>\n",
              "      <td>NaN</td>\n",
              "      <td>http://dbpedia.org/resource/Order_of_the_Phoen...</td>\n",
              "    </tr>\n",
              "    <tr>\n",
              "      <th>23</th>\n",
              "      <td>Frank Longbottom</td>\n",
              "      <td>http://dbpedia.org/resource/Frank_Longbottom</td>\n",
              "      <td>Frank Longbottom</td>\n",
              "      <td>NaN</td>\n",
              "      <td>http://dbpedia.org/resource/Order_of_the_Phoen...</td>\n",
              "    </tr>\n",
              "    <tr>\n",
              "      <th>24</th>\n",
              "      <td>Neville Longbottom</td>\n",
              "      <td>http://dbpedia.org/resource/Neville_Longbottom</td>\n",
              "      <td>Neville</td>\n",
              "      <td>NaN</td>\n",
              "      <td>http://dbpedia.org/resource/Order_of_the_Phoen...</td>\n",
              "    </tr>\n",
              "    <tr>\n",
              "      <th>25</th>\n",
              "      <td>Luna Lovegood</td>\n",
              "      <td>http://dbpedia.org/resource/Luna_Lovegood</td>\n",
              "      <td>Luna</td>\n",
              "      <td>NaN</td>\n",
              "      <td>http://dbpedia.org/resource/Order_of_the_Phoen...</td>\n",
              "    </tr>\n",
              "    <tr>\n",
              "      <th>26</th>\n",
              "      <td>Xenophilius Lovegood</td>\n",
              "      <td>http://dbpedia.org/resource/Xenophilius_Lovegood</td>\n",
              "      <td>Xenophilius</td>\n",
              "      <td>NaN</td>\n",
              "      <td>http://dbpedia.org/resource/Order_of_the_Phoen...</td>\n",
              "    </tr>\n",
              "    <tr>\n",
              "      <th>27</th>\n",
              "      <td>Remus Lupin</td>\n",
              "      <td>http://dbpedia.org/resource/Remus_Lupin</td>\n",
              "      <td>Lupin</td>\n",
              "      <td>NaN</td>\n",
              "      <td>http://dbpedia.org/resource/Order_of_the_Phoen...</td>\n",
              "    </tr>\n",
              "    <tr>\n",
              "      <th>28</th>\n",
              "      <td>Draco Malfoy</td>\n",
              "      <td>http://dbpedia.org/resource/Draco_Malfoy</td>\n",
              "      <td>Draco</td>\n",
              "      <td>NaN</td>\n",
              "      <td>http://dbpedia.org/resource/Order_of_the_Phoen...</td>\n",
              "    </tr>\n",
              "    <tr>\n",
              "      <th>29</th>\n",
              "      <td>Lucius Malfoy</td>\n",
              "      <td>http://dbpedia.org/resource/Lucius_Malfoy</td>\n",
              "      <td>Lucius</td>\n",
              "      <td>http://dbpedia.org/resource/Death_Eater</td>\n",
              "      <td>http://dbpedia.org/resource/Order_of_the_Phoen...</td>\n",
              "    </tr>\n",
              "    <tr>\n",
              "      <th>30</th>\n",
              "      <td>Narcissa Malfoy</td>\n",
              "      <td>http://dbpedia.org/resource/Narcissa_Malfoy</td>\n",
              "      <td>Narcissa</td>\n",
              "      <td>NaN</td>\n",
              "      <td>http://dbpedia.org/resource/Order_of_the_Phoen...</td>\n",
              "    </tr>\n",
              "    <tr>\n",
              "      <th>31</th>\n",
              "      <td>Olympe Maxime</td>\n",
              "      <td>http://dbpedia.org/resource/Olympe_Maxime</td>\n",
              "      <td>Olympe</td>\n",
              "      <td>NaN</td>\n",
              "      <td>http://dbpedia.org/resource/Order_of_the_Phoen...</td>\n",
              "    </tr>\n",
              "    <tr>\n",
              "      <th>32</th>\n",
              "      <td>Minerva McGonagall</td>\n",
              "      <td>http://dbpedia.org/resource/Minerva_McGonagall</td>\n",
              "      <td>McGonagall</td>\n",
              "      <td>NaN</td>\n",
              "      <td>http://dbpedia.org/resource/Order_of_the_Phoen...</td>\n",
              "    </tr>\n",
              "    <tr>\n",
              "      <th>33</th>\n",
              "      <td>Alastor Mad-Eye Moody</td>\n",
              "      <td>http://dbpedia.org/resource/Alastor_%22Mad-Eye...</td>\n",
              "      <td>Moody</td>\n",
              "      <td>NaN</td>\n",
              "      <td>http://dbpedia.org/resource/Order_of_the_Phoen...</td>\n",
              "    </tr>\n",
              "    <tr>\n",
              "      <th>34</th>\n",
              "      <td>Peter Pettigrew</td>\n",
              "      <td>http://dbpedia.org/resource/Peter_Pettigrew</td>\n",
              "      <td>Wormtail</td>\n",
              "      <td>http://dbpedia.org/resource/Death_Eater</td>\n",
              "      <td>http://dbpedia.org/resource/Order_of_the_Phoen...</td>\n",
              "    </tr>\n",
              "    <tr>\n",
              "      <th>35</th>\n",
              "      <td>Harry Potter</td>\n",
              "      <td>http://dbpedia.org/resource/Harry_Potter</td>\n",
              "      <td>Harry</td>\n",
              "      <td>NaN</td>\n",
              "      <td>http://dbpedia.org/resource/Order_of_the_Phoen...</td>\n",
              "    </tr>\n",
              "    <tr>\n",
              "      <th>36</th>\n",
              "      <td>James Potter</td>\n",
              "      <td>http://dbpedia.org/resource/James_Potter</td>\n",
              "      <td>James Potter</td>\n",
              "      <td>NaN</td>\n",
              "      <td>http://dbpedia.org/resource/Order_of_the_Phoen...</td>\n",
              "    </tr>\n",
              "    <tr>\n",
              "      <th>37</th>\n",
              "      <td>Lily Potter</td>\n",
              "      <td>http://dbpedia.org/resource/Lily_Potter</td>\n",
              "      <td>Lily Potter</td>\n",
              "      <td>NaN</td>\n",
              "      <td>http://dbpedia.org/resource/Order_of_the_Phoen...</td>\n",
              "    </tr>\n",
              "    <tr>\n",
              "      <th>38</th>\n",
              "      <td>Quirinus Quirrell</td>\n",
              "      <td>http://dbpedia.org/resource/Quirinus_Quirrell</td>\n",
              "      <td>Quirinus Quirrell</td>\n",
              "      <td>NaN</td>\n",
              "      <td>http://dbpedia.org/resource/Order_of_the_Phoen...</td>\n",
              "    </tr>\n",
              "    <tr>\n",
              "      <th>39</th>\n",
              "      <td>Mary Riddle</td>\n",
              "      <td>http://dbpedia.org/resource/Mary_Riddle</td>\n",
              "      <td>Mary Riddle</td>\n",
              "      <td>NaN</td>\n",
              "      <td>http://dbpedia.org/resource/Order_of_the_Phoen...</td>\n",
              "    </tr>\n",
              "    <tr>\n",
              "      <th>40</th>\n",
              "      <td>Lord Voldemort</td>\n",
              "      <td>http://dbpedia.org/resource/Lord_Voldemort</td>\n",
              "      <td>Voldemort</td>\n",
              "      <td>NaN</td>\n",
              "      <td>http://dbpedia.org/resource/Order_of_the_Phoen...</td>\n",
              "    </tr>\n",
              "    <tr>\n",
              "      <th>41</th>\n",
              "      <td>Rita Skeeter</td>\n",
              "      <td>http://dbpedia.org/resource/Rita_Skeeter</td>\n",
              "      <td>Rita Skeeter</td>\n",
              "      <td>NaN</td>\n",
              "      <td>http://dbpedia.org/resource/Order_of_the_Phoen...</td>\n",
              "    </tr>\n",
              "    <tr>\n",
              "      <th>42</th>\n",
              "      <td>Severus Snape</td>\n",
              "      <td>http://dbpedia.org/resource/Severus_Snape</td>\n",
              "      <td>Snape</td>\n",
              "      <td>NaN</td>\n",
              "      <td>http://dbpedia.org/resource/Order_of_the_Phoen...</td>\n",
              "    </tr>\n",
              "    <tr>\n",
              "      <th>43</th>\n",
              "      <td>Nymphadora Tonks</td>\n",
              "      <td>http://dbpedia.org/resource/Nymphadora_Tonks</td>\n",
              "      <td>Nymphadora</td>\n",
              "      <td>NaN</td>\n",
              "      <td>http://dbpedia.org/resource/Order_of_the_Phoen...</td>\n",
              "    </tr>\n",
              "    <tr>\n",
              "      <th>44</th>\n",
              "      <td>Dolores Umbridge</td>\n",
              "      <td>http://dbpedia.org/resource/Dolores_Umbridge</td>\n",
              "      <td>Umbridge</td>\n",
              "      <td>NaN</td>\n",
              "      <td>http://dbpedia.org/resource/Order_of_the_Phoen...</td>\n",
              "    </tr>\n",
              "    <tr>\n",
              "      <th>45</th>\n",
              "      <td>Arthur Weasley</td>\n",
              "      <td>http://dbpedia.org/resource/Arthur_Weasley</td>\n",
              "      <td>Arthur</td>\n",
              "      <td>NaN</td>\n",
              "      <td>http://dbpedia.org/resource/Order_of_the_Phoen...</td>\n",
              "    </tr>\n",
              "    <tr>\n",
              "      <th>46</th>\n",
              "      <td>Bill Weasley</td>\n",
              "      <td>http://dbpedia.org/resource/Bill_Weasley</td>\n",
              "      <td>Bill</td>\n",
              "      <td>NaN</td>\n",
              "      <td>http://dbpedia.org/resource/Order_of_the_Phoen...</td>\n",
              "    </tr>\n",
              "    <tr>\n",
              "      <th>47</th>\n",
              "      <td>Charlie Weasley</td>\n",
              "      <td>http://dbpedia.org/resource/Charlie_Weasley</td>\n",
              "      <td>Charlie</td>\n",
              "      <td>NaN</td>\n",
              "      <td>http://dbpedia.org/resource/Order_of_the_Phoen...</td>\n",
              "    </tr>\n",
              "    <tr>\n",
              "      <th>48</th>\n",
              "      <td>Fred Weasley</td>\n",
              "      <td>http://dbpedia.org/resource/Fred_Weasley</td>\n",
              "      <td>Fred</td>\n",
              "      <td>NaN</td>\n",
              "      <td>http://dbpedia.org/resource/Order_of_the_Phoen...</td>\n",
              "    </tr>\n",
              "    <tr>\n",
              "      <th>49</th>\n",
              "      <td>George Weasley</td>\n",
              "      <td>http://dbpedia.org/resource/George_Weasley</td>\n",
              "      <td>George</td>\n",
              "      <td>NaN</td>\n",
              "      <td>http://dbpedia.org/resource/Order_of_the_Phoen...</td>\n",
              "    </tr>\n",
              "    <tr>\n",
              "      <th>50</th>\n",
              "      <td>Ginny Weasley</td>\n",
              "      <td>http://dbpedia.org/resource/Ginny_Weasley</td>\n",
              "      <td>Ginny</td>\n",
              "      <td>NaN</td>\n",
              "      <td>http://dbpedia.org/resource/Order_of_the_Phoen...</td>\n",
              "    </tr>\n",
              "    <tr>\n",
              "      <th>51</th>\n",
              "      <td>Molly Weasley</td>\n",
              "      <td>http://dbpedia.org/resource/Molly_Weasley</td>\n",
              "      <td>Molly</td>\n",
              "      <td>NaN</td>\n",
              "      <td>http://dbpedia.org/resource/Order_of_the_Phoen...</td>\n",
              "    </tr>\n",
              "    <tr>\n",
              "      <th>52</th>\n",
              "      <td>Percy Weasley</td>\n",
              "      <td>http://dbpedia.org/resource/Percy_Weasley</td>\n",
              "      <td>Percy</td>\n",
              "      <td>NaN</td>\n",
              "      <td>http://dbpedia.org/resource/Order_of_the_Phoen...</td>\n",
              "    </tr>\n",
              "    <tr>\n",
              "      <th>53</th>\n",
              "      <td>Ron Weasley</td>\n",
              "      <td>http://dbpedia.org/resource/Ron_Weasley</td>\n",
              "      <td>Ron</td>\n",
              "      <td>NaN</td>\n",
              "      <td>http://dbpedia.org/resource/Order_of_the_Phoen...</td>\n",
              "    </tr>\n",
              "    <tr>\n",
              "      <th>54</th>\n",
              "      <td>Dobby</td>\n",
              "      <td>http://dbpedia.org/resource/Dobby</td>\n",
              "      <td>Dobby</td>\n",
              "      <td>http://dbpedia.org/resource/Magical_creatures...</td>\n",
              "      <td>http://dbpedia.org/resource/Order_of_the_Phoen...</td>\n",
              "    </tr>\n",
              "    <tr>\n",
              "      <th>55</th>\n",
              "      <td>Fluffy</td>\n",
              "      <td>http://dbpedia.org/resource/Fluffy</td>\n",
              "      <td>Fluffy</td>\n",
              "      <td>http://dbpedia.org/resource/Magical_creatures...</td>\n",
              "      <td>http://dbpedia.org/resource/Order_of_the_Phoen...</td>\n",
              "    </tr>\n",
              "    <tr>\n",
              "      <th>56</th>\n",
              "      <td>Hedwig</td>\n",
              "      <td>http://dbpedia.org/resource/Hedwig</td>\n",
              "      <td>Hedwig</td>\n",
              "      <td>http://dbpedia.org/resource/Magical_creatures...</td>\n",
              "      <td>http://dbpedia.org/resource/Order_of_the_Phoen...</td>\n",
              "    </tr>\n",
              "    <tr>\n",
              "      <th>57</th>\n",
              "      <td>Moaning Myrtle</td>\n",
              "      <td>http://dbpedia.org/resource/Moaning_Myrtle</td>\n",
              "      <td>Myrtle</td>\n",
              "      <td>NaN</td>\n",
              "      <td>http://dbpedia.org/resource/Order_of_the_Phoen...</td>\n",
              "    </tr>\n",
              "    <tr>\n",
              "      <th>58</th>\n",
              "      <td>Aragog</td>\n",
              "      <td>http://dbpedia.org/resource/Aragog</td>\n",
              "      <td>Aragog</td>\n",
              "      <td>http://dbpedia.org/resource/Magical_creatures...</td>\n",
              "      <td>http://dbpedia.org/resource/Order_of_the_Phoen...</td>\n",
              "    </tr>\n",
              "    <tr>\n",
              "      <th>59</th>\n",
              "      <td>Grawp</td>\n",
              "      <td>http://dbpedia.org/resource/Grawp</td>\n",
              "      <td>Grawp</td>\n",
              "      <td>http://dbpedia.org/resource/Magical_creatures...</td>\n",
              "      <td>http://dbpedia.org/resource/Order_of_the_Phoen...</td>\n",
              "    </tr>\n",
              "  </tbody>\n",
              "</table>\n",
              "</div>\n",
              "      <button class=\"colab-df-convert\" onclick=\"convertToInteractive('df-45752a31-dd60-4d98-a3c6-e423ec45f5b2')\"\n",
              "              title=\"Convert this dataframe to an interactive table.\"\n",
              "              style=\"display:none;\">\n",
              "        \n",
              "  <svg xmlns=\"http://www.w3.org/2000/svg\" height=\"24px\"viewBox=\"0 0 24 24\"\n",
              "       width=\"24px\">\n",
              "    <path d=\"M0 0h24v24H0V0z\" fill=\"none\"/>\n",
              "    <path d=\"M18.56 5.44l.94 2.06.94-2.06 2.06-.94-2.06-.94-.94-2.06-.94 2.06-2.06.94zm-11 1L8.5 8.5l.94-2.06 2.06-.94-2.06-.94L8.5 2.5l-.94 2.06-2.06.94zm10 10l.94 2.06.94-2.06 2.06-.94-2.06-.94-.94-2.06-.94 2.06-2.06.94z\"/><path d=\"M17.41 7.96l-1.37-1.37c-.4-.4-.92-.59-1.43-.59-.52 0-1.04.2-1.43.59L10.3 9.45l-7.72 7.72c-.78.78-.78 2.05 0 2.83L4 21.41c.39.39.9.59 1.41.59.51 0 1.02-.2 1.41-.59l7.78-7.78 2.81-2.81c.8-.78.8-2.07 0-2.86zM5.41 20L4 18.59l7.72-7.72 1.47 1.35L5.41 20z\"/>\n",
              "  </svg>\n",
              "      </button>\n",
              "      \n",
              "  <style>\n",
              "    .colab-df-container {\n",
              "      display:flex;\n",
              "      flex-wrap:wrap;\n",
              "      gap: 12px;\n",
              "    }\n",
              "\n",
              "    .colab-df-convert {\n",
              "      background-color: #E8F0FE;\n",
              "      border: none;\n",
              "      border-radius: 50%;\n",
              "      cursor: pointer;\n",
              "      display: none;\n",
              "      fill: #1967D2;\n",
              "      height: 32px;\n",
              "      padding: 0 0 0 0;\n",
              "      width: 32px;\n",
              "    }\n",
              "\n",
              "    .colab-df-convert:hover {\n",
              "      background-color: #E2EBFA;\n",
              "      box-shadow: 0px 1px 2px rgba(60, 64, 67, 0.3), 0px 1px 3px 1px rgba(60, 64, 67, 0.15);\n",
              "      fill: #174EA6;\n",
              "    }\n",
              "\n",
              "    [theme=dark] .colab-df-convert {\n",
              "      background-color: #3B4455;\n",
              "      fill: #D2E3FC;\n",
              "    }\n",
              "\n",
              "    [theme=dark] .colab-df-convert:hover {\n",
              "      background-color: #434B5C;\n",
              "      box-shadow: 0px 1px 3px 1px rgba(0, 0, 0, 0.15);\n",
              "      filter: drop-shadow(0px 1px 2px rgba(0, 0, 0, 0.3));\n",
              "      fill: #FFFFFF;\n",
              "    }\n",
              "  </style>\n",
              "\n",
              "      <script>\n",
              "        const buttonEl =\n",
              "          document.querySelector('#df-45752a31-dd60-4d98-a3c6-e423ec45f5b2 button.colab-df-convert');\n",
              "        buttonEl.style.display =\n",
              "          google.colab.kernel.accessAllowed ? 'block' : 'none';\n",
              "\n",
              "        async function convertToInteractive(key) {\n",
              "          const element = document.querySelector('#df-45752a31-dd60-4d98-a3c6-e423ec45f5b2');\n",
              "          const dataTable =\n",
              "            await google.colab.kernel.invokeFunction('convertToInteractive',\n",
              "                                                     [key], {});\n",
              "          if (!dataTable) return;\n",
              "\n",
              "          const docLinkHtml = 'Like what you see? Visit the ' +\n",
              "            '<a target=\"_blank\" href=https://colab.research.google.com/notebooks/data_table.ipynb>data table notebook</a>'\n",
              "            + ' to learn more about interactive tables.';\n",
              "          element.innerHTML = '';\n",
              "          dataTable['output_type'] = 'display_data';\n",
              "          await google.colab.output.renderOutput(dataTable, element);\n",
              "          const docLink = document.createElement('div');\n",
              "          docLink.innerHTML = docLinkHtml;\n",
              "          element.appendChild(docLink);\n",
              "        }\n",
              "      </script>\n",
              "    </div>\n",
              "  </div>\n",
              "  "
            ]
          },
          "metadata": {},
          "execution_count": 43
        }
      ]
    },
    {
      "cell_type": "code",
      "source": [
        "count_totale = 0\n",
        "count_esatti = 0\n",
        "count_sbagliati = 0\n",
        "count_non_riconosciuti = 0\n",
        "for index,row in df.iterrows():\n",
        "  if((row[\"string_name\"].title() in correct_entity) or(row[\"string_name\"].title() in correct_name)):\n",
        "    count_totale = count_totale+1\n",
        "    for index2,row2 in risultati_nel_corretti_2.iterrows():\n",
        "      if((row[\"string_name\"].title() == row2[\"entity\"]) or (row[\"string_name\"].title() == row2[\"name\"])):\n",
        "        print(row[\"string_name\"], row[\"link\"],\"-\", row2[\"link_dbpedia\"],row2[\"second_link\"] )\n",
        "        if((len(row[\"link\"]) > 0) and (row[\"link\"] == row2[\"link_dbpedia\"] or row[\"link\"] == row2[\"second_link\"] or row[\"link\"] == row2[\"film\"] )):\n",
        "          count_esatti = count_esatti +1\n",
        "        else:\n",
        "          if(len(row[\"link\"]) > 0):\n",
        "            count_sbagliati = count_sbagliati + 1\n",
        "          else: count_non_riconosciuti= count_non_riconosciuti +1\n",
        "\n",
        "print(\"Totale personaggi trovati da NEL: \", count_totale)\n",
        "print(\"Totale personaggi riconosciuti correttamente: \", count_esatti)\n",
        "print(\"Totale personaggi riconosciuti con un diverso link: \", count_sbagliati)\n",
        "print(\"Totale personaggi non riconosciuti da NEL : \", count_non_riconosciuti)"
      ],
      "metadata": {
        "colab": {
          "base_uri": "https://localhost:8080/"
        },
        "id": "qH7GBmmgmc4o",
        "outputId": "206b4bbe-a6a3-4382-c6df-ab7a6c367c92"
      },
      "execution_count": 44,
      "outputs": [
        {
          "output_type": "stream",
          "name": "stdout",
          "text": [
            "ALBUS DUMBLEDORE http://dbpedia.org/resource/Albus_Dumbledore - http://dbpedia.org/resource/Albus_Dumbledore nan\n",
            "Aberforth http://dbpedia.org/resource/Order_of_the_Phoenix_(fictional_organisation) - http://dbpedia.org/resource/Aberforth_Dumbledore nan\n",
            "Alice Longbottom http://dbpedia.org/resource/Order_of_the_Phoenix_(fictional_organisation) - http://dbpedia.org/resource/Alice_Longbottom nan\n",
            "Aragog http://dbpedia.org/resource/Magical_creatures_in_Harry_Potter - http://dbpedia.org/resource/Aragog  http://dbpedia.org/resource/Magical_creatures_in_Harry_Potter\n",
            "Aragog http://dbpedia.org/resource/Rubeus_Hagrid - http://dbpedia.org/resource/Aragog  http://dbpedia.org/resource/Magical_creatures_in_Harry_Potter\n",
            "Argus Filch http://dbpedia.org/resource/Hogwarts_staff - http://dbpedia.org/resource/Argus_Filch nan\n",
            "Arthur http://dbpedia.org/resource/King_Arthur - http://dbpedia.org/resource/Arthur_Weasley nan\n",
            "Bellatrix http://dbpedia.org/resource/Death_Eater - http://dbpedia.org/resource/Bellatrix_Lestrange http://dbpedia.org/resource/Death_Eater\n",
            "Bill  - http://dbpedia.org/resource/Bill_Weasley nan\n",
            "Cedric Diggory  - http://dbpedia.org/resource/Cedric_Diggory nan\n",
            "Charlie  - http://dbpedia.org/resource/Charlie_Weasley nan\n",
            "Cornelius Fudge http://dbpedia.org/resource/Ministry_of_Magic - http://dbpedia.org/resource/Cornelius_Fudge nan\n",
            "Dobby http://dbpedia.org/resource/Magical_creatures_in_Harry_Potter - http://dbpedia.org/resource/Dobby  http://dbpedia.org/resource/Magical_creatures_in_Harry_Potter\n",
            "Draco Malfoy http://dbpedia.org/resource/Draco_Malfoy - http://dbpedia.org/resource/Draco_Malfoy nan\n",
            "Dumbledore http://dbpedia.org/resource/Albus_Dumbledore - http://dbpedia.org/resource/Albus_Dumbledore nan\n",
            "Fleur Delacour http://dbpedia.org/resource/Order_of_the_Phoenix_(fictional_organisation) - http://dbpedia.org/resource/Fleur_Delacour nan\n",
            "Frank Longbottom  - http://dbpedia.org/resource/Frank_Longbottom nan\n",
            "Fred http://dbpedia.org/resource/Fred_Flintstone - http://dbpedia.org/resource/Fred_Weasley nan\n",
            "Fred http://dbpedia.org/resource/Winifred_Burkle - http://dbpedia.org/resource/Fred_Weasley nan\n",
            "George  - http://dbpedia.org/resource/George_Weasley nan\n",
            "Ginny  - http://dbpedia.org/resource/Ginny_Weasley nan\n",
            "Goyle http://dbpedia.org/resource/Death_Eater - http://dbpedia.org/resource/Gregory_Goyle http://dbpedia.org/resource/Death_Eater\n",
            "Grawp  - http://dbpedia.org/resource/Grawp  http://dbpedia.org/resource/Magical_creatures_in_Harry_Potter\n",
            "Hagrid http://dbpedia.org/resource/Rubeus_Hagrid - http://dbpedia.org/resource/Rubeus_Hagrid nan\n",
            "Harry  - http://dbpedia.org/resource/Harry_Potter nan\n",
            "Harry Potter http://dbpedia.org/resource/Harry_Potter - http://dbpedia.org/resource/Harry_Potter nan\n",
            "Hedwig http://dbpedia.org/resource/Magical_creatures_in_Harry_Potter - http://dbpedia.org/resource/Hedwig  http://dbpedia.org/resource/Magical_creatures_in_Harry_Potter\n",
            "Hermione http://dbpedia.org/resource/Hermione_Granger - http://dbpedia.org/resource/Hermione_Granger nan\n",
            "Hermione Granger http://dbpedia.org/resource/Hermione_Granger - http://dbpedia.org/resource/Hermione_Granger nan\n",
            "James Potter http://dbpedia.org/resource/Order_of_the_Phoenix_(fictional_organisation) - http://dbpedia.org/resource/James_Potter nan\n",
            "Karkaroff  - http://dbpedia.org/resource/Igor_Karkaroff nan\n",
            "Krum http://dbpedia.org/resource/Krum - http://dbpedia.org/resource/Viktor_Krum nan\n",
            "Lord Voldemort http://dbpedia.org/resource/Lord_Voldemort - http://dbpedia.org/resource/Lord_Voldemort nan\n",
            "Lucius http://dbpedia.org/resource/Death_Eater - http://dbpedia.org/resource/Lucius_Malfoy  http://dbpedia.org/resource/Death_Eater\n",
            "Luna http://dbpedia.org/resource/Moon - http://dbpedia.org/resource/Luna_Lovegood nan\n",
            "Lupin http://dbpedia.org/resource/Lupinus - http://dbpedia.org/resource/Remus_Lupin nan\n",
            "Molly http://dbpedia.org/resource/Molly_Hayes - http://dbpedia.org/resource/Molly_Weasley nan\n",
            "Moody http://dbpedia.org/resource/Richard_Clement_Moody - http://dbpedia.org/resource/Alastor_%22Mad-Eye%22_Moody nan\n",
            "Myrtle  - http://dbpedia.org/resource/Moaning_Myrtle nan\n",
            "Narcissa http://dbpedia.org/resource/Narcissa_Whitman - http://dbpedia.org/resource/Narcissa_Malfoy nan\n",
            "Neville http://dbpedia.org/resource/House_of_Neville - http://dbpedia.org/resource/Neville_Longbottom nan\n",
            "Neville http://dbpedia.org/resource/Neville_Ashworth - http://dbpedia.org/resource/Neville_Longbottom nan\n",
            "Neville http://dbpedia.org/resource/Neville_Chamberlain - http://dbpedia.org/resource/Neville_Longbottom nan\n",
            "Neville Longbottom  - http://dbpedia.org/resource/Neville_Longbottom nan\n",
            "Nicolas Flamel http://dbpedia.org/resource/Nicolas_Flamel - http://dbpedia.org/resource/Nicolas_Flamel nan\n",
            "Percy http://dbpedia.org/resource/Percy_Jackson - http://dbpedia.org/resource/Percy_Weasley nan\n",
            "Percy http://dbpedia.org/resource/Percy_the_Small_Engine - http://dbpedia.org/resource/Percy_Weasley nan\n",
            "Percy Weasley http://dbpedia.org/resource/Ministry_of_Magic - http://dbpedia.org/resource/Percy_Weasley nan\n",
            "Petunia http://dbpedia.org/resource/Petunia - http://dbpedia.org/resource/Petunia_Dursley nan\n",
            "Regulus http://dbpedia.org/resource/Regulus - http://dbpedia.org/resource/Regulus_Arcturus_Black  http://dbpedia.org/resource/Death_Eater\n",
            "Regulus Arcturus Black http://dbpedia.org/resource/Death_Eater - http://dbpedia.org/resource/Regulus_Arcturus_Black  http://dbpedia.org/resource/Death_Eater\n",
            "Rita Skeeter  - http://dbpedia.org/resource/Rita_Skeeter nan\n",
            "Ron  - http://dbpedia.org/resource/Ron_Weasley nan\n",
            "Sirius http://dbpedia.org/resource/Sirius - http://dbpedia.org/resource/Sirius_Black nan\n",
            "Snape http://dbpedia.org/resource/Severus_Snape - http://dbpedia.org/resource/Severus_Snape nan\n",
            "Umbridge  - http://dbpedia.org/resource/Dolores_Umbridge nan\n",
            "Vernon http://dbpedia.org/resource/Edward_Vernon - http://dbpedia.org/resource/Vernon_Dursley nan\n",
            "Voldemort http://dbpedia.org/resource/Lord_Voldemort - http://dbpedia.org/resource/Lord_Voldemort nan\n",
            "Wormtail http://dbpedia.org/resource/Death_Eater - http://dbpedia.org/resource/Peter_Pettigrew  http://dbpedia.org/resource/Death_Eater\n",
            "Xenophilius  - http://dbpedia.org/resource/Xenophilius_Lovegood nan\n",
            "Xenophilius Lovegood  - http://dbpedia.org/resource/Xenophilius_Lovegood nan\n",
            "Totale personaggi trovati da NEL:  61\n",
            "Totale personaggi riconosciuti correttamente:  17\n",
            "Totale personaggi riconosciuti con un diverso link:  28\n",
            "Totale personaggi non riconosciuti da NEL :  16\n"
          ]
        }
      ]
    }
  ]
}